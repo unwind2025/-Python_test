{
 "cells": [
  {
   "cell_type": "markdown",
   "metadata": {
    "id": "JMio44BDpYtw"
   },
   "source": [
    "<font color=\"red\">注</font>: 使用 tensorboard 可视化需要安装 tensorflow (TensorBoard依赖于tensorflow库，可以任意安装tensorflow的gpu/cpu版本)\n",
    "\n",
    "```shell\n",
    "pip install tensorflow-cpu\n",
    "```"
   ]
  },
  {
   "cell_type": "code",
   "execution_count": 1,
   "metadata": {
    "ExecuteTime": {
     "end_time": "2024-07-22T07:49:33.225136Z",
     "start_time": "2024-07-22T07:49:29.446561200Z"
    },
    "colab": {
     "base_uri": "https://localhost:8080/"
    },
    "execution": {
     "iopub.execute_input": "2025-01-21T01:54:18.213753Z",
     "iopub.status.busy": "2025-01-21T01:54:18.213456Z",
     "iopub.status.idle": "2025-01-21T01:54:23.260279Z",
     "shell.execute_reply": "2025-01-21T01:54:23.259771Z",
     "shell.execute_reply.started": "2025-01-21T01:54:18.213734Z"
    },
    "id": "YMWskinNpYtz",
    "outputId": "841d6519-0a89-4563-cfb9-6c0d79361cd7",
    "tags": []
   },
   "outputs": [
    {
     "name": "stderr",
     "output_type": "stream",
     "text": [
      "/usr/local/lib/python3.10/site-packages/tqdm/auto.py:21: TqdmWarning: IProgress not found. Please update jupyter and ipywidgets. See https://ipywidgets.readthedocs.io/en/stable/user_install.html\n",
      "  from .autonotebook import tqdm as notebook_tqdm\n"
     ]
    },
    {
     "name": "stdout",
     "output_type": "stream",
     "text": [
      "sys.version_info(major=3, minor=10, micro=14, releaselevel='final', serial=0)\n",
      "matplotlib 3.10.0\n",
      "numpy 1.26.4\n",
      "pandas 2.2.3\n",
      "sklearn 1.6.0\n",
      "torch 2.5.1+cu124\n",
      "cuda:0\n"
     ]
    }
   ],
   "source": [
    "import matplotlib as mpl\n",
    "import matplotlib.pyplot as plt\n",
    "%matplotlib inline\n",
    "import numpy as np\n",
    "import sklearn\n",
    "import pandas as pd\n",
    "import os\n",
    "import sys\n",
    "import time\n",
    "from tqdm.auto import tqdm\n",
    "import torch\n",
    "import torch.nn as nn\n",
    "import torch.nn.functional as F\n",
    "\n",
    "print(sys.version_info)\n",
    "for module in mpl, np, pd, sklearn, torch:\n",
    "    print(module.__name__, module.__version__)\n",
    "\n",
    "device = torch.device(\"cuda:0\") if torch.cuda.is_available() else torch.device(\"cpu\")\n",
    "print(device)\n",
    "\n",
    "seed = 42\n"
   ]
  },
  {
   "cell_type": "code",
   "execution_count": 2,
   "metadata": {
    "colab": {
     "base_uri": "https://localhost:8080/"
    },
    "execution": {
     "iopub.execute_input": "2025-01-21T01:54:31.913228Z",
     "iopub.status.busy": "2025-01-21T01:54:31.912829Z",
     "iopub.status.idle": "2025-01-21T01:54:35.508261Z",
     "shell.execute_reply": "2025-01-21T01:54:35.507727Z",
     "shell.execute_reply.started": "2025-01-21T01:54:31.913207Z"
    },
    "id": "olzoueSyqofw",
    "outputId": "afd2617d-aafb-4d94-fbaa-d56fd122f22e",
    "tags": []
   },
   "outputs": [
    {
     "name": "stdout",
     "output_type": "stream",
     "text": [
      "Looking in indexes: https://mirrors.cloud.aliyuncs.com/pypi/simple\n",
      "Requirement already satisfied: kaggle in /usr/local/lib/python3.10/site-packages (1.6.17)\n",
      "Requirement already satisfied: six>=1.10 in /usr/local/lib/python3.10/site-packages (from kaggle) (1.17.0)\n",
      "Requirement already satisfied: certifi>=2023.7.22 in /usr/local/lib/python3.10/site-packages (from kaggle) (2024.12.14)\n",
      "Requirement already satisfied: python-dateutil in /usr/local/lib/python3.10/site-packages (from kaggle) (2.9.0.post0)\n",
      "Requirement already satisfied: requests in /usr/local/lib/python3.10/site-packages (from kaggle) (2.32.3)\n",
      "Requirement already satisfied: tqdm in /usr/local/lib/python3.10/site-packages (from kaggle) (4.67.1)\n",
      "Requirement already satisfied: python-slugify in /usr/local/lib/python3.10/site-packages (from kaggle) (8.0.4)\n",
      "Requirement already satisfied: urllib3 in /usr/local/lib/python3.10/site-packages (from kaggle) (2.3.0)\n",
      "Requirement already satisfied: bleach in /usr/local/lib/python3.10/site-packages (from kaggle) (6.2.0)\n",
      "Requirement already satisfied: webencodings in /usr/local/lib/python3.10/site-packages (from bleach->kaggle) (0.5.1)\n",
      "Requirement already satisfied: text-unidecode>=1.3 in /usr/local/lib/python3.10/site-packages (from python-slugify->kaggle) (1.3)\n",
      "Requirement already satisfied: charset-normalizer<4,>=2 in /usr/local/lib/python3.10/site-packages (from requests->kaggle) (3.4.1)\n",
      "Requirement already satisfied: idna<4,>=2.5 in /usr/local/lib/python3.10/site-packages (from requests->kaggle) (3.10)\n",
      "\u001b[33mWARNING: Running pip as the 'root' user can result in broken permissions and conflicting behaviour with the system package manager. It is recommended to use a virtual environment instead: https://pip.pypa.io/warnings/venv\u001b[0m\u001b[33m\n",
      "\u001b[0m\n",
      "\u001b[1m[\u001b[0m\u001b[34;49mnotice\u001b[0m\u001b[1;39;49m]\u001b[0m\u001b[39;49m A new release of pip is available: \u001b[0m\u001b[31;49m23.3.2\u001b[0m\u001b[39;49m -> \u001b[0m\u001b[32;49m24.3.1\u001b[0m\n",
      "\u001b[1m[\u001b[0m\u001b[34;49mnotice\u001b[0m\u001b[1;39;49m]\u001b[0m\u001b[39;49m To update, run: \u001b[0m\u001b[32;49mpip install --upgrade pip\u001b[0m\n"
     ]
    }
   ],
   "source": [
    "!pip install kaggle"
   ]
  },
  {
   "cell_type": "code",
   "execution_count": 3,
   "metadata": {
    "ExecutionIndicator": {
     "show": true
    },
    "execution": {
     "iopub.execute_input": "2025-01-21T01:54:48.174953Z",
     "iopub.status.busy": "2025-01-21T01:54:48.174593Z",
     "iopub.status.idle": "2025-01-21T01:54:48.287922Z",
     "shell.execute_reply": "2025-01-21T01:54:48.287373Z",
     "shell.execute_reply.started": "2025-01-21T01:54:48.174930Z"
    },
    "tags": []
   },
   "outputs": [
    {
     "name": "stdout",
     "output_type": "stream",
     "text": [
      "/mnt/workspace\n"
     ]
    }
   ],
   "source": [
    "!pwd"
   ]
  },
  {
   "cell_type": "code",
   "execution_count": 8,
   "metadata": {
    "ExecutionIndicator": {
     "show": false
    },
    "execution": {
     "iopub.execute_input": "2025-01-21T02:01:14.100470Z",
     "iopub.status.busy": "2025-01-21T02:01:14.100150Z",
     "iopub.status.idle": "2025-01-21T02:01:14.214430Z",
     "shell.execute_reply": "2025-01-21T02:01:14.213878Z",
     "shell.execute_reply.started": "2025-01-21T02:01:14.100449Z"
    },
    "tags": []
   },
   "outputs": [
    {
     "name": "stdout",
     "output_type": "stream",
     "text": [
      "slothkong\n"
     ]
    }
   ],
   "source": [
    "!rm -r /content/datasets/"
   ]
  },
  {
   "cell_type": "code",
   "execution_count": 5,
   "metadata": {
    "execution": {
     "iopub.execute_input": "2025-01-21T01:58:54.677371Z",
     "iopub.status.busy": "2025-01-21T01:58:54.677059Z",
     "iopub.status.idle": "2025-01-21T01:58:54.680747Z",
     "shell.execute_reply": "2025-01-21T01:58:54.680260Z",
     "shell.execute_reply.started": "2025-01-21T01:58:54.677349Z"
    },
    "id": "L8O3V3yJqbWH",
    "tags": []
   },
   "outputs": [],
   "source": [
    "import json\n",
    "token = {\"username\":\"cskaoyan\",\"key\":\"ff99d9d7ff71704e3e761217ceec03c5\"}\n",
    "with open('/mnt/workspace/kaggle.json', 'w') as file:\n",
    "  json.dump(token, file)#json.dump类似于write"
   ]
  },
  {
   "cell_type": "code",
   "execution_count": 6,
   "metadata": {
    "execution": {
     "iopub.execute_input": "2025-01-21T01:59:44.683833Z",
     "iopub.status.busy": "2025-01-21T01:59:44.683518Z",
     "iopub.status.idle": "2025-01-21T01:59:44.798520Z",
     "shell.execute_reply": "2025-01-21T01:59:44.797966Z",
     "shell.execute_reply.started": "2025-01-21T01:59:44.683814Z"
    },
    "tags": []
   },
   "outputs": [
    {
     "name": "stdout",
     "output_type": "stream",
     "text": [
      "{\"username\": \"cskaoyan\", \"key\": \"ff99d9d7ff71704e3e761217ceec03c5\"}"
     ]
    }
   ],
   "source": [
    "!cat /mnt/workspace/kaggle.json"
   ]
  },
  {
   "cell_type": "code",
   "execution_count": 7,
   "metadata": {
    "colab": {
     "base_uri": "https://localhost:8080/"
    },
    "execution": {
     "iopub.execute_input": "2025-01-21T02:00:58.382650Z",
     "iopub.status.busy": "2025-01-21T02:00:58.382286Z",
     "iopub.status.idle": "2025-01-21T02:00:59.110089Z",
     "shell.execute_reply": "2025-01-21T02:00:59.109480Z",
     "shell.execute_reply.started": "2025-01-21T02:00:58.382628Z"
    },
    "id": "Pf8ZxoKzqgzu",
    "outputId": "0face2c5-be84-4ed2-f295-70cd2401708f",
    "tags": []
   },
   "outputs": [
    {
     "name": "stdout",
     "output_type": "stream",
     "text": [
      "- path is now set to: /content\n"
     ]
    }
   ],
   "source": [
    "!mkdir -p ~/.kaggle\n",
    "!cp /mnt/workspace/kaggle.json ~/.kaggle/\n",
    "!chmod 600 ~/.kaggle/kaggle.json\n",
    "!kaggle config set -n path -v /content"
   ]
  },
  {
   "cell_type": "code",
   "execution_count": 7,
   "metadata": {
    "colab": {
     "base_uri": "https://localhost:8080/"
    },
    "execution": {
     "iopub.execute_input": "2025-01-20T11:25:18.594994Z",
     "iopub.status.busy": "2025-01-20T11:25:18.594751Z",
     "iopub.status.idle": "2025-01-20T11:28:58.355053Z",
     "shell.execute_reply": "2025-01-20T11:28:58.354552Z",
     "shell.execute_reply.started": "2025-01-20T11:25:18.594971Z"
    },
    "id": "B8hQi6ejqkAG",
    "outputId": "774e8927-4da0-492d-d7c1-cc39c774dfe3"
   },
   "outputs": [
    {
     "name": "stdout",
     "output_type": "stream",
     "text": [
      "Dataset URL: https://www.kaggle.com/datasets/slothkong/10-monkey-species\n",
      "License(s): CC0-1.0\n",
      "Downloading 10-monkey-species.zip to /content/datasets/slothkong/10-monkey-species\n",
      "100%|███████████████████████████████████████▉| 547M/547M [03:37<00:00, 6.98MB/s]\n",
      "100%|████████████████████████████████████████| 547M/547M [03:37<00:00, 2.64MB/s]\n"
     ]
    }
   ],
   "source": [
    "!kaggle datasets download -d slothkong/10-monkey-species"
   ]
  },
  {
   "cell_type": "code",
   "execution_count": 15,
   "metadata": {
    "ExecutionIndicator": {
     "show": true
    },
    "colab": {
     "base_uri": "https://localhost:8080/"
    },
    "execution": {
     "iopub.execute_input": "2025-01-20T11:59:51.417129Z",
     "iopub.status.busy": "2025-01-20T11:59:51.416835Z",
     "iopub.status.idle": "2025-01-20T11:59:54.927997Z",
     "shell.execute_reply": "2025-01-20T11:59:54.927331Z",
     "shell.execute_reply.started": "2025-01-20T11:59:51.417108Z"
    },
    "id": "tporD6JYsFQ-",
    "outputId": "c264f15e-db74-4cd8-f68f-c347c83b438b",
    "tags": []
   },
   "outputs": [],
   "source": [
    "!unzip -o -d /content /content/datasets/slothkong/10-monkey-species/10-monkey-species.zip >/dev/null"
   ]
  },
  {
   "cell_type": "markdown",
   "metadata": {
    "id": "NPVrMdFjpYt1"
   },
   "source": [
    "## 数据准备\n",
    "\n",
    "```shell\n",
    "$ tree -L 2 archive\n",
    "archive\n",
    "├── monkey_labels.txt\n",
    "├── training\n",
    "│   ├── n0\n",
    "│   ├── n1\n",
    "│   ├── n2\n",
    "│   ├── n3\n",
    "│   ├── n4\n",
    "│   ├── n5\n",
    "│   ├── n6\n",
    "│   ├── n7\n",
    "│   ├── n8\n",
    "│   └── n9\n",
    "└── validation\n",
    "    ├── n0\n",
    "    ├── n1\n",
    "    ├── n2\n",
    "    ├── n3\n",
    "    ├── n4\n",
    "    ├── n5\n",
    "    ├── n6\n",
    "    ├── n7\n",
    "    ├── n8\n",
    "    └── n9\n",
    "\n",
    "22 directories, 1 file\n",
    "```"
   ]
  },
  {
   "cell_type": "code",
   "execution_count": 12,
   "metadata": {
    "execution": {
     "iopub.execute_input": "2025-01-20T11:58:44.300193Z",
     "iopub.status.busy": "2025-01-20T11:58:44.299847Z",
     "iopub.status.idle": "2025-01-20T11:58:44.416421Z",
     "shell.execute_reply": "2025-01-20T11:58:44.415926Z",
     "shell.execute_reply.started": "2025-01-20T11:58:44.300174Z"
    },
    "tags": []
   },
   "outputs": [
    {
     "name": "stdout",
     "output_type": "stream",
     "text": [
      "04_10_monkeys_model_1_colab.ipynb  kaggle.json\n"
     ]
    }
   ],
   "source": [
    "!ls"
   ]
  },
  {
   "cell_type": "code",
   "execution_count": 16,
   "metadata": {
    "ExecuteTime": {
     "end_time": "2024-07-22T08:52:17.543980900Z",
     "start_time": "2024-07-22T08:52:17.520817400Z"
    },
    "ExecutionIndicator": {
     "show": true
    },
    "colab": {
     "base_uri": "https://localhost:8080/"
    },
    "execution": {
     "iopub.execute_input": "2025-01-20T12:00:15.247603Z",
     "iopub.status.busy": "2025-01-20T12:00:15.247268Z",
     "iopub.status.idle": "2025-01-20T12:00:15.258693Z",
     "shell.execute_reply": "2025-01-20T12:00:15.258285Z",
     "shell.execute_reply.started": "2025-01-20T12:00:15.247581Z"
    },
    "id": "nnayCtXTpYt2",
    "outputId": "0055a8d0-ec63-43bd-c02c-378b3e571921",
    "tags": []
   },
   "outputs": [
    {
     "name": "stdout",
     "output_type": "stream",
     "text": [
      "load 1097 images from training dataset\n",
      "load 272 images from validation dataset\n"
     ]
    }
   ],
   "source": [
    "from torchvision import datasets\n",
    "from torchvision.transforms import ToTensor, Resize, Compose, ConvertImageDtype, Normalize\n",
    "\n",
    "\n",
    "from pathlib import Path\n",
    "\n",
    "DATA_DIR1 = Path(\"/content/training/\")\n",
    "DATA_DIR2 = Path(\"/content/validation/\")\n",
    "\n",
    "class MonkeyDataset(datasets.ImageFolder):\n",
    "    def __init__(self, mode, transform=None):\n",
    "        if mode == \"train\":\n",
    "            root = DATA_DIR1 / \"training\"\n",
    "        elif mode == \"val\":\n",
    "            root = DATA_DIR2 / \"validation\"\n",
    "        else:\n",
    "            raise ValueError(\"mode should be one of the following: train, val, but got {}\".format(mode))\n",
    "        super().__init__(root, transform) # 调用父类init方法\n",
    "        self.imgs = self.samples # self.samples里边是图片路径及标签 [(path, label), (path, label),...]\n",
    "        self.targets = [s[1] for s in self.samples] # 标签取出来\n",
    "\n",
    "# 预先设定的图片尺寸\n",
    "img_h, img_w = 128, 128\n",
    "transform = Compose([\n",
    "    Resize((img_h, img_w)), # 图片缩放\n",
    "    ToTensor(),\n",
    "    # 预先统计的\n",
    "    Normalize([0.4363, 0.4328, 0.3291], [0.2085, 0.2032, 0.1988]),\n",
    "    ConvertImageDtype(torch.float), # 转换为float类型\n",
    "]) #数据预处理\n",
    "\n",
    "\n",
    "train_ds = MonkeyDataset(\"train\", transform=transform)\n",
    "val_ds = MonkeyDataset(\"val\", transform=transform)\n",
    "\n",
    "print(\"load {} images from training dataset\".format(len(train_ds)))\n",
    "print(\"load {} images from validation dataset\".format(len(val_ds)))"
   ]
  },
  {
   "cell_type": "code",
   "execution_count": 17,
   "metadata": {
    "ExecuteTime": {
     "end_time": "2024-07-22T08:15:15.286096100Z",
     "start_time": "2024-07-22T08:15:15.272778500Z"
    },
    "execution": {
     "iopub.execute_input": "2025-01-20T12:00:30.179526Z",
     "iopub.status.busy": "2025-01-20T12:00:30.179216Z",
     "iopub.status.idle": "2025-01-20T12:00:30.183856Z",
     "shell.execute_reply": "2025-01-20T12:00:30.183353Z",
     "shell.execute_reply.started": "2025-01-20T12:00:30.179507Z"
    },
    "id": "oS2jYFvMpYt3",
    "outputId": "837dd61e-a898-4fa8-9d5d-51adcf2b2b47"
   },
   "outputs": [
    {
     "data": {
      "text/plain": [
       "['n0', 'n1', 'n2', 'n3', 'n4', 'n5', 'n6', 'n7', 'n8', 'n9']"
      ]
     },
     "execution_count": 17,
     "metadata": {},
     "output_type": "execute_result"
    }
   ],
   "source": [
    "# 数据类别\n",
    "train_ds.classes"
   ]
  },
  {
   "cell_type": "code",
   "execution_count": 18,
   "metadata": {
    "ExecuteTime": {
     "end_time": "2024-07-22T08:15:24.968412700Z",
     "start_time": "2024-07-22T08:15:24.960415300Z"
    },
    "execution": {
     "iopub.execute_input": "2025-01-20T12:00:30.184936Z",
     "iopub.status.busy": "2025-01-20T12:00:30.184565Z",
     "iopub.status.idle": "2025-01-20T12:00:30.188057Z",
     "shell.execute_reply": "2025-01-20T12:00:30.187590Z",
     "shell.execute_reply.started": "2025-01-20T12:00:30.184919Z"
    },
    "id": "8SJAYnQopYt4",
    "outputId": "15f39953-ca91-40e4-d084-e5e8c1d4667c"
   },
   "outputs": [
    {
     "data": {
      "text/plain": [
       "{'n0': 0,\n",
       " 'n1': 1,\n",
       " 'n2': 2,\n",
       " 'n3': 3,\n",
       " 'n4': 4,\n",
       " 'n5': 5,\n",
       " 'n6': 6,\n",
       " 'n7': 7,\n",
       " 'n8': 8,\n",
       " 'n9': 9}"
      ]
     },
     "execution_count": 18,
     "metadata": {},
     "output_type": "execute_result"
    }
   ],
   "source": [
    "train_ds.class_to_idx"
   ]
  },
  {
   "cell_type": "code",
   "execution_count": 19,
   "metadata": {
    "ExecuteTime": {
     "end_time": "2024-07-22T08:22:41.089921600Z",
     "start_time": "2024-07-22T08:22:41.076096400Z"
    },
    "execution": {
     "iopub.execute_input": "2025-01-20T12:00:30.188668Z",
     "iopub.status.busy": "2025-01-20T12:00:30.188512Z",
     "iopub.status.idle": "2025-01-20T12:00:30.248807Z",
     "shell.execute_reply": "2025-01-20T12:00:30.248336Z",
     "shell.execute_reply.started": "2025-01-20T12:00:30.188654Z"
    },
    "id": "o2x2L3yTpYt4",
    "outputId": "6925790a-4125-4882-9d51-d015fbd6e7eb"
   },
   "outputs": [
    {
     "name": "stdout",
     "output_type": "stream",
     "text": [
      "/content/training/training/n0/n0018.jpg 0\n",
      "tensor([[[-0.1553, -0.0236,  0.3525,  ...,  1.1425,  1.8384,  0.9920],\n",
      "         [-0.1365, -0.1365,  0.1833,  ...,  0.8416,  1.9324,  0.9356],\n",
      "         [-0.1177, -0.1741,  0.1268,  ...,  1.1425,  1.3306,  1.3494],\n",
      "         ...,\n",
      "         [ 2.1205,  2.1205,  2.0641,  ...,  0.9920,  0.8416,  0.3713],\n",
      "         [ 2.0641,  1.9136,  1.6691,  ...,  0.3713, -0.0612, -0.0048],\n",
      "         [ 1.9513,  1.6691,  1.2553,  ...,  0.0328, -0.4938, -0.1365]],\n",
      "\n",
      "        [[-0.2193, -0.0456,  0.3983,  ...,  1.3632,  2.0580,  1.0737],\n",
      "         [-0.2386, -0.2000,  0.2053,  ...,  0.9386,  2.1545,  1.1702],\n",
      "         [-0.2772, -0.2772,  0.0702,  ...,  1.1702,  1.5176,  1.6527],\n",
      "         ...,\n",
      "         [ 2.4054,  2.3668,  2.2703,  ...,  0.6491,  0.5333,  0.1088],\n",
      "         [ 2.2896,  2.1352,  1.8650,  ...,  0.0509, -0.3351, -0.3544],\n",
      "         [ 2.1352,  1.8457,  1.4211,  ..., -0.3544, -0.8369, -0.5667]],\n",
      "\n",
      "        [[-0.7283, -0.4324,  0.2975,  ...,  0.2383,  0.9287, -0.3141],\n",
      "         [-0.7678, -0.6297,  0.0805,  ...,  0.1002,  1.1851, -0.3338],\n",
      "         [-0.8467, -0.7480, -0.0971,  ...,  0.3961,  0.8103,  0.6131],\n",
      "         ...,\n",
      "         [-0.4324, -0.4916, -0.6099,  ...,  0.5934,  0.4553,  0.0213],\n",
      "         [-0.5113, -0.6099, -0.8467,  ..., -0.0379, -0.5508, -0.5508],\n",
      "         [-0.6494, -0.8467, -1.1228,  ..., -0.5705, -1.2215, -0.9650]]]) 0\n"
     ]
    }
   ],
   "source": [
    "# 图片路径 及 标签\n",
    "for fpath, label in train_ds.imgs:\n",
    "    print(fpath, label)\n",
    "    break\n",
    "\n",
    "#这个和之前的dataset完全一致\n",
    "for img, label in train_ds:\n",
    "    # c, h, w  label\n",
    "    print(img, label)\n",
    "    break"
   ]
  },
  {
   "cell_type": "code",
   "execution_count": 20,
   "metadata": {
    "ExecuteTime": {
     "end_time": "2024-07-22T08:44:58.447431700Z",
     "start_time": "2024-07-22T08:44:29.539230100Z"
    },
    "execution": {
     "iopub.execute_input": "2025-01-20T12:00:30.249914Z",
     "iopub.status.busy": "2025-01-20T12:00:30.249714Z",
     "iopub.status.idle": "2025-01-20T12:00:46.038022Z",
     "shell.execute_reply": "2025-01-20T12:00:46.037369Z",
     "shell.execute_reply.started": "2025-01-20T12:00:30.249900Z"
    },
    "id": "mVb-3y68pYt5",
    "outputId": "3116d220-7fb4-4b1d-d648-baed26152c4f"
   },
   "outputs": [
    {
     "name": "stdout",
     "output_type": "stream",
     "text": [
      "(tensor([0.0002]), tensor([0.9999]))\n"
     ]
    }
   ],
   "source": [
    "def cal_mean_std(ds):\n",
    "    mean = 0.\n",
    "    std = 0.\n",
    "    for img, _ in ds:\n",
    "        mean += img[0:1, :, :].mean(dim=(1, 2))\n",
    "        std += img[0:1, :, :].std(dim=(1, 2))\n",
    "    mean /= len(ds)\n",
    "    std /= len(ds)\n",
    "    return mean, std\n",
    "\n",
    "# 经过 normalize 后 均值为0，方差为1\n",
    "print(cal_mean_std(train_ds))"
   ]
  },
  {
   "cell_type": "code",
   "execution_count": 21,
   "metadata": {
    "ExecuteTime": {
     "end_time": "2024-07-22T08:32:54.269143900Z",
     "start_time": "2024-07-22T08:32:25.590376800Z"
    },
    "execution": {
     "iopub.execute_input": "2025-01-20T12:00:46.039218Z",
     "iopub.status.busy": "2025-01-20T12:00:46.038848Z",
     "iopub.status.idle": "2025-01-20T12:01:01.867120Z",
     "shell.execute_reply": "2025-01-20T12:01:01.866643Z",
     "shell.execute_reply.started": "2025-01-20T12:00:46.039196Z"
    },
    "id": "ARxVczNhpYt5",
    "outputId": "b2b2706e-4c8d-494d-f317-195bc1b55ddc"
   },
   "outputs": [
    {
     "name": "stdout",
     "output_type": "stream",
     "text": [
      "(tensor([3.6267e-05]), tensor([0.9999]))\n"
     ]
    }
   ],
   "source": [
    "def cal_mean_std(ds):\n",
    "    mean = 0.\n",
    "    std = 0.\n",
    "    for img, _ in ds:\n",
    "        mean += img[1:2, :, :].mean(dim=(1, 2))\n",
    "        std += img[1:2, :, :].std(dim=(1, 2))\n",
    "    mean /= len(ds)\n",
    "    std /= len(ds)\n",
    "    return mean, std\n",
    "\n",
    "# 经过 normalize 后 均值为0，方差为1\n",
    "print(cal_mean_std(train_ds))"
   ]
  },
  {
   "cell_type": "code",
   "execution_count": 22,
   "metadata": {
    "ExecuteTime": {
     "end_time": "2024-07-22T08:33:54.095864500Z",
     "start_time": "2024-07-22T08:33:26.014587300Z"
    },
    "execution": {
     "iopub.execute_input": "2025-01-20T12:01:01.867906Z",
     "iopub.status.busy": "2025-01-20T12:01:01.867688Z",
     "iopub.status.idle": "2025-01-20T12:01:17.736340Z",
     "shell.execute_reply": "2025-01-20T12:01:17.735739Z",
     "shell.execute_reply.started": "2025-01-20T12:01:01.867889Z"
    },
    "id": "kdtwsOxIpYt5",
    "outputId": "e723ef22-4061-4795-e9c1-4c85bcb2df67"
   },
   "outputs": [
    {
     "name": "stdout",
     "output_type": "stream",
     "text": [
      "(tensor([-6.5391e-07]), tensor([1.0002]))\n"
     ]
    }
   ],
   "source": [
    "def cal_mean_std(ds):\n",
    "    mean = 0.\n",
    "    std = 0.\n",
    "    for img, _ in ds:\n",
    "        mean += img[2:3, :, :].mean(dim=(1, 2))\n",
    "        std += img[2:3, :, :].std(dim=(1, 2))\n",
    "    mean /= len(ds)\n",
    "    std /= len(ds)\n",
    "    return mean, std\n",
    "\n",
    "# 经过 normalize 后 均值为0，方差为1\n",
    "print(cal_mean_std(train_ds))"
   ]
  },
  {
   "cell_type": "code",
   "execution_count": 23,
   "metadata": {
    "ExecuteTime": {
     "end_time": "2024-07-22T08:39:44.080468500Z",
     "start_time": "2024-07-22T08:39:15.435622600Z"
    },
    "execution": {
     "iopub.execute_input": "2025-01-20T12:01:17.737586Z",
     "iopub.status.busy": "2025-01-20T12:01:17.737048Z",
     "iopub.status.idle": "2025-01-20T12:01:17.741140Z",
     "shell.execute_reply": "2025-01-20T12:01:17.740628Z",
     "shell.execute_reply.started": "2025-01-20T12:01:17.737555Z"
    },
    "id": "2U0E5JMTpYt6",
    "outputId": "ab841753-c1d0-4dfd-cd6d-375ac31e02d6"
   },
   "outputs": [],
   "source": [
    "# 遍历train_ds得到每张图片，计算每个通道的均值和方差\n",
    "def cal_mean_std(ds):\n",
    "    mean = 0.\n",
    "    std = 0.\n",
    "    for img, _ in ds:\n",
    "        mean += img.mean(dim=(1, 2)) #dim=(1, 2)表示计算均值后，宽和高消除（把宽和高所有的像素加起来，再除以总数）\n",
    "        std += img.std(dim=(1, 2))\n",
    "    mean /= len(ds)\n",
    "    std /= len(ds)\n",
    "    return mean, std\n",
    "\n",
    "# 经过 normalize 后 均值为0，方差为1\n",
    "# print(cal_mean_std(train_ds))"
   ]
  },
  {
   "cell_type": "code",
   "execution_count": 24,
   "metadata": {
    "ExecuteTime": {
     "end_time": "2024-07-22T08:52:57.696309200Z",
     "start_time": "2024-07-22T08:52:57.686315700Z"
    },
    "colab": {
     "base_uri": "https://localhost:8080/"
    },
    "execution": {
     "iopub.execute_input": "2025-01-20T12:01:17.741825Z",
     "iopub.status.busy": "2025-01-20T12:01:17.741640Z",
     "iopub.status.idle": "2025-01-20T12:01:17.744950Z",
     "shell.execute_reply": "2025-01-20T12:01:17.744516Z",
     "shell.execute_reply.started": "2025-01-20T12:01:17.741809Z"
    },
    "id": "vzPl-CPOpYt6",
    "outputId": "51436c68-37f1-42c0-ad44-a5582069bcc1"
   },
   "outputs": [],
   "source": [
    "import torch.nn as nn\n",
    "from torch.utils.data.dataloader import DataLoader\n",
    "\n",
    "batch_size = 64\n",
    "# 从数据集到dataloader\n",
    "train_loader = DataLoader(train_ds, batch_size=batch_size, shuffle=True, num_workers=4)\n",
    "val_loader = DataLoader(val_ds, batch_size=batch_size, shuffle=False, num_workers=4)"
   ]
  },
  {
   "cell_type": "code",
   "execution_count": 25,
   "metadata": {
    "ExecuteTime": {
     "end_time": "2024-07-22T08:53:04.933884100Z",
     "start_time": "2024-07-22T08:52:59.755852600Z"
    },
    "colab": {
     "base_uri": "https://localhost:8080/"
    },
    "execution": {
     "iopub.execute_input": "2025-01-20T12:01:17.745498Z",
     "iopub.status.busy": "2025-01-20T12:01:17.745348Z",
     "iopub.status.idle": "2025-01-20T12:01:19.540894Z",
     "shell.execute_reply": "2025-01-20T12:01:19.540289Z",
     "shell.execute_reply.started": "2025-01-20T12:01:17.745484Z"
    },
    "id": "PvzJPmCKpYt7",
    "outputId": "14c12450-f807-4fc7-f521-fba2d5427f88"
   },
   "outputs": [
    {
     "name": "stdout",
     "output_type": "stream",
     "text": [
      "torch.Size([64, 3, 128, 128])\n",
      "torch.Size([64])\n"
     ]
    }
   ],
   "source": [
    "for imgs, labels in train_loader:\n",
    "    print(imgs.shape)\n",
    "    print(labels.shape)\n",
    "    break"
   ]
  },
  {
   "cell_type": "markdown",
   "metadata": {
    "id": "MxR9Zm8FpYt7"
   },
   "source": [
    "## 定义模型"
   ]
  },
  {
   "cell_type": "code",
   "execution_count": 26,
   "metadata": {
    "execution": {
     "iopub.execute_input": "2025-01-20T12:01:19.542781Z",
     "iopub.status.busy": "2025-01-20T12:01:19.542514Z",
     "iopub.status.idle": "2025-01-20T12:01:19.597234Z",
     "shell.execute_reply": "2025-01-20T12:01:19.596833Z",
     "shell.execute_reply.started": "2025-01-20T12:01:19.542762Z"
    },
    "id": "93Z27pjxpYt7",
    "outputId": "5795e337-36fb-4dc0-b9c5-9c94061d524f"
   },
   "outputs": [
    {
     "name": "stdout",
     "output_type": "stream",
     "text": [
      "conv1.weight\tparamerters num: 864\n",
      "conv1.bias\tparamerters num: 32\n",
      "conv2.weight\tparamerters num: 9216\n",
      "conv2.bias\tparamerters num: 32\n",
      "conv3.weight\tparamerters num: 18432\n",
      "conv3.bias\tparamerters num: 64\n",
      "conv4.weight\tparamerters num: 36864\n",
      "conv4.bias\tparamerters num: 64\n",
      "conv5.weight\tparamerters num: 73728\n",
      "conv5.bias\tparamerters num: 128\n",
      "conv6.weight\tparamerters num: 147456\n",
      "conv6.bias\tparamerters num: 128\n",
      "fc1.weight\tparamerters num: 4194304\n",
      "fc1.bias\tparamerters num: 128\n",
      "fc2.weight\tparamerters num: 1280\n",
      "fc2.bias\tparamerters num: 10\n"
     ]
    }
   ],
   "source": [
    "\n",
    "class CNN(nn.Module):\n",
    "    def __init__(self, num_classes=10, activation=\"relu\"):\n",
    "        super(CNN, self).__init__()\n",
    "        self.activation = F.relu if activation == \"relu\" else F.selu\n",
    "        self.conv1 = nn.Conv2d(in_channels=3, out_channels=32, kernel_size=3, padding=\"same\")\n",
    "        self.conv2 = nn.Conv2d(in_channels=32, out_channels=32, kernel_size=3, padding=\"same\")\n",
    "        self.pool = nn.MaxPool2d(2, 2)\n",
    "        self.conv3 = nn.Conv2d(in_channels=32, out_channels=64, kernel_size=3, padding=\"same\")\n",
    "        self.conv4 = nn.Conv2d(in_channels=64, out_channels=64, kernel_size=3, padding=\"same\")\n",
    "        self.conv5 = nn.Conv2d(in_channels=64, out_channels=128, kernel_size=3, padding=\"same\")\n",
    "        self.conv6 = nn.Conv2d(in_channels=128, out_channels=128, kernel_size=3, padding=\"same\")\n",
    "        self.flatten = nn.Flatten()\n",
    "        # input shape is (3, 128, 128) so the flatten output shape is 128 * 16 * 16\n",
    "        self.fc1 = nn.Linear(128 * 16 * 16, 128)\n",
    "        self.fc2 = nn.Linear(128, num_classes)\n",
    "\n",
    "        self.init_weights()\n",
    "\n",
    "    def init_weights(self):\n",
    "        \"\"\"使用 xavier 均匀分布来初始化全连接层、卷积层的权重 W\"\"\"\n",
    "        for m in self.modules():\n",
    "            if isinstance(m, (nn.Linear, nn.Conv2d)):\n",
    "                nn.init.xavier_uniform_(m.weight)\n",
    "                nn.init.zeros_(m.bias)\n",
    "\n",
    "    def forward(self, x):\n",
    "        act = self.activation\n",
    "        x = self.pool(act(self.conv2(act(self.conv1(x)))))\n",
    "        x = self.pool(act(self.conv4(act(self.conv3(x)))))\n",
    "        x = self.pool(act(self.conv6(act(self.conv5(x)))))\n",
    "        x = self.flatten(x)\n",
    "        x = act(self.fc1(x))\n",
    "        x = self.fc2(x)\n",
    "        return x\n",
    "\n",
    "\n",
    "for idx, (key, value) in enumerate(CNN().named_parameters()):\n",
    "    print(f\"{key}\\tparamerters num: {np.prod(value.shape)}\")\n"
   ]
  },
  {
   "cell_type": "markdown",
   "metadata": {
    "id": "1qNGeGLmpYt8"
   },
   "source": [
    "## 训练\n",
    "\n",
    "pytorch的训练需要自行实现，包括\n",
    "1. 定义损失函数\n",
    "2. 定义优化器\n",
    "3. 定义训练步\n",
    "4. 训练"
   ]
  },
  {
   "cell_type": "code",
   "execution_count": 27,
   "metadata": {
    "execution": {
     "iopub.execute_input": "2025-01-20T12:01:19.597945Z",
     "iopub.status.busy": "2025-01-20T12:01:19.597745Z",
     "iopub.status.idle": "2025-01-20T12:01:19.853268Z",
     "shell.execute_reply": "2025-01-20T12:01:19.852817Z",
     "shell.execute_reply.started": "2025-01-20T12:01:19.597930Z"
    },
    "id": "mz4gW8hupYt8"
   },
   "outputs": [],
   "source": [
    "from sklearn.metrics import accuracy_score\n",
    "\n",
    "@torch.no_grad()\n",
    "def evaluating(model, dataloader, loss_fct):\n",
    "    loss_list = []\n",
    "    pred_list = []\n",
    "    label_list = []\n",
    "    for datas, labels in dataloader:\n",
    "        datas = datas.to(device)\n",
    "        labels = labels.to(device)\n",
    "        # 前向计算\n",
    "        logits = model(datas)\n",
    "        loss = loss_fct(logits, labels)         # 验证集损失\n",
    "        loss_list.append(loss.item())\n",
    "\n",
    "        preds = logits.argmax(axis=-1)    # 验证集预测\n",
    "        pred_list.extend(preds.cpu().numpy().tolist())\n",
    "        label_list.extend(labels.cpu().numpy().tolist())\n",
    "\n",
    "    acc = accuracy_score(label_list, pred_list)\n",
    "    return np.mean(loss_list), acc\n"
   ]
  },
  {
   "cell_type": "markdown",
   "metadata": {
    "id": "vK16Ii8KpYt8"
   },
   "source": [
    "### TensorBoard 可视化\n",
    "\n",
    "\n",
    "训练过程中可以使用如下命令启动tensorboard服务。\n",
    "\n",
    "```shell\n",
    "tensorboard \\\n",
    "    --logdir=runs \\     # log 存放路径\n",
    "    --host 0.0.0.0 \\    # ip\n",
    "    --port 8848         # 端口\n",
    "```"
   ]
  },
  {
   "cell_type": "code",
   "execution_count": 28,
   "metadata": {
    "execution": {
     "iopub.execute_input": "2025-01-20T12:01:19.854526Z",
     "iopub.status.busy": "2025-01-20T12:01:19.853906Z",
     "iopub.status.idle": "2025-01-20T12:01:20.038985Z",
     "shell.execute_reply": "2025-01-20T12:01:20.038581Z",
     "shell.execute_reply.started": "2025-01-20T12:01:19.854495Z"
    },
    "id": "0RaJusY7pYt9"
   },
   "outputs": [],
   "source": [
    "from torch.utils.tensorboard import SummaryWriter\n",
    "\n",
    "\n",
    "class TensorBoardCallback:\n",
    "    def __init__(self, log_dir, flush_secs=10):\n",
    "        \"\"\"\n",
    "        Args:\n",
    "            log_dir (str): dir to write log.\n",
    "            flush_secs (int, optional): write to dsk each flush_secs seconds. Defaults to 10.\n",
    "        \"\"\"\n",
    "        self.writer = SummaryWriter(log_dir=log_dir, flush_secs=flush_secs)\n",
    "\n",
    "    def draw_model(self, model, input_shape):\n",
    "        self.writer.add_graph(model, input_to_model=torch.randn(input_shape))\n",
    "\n",
    "    def add_loss_scalars(self, step, loss, val_loss):\n",
    "        self.writer.add_scalars(\n",
    "            main_tag=\"training/loss\",\n",
    "            tag_scalar_dict={\"loss\": loss, \"val_loss\": val_loss},\n",
    "            global_step=step,\n",
    "            )\n",
    "\n",
    "    def add_acc_scalars(self, step, acc, val_acc):\n",
    "        self.writer.add_scalars(\n",
    "            main_tag=\"training/accuracy\",\n",
    "            tag_scalar_dict={\"accuracy\": acc, \"val_accuracy\": val_acc},\n",
    "            global_step=step,\n",
    "        )\n",
    "\n",
    "    def add_lr_scalars(self, step, learning_rate):\n",
    "        self.writer.add_scalars(\n",
    "            main_tag=\"training/learning_rate\",\n",
    "            tag_scalar_dict={\"learning_rate\": learning_rate},\n",
    "            global_step=step,\n",
    "\n",
    "        )\n",
    "\n",
    "    def __call__(self, step, **kwargs):\n",
    "        # add loss\n",
    "        loss = kwargs.pop(\"loss\", None)\n",
    "        val_loss = kwargs.pop(\"val_loss\", None)\n",
    "        if loss is not None and val_loss is not None:\n",
    "            self.add_loss_scalars(step, loss, val_loss)\n",
    "        # add acc\n",
    "        acc = kwargs.pop(\"acc\", None)\n",
    "        val_acc = kwargs.pop(\"val_acc\", None)\n",
    "        if acc is not None and val_acc is not None:\n",
    "            self.add_acc_scalars(step, acc, val_acc)\n",
    "        # add lr\n",
    "        learning_rate = kwargs.pop(\"lr\", None)\n",
    "        if learning_rate is not None:\n",
    "            self.add_lr_scalars(step, learning_rate)\n"
   ]
  },
  {
   "cell_type": "markdown",
   "metadata": {
    "id": "RhHZoT43pYt-"
   },
   "source": [
    "### Save Best\n"
   ]
  },
  {
   "cell_type": "code",
   "execution_count": 29,
   "metadata": {
    "execution": {
     "iopub.execute_input": "2025-01-20T12:01:20.040145Z",
     "iopub.status.busy": "2025-01-20T12:01:20.039576Z",
     "iopub.status.idle": "2025-01-20T12:01:20.044816Z",
     "shell.execute_reply": "2025-01-20T12:01:20.044278Z",
     "shell.execute_reply.started": "2025-01-20T12:01:20.040114Z"
    },
    "id": "X6-gIb2YpYt_"
   },
   "outputs": [],
   "source": [
    "class SaveCheckpointsCallback:\n",
    "    def __init__(self, save_dir, save_step=5000, save_best_only=True):\n",
    "        \"\"\"\n",
    "        Save checkpoints each save_epoch epoch.\n",
    "        We save checkpoint by epoch in this implementation.\n",
    "        Usually, training scripts with pytorch evaluating model and save checkpoint by step.\n",
    "\n",
    "        Args:\n",
    "            save_dir (str): dir to save checkpoint\n",
    "            save_epoch (int, optional): the frequency to save checkpoint. Defaults to 1.\n",
    "            save_best_only (bool, optional): If True, only save the best model or save each model at every epoch.\n",
    "        \"\"\"\n",
    "        self.save_dir = save_dir\n",
    "        self.save_step = save_step\n",
    "        self.save_best_only = save_best_only\n",
    "        self.best_metrics = -1\n",
    "\n",
    "        # mkdir\n",
    "        if not os.path.exists(self.save_dir):\n",
    "            os.mkdir(self.save_dir)\n",
    "\n",
    "    def __call__(self, step, state_dict, metric=None):\n",
    "        if step % self.save_step > 0:\n",
    "            return\n",
    "\n",
    "        if self.save_best_only:\n",
    "            assert metric is not None\n",
    "            if metric >= self.best_metrics:\n",
    "                # save checkpoints\n",
    "                torch.save(state_dict, os.path.join(self.save_dir, \"best.ckpt\"))\n",
    "                # update best metrics\n",
    "                self.best_metrics = metric\n",
    "        else:\n",
    "            torch.save(state_dict, os.path.join(self.save_dir, f\"{step}.ckpt\"))\n",
    "\n"
   ]
  },
  {
   "cell_type": "markdown",
   "metadata": {
    "id": "BtnJ4AlcpYt_"
   },
   "source": [
    "### Early Stop"
   ]
  },
  {
   "cell_type": "code",
   "execution_count": 30,
   "metadata": {
    "execution": {
     "iopub.execute_input": "2025-01-20T12:01:20.045958Z",
     "iopub.status.busy": "2025-01-20T12:01:20.045479Z",
     "iopub.status.idle": "2025-01-20T12:01:20.049866Z",
     "shell.execute_reply": "2025-01-20T12:01:20.049431Z",
     "shell.execute_reply.started": "2025-01-20T12:01:20.045929Z"
    },
    "id": "qLSAWIq8pYuA"
   },
   "outputs": [],
   "source": [
    "class EarlyStopCallback:\n",
    "    def __init__(self, patience=5, min_delta=0.01):\n",
    "        \"\"\"\n",
    "\n",
    "        Args:\n",
    "            patience (int, optional): Number of epochs with no improvement after which training will be stopped.. Defaults to 5.\n",
    "            min_delta (float, optional): Minimum change in the monitored quantity to qualify as an improvement, i.e. an absolute\n",
    "                change of less than min_delta, will count as no improvement. Defaults to 0.01.\n",
    "        \"\"\"\n",
    "        self.patience = patience\n",
    "        self.min_delta = min_delta\n",
    "        self.best_metric = -1\n",
    "        self.counter = 0\n",
    "\n",
    "    def __call__(self, metric):\n",
    "        if metric >= self.best_metric + self.min_delta:\n",
    "            # update best metric\n",
    "            self.best_metric = metric\n",
    "            # reset counter\n",
    "            self.counter = 0\n",
    "        else:\n",
    "            self.counter += 1\n",
    "\n",
    "    @property\n",
    "    def early_stop(self):\n",
    "        return self.counter >= self.patience\n"
   ]
  },
  {
   "cell_type": "code",
   "execution_count": 31,
   "metadata": {
    "colab": {
     "referenced_widgets": [
      "481dddc81fe84be3afc1853a2c537f47"
     ]
    },
    "execution": {
     "iopub.execute_input": "2025-01-20T12:01:20.050717Z",
     "iopub.status.busy": "2025-01-20T12:01:20.050429Z",
     "iopub.status.idle": "2025-01-20T12:03:09.996413Z",
     "shell.execute_reply": "2025-01-20T12:03:09.995883Z",
     "shell.execute_reply.started": "2025-01-20T12:01:20.050702Z"
    },
    "id": "p9T_O6X7pYuA",
    "outputId": "4cd378c8-3792-4cf4-91b4-33d3cbe1e02b",
    "tags": []
   },
   "outputs": [
    {
     "name": "stderr",
     "output_type": "stream",
     "text": [
      " 90%|█████████ | 324/360 [01:46<00:09,  3.80it/s, epoch=17]"
     ]
    },
    {
     "name": "stdout",
     "output_type": "stream",
     "text": [
      "Early stop at epoch 18 / global_step 324\n"
     ]
    },
    {
     "name": "stderr",
     "output_type": "stream",
     "text": [
      " 90%|█████████ | 324/360 [01:49<00:12,  2.96it/s, epoch=17]\n"
     ]
    }
   ],
   "source": [
    "# 训练\n",
    "def training(\n",
    "    model,\n",
    "    train_loader,\n",
    "    val_loader,\n",
    "    epoch,\n",
    "    loss_fct,\n",
    "    optimizer,\n",
    "    tensorboard_callback=None,\n",
    "    save_ckpt_callback=None,\n",
    "    early_stop_callback=None,\n",
    "    eval_step=500,\n",
    "    ):\n",
    "    record_dict = {\n",
    "        \"train\": [],\n",
    "        \"val\": []\n",
    "    }\n",
    "\n",
    "    global_step = 0\n",
    "    model.train()\n",
    "    with tqdm(total=epoch * len(train_loader)) as pbar:\n",
    "        for epoch_id in range(epoch):\n",
    "            # training\n",
    "            for datas, labels in train_loader:\n",
    "                datas = datas.to(device)\n",
    "                labels = labels.to(device)\n",
    "                # 梯度清空\n",
    "                optimizer.zero_grad()\n",
    "                # 模型前向计算\n",
    "                logits = model(datas)\n",
    "                # 计算损失\n",
    "                loss = loss_fct(logits, labels)\n",
    "                # 梯度回传\n",
    "                loss.backward()\n",
    "                # 调整优化器，包括学习率的变动等\n",
    "                optimizer.step()\n",
    "                preds = logits.argmax(axis=-1)\n",
    "\n",
    "                acc = accuracy_score(labels.cpu().numpy(), preds.cpu().numpy())\n",
    "                loss = loss.cpu().item()\n",
    "                # record\n",
    "\n",
    "                record_dict[\"train\"].append({\n",
    "                    \"loss\": loss, \"acc\": acc, \"step\": global_step\n",
    "                })\n",
    "\n",
    "                # evaluating\n",
    "                if global_step % eval_step == 0:\n",
    "                    model.eval()\n",
    "                    val_loss, val_acc = evaluating(model, val_loader, loss_fct)\n",
    "                    record_dict[\"val\"].append({\n",
    "                        \"loss\": val_loss, \"acc\": val_acc, \"step\": global_step\n",
    "                    })\n",
    "                    model.train()\n",
    "\n",
    "                    # 1. 使用 tensorboard 可视化\n",
    "                    if tensorboard_callback is not None:\n",
    "                        tensorboard_callback(\n",
    "                            global_step,\n",
    "                            loss=loss, val_loss=val_loss,\n",
    "                            acc=acc, val_acc=val_acc,\n",
    "                            lr=optimizer.param_groups[0][\"lr\"],\n",
    "                            )\n",
    "\n",
    "                    # 2. 保存模型权重 save model checkpoint\n",
    "                    if save_ckpt_callback is not None:\n",
    "                        save_ckpt_callback(global_step, model.state_dict(), metric=val_acc)\n",
    "\n",
    "                    # 3. 早停 Early Stop\n",
    "                    if early_stop_callback is not None:\n",
    "                        early_stop_callback(val_acc)\n",
    "                        if early_stop_callback.early_stop:\n",
    "                            print(f\"Early stop at epoch {epoch_id} / global_step {global_step}\")\n",
    "                            return record_dict\n",
    "\n",
    "                # udate step\n",
    "                global_step += 1\n",
    "                pbar.update(1)\n",
    "                pbar.set_postfix({\"epoch\": epoch_id})\n",
    "\n",
    "    return record_dict\n",
    "\n",
    "\n",
    "epoch = 20\n",
    "\n",
    "activation = \"relu\"\n",
    "model = CNN(num_classes=10, activation=activation)\n",
    "\n",
    "# 1. 定义损失函数 采用交叉熵损失\n",
    "loss_fct = nn.CrossEntropyLoss()\n",
    "# 2. 定义优化器 采用 adam\n",
    "# Optimizers specified in the torch.optim package\n",
    "optimizer = torch.optim.Adam(model.parameters(), lr=0.001, eps=1e-7)\n",
    "\n",
    "# 1. tensorboard 可视化\n",
    "if not os.path.exists(\"runs\"):\n",
    "    os.mkdir(\"runs\")\n",
    "tensorboard_callback = TensorBoardCallback(f\"runs/monkeys-cnn-{activation}\")\n",
    "tensorboard_callback.draw_model(model, [1, 3, img_h, img_w])\n",
    "# 2. save best\n",
    "if not os.path.exists(\"checkpoints\"):\n",
    "    os.makedirs(\"checkpoints\")\n",
    "save_ckpt_callback = SaveCheckpointsCallback(f\"checkpoints/monkeys-cnn-{activation}\", save_step=len(train_loader), save_best_only=True)\n",
    "# 3. early stop\n",
    "early_stop_callback = EarlyStopCallback(patience=5)\n",
    "\n",
    "model = model.to(device)\n",
    "record = training(\n",
    "    model,\n",
    "    train_loader,\n",
    "    val_loader,\n",
    "    epoch,\n",
    "    loss_fct,\n",
    "    optimizer,\n",
    "    tensorboard_callback=tensorboard_callback,\n",
    "    save_ckpt_callback=save_ckpt_callback,\n",
    "    early_stop_callback=early_stop_callback,\n",
    "    eval_step=len(train_loader)\n",
    "    )"
   ]
  },
  {
   "cell_type": "code",
   "execution_count": 32,
   "metadata": {
    "execution": {
     "iopub.execute_input": "2025-01-20T12:03:09.997301Z",
     "iopub.status.busy": "2025-01-20T12:03:09.997072Z",
     "iopub.status.idle": "2025-01-20T12:03:10.211833Z",
     "shell.execute_reply": "2025-01-20T12:03:10.211419Z",
     "shell.execute_reply.started": "2025-01-20T12:03:09.997283Z"
    },
    "id": "m_D2srP_pYuC",
    "outputId": "2f735bb6-bd73-43e1-afb8-2bd472e33d0c"
   },
   "outputs": [
    {
     "data": {
      "image/png": "[encoded data removed]",
      "text/plain": [
       "<Figure size 1000x500 with 2 Axes>"
      ]
     },
     "metadata": {},
     "output_type": "display_data"
    }
   ],
   "source": [
    "#画线要注意的是损失是不一定在零到1之间的\n",
    "def plot_learning_curves(record_dict, sample_step=500):\n",
    "    # build DataFrame\n",
    "    train_df = pd.DataFrame(record_dict[\"train\"]).set_index(\"step\").iloc[::sample_step]\n",
    "    val_df = pd.DataFrame(record_dict[\"val\"]).set_index(\"step\")\n",
    "\n",
    "    # plot\n",
    "    fig_num = len(train_df.columns)\n",
    "    fig, axs = plt.subplots(1, fig_num, figsize=(5 * fig_num, 5))\n",
    "    for idx, item in enumerate(train_df.columns):\n",
    "        axs[idx].plot(train_df.index, train_df[item], label=f\"train_{item}\")\n",
    "        axs[idx].plot(val_df.index, val_df[item], label=f\"val_{item}\")\n",
    "        axs[idx].grid()\n",
    "        axs[idx].legend()\n",
    "        # axs[idx].set_xticks(range(0, train_df.index[-1], 5000))\n",
    "        # axs[idx].set_xticklabels(map(lambda x: f\"{int(x/1000)}k\", range(0, train_df.index[-1], 5000)))\n",
    "        axs[idx].set_xlabel(\"step\")\n",
    "\n",
    "    plt.show()\n",
    "\n",
    "plot_learning_curves(record, sample_step=10)  #横坐标是 steps"
   ]
  },
  {
   "cell_type": "markdown",
   "metadata": {
    "id": "l9N2QrfFpYuD"
   },
   "source": [
    "# 评估"
   ]
  },
  {
   "cell_type": "code",
   "execution_count": 33,
   "metadata": {
    "execution": {
     "iopub.execute_input": "2025-01-20T12:03:10.212522Z",
     "iopub.status.busy": "2025-01-20T12:03:10.212313Z",
     "iopub.status.idle": "2025-01-20T12:03:11.741987Z",
     "shell.execute_reply": "2025-01-20T12:03:11.741471Z",
     "shell.execute_reply.started": "2025-01-20T12:03:10.212506Z"
    },
    "id": "qiN3FDcJpYuE",
    "outputId": "9c9b50e4-79d5-4027-824b-8f7ef233eea9",
    "tags": []
   },
   "outputs": [
    {
     "name": "stderr",
     "output_type": "stream",
     "text": [
      "/tmp/ipykernel_251/2960646440.py:4: FutureWarning: You are using `torch.load` with `weights_only=False` (the current default value), which uses the default pickle module implicitly. It is possible to construct malicious pickle data which will execute arbitrary code during unpickling (See https://github.com/pytorch/pytorch/blob/main/SECURITY.md#untrusted-models for more details). In a future release, the default value for `weights_only` will be flipped to `True`. This limits the functions that could be executed during unpickling. Arbitrary objects will no longer be allowed to be loaded via this mode unless they are explicitly allowlisted by the user via `torch.serialization.add_safe_globals`. We recommend you start setting `weights_only=True` for any use case where you don't have full control of the loaded file. Please open an issue on GitHub for any issues related to this experimental feature.\n",
      "  model.load_state_dict(torch.load(f\"checkpoints/monkeys-cnn-{activation}/best.ckpt\", map_location=\"cpu\"))\n"
     ]
    },
    {
     "name": "stdout",
     "output_type": "stream",
     "text": [
      "loss:     2.4858\n",
      "accuracy: 0.6176\n"
     ]
    }
   ],
   "source": [
    "# dataload for evaluating\n",
    "\n",
    "# load checkpoints\n",
    "model.load_state_dict(torch.load(f\"checkpoints/monkeys-cnn-{activation}/best.ckpt\", map_location=\"cpu\"))\n",
    "\n",
    "model.eval()\n",
    "loss, acc = evaluating(model, val_loader, loss_fct)\n",
    "print(f\"loss:     {loss:.4f}\\naccuracy: {acc:.4f}\")"
   ]
  }
 ],
 "metadata": {
  "colab": {
   "provenance": []
  },
  "kernelspec": {
   "display_name": "Python 3 (ipykernel)",
   "language": "python",
   "name": "python3"
  },
  "language_info": {
   "codemirror_mode": {
    "name": "ipython",
    "version": 3
   },
   "file_extension": ".py",
   "mimetype": "text/x-python",
   "name": "python",
   "nbconvert_exporter": "python",
   "pygments_lexer": "ipython3",
   "version": "3.10.14"
  }
 },
 "nbformat": 4,
 "nbformat_minor": 4
}
