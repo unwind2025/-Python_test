{
 "cells": [
  {
   "cell_type": "markdown",
   "source": [
    "# 9 Pandas分组与聚合"
   ],
   "metadata": {
    "collapsed": false
   }
  },
  {
   "cell_type": "markdown",
   "source": [
    "# 设置索引"
   ],
   "metadata": {
    "collapsed": false
   }
  },
  {
   "metadata": {
    "ExecuteTime": {
     "end_time": "2025-01-07T08:12:30.325057Z",
     "start_time": "2025-01-07T08:12:30.032054Z"
    }
   },
   "cell_type": "code",
   "source": [
    "import pandas as pd\n",
    "import numpy as np"
   ],
   "outputs": [],
   "execution_count": 2
  },
  {
   "cell_type": "code",
   "source": [
    "#索引中单项不可变，但是整体可以换掉\n",
    "a = pd.DataFrame({'a': range(7),'b': range(7, 0, -1),\n",
    "                  'c': ['one','one','one','two','two','two', 'two'],\n",
    "                  'd': list(\"hjklmno\")})\n",
    "a"
   ],
   "metadata": {
    "collapsed": false,
    "pycharm": {
     "name": "#%%\n"
    },
    "ExecuteTime": {
     "end_time": "2025-01-07T08:12:31.601504Z",
     "start_time": "2025-01-07T08:12:31.592501Z"
    }
   },
   "outputs": [
    {
     "data": {
      "text/plain": [
       "   a  b    c  d\n",
       "0  0  7  one  h\n",
       "1  1  6  one  j\n",
       "2  2  5  one  k\n",
       "3  3  4  two  l\n",
       "4  4  3  two  m\n",
       "5  5  2  two  n\n",
       "6  6  1  two  o"
      ],
      "text/html": [
       "<div>\n",
       "<style scoped>\n",
       "    .dataframe tbody tr th:only-of-type {\n",
       "        vertical-align: middle;\n",
       "    }\n",
       "\n",
       "    .dataframe tbody tr th {\n",
       "        vertical-align: top;\n",
       "    }\n",
       "\n",
       "    .dataframe thead th {\n",
       "        text-align: right;\n",
       "    }\n",
       "</style>\n",
       "<table border=\"1\" class=\"dataframe\">\n",
       "  <thead>\n",
       "    <tr style=\"text-align: right;\">\n",
       "      <th></th>\n",
       "      <th>a</th>\n",
       "      <th>b</th>\n",
       "      <th>c</th>\n",
       "      <th>d</th>\n",
       "    </tr>\n",
       "  </thead>\n",
       "  <tbody>\n",
       "    <tr>\n",
       "      <th>0</th>\n",
       "      <td>0</td>\n",
       "      <td>7</td>\n",
       "      <td>one</td>\n",
       "      <td>h</td>\n",
       "    </tr>\n",
       "    <tr>\n",
       "      <th>1</th>\n",
       "      <td>1</td>\n",
       "      <td>6</td>\n",
       "      <td>one</td>\n",
       "      <td>j</td>\n",
       "    </tr>\n",
       "    <tr>\n",
       "      <th>2</th>\n",
       "      <td>2</td>\n",
       "      <td>5</td>\n",
       "      <td>one</td>\n",
       "      <td>k</td>\n",
       "    </tr>\n",
       "    <tr>\n",
       "      <th>3</th>\n",
       "      <td>3</td>\n",
       "      <td>4</td>\n",
       "      <td>two</td>\n",
       "      <td>l</td>\n",
       "    </tr>\n",
       "    <tr>\n",
       "      <th>4</th>\n",
       "      <td>4</td>\n",
       "      <td>3</td>\n",
       "      <td>two</td>\n",
       "      <td>m</td>\n",
       "    </tr>\n",
       "    <tr>\n",
       "      <th>5</th>\n",
       "      <td>5</td>\n",
       "      <td>2</td>\n",
       "      <td>two</td>\n",
       "      <td>n</td>\n",
       "    </tr>\n",
       "    <tr>\n",
       "      <th>6</th>\n",
       "      <td>6</td>\n",
       "      <td>1</td>\n",
       "      <td>two</td>\n",
       "      <td>o</td>\n",
       "    </tr>\n",
       "  </tbody>\n",
       "</table>\n",
       "</div>"
      ]
     },
     "execution_count": 3,
     "metadata": {},
     "output_type": "execute_result"
    }
   ],
   "execution_count": 3
  },
  {
   "cell_type": "code",
   "source": [
    "c=a.copy()\n",
    "a.index=list('abcdefg')  #a的索引变了，a.index更换索引\n",
    "print(c)\n",
    "# a.columns=list('ABCD')  #a的列名变了，a.columns更换列名\n",
    "print('-'*50)\n",
    "print(a)"
   ],
   "metadata": {
    "collapsed": false,
    "pycharm": {
     "name": "#%%\n"
    },
    "ExecuteTime": {
     "end_time": "2025-01-07T08:13:24.537096Z",
     "start_time": "2025-01-07T08:13:24.533252Z"
    }
   },
   "outputs": [
    {
     "name": "stdout",
     "output_type": "stream",
     "text": [
      "   a  b    c  d\n",
      "0  0  7  one  h\n",
      "1  1  6  one  j\n",
      "2  2  5  one  k\n",
      "3  3  4  two  l\n",
      "4  4  3  two  m\n",
      "5  5  2  two  n\n",
      "6  6  1  two  o\n",
      "--------------------------------------------------\n",
      "   a  b    c  d\n",
      "a  0  7  one  h\n",
      "b  1  6  one  j\n",
      "c  2  5  one  k\n",
      "d  3  4  two  l\n",
      "e  4  3  two  m\n",
      "f  5  2  two  n\n",
      "g  6  1  two  o\n"
     ]
    }
   ],
   "execution_count": 4
  },
  {
   "cell_type": "code",
   "execution_count": 31,
   "outputs": [
    {
     "data": {
      "text/plain": "(7, 4)"
     },
     "execution_count": 31,
     "metadata": {},
     "output_type": "execute_result"
    }
   ],
   "source": [
    "c.values.shape"
   ],
   "metadata": {
    "collapsed": false,
    "ExecuteTime": {
     "end_time": "2024-04-11T08:42:05.057905400Z",
     "start_time": "2024-04-11T08:42:05.034914200Z"
    }
   }
  },
  {
   "cell_type": "code",
   "source": [
    "#让某些列变为索引，让c列，d列数据变为索引\n",
    "print(a)\n",
    "print('-'*50)\n",
    "a.set_index(['c'],inplace=True)#a没变，返回修改后的df\n",
    "a"
   ],
   "metadata": {
    "collapsed": false,
    "pycharm": {
     "name": "#%%\n"
    },
    "ExecuteTime": {
     "end_time": "2025-01-07T08:13:54.615028Z",
     "start_time": "2025-01-07T08:13:54.609902Z"
    }
   },
   "outputs": [
    {
     "name": "stdout",
     "output_type": "stream",
     "text": [
      "   a  b    c  d\n",
      "a  0  7  one  h\n",
      "b  1  6  one  j\n",
      "c  2  5  one  k\n",
      "d  3  4  two  l\n",
      "e  4  3  two  m\n",
      "f  5  2  two  n\n",
      "g  6  1  two  o\n",
      "--------------------------------------------------\n"
     ]
    },
    {
     "data": {
      "text/plain": [
       "     a  b  d\n",
       "c           \n",
       "one  0  7  h\n",
       "one  1  6  j\n",
       "one  2  5  k\n",
       "two  3  4  l\n",
       "two  4  3  m\n",
       "two  5  2  n\n",
       "two  6  1  o"
      ],
      "text/html": [
       "<div>\n",
       "<style scoped>\n",
       "    .dataframe tbody tr th:only-of-type {\n",
       "        vertical-align: middle;\n",
       "    }\n",
       "\n",
       "    .dataframe tbody tr th {\n",
       "        vertical-align: top;\n",
       "    }\n",
       "\n",
       "    .dataframe thead th {\n",
       "        text-align: right;\n",
       "    }\n",
       "</style>\n",
       "<table border=\"1\" class=\"dataframe\">\n",
       "  <thead>\n",
       "    <tr style=\"text-align: right;\">\n",
       "      <th></th>\n",
       "      <th>a</th>\n",
       "      <th>b</th>\n",
       "      <th>d</th>\n",
       "    </tr>\n",
       "    <tr>\n",
       "      <th>c</th>\n",
       "      <th></th>\n",
       "      <th></th>\n",
       "      <th></th>\n",
       "    </tr>\n",
       "  </thead>\n",
       "  <tbody>\n",
       "    <tr>\n",
       "      <th>one</th>\n",
       "      <td>0</td>\n",
       "      <td>7</td>\n",
       "      <td>h</td>\n",
       "    </tr>\n",
       "    <tr>\n",
       "      <th>one</th>\n",
       "      <td>1</td>\n",
       "      <td>6</td>\n",
       "      <td>j</td>\n",
       "    </tr>\n",
       "    <tr>\n",
       "      <th>one</th>\n",
       "      <td>2</td>\n",
       "      <td>5</td>\n",
       "      <td>k</td>\n",
       "    </tr>\n",
       "    <tr>\n",
       "      <th>two</th>\n",
       "      <td>3</td>\n",
       "      <td>4</td>\n",
       "      <td>l</td>\n",
       "    </tr>\n",
       "    <tr>\n",
       "      <th>two</th>\n",
       "      <td>4</td>\n",
       "      <td>3</td>\n",
       "      <td>m</td>\n",
       "    </tr>\n",
       "    <tr>\n",
       "      <th>two</th>\n",
       "      <td>5</td>\n",
       "      <td>2</td>\n",
       "      <td>n</td>\n",
       "    </tr>\n",
       "    <tr>\n",
       "      <th>two</th>\n",
       "      <td>6</td>\n",
       "      <td>1</td>\n",
       "      <td>o</td>\n",
       "    </tr>\n",
       "  </tbody>\n",
       "</table>\n",
       "</div>"
      ]
     },
     "execution_count": 5,
     "metadata": {},
     "output_type": "execute_result"
    }
   ],
   "execution_count": 5
  },
  {
   "metadata": {
    "ExecuteTime": {
     "end_time": "2025-01-07T08:14:31.276096Z",
     "start_time": "2025-01-07T08:14:31.273203Z"
    }
   },
   "cell_type": "code",
   "source": "a.columns",
   "outputs": [
    {
     "data": {
      "text/plain": [
       "Index(['a', 'b', 'd'], dtype='object')"
      ]
     },
     "execution_count": 7,
     "metadata": {},
     "output_type": "execute_result"
    }
   ],
   "execution_count": 7
  },
  {
   "metadata": {
    "ExecuteTime": {
     "end_time": "2025-01-07T08:14:37.573934Z",
     "start_time": "2025-01-07T08:14:37.570557Z"
    }
   },
   "cell_type": "code",
   "source": "a.index",
   "outputs": [
    {
     "data": {
      "text/plain": [
       "Index(['one', 'one', 'one', 'two', 'two', 'two', 'two'], dtype='object', name='c')"
      ]
     },
     "execution_count": 8,
     "metadata": {},
     "output_type": "execute_result"
    }
   ],
   "execution_count": 8
  },
  {
   "cell_type": "markdown",
   "source": [
    "### 时间序列"
   ],
   "metadata": {
    "collapsed": false
   }
  },
  {
   "cell_type": "code",
   "source": [
    "pd.date_range(start=\"20190101\", end=\"20190201\")"
   ],
   "metadata": {
    "collapsed": false,
    "pycharm": {
     "name": "#%%\n"
    },
    "ExecuteTime": {
     "end_time": "2025-01-07T08:16:18.505210Z",
     "start_time": "2025-01-07T08:16:18.502041Z"
    }
   },
   "outputs": [
    {
     "data": {
      "text/plain": [
       "DatetimeIndex(['2019-01-01', '2019-01-02', '2019-01-03', '2019-01-04',\n",
       "               '2019-01-05', '2019-01-06', '2019-01-07', '2019-01-08',\n",
       "               '2019-01-09', '2019-01-10', '2019-01-11', '2019-01-12',\n",
       "               '2019-01-13', '2019-01-14', '2019-01-15', '2019-01-16',\n",
       "               '2019-01-17', '2019-01-18', '2019-01-19', '2019-01-20',\n",
       "               '2019-01-21', '2019-01-22', '2019-01-23', '2019-01-24',\n",
       "               '2019-01-25', '2019-01-26', '2019-01-27', '2019-01-28',\n",
       "               '2019-01-29', '2019-01-30', '2019-01-31', '2019-02-01'],\n",
       "              dtype='datetime64[ns]', freq='D')"
      ]
     },
     "execution_count": 9,
     "metadata": {},
     "output_type": "execute_result"
    }
   ],
   "execution_count": 9
  },
  {
   "cell_type": "code",
   "source": "pd.date_range(start=\"20250107\",periods=10,freq='B')",
   "metadata": {
    "collapsed": false,
    "pycharm": {
     "name": "#%%\n"
    },
    "ExecuteTime": {
     "end_time": "2025-01-07T08:17:04.576048Z",
     "start_time": "2025-01-07T08:17:04.572375Z"
    }
   },
   "outputs": [
    {
     "data": {
      "text/plain": [
       "DatetimeIndex(['2025-01-07', '2025-01-08', '2025-01-09', '2025-01-10',\n",
       "               '2025-01-13', '2025-01-14', '2025-01-15', '2025-01-16',\n",
       "               '2025-01-17', '2025-01-20'],\n",
       "              dtype='datetime64[ns]', freq='B')"
      ]
     },
     "execution_count": 11,
     "metadata": {},
     "output_type": "execute_result"
    }
   ],
   "execution_count": 11
  },
  {
   "cell_type": "code",
   "source": "pd.date_range(start=\"20190101\",periods=10,freq='ME')",
   "metadata": {
    "collapsed": false,
    "pycharm": {
     "name": "#%%\n"
    },
    "ExecuteTime": {
     "end_time": "2025-01-07T08:17:32.736261Z",
     "start_time": "2025-01-07T08:17:32.732208Z"
    }
   },
   "outputs": [
    {
     "data": {
      "text/plain": [
       "DatetimeIndex(['2019-01-31', '2019-02-28', '2019-03-31', '2019-04-30',\n",
       "               '2019-05-31', '2019-06-30', '2019-07-31', '2019-08-31',\n",
       "               '2019-09-30', '2019-10-31'],\n",
       "              dtype='datetime64[ns]', freq='ME')"
      ]
     },
     "execution_count": 13,
     "metadata": {},
     "output_type": "execute_result"
    }
   ],
   "execution_count": 13
  },
  {
   "cell_type": "code",
   "source": [
    "pd.date_range(start=\"20190101\",periods=10,freq='MS')"
   ],
   "metadata": {
    "collapsed": false,
    "pycharm": {
     "name": "#%%\n"
    },
    "ExecuteTime": {
     "end_time": "2025-01-07T08:17:37.817927Z",
     "start_time": "2025-01-07T08:17:37.813729Z"
    }
   },
   "outputs": [
    {
     "data": {
      "text/plain": [
       "DatetimeIndex(['2019-01-01', '2019-02-01', '2019-03-01', '2019-04-01',\n",
       "               '2019-05-01', '2019-06-01', '2019-07-01', '2019-08-01',\n",
       "               '2019-09-01', '2019-10-01'],\n",
       "              dtype='datetime64[ns]', freq='MS')"
      ]
     },
     "execution_count": 14,
     "metadata": {},
     "output_type": "execute_result"
    }
   ],
   "execution_count": 14
  },
  {
   "cell_type": "code",
   "execution_count": 38,
   "outputs": [
    {
     "data": {
      "text/plain": "DatetimeIndex(['2023-07-16', '2023-07-23', '2023-07-30', '2023-08-06',\n               '2023-08-13', '2023-08-20', '2023-08-27', '2023-09-03',\n               '2023-09-10', '2023-09-17'],\n              dtype='datetime64[ns]', freq='W-SUN')"
     },
     "execution_count": 38,
     "metadata": {},
     "output_type": "execute_result"
    }
   ],
   "source": [
    "pd.date_range(start=\"20230710\",periods=10,freq='W')  #拿每周的周日生成"
   ],
   "metadata": {
    "collapsed": false,
    "pycharm": {
     "name": "#%%\n"
    }
   }
  },
  {
   "cell_type": "code",
   "source": [
    "s = pd.Series(['3/11/2000', '3/12/2000', '3/13/2000'] * 5)\n",
    "s"
   ],
   "metadata": {
    "collapsed": false,
    "pycharm": {
     "name": "#%%\n"
    },
    "ExecuteTime": {
     "end_time": "2025-01-07T08:17:49.059081Z",
     "start_time": "2025-01-07T08:17:49.055767Z"
    }
   },
   "outputs": [
    {
     "data": {
      "text/plain": [
       "0     3/11/2000\n",
       "1     3/12/2000\n",
       "2     3/13/2000\n",
       "3     3/11/2000\n",
       "4     3/12/2000\n",
       "5     3/13/2000\n",
       "6     3/11/2000\n",
       "7     3/12/2000\n",
       "8     3/13/2000\n",
       "9     3/11/2000\n",
       "10    3/12/2000\n",
       "11    3/13/2000\n",
       "12    3/11/2000\n",
       "13    3/12/2000\n",
       "14    3/13/2000\n",
       "dtype: object"
      ]
     },
     "execution_count": 15,
     "metadata": {},
     "output_type": "execute_result"
    }
   ],
   "execution_count": 15
  },
  {
   "cell_type": "code",
   "source": [
    "#timeit可以统计执行耗时，to_datetime把字符串转为时间格式\n",
    "pd.to_datetime(s)"
   ],
   "metadata": {
    "collapsed": false,
    "pycharm": {
     "name": "#%%\n"
    },
    "ExecuteTime": {
     "end_time": "2025-01-07T08:18:52.128687Z",
     "start_time": "2025-01-07T08:18:52.125040Z"
    }
   },
   "outputs": [
    {
     "data": {
      "text/plain": [
       "0    2000-03-11\n",
       "1    2000-03-12\n",
       "2    2000-03-13\n",
       "3    2000-03-11\n",
       "4    2000-03-12\n",
       "5    2000-03-13\n",
       "6    2000-03-11\n",
       "7    2000-03-12\n",
       "8    2000-03-13\n",
       "9    2000-03-11\n",
       "10   2000-03-12\n",
       "11   2000-03-13\n",
       "12   2000-03-11\n",
       "13   2000-03-12\n",
       "14   2000-03-13\n",
       "dtype: datetime64[ns]"
      ]
     },
     "execution_count": 17,
     "metadata": {},
     "output_type": "execute_result"
    }
   ],
   "execution_count": 17
  },
  {
   "cell_type": "code",
   "source": [
    "#实战美国911数据\n",
    "from matplotlib import pyplot as plt\n",
    "import pandas as pd\n",
    "import numpy as np\n",
    "# 把时间字符串转为时间类型设置为索引\n",
    "df = pd.read_csv(\"./911.csv\")\n",
    "print(df.info())\n",
    "df[\"timeStamp\"] = pd.to_datetime(df[\"timeStamp\"])\n",
    "\n",
    "# 添加列，表示分类\n",
    "temp_list = df[\"title\"].str.split(\": \").tolist() #二维列表\n",
    "cate_list = [i[0] for i in temp_list] #i[0]就是EMS  Fire  Traffic\n",
    "# print(cate_list)\n",
    "# print(np.array(cate_list).reshape((df.shape[0], 1)))\n",
    " #添加一列\n",
    "df[\"cate\"] = pd.DataFrame(np.array(cate_list).reshape((df.shape[0], 1)))\n",
    "\n",
    "df.set_index(\"timeStamp\", inplace=True) #设置索引，时间戳，inplace=True表示在原df上修改\n",
    "\n",
    "df.head(10)"
   ],
   "metadata": {
    "collapsed": false,
    "pycharm": {
     "name": "#%%\n"
    },
    "ExecuteTime": {
     "end_time": "2025-01-08T01:58:08.402830Z",
     "start_time": "2025-01-08T01:58:07.722110Z"
    }
   },
   "outputs": [
    {
     "name": "stdout",
     "output_type": "stream",
     "text": [
      "<class 'pandas.core.frame.DataFrame'>\n",
      "RangeIndex: 249737 entries, 0 to 249736\n",
      "Data columns (total 9 columns):\n",
      " #   Column     Non-Null Count   Dtype  \n",
      "---  ------     --------------   -----  \n",
      " 0   lat        249737 non-null  float64\n",
      " 1   lng        249737 non-null  float64\n",
      " 2   desc       249737 non-null  object \n",
      " 3   zip        219391 non-null  float64\n",
      " 4   title      249737 non-null  object \n",
      " 5   timeStamp  249737 non-null  object \n",
      " 6   twp        249644 non-null  object \n",
      " 7   addr       249737 non-null  object \n",
      " 8   e          249737 non-null  int64  \n",
      "dtypes: float64(3), int64(1), object(5)\n",
      "memory usage: 17.1+ MB\n",
      "None\n"
     ]
    },
    {
     "data": {
      "text/plain": [
       "                           lat        lng  \\\n",
       "timeStamp                                   \n",
       "2015-12-10 17:10:52  40.297876 -75.581294   \n",
       "2015-12-10 17:29:21  40.258061 -75.264680   \n",
       "2015-12-10 14:39:21  40.121182 -75.351975   \n",
       "2015-12-10 16:47:36  40.116153 -75.343513   \n",
       "2015-12-10 16:56:52  40.251492 -75.603350   \n",
       "2015-12-10 15:39:04  40.253473 -75.283245   \n",
       "2015-12-10 16:46:48  40.182111 -75.127795   \n",
       "2015-12-10 16:17:05  40.217286 -75.405182   \n",
       "2015-12-10 16:51:42  40.289027 -75.399590   \n",
       "2015-12-10 17:35:41  40.102398 -75.291458   \n",
       "\n",
       "                                                                  desc  \\\n",
       "timeStamp                                                                \n",
       "2015-12-10 17:10:52  REINDEER CT & DEAD END;  NEW HANOVER; Station ...   \n",
       "2015-12-10 17:29:21  BRIAR PATH & WHITEMARSH LN;  HATFIELD TOWNSHIP...   \n",
       "2015-12-10 14:39:21  HAWS AVE; NORRISTOWN; 2015-12-10 @ 14:39:21-St...   \n",
       "2015-12-10 16:47:36  AIRY ST & SWEDE ST;  NORRISTOWN; Station 308A;...   \n",
       "2015-12-10 16:56:52  CHERRYWOOD CT & DEAD END;  LOWER POTTSGROVE; S...   \n",
       "2015-12-10 15:39:04  CANNON AVE & W 9TH ST;  LANSDALE; Station 345;...   \n",
       "2015-12-10 16:46:48  LAUREL AVE & OAKDALE AVE;  HORSHAM; Station 35...   \n",
       "2015-12-10 16:17:05  COLLEGEVILLE RD & LYWISKI RD;  SKIPPACK; Stati...   \n",
       "2015-12-10 16:51:42  MAIN ST & OLD SUMNEYTOWN PIKE;  LOWER SALFORD;...   \n",
       "2015-12-10 17:35:41  BLUEROUTE  & RAMP I476 NB TO CHEMICAL RD; PLYM...   \n",
       "\n",
       "                         zip                        title                twp  \\\n",
       "timeStamp                                                                      \n",
       "2015-12-10 17:10:52  19525.0       EMS: BACK PAINS/INJURY        NEW HANOVER   \n",
       "2015-12-10 17:29:21  19446.0      EMS: DIABETIC EMERGENCY  HATFIELD TOWNSHIP   \n",
       "2015-12-10 14:39:21  19401.0          Fire: GAS-ODOR/LEAK         NORRISTOWN   \n",
       "2015-12-10 16:47:36  19401.0       EMS: CARDIAC EMERGENCY         NORRISTOWN   \n",
       "2015-12-10 16:56:52      NaN               EMS: DIZZINESS   LOWER POTTSGROVE   \n",
       "2015-12-10 15:39:04  19446.0             EMS: HEAD INJURY           LANSDALE   \n",
       "2015-12-10 16:46:48  19044.0         EMS: NAUSEA/VOMITING            HORSHAM   \n",
       "2015-12-10 16:17:05  19426.0   EMS: RESPIRATORY EMERGENCY           SKIPPACK   \n",
       "2015-12-10 16:51:42  19438.0        EMS: SYNCOPAL EPISODE      LOWER SALFORD   \n",
       "2015-12-10 17:35:41  19462.0  Traffic: VEHICLE ACCIDENT -           PLYMOUTH   \n",
       "\n",
       "                                                         addr  e     cate  \n",
       "timeStamp                                                                  \n",
       "2015-12-10 17:10:52                    REINDEER CT & DEAD END  1      EMS  \n",
       "2015-12-10 17:29:21                BRIAR PATH & WHITEMARSH LN  1      EMS  \n",
       "2015-12-10 14:39:21                                  HAWS AVE  1     Fire  \n",
       "2015-12-10 16:47:36                        AIRY ST & SWEDE ST  1      EMS  \n",
       "2015-12-10 16:56:52                  CHERRYWOOD CT & DEAD END  1      EMS  \n",
       "2015-12-10 15:39:04                     CANNON AVE & W 9TH ST  1      EMS  \n",
       "2015-12-10 16:46:48                  LAUREL AVE & OAKDALE AVE  1      EMS  \n",
       "2015-12-10 16:17:05              COLLEGEVILLE RD & LYWISKI RD  1      EMS  \n",
       "2015-12-10 16:51:42             MAIN ST & OLD SUMNEYTOWN PIKE  1      EMS  \n",
       "2015-12-10 17:35:41  BLUEROUTE  & RAMP I476 NB TO CHEMICAL RD  1  Traffic  "
      ],
      "text/html": [
       "<div>\n",
       "<style scoped>\n",
       "    .dataframe tbody tr th:only-of-type {\n",
       "        vertical-align: middle;\n",
       "    }\n",
       "\n",
       "    .dataframe tbody tr th {\n",
       "        vertical-align: top;\n",
       "    }\n",
       "\n",
       "    .dataframe thead th {\n",
       "        text-align: right;\n",
       "    }\n",
       "</style>\n",
       "<table border=\"1\" class=\"dataframe\">\n",
       "  <thead>\n",
       "    <tr style=\"text-align: right;\">\n",
       "      <th></th>\n",
       "      <th>lat</th>\n",
       "      <th>lng</th>\n",
       "      <th>desc</th>\n",
       "      <th>zip</th>\n",
       "      <th>title</th>\n",
       "      <th>twp</th>\n",
       "      <th>addr</th>\n",
       "      <th>e</th>\n",
       "      <th>cate</th>\n",
       "    </tr>\n",
       "    <tr>\n",
       "      <th>timeStamp</th>\n",
       "      <th></th>\n",
       "      <th></th>\n",
       "      <th></th>\n",
       "      <th></th>\n",
       "      <th></th>\n",
       "      <th></th>\n",
       "      <th></th>\n",
       "      <th></th>\n",
       "      <th></th>\n",
       "    </tr>\n",
       "  </thead>\n",
       "  <tbody>\n",
       "    <tr>\n",
       "      <th>2015-12-10 17:10:52</th>\n",
       "      <td>40.297876</td>\n",
       "      <td>-75.581294</td>\n",
       "      <td>REINDEER CT &amp; DEAD END;  NEW HANOVER; Station ...</td>\n",
       "      <td>19525.0</td>\n",
       "      <td>EMS: BACK PAINS/INJURY</td>\n",
       "      <td>NEW HANOVER</td>\n",
       "      <td>REINDEER CT &amp; DEAD END</td>\n",
       "      <td>1</td>\n",
       "      <td>EMS</td>\n",
       "    </tr>\n",
       "    <tr>\n",
       "      <th>2015-12-10 17:29:21</th>\n",
       "      <td>40.258061</td>\n",
       "      <td>-75.264680</td>\n",
       "      <td>BRIAR PATH &amp; WHITEMARSH LN;  HATFIELD TOWNSHIP...</td>\n",
       "      <td>19446.0</td>\n",
       "      <td>EMS: DIABETIC EMERGENCY</td>\n",
       "      <td>HATFIELD TOWNSHIP</td>\n",
       "      <td>BRIAR PATH &amp; WHITEMARSH LN</td>\n",
       "      <td>1</td>\n",
       "      <td>EMS</td>\n",
       "    </tr>\n",
       "    <tr>\n",
       "      <th>2015-12-10 14:39:21</th>\n",
       "      <td>40.121182</td>\n",
       "      <td>-75.351975</td>\n",
       "      <td>HAWS AVE; NORRISTOWN; 2015-12-10 @ 14:39:21-St...</td>\n",
       "      <td>19401.0</td>\n",
       "      <td>Fire: GAS-ODOR/LEAK</td>\n",
       "      <td>NORRISTOWN</td>\n",
       "      <td>HAWS AVE</td>\n",
       "      <td>1</td>\n",
       "      <td>Fire</td>\n",
       "    </tr>\n",
       "    <tr>\n",
       "      <th>2015-12-10 16:47:36</th>\n",
       "      <td>40.116153</td>\n",
       "      <td>-75.343513</td>\n",
       "      <td>AIRY ST &amp; SWEDE ST;  NORRISTOWN; Station 308A;...</td>\n",
       "      <td>19401.0</td>\n",
       "      <td>EMS: CARDIAC EMERGENCY</td>\n",
       "      <td>NORRISTOWN</td>\n",
       "      <td>AIRY ST &amp; SWEDE ST</td>\n",
       "      <td>1</td>\n",
       "      <td>EMS</td>\n",
       "    </tr>\n",
       "    <tr>\n",
       "      <th>2015-12-10 16:56:52</th>\n",
       "      <td>40.251492</td>\n",
       "      <td>-75.603350</td>\n",
       "      <td>CHERRYWOOD CT &amp; DEAD END;  LOWER POTTSGROVE; S...</td>\n",
       "      <td>NaN</td>\n",
       "      <td>EMS: DIZZINESS</td>\n",
       "      <td>LOWER POTTSGROVE</td>\n",
       "      <td>CHERRYWOOD CT &amp; DEAD END</td>\n",
       "      <td>1</td>\n",
       "      <td>EMS</td>\n",
       "    </tr>\n",
       "    <tr>\n",
       "      <th>2015-12-10 15:39:04</th>\n",
       "      <td>40.253473</td>\n",
       "      <td>-75.283245</td>\n",
       "      <td>CANNON AVE &amp; W 9TH ST;  LANSDALE; Station 345;...</td>\n",
       "      <td>19446.0</td>\n",
       "      <td>EMS: HEAD INJURY</td>\n",
       "      <td>LANSDALE</td>\n",
       "      <td>CANNON AVE &amp; W 9TH ST</td>\n",
       "      <td>1</td>\n",
       "      <td>EMS</td>\n",
       "    </tr>\n",
       "    <tr>\n",
       "      <th>2015-12-10 16:46:48</th>\n",
       "      <td>40.182111</td>\n",
       "      <td>-75.127795</td>\n",
       "      <td>LAUREL AVE &amp; OAKDALE AVE;  HORSHAM; Station 35...</td>\n",
       "      <td>19044.0</td>\n",
       "      <td>EMS: NAUSEA/VOMITING</td>\n",
       "      <td>HORSHAM</td>\n",
       "      <td>LAUREL AVE &amp; OAKDALE AVE</td>\n",
       "      <td>1</td>\n",
       "      <td>EMS</td>\n",
       "    </tr>\n",
       "    <tr>\n",
       "      <th>2015-12-10 16:17:05</th>\n",
       "      <td>40.217286</td>\n",
       "      <td>-75.405182</td>\n",
       "      <td>COLLEGEVILLE RD &amp; LYWISKI RD;  SKIPPACK; Stati...</td>\n",
       "      <td>19426.0</td>\n",
       "      <td>EMS: RESPIRATORY EMERGENCY</td>\n",
       "      <td>SKIPPACK</td>\n",
       "      <td>COLLEGEVILLE RD &amp; LYWISKI RD</td>\n",
       "      <td>1</td>\n",
       "      <td>EMS</td>\n",
       "    </tr>\n",
       "    <tr>\n",
       "      <th>2015-12-10 16:51:42</th>\n",
       "      <td>40.289027</td>\n",
       "      <td>-75.399590</td>\n",
       "      <td>MAIN ST &amp; OLD SUMNEYTOWN PIKE;  LOWER SALFORD;...</td>\n",
       "      <td>19438.0</td>\n",
       "      <td>EMS: SYNCOPAL EPISODE</td>\n",
       "      <td>LOWER SALFORD</td>\n",
       "      <td>MAIN ST &amp; OLD SUMNEYTOWN PIKE</td>\n",
       "      <td>1</td>\n",
       "      <td>EMS</td>\n",
       "    </tr>\n",
       "    <tr>\n",
       "      <th>2015-12-10 17:35:41</th>\n",
       "      <td>40.102398</td>\n",
       "      <td>-75.291458</td>\n",
       "      <td>BLUEROUTE  &amp; RAMP I476 NB TO CHEMICAL RD; PLYM...</td>\n",
       "      <td>19462.0</td>\n",
       "      <td>Traffic: VEHICLE ACCIDENT -</td>\n",
       "      <td>PLYMOUTH</td>\n",
       "      <td>BLUEROUTE  &amp; RAMP I476 NB TO CHEMICAL RD</td>\n",
       "      <td>1</td>\n",
       "      <td>Traffic</td>\n",
       "    </tr>\n",
       "  </tbody>\n",
       "</table>\n",
       "</div>"
      ]
     },
     "execution_count": 3,
     "metadata": {},
     "output_type": "execute_result"
    }
   ],
   "execution_count": 3
  },
  {
   "cell_type": "code",
   "source": [
    "plt.figure(figsize=(20, 8), dpi=80)\n",
    "\n",
    "# 分组,一图多线\n",
    "#resample降采样，按月统计,索引必须是时间类型，类似groupby\n",
    "for group_name, group_data in df.groupby(by=\"cate\"):\n",
    "    # 对不同的分类都进行绘图\n",
    "    count_by_month = group_data.resample(\"MS\").count()[\"title\"]  #降采样\n",
    "    print(count_by_month)\n",
    "    # 画图\n",
    "    _x = count_by_month.index\n",
    "    print(_x)\n",
    "    _y = count_by_month.values #values是对应事故发生次数\n",
    "\n",
    "    _x = [i.strftime(\"%Y%m%d\") for i in _x]  #变年月日格式\n",
    "\n",
    "    plt.plot(_x, _y, label=group_name)\n",
    "\n",
    "plt.xticks(range(len(_x)), _x, rotation=45)\n",
    "plt.legend(loc=\"best\")\n",
    "plt.show()"
   ],
   "metadata": {
    "collapsed": false,
    "pycharm": {
     "name": "#%%\n"
    },
    "ExecuteTime": {
     "end_time": "2025-01-08T02:29:52.775105Z",
     "start_time": "2025-01-08T02:29:52.574023Z"
    }
   },
   "outputs": [
    {
     "name": "stdout",
     "output_type": "stream",
     "text": [
      "timeStamp\n",
      "2015-12-01    3898\n",
      "2016-01-01    6063\n",
      "2016-02-01    5413\n",
      "2016-03-01    5832\n",
      "2016-04-01    5684\n",
      "2016-05-01    5730\n",
      "2016-06-01    5720\n",
      "2016-07-01    6029\n",
      "2016-08-01    6005\n",
      "2016-09-01    5750\n",
      "2016-10-01    6039\n",
      "2016-11-01    5838\n",
      "2016-12-01    6024\n",
      "2017-01-01    6082\n",
      "2017-02-01    5417\n",
      "2017-03-01    5913\n",
      "2017-04-01    5780\n",
      "2017-05-01    5948\n",
      "2017-06-01    6030\n",
      "2017-07-01    5974\n",
      "2017-08-01    5882\n",
      "2017-09-01    3789\n",
      "Freq: MS, Name: title, dtype: int64\n",
      "DatetimeIndex(['2015-12-01', '2016-01-01', '2016-02-01', '2016-03-01',\n",
      "               '2016-04-01', '2016-05-01', '2016-06-01', '2016-07-01',\n",
      "               '2016-08-01', '2016-09-01', '2016-10-01', '2016-11-01',\n",
      "               '2016-12-01', '2017-01-01', '2017-02-01', '2017-03-01',\n",
      "               '2017-04-01', '2017-05-01', '2017-06-01', '2017-07-01',\n",
      "               '2017-08-01', '2017-09-01'],\n",
      "              dtype='datetime64[ns]', name='timeStamp', freq='MS')\n",
      "timeStamp\n",
      "2015-12-01    1095\n",
      "2016-01-01    1904\n",
      "2016-02-01    1868\n",
      "2016-03-01    1589\n",
      "2016-04-01    1717\n",
      "2016-05-01    1573\n",
      "2016-06-01    1787\n",
      "2016-07-01    1898\n",
      "2016-08-01    1907\n",
      "2016-09-01    1793\n",
      "2016-10-01    1930\n",
      "2016-11-01    1765\n",
      "2016-12-01    1846\n",
      "2017-01-01    1658\n",
      "2017-02-01    1462\n",
      "2017-03-01    1634\n",
      "2017-04-01    1614\n",
      "2017-05-01    1670\n",
      "2017-06-01    1986\n",
      "2017-07-01    1754\n",
      "2017-08-01    1862\n",
      "2017-09-01    1120\n",
      "Freq: MS, Name: title, dtype: int64\n",
      "DatetimeIndex(['2015-12-01', '2016-01-01', '2016-02-01', '2016-03-01',\n",
      "               '2016-04-01', '2016-05-01', '2016-06-01', '2016-07-01',\n",
      "               '2016-08-01', '2016-09-01', '2016-10-01', '2016-11-01',\n",
      "               '2016-12-01', '2017-01-01', '2017-02-01', '2017-03-01',\n",
      "               '2017-04-01', '2017-05-01', '2017-06-01', '2017-07-01',\n",
      "               '2017-08-01', '2017-09-01'],\n",
      "              dtype='datetime64[ns]', name='timeStamp', freq='MS')\n",
      "timeStamp\n",
      "2015-12-01    2923\n",
      "2016-01-01    5129\n",
      "2016-02-01    4115\n",
      "2016-03-01    3638\n",
      "2016-04-01    3886\n",
      "2016-05-01    4071\n",
      "2016-06-01    4225\n",
      "2016-07-01    4161\n",
      "2016-08-01    3992\n",
      "2016-09-01    4126\n",
      "2016-10-01    4533\n",
      "2016-11-01    4488\n",
      "2016-12-01    4292\n",
      "2017-01-01    3865\n",
      "2017-02-01    3388\n",
      "2017-03-01    4137\n",
      "2017-04-01    3662\n",
      "2017-05-01    4101\n",
      "2017-06-01    4317\n",
      "2017-07-01    4040\n",
      "2017-08-01    4009\n",
      "2017-09-01    2367\n",
      "Freq: MS, Name: title, dtype: int64\n",
      "DatetimeIndex(['2015-12-01', '2016-01-01', '2016-02-01', '2016-03-01',\n",
      "               '2016-04-01', '2016-05-01', '2016-06-01', '2016-07-01',\n",
      "               '2016-08-01', '2016-09-01', '2016-10-01', '2016-11-01',\n",
      "               '2016-12-01', '2017-01-01', '2017-02-01', '2017-03-01',\n",
      "               '2017-04-01', '2017-05-01', '2017-06-01', '2017-07-01',\n",
      "               '2017-08-01', '2017-09-01'],\n",
      "              dtype='datetime64[ns]', name='timeStamp', freq='MS')\n"
     ]
    },
    {
     "data": {
      "text/plain": [
       "<Figure size 1600x640 with 1 Axes>"
      ],
      "image/png": "[encoded data removed]"
     },
     "metadata": {},
     "output_type": "display_data"
    }
   ],
   "execution_count": 9
  },
  {
   "cell_type": "markdown",
   "source": [
    "### 分组运算"
   ],
   "metadata": {
    "collapsed": false
   }
  },
  {
   "cell_type": "code",
   "source": [
    "import numpy as np\n",
    "#分组后给名称加前缀\n",
    "dict_obj = {'key1' : ['a', 'b', 'a', 'b',\n",
    "                      'a', 'b', 'a', 'a'],\n",
    "            'key2' : ['one', 'one', 'two', 'three',\n",
    "                      'two', 'two', 'one', 'three'],\n",
    "            'data1': np.random.randint(1, 10, 8),\n",
    "            'data2': np.random.randint(1, 10, 8)}\n",
    "df_obj = pd.DataFrame(dict_obj)\n",
    "print(df_obj)\n",
    "print('-'*50)\n"
   ],
   "metadata": {
    "collapsed": false,
    "pycharm": {
     "name": "#%%\n"
    },
    "ExecuteTime": {
     "end_time": "2025-01-08T02:30:36.994586Z",
     "start_time": "2025-01-08T02:30:36.991214Z"
    }
   },
   "outputs": [
    {
     "name": "stdout",
     "output_type": "stream",
     "text": [
      "  key1   key2  data1  data2\n",
      "0    a    one      3      5\n",
      "1    b    one      7      5\n",
      "2    a    two      8      4\n",
      "3    b  three      7      5\n",
      "4    a    two      8      2\n",
      "5    b    two      7      3\n",
      "6    a    one      8      9\n",
      "7    a  three      9      2\n",
      "--------------------------------------------------\n"
     ]
    }
   ],
   "execution_count": 11
  },
  {
   "metadata": {
    "ExecuteTime": {
     "end_time": "2025-01-08T02:32:06.125739Z",
     "start_time": "2025-01-08T02:32:06.121621Z"
    }
   },
   "cell_type": "code",
   "source": "df_obj.info()",
   "outputs": [
    {
     "name": "stdout",
     "output_type": "stream",
     "text": [
      "<class 'pandas.core.frame.DataFrame'>\n",
      "RangeIndex: 8 entries, 0 to 7\n",
      "Data columns (total 4 columns):\n",
      " #   Column  Non-Null Count  Dtype \n",
      "---  ------  --------------  ----- \n",
      " 0   key1    8 non-null      object\n",
      " 1   key2    8 non-null      object\n",
      " 2   data1   8 non-null      int32 \n",
      " 3   data2   8 non-null      int32 \n",
      "dtypes: int32(2), object(2)\n",
      "memory usage: 324.0+ bytes\n"
     ]
    }
   ],
   "execution_count": 13
  },
  {
   "metadata": {
    "ExecuteTime": {
     "end_time": "2025-01-08T02:40:08.289107Z",
     "start_time": "2025-01-08T02:40:08.285605Z"
    }
   },
   "cell_type": "code",
   "source": [
    "# 按key1分组后，计算data1，data2的统计信息并附加到原始表格中，并添加表头前缀\n",
    "k1_sum = df_obj.groupby('key1').mean(numeric_only=True).add_prefix('mean_')\n",
    "print(k1_sum)"
   ],
   "outputs": [
    {
     "name": "stdout",
     "output_type": "stream",
     "text": [
      "      mean_data1  mean_data2\n",
      "key1                        \n",
      "a            7.2    4.400000\n",
      "b            7.0    4.333333\n"
     ]
    }
   ],
   "execution_count": 25
  },
  {
   "cell_type": "code",
   "source": [
    "# 方法2，使用transform，分组后计算结果和原本的df保持一致\n",
    "k1_sum_tf = df_obj.loc[:,['key1','data1', 'data2']].groupby('key1').transform('mean').add_prefix('mean_')\n",
    "k1_sum_tf\n",
    "# df_obj[k1_sum_tf.columns] = k1_sum_tf\n",
    "# print(df_obj)"
   ],
   "metadata": {
    "collapsed": false,
    "pycharm": {
     "name": "#%%\n"
    },
    "ExecuteTime": {
     "end_time": "2025-01-08T02:35:16.045625Z",
     "start_time": "2025-01-08T02:35:16.040224Z"
    }
   },
   "outputs": [
    {
     "data": {
      "text/plain": [
       "   mean_data1  mean_data2\n",
       "0         7.2    4.400000\n",
       "1         7.0    4.333333\n",
       "2         7.2    4.400000\n",
       "3         7.0    4.333333\n",
       "4         7.2    4.400000\n",
       "5         7.0    4.333333\n",
       "6         7.2    4.400000\n",
       "7         7.2    4.400000"
      ],
      "text/html": [
       "<div>\n",
       "<style scoped>\n",
       "    .dataframe tbody tr th:only-of-type {\n",
       "        vertical-align: middle;\n",
       "    }\n",
       "\n",
       "    .dataframe tbody tr th {\n",
       "        vertical-align: top;\n",
       "    }\n",
       "\n",
       "    .dataframe thead th {\n",
       "        text-align: right;\n",
       "    }\n",
       "</style>\n",
       "<table border=\"1\" class=\"dataframe\">\n",
       "  <thead>\n",
       "    <tr style=\"text-align: right;\">\n",
       "      <th></th>\n",
       "      <th>mean_data1</th>\n",
       "      <th>mean_data2</th>\n",
       "    </tr>\n",
       "  </thead>\n",
       "  <tbody>\n",
       "    <tr>\n",
       "      <th>0</th>\n",
       "      <td>7.2</td>\n",
       "      <td>4.400000</td>\n",
       "    </tr>\n",
       "    <tr>\n",
       "      <th>1</th>\n",
       "      <td>7.0</td>\n",
       "      <td>4.333333</td>\n",
       "    </tr>\n",
       "    <tr>\n",
       "      <th>2</th>\n",
       "      <td>7.2</td>\n",
       "      <td>4.400000</td>\n",
       "    </tr>\n",
       "    <tr>\n",
       "      <th>3</th>\n",
       "      <td>7.0</td>\n",
       "      <td>4.333333</td>\n",
       "    </tr>\n",
       "    <tr>\n",
       "      <th>4</th>\n",
       "      <td>7.2</td>\n",
       "      <td>4.400000</td>\n",
       "    </tr>\n",
       "    <tr>\n",
       "      <th>5</th>\n",
       "      <td>7.0</td>\n",
       "      <td>4.333333</td>\n",
       "    </tr>\n",
       "    <tr>\n",
       "      <th>6</th>\n",
       "      <td>7.2</td>\n",
       "      <td>4.400000</td>\n",
       "    </tr>\n",
       "    <tr>\n",
       "      <th>7</th>\n",
       "      <td>7.2</td>\n",
       "      <td>4.400000</td>\n",
       "    </tr>\n",
       "  </tbody>\n",
       "</table>\n",
       "</div>"
      ]
     },
     "execution_count": 19,
     "metadata": {},
     "output_type": "execute_result"
    }
   ],
   "execution_count": 19
  },
  {
   "cell_type": "code",
   "source": [
    "del df_obj['key2']"
   ],
   "metadata": {
    "collapsed": false,
    "pycharm": {
     "name": "#%%\n"
    },
    "ExecuteTime": {
     "end_time": "2025-01-08T02:38:00.039849Z",
     "start_time": "2025-01-08T02:38:00.036774Z"
    }
   },
   "outputs": [],
   "execution_count": 20
  },
  {
   "cell_type": "code",
   "execution_count": null,
   "outputs": [],
   "source": [
    "df_obj.groupby('key1').transform(np.mean)"
   ],
   "metadata": {
    "collapsed": false,
    "pycharm": {
     "name": "#%%\n"
    }
   }
  },
  {
   "metadata": {
    "ExecuteTime": {
     "end_time": "2025-01-08T02:41:22.770390Z",
     "start_time": "2025-01-08T02:41:22.765794Z"
    }
   },
   "cell_type": "code",
   "source": "df_obj",
   "outputs": [
    {
     "data": {
      "text/plain": [
       "  key1  data1  data2\n",
       "0    a      3      5\n",
       "1    b      7      5\n",
       "2    a      8      4\n",
       "3    b      7      5\n",
       "4    a      8      2\n",
       "5    b      7      3\n",
       "6    a      8      9\n",
       "7    a      9      2"
      ],
      "text/html": [
       "<div>\n",
       "<style scoped>\n",
       "    .dataframe tbody tr th:only-of-type {\n",
       "        vertical-align: middle;\n",
       "    }\n",
       "\n",
       "    .dataframe tbody tr th {\n",
       "        vertical-align: top;\n",
       "    }\n",
       "\n",
       "    .dataframe thead th {\n",
       "        text-align: right;\n",
       "    }\n",
       "</style>\n",
       "<table border=\"1\" class=\"dataframe\">\n",
       "  <thead>\n",
       "    <tr style=\"text-align: right;\">\n",
       "      <th></th>\n",
       "      <th>key1</th>\n",
       "      <th>data1</th>\n",
       "      <th>data2</th>\n",
       "    </tr>\n",
       "  </thead>\n",
       "  <tbody>\n",
       "    <tr>\n",
       "      <th>0</th>\n",
       "      <td>a</td>\n",
       "      <td>3</td>\n",
       "      <td>5</td>\n",
       "    </tr>\n",
       "    <tr>\n",
       "      <th>1</th>\n",
       "      <td>b</td>\n",
       "      <td>7</td>\n",
       "      <td>5</td>\n",
       "    </tr>\n",
       "    <tr>\n",
       "      <th>2</th>\n",
       "      <td>a</td>\n",
       "      <td>8</td>\n",
       "      <td>4</td>\n",
       "    </tr>\n",
       "    <tr>\n",
       "      <th>3</th>\n",
       "      <td>b</td>\n",
       "      <td>7</td>\n",
       "      <td>5</td>\n",
       "    </tr>\n",
       "    <tr>\n",
       "      <th>4</th>\n",
       "      <td>a</td>\n",
       "      <td>8</td>\n",
       "      <td>2</td>\n",
       "    </tr>\n",
       "    <tr>\n",
       "      <th>5</th>\n",
       "      <td>b</td>\n",
       "      <td>7</td>\n",
       "      <td>3</td>\n",
       "    </tr>\n",
       "    <tr>\n",
       "      <th>6</th>\n",
       "      <td>a</td>\n",
       "      <td>8</td>\n",
       "      <td>9</td>\n",
       "    </tr>\n",
       "    <tr>\n",
       "      <th>7</th>\n",
       "      <td>a</td>\n",
       "      <td>9</td>\n",
       "      <td>2</td>\n",
       "    </tr>\n",
       "  </tbody>\n",
       "</table>\n",
       "</div>"
      ]
     },
     "execution_count": 26,
     "metadata": {},
     "output_type": "execute_result"
    }
   ],
   "execution_count": 26
  },
  {
   "cell_type": "code",
   "source": [
    "#实现a组和b组，谁比平均分高，谁比平均分低\n",
    "def diff_mean(s):\n",
    "    \"\"\"\n",
    "        返回数据与均值的差值，s传入的是某一个分组\n",
    "    \"\"\"\n",
    "    return s - s.mean()\n",
    "\n",
    "print(df_obj.groupby('key1').transform(diff_mean))"
   ],
   "metadata": {
    "collapsed": false,
    "pycharm": {
     "name": "#%%\n"
    },
    "ExecuteTime": {
     "end_time": "2025-01-08T02:41:25.750507Z",
     "start_time": "2025-01-08T02:41:25.744971Z"
    }
   },
   "outputs": [
    {
     "name": "stdout",
     "output_type": "stream",
     "text": [
      "   data1     data2\n",
      "0   -4.2  0.600000\n",
      "1    0.0  0.666667\n",
      "2    0.8 -0.400000\n",
      "3    0.0  0.666667\n",
      "4    0.8 -2.400000\n",
      "5    0.0 -1.333333\n",
      "6    0.8  4.600000\n",
      "7    1.8 -2.400000\n"
     ]
    }
   ],
   "execution_count": 27
  }
 ],
 "metadata": {
  "kernelspec": {
   "display_name": "Python 3",
   "language": "python",
   "name": "python3"
  },
  "language_info": {
   "codemirror_mode": {
    "name": "ipython",
    "version": 2
   },
   "file_extension": ".py",
   "mimetype": "text/x-python",
   "name": "python",
   "nbconvert_exporter": "python",
   "pygments_lexer": "ipython2",
   "version": "2.7.6"
  }
 },
 "nbformat": 4,
 "nbformat_minor": 0
}
