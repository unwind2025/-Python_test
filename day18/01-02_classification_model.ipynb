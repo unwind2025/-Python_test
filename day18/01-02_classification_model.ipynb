{
 "cells": [
  {
   "cell_type": "markdown",
   "metadata": {},
   "source": [
    "对应 `tf.keras` 的01~02章节"
   ]
  },
  {
   "cell_type": "code",
   "metadata": {
    "ExecuteTime": {
     "end_time": "2025-01-14T08:03:35.947423Z",
     "start_time": "2025-01-14T08:03:29.081766Z"
    }
   },
   "source": [
    "import matplotlib as mpl\n",
    "import matplotlib.pyplot as plt\n",
    "%matplotlib inline\n",
    "import numpy as np\n",
    "import sklearn\n",
    "import pandas as pd\n",
    "import os\n",
    "import sys\n",
    "import time\n",
    "from tqdm.auto import tqdm\n",
    "import torch\n",
    "import torch.nn as nn\n",
    "import torch.nn.functional as F\n",
    "\n",
    "print(sys.version_info)\n",
    "for module in mpl, np, pd, sklearn, torch:\n",
    "    print(module.__name__, module.__version__)\n",
    "    \n",
    "device = torch.device(\"cuda:0\") if torch.cuda.is_available() else torch.device(\"cpu\")\n",
    "print(device)\n"
   ],
   "outputs": [
    {
     "name": "stdout",
     "output_type": "stream",
     "text": [
      "sys.version_info(major=3, minor=12, micro=3, releaselevel='final', serial=0)\n",
      "matplotlib 3.10.0\n",
      "numpy 1.26.4\n",
      "pandas 2.2.3\n",
      "sklearn 1.6.0\n",
      "torch 2.5.1+cpu\n",
      "cpu\n"
     ]
    }
   ],
   "execution_count": 1
  },
  {
   "cell_type": "code",
   "execution_count": 2,
   "outputs": [
    {
     "data": {
      "text/plain": "784"
     },
     "execution_count": 2,
     "metadata": {},
     "output_type": "execute_result"
    }
   ],
   "source": [
    "28*28"
   ],
   "metadata": {
    "collapsed": false,
    "ExecuteTime": {
     "end_time": "2024-07-17T03:06:30.417590400Z",
     "start_time": "2024-07-17T03:06:30.410095400Z"
    }
   }
  },
  {
   "cell_type": "markdown",
   "metadata": {},
   "source": [
    "## 数据准备"
   ]
  },
  {
   "cell_type": "code",
   "metadata": {
    "ExecuteTime": {
     "end_time": "2025-01-14T08:16:06.281193Z",
     "start_time": "2025-01-14T08:16:06.249135Z"
    }
   },
   "source": [
    "from torchvision import datasets\n",
    "from torchvision.transforms import ToTensor\n",
    "from torchvision import transforms\n",
    "\n",
    "\n",
    "# 定义数据集的变换\n",
    "transform = transforms.Compose([\n",
    "    transforms.ToTensor(), # 转换为tensor，进行归一化\n",
    "    # transforms.Normalize(mean, std) # 标准化，mean和std是数据集的均值和方差\n",
    "])\n",
    "# fashion_mnist图像分类数据集，衣服分类，60000张训练图片，10000张测试图片\n",
    "train_ds = datasets.FashionMNIST(\n",
    "    root=\"data\",\n",
    "    train=True,\n",
    "    download=True,\n",
    "    transform=transform\n",
    ")\n",
    "\n",
    "test_ds = datasets.FashionMNIST(\n",
    "    root=\"data\",\n",
    "    train=False,\n",
    "    download=True,\n",
    "    transform=transform\n",
    ")\n",
    "\n",
    "# torchvision 数据集里没有提供训练集和验证集的划分\n",
    "# 当然也可以用 torch.utils.data.Dataset 实现人为划分"
   ],
   "outputs": [],
   "execution_count": 11
  },
  {
   "cell_type": "code",
   "source": [
    "type(train_ds)"
   ],
   "metadata": {
    "collapsed": false,
    "ExecuteTime": {
     "end_time": "2025-01-14T08:16:08.451765Z",
     "start_time": "2025-01-14T08:16:08.449186Z"
    }
   },
   "outputs": [
    {
     "data": {
      "text/plain": [
       "torchvision.datasets.mnist.FashionMNIST"
      ]
     },
     "execution_count": 12,
     "metadata": {},
     "output_type": "execute_result"
    }
   ],
   "execution_count": 12
  },
  {
   "cell_type": "code",
   "source": [
    "len(train_ds)"
   ],
   "metadata": {
    "collapsed": false,
    "ExecuteTime": {
     "end_time": "2025-01-14T08:10:16.563211Z",
     "start_time": "2025-01-14T08:10:16.559761Z"
    }
   },
   "outputs": [
    {
     "data": {
      "text/plain": [
       "60000"
      ]
     },
     "execution_count": 5,
     "metadata": {},
     "output_type": "execute_result"
    }
   ],
   "execution_count": 5
  },
  {
   "cell_type": "code",
   "source": [
    "type(train_ds[0])"
   ],
   "metadata": {
    "collapsed": false,
    "ExecuteTime": {
     "end_time": "2025-01-14T08:16:15.040974Z",
     "start_time": "2025-01-14T08:16:15.037974Z"
    }
   },
   "outputs": [
    {
     "data": {
      "text/plain": [
       "tuple"
      ]
     },
     "execution_count": 13,
     "metadata": {},
     "output_type": "execute_result"
    }
   ],
   "execution_count": 13
  },
  {
   "cell_type": "code",
   "metadata": {
    "ExecuteTime": {
     "end_time": "2025-01-14T08:16:18.671924Z",
     "start_time": "2025-01-14T08:16:18.635277Z"
    }
   },
   "source": [
    "# 通过id取数据，取到的是一个元祖,是第一个样本,在训练时，把特征和标签分开\n",
    "img, label = train_ds[0]\n",
    "img.shape\n",
    "# img.shape = (1, 28, 28)，这是因为通道数在最前面"
   ],
   "outputs": [
    {
     "ename": "AttributeError",
     "evalue": "'Image' object has no attribute 'shape'",
     "output_type": "error",
     "traceback": [
      "\u001B[1;31m---------------------------------------------------------------------------\u001B[0m",
      "\u001B[1;31mAttributeError\u001B[0m                            Traceback (most recent call last)",
      "Cell \u001B[1;32mIn[14], line 3\u001B[0m\n\u001B[0;32m      1\u001B[0m \u001B[38;5;66;03m# 通过id取数据，取到的是一个元祖,是第一个样本,在训练时，把特征和标签分开\u001B[39;00m\n\u001B[0;32m      2\u001B[0m img, label \u001B[38;5;241m=\u001B[39m train_ds[\u001B[38;5;241m0\u001B[39m]\n\u001B[1;32m----> 3\u001B[0m \u001B[43mimg\u001B[49m\u001B[38;5;241;43m.\u001B[39;49m\u001B[43mshape\u001B[49m\n\u001B[0;32m      4\u001B[0m \u001B[38;5;66;03m# img.shape = (1, 28, 28)，这是因为通道数在最前面\u001B[39;00m\n",
      "\u001B[1;31mAttributeError\u001B[0m: 'Image' object has no attribute 'shape'"
     ]
    }
   ],
   "execution_count": 14
  },
  {
   "metadata": {
    "ExecuteTime": {
     "end_time": "2025-01-14T08:16:31.733705Z",
     "start_time": "2025-01-14T08:16:31.729732Z"
    }
   },
   "cell_type": "code",
   "source": "type(img) #tensor中文是 张量,和numpy的ndarray类似",
   "outputs": [
    {
     "data": {
      "text/plain": [
       "PIL.Image.Image"
      ]
     },
     "execution_count": 15,
     "metadata": {},
     "output_type": "execute_result"
    }
   ],
   "execution_count": 15
  },
  {
   "cell_type": "code",
   "source": "img[0]",
   "metadata": {
    "collapsed": false,
    "ExecuteTime": {
     "end_time": "2025-01-14T08:13:38.479618Z",
     "start_time": "2025-01-14T08:13:38.475341Z"
    }
   },
   "outputs": [
    {
     "data": {
      "text/plain": [
       "tensor([[0.0000, 0.0000, 0.0000, 0.0000, 0.0000, 0.0000, 0.0000, 0.0000, 0.0000,\n",
       "         0.0000, 0.0000, 0.0000, 0.0000, 0.0000, 0.0000, 0.0000, 0.0000, 0.0000,\n",
       "         0.0000, 0.0000, 0.0000, 0.0000, 0.0000, 0.0000, 0.0000, 0.0000, 0.0000,\n",
       "         0.0000],\n",
       "        [0.0000, 0.0000, 0.0000, 0.0000, 0.0000, 0.0000, 0.0000, 0.0000, 0.0000,\n",
       "         0.0000, 0.0000, 0.0000, 0.0000, 0.0000, 0.0000, 0.0000, 0.0000, 0.0000,\n",
       "         0.0000, 0.0000, 0.0000, 0.0000, 0.0000, 0.0000, 0.0000, 0.0000, 0.0000,\n",
       "         0.0000],\n",
       "        [0.0000, 0.0000, 0.0000, 0.0000, 0.0000, 0.0000, 0.0000, 0.0000, 0.0000,\n",
       "         0.0000, 0.0000, 0.0000, 0.0000, 0.0000, 0.0000, 0.0000, 0.0000, 0.0000,\n",
       "         0.0000, 0.0000, 0.0000, 0.0000, 0.0000, 0.0000, 0.0000, 0.0000, 0.0000,\n",
       "         0.0000],\n",
       "        [0.0000, 0.0000, 0.0000, 0.0000, 0.0000, 0.0000, 0.0000, 0.0000, 0.0000,\n",
       "         0.0000, 0.0000, 0.0000, 0.0039, 0.0000, 0.0000, 0.0510, 0.2863, 0.0000,\n",
       "         0.0000, 0.0039, 0.0157, 0.0000, 0.0000, 0.0000, 0.0000, 0.0039, 0.0039,\n",
       "         0.0000],\n",
       "        [0.0000, 0.0000, 0.0000, 0.0000, 0.0000, 0.0000, 0.0000, 0.0000, 0.0000,\n",
       "         0.0000, 0.0000, 0.0000, 0.0118, 0.0000, 0.1412, 0.5333, 0.4980, 0.2431,\n",
       "         0.2118, 0.0000, 0.0000, 0.0000, 0.0039, 0.0118, 0.0157, 0.0000, 0.0000,\n",
       "         0.0118],\n",
       "        [0.0000, 0.0000, 0.0000, 0.0000, 0.0000, 0.0000, 0.0000, 0.0000, 0.0000,\n",
       "         0.0000, 0.0000, 0.0000, 0.0235, 0.0000, 0.4000, 0.8000, 0.6902, 0.5255,\n",
       "         0.5647, 0.4824, 0.0902, 0.0000, 0.0000, 0.0000, 0.0000, 0.0471, 0.0392,\n",
       "         0.0000],\n",
       "        [0.0000, 0.0000, 0.0000, 0.0000, 0.0000, 0.0000, 0.0000, 0.0000, 0.0000,\n",
       "         0.0000, 0.0000, 0.0000, 0.0000, 0.0000, 0.6078, 0.9255, 0.8118, 0.6980,\n",
       "         0.4196, 0.6118, 0.6314, 0.4275, 0.2510, 0.0902, 0.3020, 0.5098, 0.2824,\n",
       "         0.0588],\n",
       "        [0.0000, 0.0000, 0.0000, 0.0000, 0.0000, 0.0000, 0.0000, 0.0000, 0.0000,\n",
       "         0.0000, 0.0000, 0.0039, 0.0000, 0.2706, 0.8118, 0.8745, 0.8549, 0.8471,\n",
       "         0.8471, 0.6392, 0.4980, 0.4745, 0.4784, 0.5725, 0.5529, 0.3451, 0.6745,\n",
       "         0.2588],\n",
       "        [0.0000, 0.0000, 0.0000, 0.0000, 0.0000, 0.0000, 0.0000, 0.0000, 0.0000,\n",
       "         0.0039, 0.0039, 0.0039, 0.0000, 0.7843, 0.9098, 0.9098, 0.9137, 0.8980,\n",
       "         0.8745, 0.8745, 0.8431, 0.8353, 0.6431, 0.4980, 0.4824, 0.7686, 0.8980,\n",
       "         0.0000],\n",
       "        [0.0000, 0.0000, 0.0000, 0.0000, 0.0000, 0.0000, 0.0000, 0.0000, 0.0000,\n",
       "         0.0000, 0.0000, 0.0000, 0.0000, 0.7176, 0.8824, 0.8471, 0.8745, 0.8941,\n",
       "         0.9216, 0.8902, 0.8784, 0.8706, 0.8784, 0.8667, 0.8745, 0.9608, 0.6784,\n",
       "         0.0000],\n",
       "        [0.0000, 0.0000, 0.0000, 0.0000, 0.0000, 0.0000, 0.0000, 0.0000, 0.0000,\n",
       "         0.0000, 0.0000, 0.0000, 0.0000, 0.7569, 0.8941, 0.8549, 0.8353, 0.7765,\n",
       "         0.7059, 0.8314, 0.8235, 0.8275, 0.8353, 0.8745, 0.8627, 0.9529, 0.7922,\n",
       "         0.0000],\n",
       "        [0.0000, 0.0000, 0.0000, 0.0000, 0.0000, 0.0000, 0.0000, 0.0000, 0.0000,\n",
       "         0.0039, 0.0118, 0.0000, 0.0471, 0.8588, 0.8627, 0.8314, 0.8549, 0.7529,\n",
       "         0.6627, 0.8902, 0.8157, 0.8549, 0.8784, 0.8314, 0.8863, 0.7725, 0.8196,\n",
       "         0.2039],\n",
       "        [0.0000, 0.0000, 0.0000, 0.0000, 0.0000, 0.0000, 0.0000, 0.0000, 0.0000,\n",
       "         0.0000, 0.0235, 0.0000, 0.3882, 0.9569, 0.8706, 0.8627, 0.8549, 0.7961,\n",
       "         0.7765, 0.8667, 0.8431, 0.8353, 0.8706, 0.8627, 0.9608, 0.4667, 0.6549,\n",
       "         0.2196],\n",
       "        [0.0000, 0.0000, 0.0000, 0.0000, 0.0000, 0.0000, 0.0000, 0.0000, 0.0000,\n",
       "         0.0157, 0.0000, 0.0000, 0.2157, 0.9255, 0.8941, 0.9020, 0.8941, 0.9412,\n",
       "         0.9098, 0.8353, 0.8549, 0.8745, 0.9176, 0.8510, 0.8510, 0.8196, 0.3608,\n",
       "         0.0000],\n",
       "        [0.0000, 0.0000, 0.0039, 0.0157, 0.0235, 0.0275, 0.0078, 0.0000, 0.0000,\n",
       "         0.0000, 0.0000, 0.0000, 0.9294, 0.8863, 0.8510, 0.8745, 0.8706, 0.8588,\n",
       "         0.8706, 0.8667, 0.8471, 0.8745, 0.8980, 0.8431, 0.8549, 1.0000, 0.3020,\n",
       "         0.0000],\n",
       "        [0.0000, 0.0118, 0.0000, 0.0000, 0.0000, 0.0000, 0.0000, 0.0000, 0.0000,\n",
       "         0.2431, 0.5686, 0.8000, 0.8941, 0.8118, 0.8353, 0.8667, 0.8549, 0.8157,\n",
       "         0.8275, 0.8549, 0.8784, 0.8745, 0.8588, 0.8431, 0.8784, 0.9569, 0.6235,\n",
       "         0.0000],\n",
       "        [0.0000, 0.0000, 0.0000, 0.0000, 0.0706, 0.1725, 0.3216, 0.4196, 0.7412,\n",
       "         0.8941, 0.8627, 0.8706, 0.8510, 0.8863, 0.7843, 0.8039, 0.8275, 0.9020,\n",
       "         0.8784, 0.9176, 0.6902, 0.7373, 0.9804, 0.9725, 0.9137, 0.9333, 0.8431,\n",
       "         0.0000],\n",
       "        [0.0000, 0.2235, 0.7333, 0.8157, 0.8784, 0.8667, 0.8784, 0.8157, 0.8000,\n",
       "         0.8392, 0.8157, 0.8196, 0.7843, 0.6235, 0.9608, 0.7569, 0.8078, 0.8745,\n",
       "         1.0000, 1.0000, 0.8667, 0.9176, 0.8667, 0.8275, 0.8627, 0.9098, 0.9647,\n",
       "         0.0000],\n",
       "        [0.0118, 0.7922, 0.8941, 0.8784, 0.8667, 0.8275, 0.8275, 0.8392, 0.8039,\n",
       "         0.8039, 0.8039, 0.8627, 0.9412, 0.3137, 0.5882, 1.0000, 0.8980, 0.8667,\n",
       "         0.7373, 0.6039, 0.7490, 0.8235, 0.8000, 0.8196, 0.8706, 0.8941, 0.8824,\n",
       "         0.0000],\n",
       "        [0.3843, 0.9137, 0.7765, 0.8235, 0.8706, 0.8980, 0.8980, 0.9176, 0.9765,\n",
       "         0.8627, 0.7608, 0.8431, 0.8510, 0.9451, 0.2549, 0.2863, 0.4157, 0.4588,\n",
       "         0.6588, 0.8588, 0.8667, 0.8431, 0.8510, 0.8745, 0.8745, 0.8784, 0.8980,\n",
       "         0.1137],\n",
       "        [0.2941, 0.8000, 0.8314, 0.8000, 0.7569, 0.8039, 0.8275, 0.8824, 0.8471,\n",
       "         0.7255, 0.7725, 0.8078, 0.7765, 0.8353, 0.9412, 0.7647, 0.8902, 0.9608,\n",
       "         0.9373, 0.8745, 0.8549, 0.8314, 0.8196, 0.8706, 0.8627, 0.8667, 0.9020,\n",
       "         0.2627],\n",
       "        [0.1882, 0.7961, 0.7176, 0.7608, 0.8353, 0.7725, 0.7255, 0.7451, 0.7608,\n",
       "         0.7529, 0.7922, 0.8392, 0.8588, 0.8667, 0.8627, 0.9255, 0.8824, 0.8471,\n",
       "         0.7804, 0.8078, 0.7294, 0.7098, 0.6941, 0.6745, 0.7098, 0.8039, 0.8078,\n",
       "         0.4510],\n",
       "        [0.0000, 0.4784, 0.8588, 0.7569, 0.7020, 0.6706, 0.7176, 0.7686, 0.8000,\n",
       "         0.8235, 0.8353, 0.8118, 0.8275, 0.8235, 0.7843, 0.7686, 0.7608, 0.7490,\n",
       "         0.7647, 0.7490, 0.7765, 0.7529, 0.6902, 0.6118, 0.6549, 0.6941, 0.8235,\n",
       "         0.3608],\n",
       "        [0.0000, 0.0000, 0.2902, 0.7412, 0.8314, 0.7490, 0.6863, 0.6745, 0.6863,\n",
       "         0.7098, 0.7255, 0.7373, 0.7412, 0.7373, 0.7569, 0.7765, 0.8000, 0.8196,\n",
       "         0.8235, 0.8235, 0.8275, 0.7373, 0.7373, 0.7608, 0.7529, 0.8471, 0.6667,\n",
       "         0.0000],\n",
       "        [0.0078, 0.0000, 0.0000, 0.0000, 0.2588, 0.7843, 0.8706, 0.9294, 0.9373,\n",
       "         0.9490, 0.9647, 0.9529, 0.9569, 0.8667, 0.8627, 0.7569, 0.7490, 0.7020,\n",
       "         0.7137, 0.7137, 0.7098, 0.6902, 0.6510, 0.6588, 0.3882, 0.2275, 0.0000,\n",
       "         0.0000],\n",
       "        [0.0000, 0.0000, 0.0000, 0.0000, 0.0000, 0.0000, 0.0000, 0.1569, 0.2392,\n",
       "         0.1725, 0.2824, 0.1608, 0.1373, 0.0000, 0.0000, 0.0000, 0.0000, 0.0000,\n",
       "         0.0000, 0.0000, 0.0000, 0.0000, 0.0000, 0.0000, 0.0000, 0.0000, 0.0000,\n",
       "         0.0000],\n",
       "        [0.0000, 0.0000, 0.0000, 0.0000, 0.0000, 0.0000, 0.0000, 0.0000, 0.0000,\n",
       "         0.0000, 0.0000, 0.0000, 0.0000, 0.0000, 0.0000, 0.0000, 0.0000, 0.0000,\n",
       "         0.0000, 0.0000, 0.0000, 0.0000, 0.0000, 0.0000, 0.0000, 0.0000, 0.0000,\n",
       "         0.0000],\n",
       "        [0.0000, 0.0000, 0.0000, 0.0000, 0.0000, 0.0000, 0.0000, 0.0000, 0.0000,\n",
       "         0.0000, 0.0000, 0.0000, 0.0000, 0.0000, 0.0000, 0.0000, 0.0000, 0.0000,\n",
       "         0.0000, 0.0000, 0.0000, 0.0000, 0.0000, 0.0000, 0.0000, 0.0000, 0.0000,\n",
       "         0.0000]])"
      ]
     },
     "execution_count": 9,
     "metadata": {},
     "output_type": "execute_result"
    }
   ],
   "execution_count": 9
  },
  {
   "metadata": {
    "ExecuteTime": {
     "end_time": "2025-01-14T08:16:50.708516Z",
     "start_time": "2025-01-14T08:16:50.682030Z"
    }
   },
   "cell_type": "code",
   "source": "img",
   "outputs": [
    {
     "data": {
      "text/plain": [
       "<PIL.Image.Image image mode=L size=28x28>"
      ],
      "image/png": "[encoded data removed]",
      "image/jpeg": "[encoded data removed]"
     },
     "execution_count": 16,
     "metadata": {},
     "output_type": "execute_result"
    }
   ],
   "execution_count": 16
  },
  {
   "cell_type": "code",
   "execution_count": 41,
   "outputs": [
    {
     "name": "stdout",
     "output_type": "stream",
     "text": [
      "(tensor([0.2860]), tensor([0.3205]))\n"
     ]
    }
   ],
   "source": [
    "#计算均值和方差\n",
    "def cal_mean_std(ds):\n",
    "    mean = 0.\n",
    "    std = 0.\n",
    "    for img, _ in ds: # 遍历每张图片,img.shape=[1,28,28]\n",
    "        mean += img.mean(dim=(1, 2))\n",
    "        std += img.std(dim=(1, 2))\n",
    "    mean /= len(ds)\n",
    "    std /= len(ds)\n",
    "    return mean, std\n",
    "\n",
    "\n",
    "print(cal_mean_std(train_ds))\n"
   ],
   "metadata": {
    "collapsed": false,
    "ExecuteTime": {
     "end_time": "2024-07-17T03:33:10.398820900Z",
     "start_time": "2024-07-17T03:32:58.998047400Z"
    }
   }
  },
  {
   "cell_type": "code",
   "execution_count": 9,
   "outputs": [
    {
     "data": {
      "text/plain": "torch.Tensor"
     },
     "execution_count": 9,
     "metadata": {},
     "output_type": "execute_result"
    }
   ],
   "source": [
    "type(img)"
   ],
   "metadata": {
    "collapsed": false,
    "ExecuteTime": {
     "end_time": "2024-07-17T03:06:33.598821200Z",
     "start_time": "2024-07-17T03:06:33.540172Z"
    }
   }
  },
  {
   "cell_type": "code",
   "execution_count": 10,
   "outputs": [
    {
     "data": {
      "text/plain": "9"
     },
     "execution_count": 10,
     "metadata": {},
     "output_type": "execute_result"
    }
   ],
   "source": [
    "label"
   ],
   "metadata": {
    "collapsed": false,
    "ExecuteTime": {
     "end_time": "2024-07-17T03:06:33.599820400Z",
     "start_time": "2024-07-17T03:06:33.545914600Z"
    }
   }
  },
  {
   "cell_type": "code",
   "execution_count": 11,
   "outputs": [
    {
     "data": {
      "text/plain": "torch.Tensor"
     },
     "execution_count": 11,
     "metadata": {},
     "output_type": "execute_result"
    }
   ],
   "source": [
    "type(img) #tensor中文是 张量,和numpy的ndarray类似"
   ],
   "metadata": {
    "collapsed": false,
    "ExecuteTime": {
     "end_time": "2024-07-17T03:06:33.600820300Z",
     "start_time": "2024-07-17T03:06:33.557907500Z"
    }
   }
  },
  {
   "cell_type": "code",
   "execution_count": 12,
   "outputs": [
    {
     "data": {
      "text/plain": "9"
     },
     "execution_count": 12,
     "metadata": {},
     "output_type": "execute_result"
    }
   ],
   "source": [
    "label"
   ],
   "metadata": {
    "collapsed": false,
    "ExecuteTime": {
     "end_time": "2024-07-17T03:06:33.601819800Z",
     "start_time": "2024-07-17T03:06:33.573680700Z"
    }
   }
  },
  {
   "cell_type": "code",
   "source": [
    "# 显示图片，这里需要把transforms.ToTensor(),进行归一化注释掉，否则是不行的\n",
    "def show_img_content(img):\n",
    "    from PIL import Image\n",
    "\n",
    "    # 打开一个图像文件\n",
    "    # img = Image.open(img)\n",
    "\n",
    "\n",
    "    print(\"图像大小:\", img.size)\n",
    "    print(\"图像模式:\", img.mode)\n",
    "\n",
    "\n",
    "    # 如果图像是单通道的，比如灰度图，你可以这样获取像素值列表：\n",
    "    if img.mode == 'L':\n",
    "        pixel_values = list(img.getdata())\n",
    "        print(pixel_values)\n",
    "show_img_content(img) #这里必须把上面的 transforms.ToTensor(), # 转换为tensor，进行归一化注释掉，否则是不行的"
   ],
   "metadata": {
    "collapsed": false,
    "ExecuteTime": {
     "end_time": "2025-01-14T08:17:45.718267Z",
     "start_time": "2025-01-14T08:17:45.714160Z"
    }
   },
   "outputs": [
    {
     "name": "stdout",
     "output_type": "stream",
     "text": [
      "图像大小: (28, 28)\n",
      "图像模式: L\n",
      "[0, 0, 0, 0, 0, 0, 0, 0, 0, 0, 0, 0, 0, 0, 0, 0, 0, 0, 0, 0, 0, 0, 0, 0, 0, 0, 0, 0, 0, 0, 0, 0, 0, 0, 0, 0, 0, 0, 0, 0, 0, 0, 0, 0, 0, 0, 0, 0, 0, 0, 0, 0, 0, 0, 0, 0, 0, 0, 0, 0, 0, 0, 0, 0, 0, 0, 0, 0, 0, 0, 0, 0, 0, 0, 0, 0, 0, 0, 0, 0, 0, 0, 0, 0, 0, 0, 0, 0, 0, 0, 0, 0, 0, 0, 0, 0, 1, 0, 0, 13, 73, 0, 0, 1, 4, 0, 0, 0, 0, 1, 1, 0, 0, 0, 0, 0, 0, 0, 0, 0, 0, 0, 0, 0, 3, 0, 36, 136, 127, 62, 54, 0, 0, 0, 1, 3, 4, 0, 0, 3, 0, 0, 0, 0, 0, 0, 0, 0, 0, 0, 0, 0, 6, 0, 102, 204, 176, 134, 144, 123, 23, 0, 0, 0, 0, 12, 10, 0, 0, 0, 0, 0, 0, 0, 0, 0, 0, 0, 0, 0, 0, 0, 155, 236, 207, 178, 107, 156, 161, 109, 64, 23, 77, 130, 72, 15, 0, 0, 0, 0, 0, 0, 0, 0, 0, 0, 0, 1, 0, 69, 207, 223, 218, 216, 216, 163, 127, 121, 122, 146, 141, 88, 172, 66, 0, 0, 0, 0, 0, 0, 0, 0, 0, 1, 1, 1, 0, 200, 232, 232, 233, 229, 223, 223, 215, 213, 164, 127, 123, 196, 229, 0, 0, 0, 0, 0, 0, 0, 0, 0, 0, 0, 0, 0, 0, 183, 225, 216, 223, 228, 235, 227, 224, 222, 224, 221, 223, 245, 173, 0, 0, 0, 0, 0, 0, 0, 0, 0, 0, 0, 0, 0, 0, 193, 228, 218, 213, 198, 180, 212, 210, 211, 213, 223, 220, 243, 202, 0, 0, 0, 0, 0, 0, 0, 0, 0, 0, 1, 3, 0, 12, 219, 220, 212, 218, 192, 169, 227, 208, 218, 224, 212, 226, 197, 209, 52, 0, 0, 0, 0, 0, 0, 0, 0, 0, 0, 6, 0, 99, 244, 222, 220, 218, 203, 198, 221, 215, 213, 222, 220, 245, 119, 167, 56, 0, 0, 0, 0, 0, 0, 0, 0, 0, 4, 0, 0, 55, 236, 228, 230, 228, 240, 232, 213, 218, 223, 234, 217, 217, 209, 92, 0, 0, 0, 1, 4, 6, 7, 2, 0, 0, 0, 0, 0, 237, 226, 217, 223, 222, 219, 222, 221, 216, 223, 229, 215, 218, 255, 77, 0, 0, 3, 0, 0, 0, 0, 0, 0, 0, 62, 145, 204, 228, 207, 213, 221, 218, 208, 211, 218, 224, 223, 219, 215, 224, 244, 159, 0, 0, 0, 0, 0, 18, 44, 82, 107, 189, 228, 220, 222, 217, 226, 200, 205, 211, 230, 224, 234, 176, 188, 250, 248, 233, 238, 215, 0, 0, 57, 187, 208, 224, 221, 224, 208, 204, 214, 208, 209, 200, 159, 245, 193, 206, 223, 255, 255, 221, 234, 221, 211, 220, 232, 246, 0, 3, 202, 228, 224, 221, 211, 211, 214, 205, 205, 205, 220, 240, 80, 150, 255, 229, 221, 188, 154, 191, 210, 204, 209, 222, 228, 225, 0, 98, 233, 198, 210, 222, 229, 229, 234, 249, 220, 194, 215, 217, 241, 65, 73, 106, 117, 168, 219, 221, 215, 217, 223, 223, 224, 229, 29, 75, 204, 212, 204, 193, 205, 211, 225, 216, 185, 197, 206, 198, 213, 240, 195, 227, 245, 239, 223, 218, 212, 209, 222, 220, 221, 230, 67, 48, 203, 183, 194, 213, 197, 185, 190, 194, 192, 202, 214, 219, 221, 220, 236, 225, 216, 199, 206, 186, 181, 177, 172, 181, 205, 206, 115, 0, 122, 219, 193, 179, 171, 183, 196, 204, 210, 213, 207, 211, 210, 200, 196, 194, 191, 195, 191, 198, 192, 176, 156, 167, 177, 210, 92, 0, 0, 74, 189, 212, 191, 175, 172, 175, 181, 185, 188, 189, 188, 193, 198, 204, 209, 210, 210, 211, 188, 188, 194, 192, 216, 170, 0, 2, 0, 0, 0, 66, 200, 222, 237, 239, 242, 246, 243, 244, 221, 220, 193, 191, 179, 182, 182, 181, 176, 166, 168, 99, 58, 0, 0, 0, 0, 0, 0, 0, 0, 0, 40, 61, 44, 72, 41, 35, 0, 0, 0, 0, 0, 0, 0, 0, 0, 0, 0, 0, 0, 0, 0, 0, 0, 0, 0, 0, 0, 0, 0, 0, 0, 0, 0, 0, 0, 0, 0, 0, 0, 0, 0, 0, 0, 0, 0, 0, 0, 0, 0, 0, 0, 0, 0, 0, 0, 0, 0, 0, 0, 0, 0, 0, 0, 0, 0, 0, 0, 0, 0, 0, 0, 0, 0, 0, 0, 0, 0]\n"
     ]
    }
   ],
   "execution_count": 17
  },
  {
   "cell_type": "code",
   "source": [
    "#这个代码必须是注释了上面的 transforms.ToTensor()才能够运行的\n",
    "def show_single_image(img_arr):\n",
    "    plt.imshow(img_arr, cmap=\"binary\") # 显示图片\n",
    "    plt.colorbar() # 显示颜色条\n",
    "    plt.show()\n",
    "\n",
    "\n",
    "show_single_image(img)"
   ],
   "metadata": {
    "collapsed": false,
    "ExecuteTime": {
     "end_time": "2025-01-14T08:19:34.826746Z",
     "start_time": "2025-01-14T08:19:34.771801Z"
    }
   },
   "outputs": [
    {
     "data": {
      "text/plain": [
       "<Figure size 640x480 with 2 Axes>"
      ],
      "image/png": "[encoded data removed]"
     },
     "metadata": {},
     "output_type": "display_data"
    }
   ],
   "execution_count": 20
  },
  {
   "cell_type": "code",
   "execution_count": 15,
   "metadata": {
    "ExecuteTime": {
     "end_time": "2024-07-17T03:06:34.493969600Z",
     "start_time": "2024-07-17T03:06:33.615812900Z"
    }
   },
   "outputs": [
    {
     "data": {
      "text/plain": "<Figure size 700x480 with 15 Axes>",
      "image/png": "[encoded data removed]"
     },
     "metadata": {},
     "output_type": "display_data"
    }
   ],
   "source": [
    "def show_imgs(n_rows, n_cols, train_ds, class_names):\n",
    "    assert n_rows * n_cols < len(train_ds)  #确保打印的图片小于总样本数\n",
    "    plt.figure(figsize = (n_cols * 1.4, n_rows * 1.6))  #宽1.4高1.6，宽，高\n",
    "    for row in range(n_rows):\n",
    "        for col in range(n_cols):\n",
    "            index = n_cols * row + col  # 计算索引，从0开始\n",
    "            plt.subplot(n_rows, n_cols, index+1)#因为从1开始\n",
    "            img_arr, label = train_ds[index]\n",
    "            img_arr = np.transpose(img_arr, (1, 2, 0))  # 通道换到最后一维\n",
    "            plt.imshow(img_arr, cmap=\"binary\",\n",
    "                       interpolation = 'nearest')#interpolation='nearest'是临近插值\n",
    "            plt.axis('off')#去除坐标系\n",
    "            plt.title(class_names[label]) # 显示类别名称\n",
    "    plt.show()\n",
    "    \n",
    "    \n",
    "\n",
    "#已知的图片类别\n",
    "# lables在这个路径https://github.com/zalandoresearch/fashion-mnist\n",
    "class_names = ['T-shirt', 'Trouser', 'Pullover', 'Dress',\n",
    "               'Coat', 'Sandal', 'Shirt', 'Sneaker',\n",
    "               'Bag', 'Ankle boot'] #0-9分别代表的类别\n",
    "#只是打印了前15个样本\n",
    "show_imgs(3, 5, train_ds, class_names)\n"
   ]
  },
  {
   "cell_type": "code",
   "execution_count": 16,
   "metadata": {
    "ExecuteTime": {
     "end_time": "2024-07-17T03:06:34.502676900Z",
     "start_time": "2024-07-17T03:06:34.495968400Z"
    }
   },
   "outputs": [],
   "source": [
    "# 从数据集到dataloader\n",
    "train_loader = torch.utils.data.DataLoader(train_ds, batch_size=32, shuffle=True) #batch_size分批，shuffle洗牌\n",
    "val_loader = torch.utils.data.DataLoader(test_ds, batch_size=32, shuffle=False)"
   ]
  },
  {
   "cell_type": "markdown",
   "source": [
    "在PyTorch中，`DataLoader`是一个迭代器，它封装了数据的加载和预处理过程，使得在训练机器学习模型时可以方便地批量加载数据。`DataLoader`主要负责以下几个方面：\n",
    "\n",
    "1. **批量加载数据**：`DataLoader`可以将数据集（Dataset）切分为更小的批次（batch），每次迭代提供一小批量数据，而不是单个数据点。这有助于模型学习数据中的统计依赖性，并且可以更高效地利用GPU等硬件的并行计算能力。\n",
    "\n",
    "2. **数据打乱**：默认情况下，`DataLoader`会在每个epoch（训练周期）开始时打乱数据的顺序。这有助于模型训练时避免陷入局部最优解，并且可以提高模型的泛化能力。\n",
    "\n",
    "3. **多线程数据加载**：`DataLoader`支持多线程（通过参数`num_workers`）来并行地加载数据，这可以显著减少训练过程中的等待时间，尤其是在处理大规模数据集时。\n",
    "\n",
    "4. **数据预处理**：`DataLoader`可以与`transforms`结合使用，对加载的数据进行预处理，如归一化、标准化、数据增强等操作。\n",
    "\n",
    "5. **内存管理**：`DataLoader`负责管理数据的内存使用，确保在训练过程中不会耗尽内存资源。\n",
    "\n",
    "6. **易用性**：`DataLoader`提供了一个简单的接口，可以很容易地集成到训练循环中。\n",
    "\n"
   ],
   "metadata": {
    "collapsed": false
   }
  },
  {
   "cell_type": "markdown",
   "metadata": {},
   "source": [
    "## 定义模型"
   ]
  },
  {
   "cell_type": "code",
   "execution_count": 17,
   "metadata": {
    "ExecuteTime": {
     "end_time": "2024-07-17T03:06:34.555159500Z",
     "start_time": "2024-07-17T03:06:34.506683500Z"
    }
   },
   "outputs": [],
   "source": [
    "class NeuralNetwork(nn.Module):\n",
    "    def __init__(self):\n",
    "        super().__init__() # 继承父类的初始化方法，子类有父类的属性\n",
    "        self.flatten = nn.Flatten()  # 展平层\n",
    "        self.linear_relu_stack = nn.Sequential(\n",
    "            nn.Linear(784, 300),  # in_features=784, out_features=300, 784是输入特征数，300是输出特征数\n",
    "            nn.ReLU(), # 激活函数\n",
    "            nn.Linear(300, 100),#隐藏层神经元数100\n",
    "            nn.ReLU(), # 激活函数\n",
    "            nn.Linear(100, 10),#输出层神经元数10\n",
    "        )\n",
    "\n",
    "    def forward(self, x): # 前向计算\n",
    "        # x.shape [batch size, 1, 28, 28]\n",
    "        x = self.flatten(x)  \n",
    "        # 展平后 x.shape [batch size, 784]\n",
    "        logits = self.linear_relu_stack(x)\n",
    "        # logits.shape [batch size, 10]\n",
    "        return logits #没有经过softmax,称为logits\n",
    "    \n",
    "model = NeuralNetwork()"
   ]
  },
  {
   "cell_type": "code",
   "execution_count": 18,
   "metadata": {
    "ExecuteTime": {
     "end_time": "2024-07-17T03:06:34.557156400Z",
     "start_time": "2024-07-17T03:06:34.531072900Z"
    }
   },
   "outputs": [
    {
     "data": {
      "text/plain": "NeuralNetwork(\n  (flatten): Flatten(start_dim=1, end_dim=-1)\n  (linear_relu_stack): Sequential(\n    (0): Linear(in_features=784, out_features=300, bias=True)\n    (1): ReLU()\n    (2): Linear(in_features=300, out_features=100, bias=True)\n    (3): ReLU()\n    (4): Linear(in_features=100, out_features=10, bias=True)\n  )\n)"
     },
     "execution_count": 18,
     "metadata": {},
     "output_type": "execute_result"
    }
   ],
   "source": [
    "# 看看网络结构\n",
    "model"
   ]
  },
  {
   "cell_type": "code",
   "execution_count": 19,
   "outputs": [
    {
     "data": {
      "text/plain": "266610"
     },
     "execution_count": 19,
     "metadata": {},
     "output_type": "execute_result"
    }
   ],
   "source": [
    "784*300+300+300*100+100+100*10+10"
   ],
   "metadata": {
    "collapsed": false,
    "ExecuteTime": {
     "end_time": "2024-07-17T03:06:34.557156400Z",
     "start_time": "2024-07-17T03:06:34.537519200Z"
    }
   }
  },
  {
   "cell_type": "code",
   "execution_count": 20,
   "metadata": {
    "ExecuteTime": {
     "end_time": "2024-07-17T03:06:34.563404800Z",
     "start_time": "2024-07-17T03:06:34.552159400Z"
    }
   },
   "outputs": [
    {
     "name": "stdout",
     "output_type": "stream",
     "text": [
      "linear_relu_stack.0.weight torch.Size([300, 784])\n",
      "linear_relu_stack.0.bias torch.Size([300])\n",
      "linear_relu_stack.2.weight torch.Size([100, 300])\n",
      "linear_relu_stack.2.bias torch.Size([100])\n",
      "linear_relu_stack.4.weight torch.Size([10, 100])\n",
      "linear_relu_stack.4.bias torch.Size([10])\n"
     ]
    }
   ],
   "source": [
    "for name, param in model.named_parameters(): # 打印模型参数\n",
    "      print(name, param.shape)"
   ]
  },
  {
   "cell_type": "code",
   "execution_count": 21,
   "metadata": {
    "ExecuteTime": {
     "end_time": "2024-07-17T03:06:34.676506700Z",
     "start_time": "2024-07-17T03:06:34.563404800Z"
    }
   },
   "outputs": [
    {
     "data": {
      "text/plain": "[Parameter containing:\n tensor([[ 0.0197, -0.0019,  0.0188,  ..., -0.0344,  0.0148,  0.0281],\n         [ 0.0339,  0.0111, -0.0346,  ..., -0.0150, -0.0077,  0.0120],\n         [ 0.0283, -0.0012, -0.0145,  ...,  0.0240, -0.0286,  0.0164],\n         ...,\n         [-0.0103,  0.0226,  0.0246,  ...,  0.0072, -0.0274,  0.0174],\n         [-0.0230, -0.0281,  0.0328,  ..., -0.0168,  0.0289, -0.0048],\n         [ 0.0238,  0.0003,  0.0235,  ..., -0.0152,  0.0004,  0.0221]],\n        requires_grad=True),\n Parameter containing:\n tensor([-2.1050e-02, -1.9314e-02, -2.6576e-02,  1.3246e-02, -2.5810e-02,\n          8.0059e-03, -4.0981e-03, -2.6547e-02, -4.0199e-03,  2.0223e-02,\n         -6.8452e-03,  2.5522e-02, -1.1530e-02, -1.3210e-03, -2.3066e-02,\n          1.2100e-02,  1.6422e-02,  3.2263e-02, -2.6653e-02,  5.9833e-03,\n          1.7885e-02, -2.8033e-02,  1.7354e-03, -3.1785e-02, -2.8058e-02,\n          3.5126e-02,  1.8703e-02,  1.7342e-02,  3.3137e-02,  7.9030e-03,\n         -9.7580e-03, -1.3025e-02, -1.2485e-02, -1.4885e-02,  2.2343e-02,\n          2.3991e-02,  2.3657e-02,  1.1792e-04, -2.2924e-02,  2.9145e-02,\n         -3.0524e-02, -8.5632e-03,  9.5998e-03, -6.0649e-03,  2.1613e-02,\n         -9.9673e-03,  5.2075e-03,  3.2322e-02, -1.7615e-02, -3.4756e-03,\n         -3.0307e-02, -2.9611e-02, -2.1370e-02, -1.8454e-02, -1.9918e-02,\n          2.1922e-02, -4.9497e-03,  1.5263e-02, -1.5556e-03, -2.8485e-02,\n         -2.4385e-02,  2.1901e-02,  1.0883e-02,  3.4475e-02, -1.6224e-04,\n         -2.2289e-02,  1.9277e-02, -2.8782e-02, -2.2460e-02,  1.7166e-02,\n          2.0502e-02, -2.4870e-03, -1.1201e-02, -2.5182e-02, -1.9456e-02,\n         -3.5515e-02,  6.7390e-03, -3.4117e-02,  1.1170e-02, -2.2099e-02,\n         -1.7369e-02, -2.8536e-02,  2.7551e-02, -1.4172e-02,  3.8292e-03,\n         -1.1135e-02,  3.2708e-02,  2.5166e-02,  2.7477e-02,  7.5499e-03,\n         -2.7612e-02,  2.0464e-02,  1.9369e-02,  1.6136e-02, -2.7646e-02,\n         -3.0211e-02,  1.0383e-02, -2.0172e-03,  2.0835e-02,  3.4924e-02,\n          1.7167e-02, -8.0474e-03,  2.2624e-05, -1.4278e-02,  2.5172e-02,\n          2.8794e-02,  7.7580e-03,  3.3192e-02, -3.2882e-02,  3.5662e-02,\n          5.5504e-03,  5.8740e-03, -1.4467e-02, -2.7093e-02,  3.9164e-03,\n         -2.7451e-02,  2.5987e-03,  2.2366e-02,  1.5111e-02,  2.1005e-02,\n         -2.8695e-02,  2.3164e-02,  2.0061e-02,  2.8095e-02,  2.5704e-02,\n          3.7709e-03,  9.4083e-03, -1.5392e-02,  1.6506e-02, -1.5301e-02,\n          2.2287e-02,  2.9055e-02,  5.5264e-03,  2.3765e-02, -3.3732e-02,\n         -1.7466e-02,  2.6919e-02,  2.5695e-02,  6.0866e-03,  1.1001e-02,\n         -7.0402e-03,  1.2708e-02, -2.8719e-02,  2.8549e-02,  2.6545e-02,\n         -1.1645e-02,  1.1322e-02, -2.7334e-02, -1.2489e-02,  8.7290e-03,\n          3.2820e-02, -2.0122e-02, -2.9005e-02, -2.8816e-02, -7.9098e-03,\n          1.8073e-02,  2.5796e-02, -2.1713e-02,  2.5658e-02, -3.0044e-02,\n         -1.8457e-02, -7.6333e-03,  2.6855e-02,  3.0319e-02,  1.4851e-02,\n          1.1692e-02,  1.2689e-02, -1.3469e-02, -6.6083e-03,  3.1946e-02,\n         -1.0642e-03, -9.9706e-03, -5.1618e-03, -1.3057e-02,  2.9175e-02,\n         -1.0350e-02,  1.0834e-02, -1.8911e-02,  3.2929e-02, -9.7022e-03,\n          1.6919e-02, -2.5154e-02, -1.8531e-02,  2.4107e-02, -2.8309e-02,\n         -6.8789e-03,  3.3900e-02, -9.3259e-03,  2.0367e-02, -2.7695e-02,\n         -5.7768e-03, -2.1928e-02, -7.3732e-03, -2.6847e-02, -1.5531e-02,\n         -6.2058e-03,  3.5619e-02, -1.3138e-02,  5.7206e-04,  4.3437e-03,\n         -1.3741e-02, -2.1778e-02, -4.0394e-03,  1.8083e-02,  2.9634e-02,\n          3.0742e-02, -2.5131e-02,  1.6999e-02, -2.1274e-02,  1.5197e-02,\n         -1.5845e-02, -2.0283e-02,  2.7143e-03,  1.3767e-02,  5.0491e-03,\n          1.8341e-02, -3.1915e-02,  2.4155e-02, -1.1578e-02, -1.0281e-02,\n          2.4682e-03, -2.9838e-02, -1.3722e-02, -1.0683e-02,  5.2317e-03,\n         -3.1961e-02,  2.9169e-02, -6.7957e-03, -1.4377e-03,  1.5577e-02,\n          3.5137e-02,  1.6349e-02, -1.0426e-02, -2.5683e-03, -7.2982e-03,\n         -1.2943e-02,  1.9343e-02,  1.3223e-02,  2.3281e-02, -1.3918e-02,\n          1.5815e-02, -1.3981e-02, -2.4227e-02,  1.8644e-02, -3.4953e-02,\n         -4.4070e-03,  1.9709e-02, -1.4838e-02,  3.5673e-02, -1.4618e-03,\n          2.5542e-02, -2.8218e-02,  7.3523e-03, -6.1958e-03, -2.2752e-02,\n          7.7110e-03, -1.1244e-02, -2.3862e-02,  9.5969e-03,  7.7248e-03,\n         -1.3264e-02,  3.2863e-02,  1.8938e-02, -2.7677e-02, -1.2692e-02,\n         -5.9880e-03, -1.4882e-02, -8.0966e-03, -1.3946e-02, -6.3663e-04,\n          4.7108e-03, -2.4499e-02, -2.4798e-02, -3.0166e-03,  1.7670e-02,\n          3.1127e-02,  9.5361e-03,  2.4212e-02, -4.3462e-03, -3.4271e-02,\n          9.0047e-03, -5.7195e-03,  1.2753e-03,  3.1337e-02,  2.4517e-02,\n          3.1984e-02, -7.7789e-03,  2.4187e-02, -3.2379e-02, -2.2551e-02,\n         -3.3395e-02,  1.5578e-02,  3.1022e-02,  1.5726e-02,  1.3086e-02,\n          9.6259e-03,  2.7839e-02,  3.0091e-02, -1.1492e-02, -1.8206e-02],\n        requires_grad=True),\n Parameter containing:\n tensor([[ 0.0123,  0.0483, -0.0425,  ..., -0.0413, -0.0363, -0.0076],\n         [ 0.0309,  0.0310, -0.0536,  ...,  0.0107,  0.0064, -0.0459],\n         [ 0.0273, -0.0055, -0.0498,  ...,  0.0492, -0.0010,  0.0091],\n         ...,\n         [-0.0322,  0.0263,  0.0366,  ..., -0.0029, -0.0335,  0.0372],\n         [-0.0315, -0.0063,  0.0423,  ..., -0.0079,  0.0346,  0.0184],\n         [-0.0375, -0.0014,  0.0513,  ...,  0.0280,  0.0177, -0.0183]],\n        requires_grad=True),\n Parameter containing:\n tensor([-0.0228,  0.0139, -0.0460, -0.0280,  0.0028,  0.0102, -0.0549, -0.0252,\n         -0.0295,  0.0338,  0.0355,  0.0031,  0.0558,  0.0507,  0.0204,  0.0214,\n          0.0431, -0.0493, -0.0472, -0.0548,  0.0477,  0.0118,  0.0462, -0.0099,\n         -0.0072, -0.0181, -0.0292,  0.0548,  0.0316,  0.0024, -0.0263,  0.0290,\n          0.0120,  0.0370, -0.0280,  0.0464, -0.0512,  0.0496,  0.0037,  0.0199,\n          0.0564,  0.0248, -0.0272,  0.0431,  0.0248,  0.0474,  0.0388,  0.0370,\n          0.0278, -0.0481, -0.0019,  0.0508,  0.0442,  0.0174,  0.0328,  0.0016,\n         -0.0048,  0.0005,  0.0405, -0.0038,  0.0318, -0.0551,  0.0551, -0.0420,\n          0.0121, -0.0535,  0.0337,  0.0078, -0.0537,  0.0384, -0.0036, -0.0300,\n          0.0066,  0.0055, -0.0394,  0.0484,  0.0287, -0.0076,  0.0486,  0.0333,\n         -0.0233, -0.0398,  0.0404, -0.0088,  0.0027, -0.0530, -0.0423,  0.0103,\n         -0.0526, -0.0449, -0.0510, -0.0002,  0.0132, -0.0537,  0.0210, -0.0352,\n          0.0298, -0.0316, -0.0270,  0.0347], requires_grad=True),\n Parameter containing:\n tensor([[-6.0130e-02, -8.3495e-02,  9.6607e-02, -5.7429e-02, -9.6071e-02,\n          -8.3338e-02, -3.3011e-02, -6.9930e-02, -6.3223e-02, -3.1966e-03,\n           5.8682e-02,  7.2221e-02, -2.1062e-02, -5.6546e-02,  5.1099e-02,\n           9.7967e-02, -3.7028e-02,  5.3559e-02, -8.6131e-02, -6.9208e-02,\n           8.0710e-02, -7.3043e-02,  4.5039e-02, -9.3380e-02, -7.8587e-02,\n           9.3720e-02,  7.7505e-02, -5.6351e-02,  6.7467e-03, -9.3763e-02,\n          -5.2262e-02,  5.9072e-02,  5.1391e-02,  4.2821e-03,  3.2556e-02,\n           6.3899e-02, -4.4313e-02, -8.9473e-02, -9.8254e-02, -5.5724e-02,\n           1.0261e-03,  1.0582e-02,  7.9726e-02,  4.5462e-02, -3.1519e-02,\n          -7.5007e-02, -6.8078e-02,  9.5482e-02,  2.9369e-02, -2.9901e-02,\n          -6.3054e-02, -4.1868e-02, -7.3120e-02,  3.0573e-02,  1.2656e-02,\n          -2.4444e-02,  7.0800e-02, -7.5909e-02,  4.3673e-02, -5.8786e-02,\n          -8.5634e-02,  5.6461e-02,  7.0702e-02, -9.9231e-02, -4.3549e-02,\n          -7.9827e-02, -1.4030e-02,  8.8482e-02,  4.5954e-02,  7.8292e-02,\n          -5.6477e-02, -7.2849e-03,  7.7692e-02, -8.4456e-02,  8.8740e-02,\n           5.4060e-02,  6.6025e-02,  3.2243e-02,  7.5337e-03, -3.2036e-02,\n          -7.6570e-02,  7.3407e-02,  3.6837e-02, -2.2644e-02, -3.9086e-02,\n           2.3395e-02,  7.4497e-03,  3.3712e-02,  2.1986e-02, -5.3247e-02,\n          -3.3054e-02, -7.2131e-02,  2.8450e-02,  3.8844e-02,  6.2580e-02,\n          -9.1337e-02, -3.1493e-02, -1.7929e-02, -3.7643e-02,  2.5197e-02],\n         [-1.3236e-04,  9.4036e-02,  5.6964e-02, -6.6412e-02,  3.4064e-03,\n          -7.6178e-02,  7.9663e-02,  2.4730e-03,  6.4032e-02, -5.4588e-02,\n          -3.7366e-02, -9.5438e-02, -7.9044e-02, -1.5881e-02, -6.6345e-02,\n          -2.0953e-02,  9.4760e-02,  1.9920e-02,  7.7501e-03,  9.6019e-02,\n           5.7768e-02,  5.0741e-02,  7.0149e-02,  5.7490e-02,  5.3715e-02,\n          -1.3677e-02,  7.6855e-02,  1.7013e-02,  8.4212e-03, -1.3155e-02,\n          -4.2644e-02,  6.5930e-02, -6.9459e-03, -5.6164e-02,  1.5528e-02,\n          -1.8926e-02, -3.7959e-02,  6.5165e-03,  2.2758e-02, -3.0728e-02,\n           7.0005e-02,  2.5183e-02, -9.5417e-02,  5.6544e-02,  5.0016e-02,\n          -6.2522e-02,  3.0933e-02,  1.8161e-02,  3.2408e-02, -8.7170e-02,\n           6.9874e-02, -3.7772e-02,  8.8603e-02,  7.6133e-03, -4.0512e-02,\n           2.4179e-02, -1.6096e-03,  1.1196e-03, -6.0443e-02,  8.1556e-02,\n          -1.3739e-02,  8.7892e-02,  8.2008e-03, -9.2654e-02,  9.6815e-03,\n          -3.9118e-02, -7.5247e-02, -6.3157e-02, -1.2610e-02,  8.4260e-03,\n          -1.8649e-02, -7.3806e-02, -6.2894e-02,  5.2154e-02,  7.2742e-02,\n           4.2855e-02, -6.6772e-02, -4.3242e-02, -5.6507e-03,  9.3130e-02,\n          -2.9259e-02, -7.0200e-02, -9.8912e-02,  6.7631e-02,  9.2828e-02,\n          -7.6511e-02, -7.6219e-02,  1.2133e-02, -6.9237e-04, -1.2154e-03,\n          -4.3823e-02,  4.9812e-02,  7.7890e-02,  9.2359e-02,  7.9810e-02,\n          -3.1719e-02, -6.2083e-02,  4.3272e-02, -6.4213e-02, -5.6480e-02],\n         [ 4.0483e-02, -6.8416e-03, -5.2425e-02,  9.3152e-02,  6.4434e-02,\n          -9.8190e-02,  4.7990e-03,  6.0009e-02,  8.6882e-02,  5.1153e-02,\n          -2.8519e-02,  7.1608e-02, -8.9633e-03,  4.8728e-02, -7.1871e-02,\n           2.0788e-02,  4.5276e-02,  8.1203e-02, -7.1214e-02, -2.9254e-02,\n           2.2983e-02,  1.8083e-02,  5.0721e-02, -9.9948e-02, -1.7609e-02,\n          -6.8137e-02, -4.7844e-02, -5.9178e-02,  2.0026e-02, -8.9974e-02,\n           1.1555e-02, -8.6759e-02,  1.5619e-02, -1.1790e-02, -1.4634e-02,\n          -7.0560e-02,  2.6573e-02,  3.9585e-02, -5.3253e-03, -4.6472e-02,\n          -1.1857e-02,  8.5200e-02, -4.1485e-02,  2.4965e-02,  9.2092e-02,\n          -1.2298e-03, -5.2900e-02, -1.1399e-02,  1.2087e-02,  7.9048e-02,\n          -5.5766e-02, -7.6177e-02, -3.1099e-03, -4.7613e-02, -8.0160e-02,\n          -8.0346e-02, -2.1055e-03,  8.8014e-02, -7.4857e-03,  6.8898e-02,\n           3.8736e-02,  8.7398e-02, -2.4868e-02,  6.9595e-03, -5.1288e-02,\n           2.0060e-02,  5.0386e-02, -5.0755e-02,  8.2797e-02, -9.5554e-03,\n          -7.5282e-02,  5.1161e-02, -8.9509e-02,  1.8322e-02,  6.9332e-02,\n          -6.7907e-03, -5.3345e-02, -2.3632e-02,  7.5079e-02,  7.4746e-03,\n          -9.5109e-02,  7.9615e-02, -9.4885e-02,  6.3109e-02, -7.0714e-02,\n           8.0563e-02,  3.4645e-02,  3.9211e-03,  6.9876e-02, -8.1899e-02,\n           5.4073e-02,  1.4628e-02,  4.4878e-02, -5.3106e-02,  2.1994e-02,\n           6.1222e-03,  5.5426e-02, -8.0531e-02, -6.7794e-02, -7.7613e-02],\n         [ 2.4500e-02,  7.2333e-02, -3.1123e-02, -8.7001e-02, -2.7453e-02,\n           6.7959e-02, -8.3819e-03,  7.7426e-02, -1.7909e-02, -8.8891e-02,\n           5.8366e-02,  4.8936e-02,  9.2684e-02,  5.2533e-02, -7.9488e-02,\n           1.8379e-02, -3.0360e-02, -3.0753e-02, -3.4733e-02, -9.0119e-02,\n           4.7143e-02, -5.0747e-02,  2.1179e-04,  3.8950e-02, -8.9712e-02,\n           6.6451e-02, -9.6144e-02, -6.1788e-02,  7.0850e-02,  3.9342e-02,\n          -1.2581e-02,  3.6897e-02, -4.4431e-02,  6.8393e-02,  4.8829e-02,\n           4.9818e-02, -2.3020e-02,  5.8259e-02,  9.6217e-02, -3.5013e-02,\n          -4.6166e-02, -5.4435e-02,  3.2281e-02,  6.2610e-02,  1.2985e-02,\n           1.8624e-02,  4.6095e-02, -7.0899e-02,  5.4375e-02, -2.6193e-02,\n           2.8783e-02, -6.1728e-02, -2.5476e-02,  4.4656e-02,  3.3932e-02,\n           3.6489e-02,  2.5059e-02, -1.9401e-02, -4.9903e-02,  8.9120e-02,\n           2.4902e-02,  8.1709e-03,  2.9631e-02,  4.7083e-02, -4.4443e-02,\n           9.9905e-02,  6.3115e-02,  6.9755e-02,  9.5924e-02,  4.9799e-02,\n           2.9365e-02,  9.7140e-02, -5.2250e-02,  3.1216e-02,  4.8113e-02,\n           7.7540e-02,  4.0199e-02, -9.0440e-02,  3.2212e-03,  6.6246e-02,\n           6.7680e-02,  7.3278e-02, -4.0867e-02,  8.5295e-02,  8.5161e-02,\n          -1.3434e-02,  8.2480e-02, -7.2191e-02,  8.8933e-02, -3.4732e-02,\n           7.7661e-03,  7.5514e-02, -2.1365e-03,  7.5696e-02,  5.3812e-03,\n           7.5000e-02,  7.5694e-02,  7.3452e-02,  9.5269e-02,  1.6848e-02],\n         [ 6.1502e-02,  5.3355e-02, -4.7905e-03, -5.2838e-02, -9.5927e-02,\n           6.7455e-02, -8.4958e-02,  6.6829e-02, -2.9967e-03,  2.1280e-02,\n          -3.2498e-02, -6.5983e-02, -2.0610e-02, -4.0055e-02,  6.5298e-02,\n          -2.1123e-02, -9.9509e-02, -7.9316e-02, -6.5123e-02,  7.1169e-02,\n           9.1964e-02, -4.9223e-02,  3.6991e-02, -7.3808e-03,  7.1614e-02,\n          -5.6272e-02, -3.8589e-02, -8.5887e-02,  3.1559e-02, -8.6663e-02,\n          -9.6395e-02,  7.2603e-02, -1.1392e-02, -5.2626e-02,  1.0194e-02,\n           6.4996e-02, -7.4184e-02,  2.9827e-02, -1.2699e-02,  4.3498e-02,\n          -5.7315e-02, -6.9941e-03,  2.5196e-03,  1.7897e-03,  3.8093e-02,\n           6.9372e-02,  2.4994e-02,  7.4098e-02,  7.4752e-02, -9.6323e-02,\n          -7.6453e-02, -4.3497e-02, -2.9401e-02, -1.0443e-02, -7.4434e-02,\n          -7.7771e-02,  3.3348e-02,  6.7751e-02, -7.9955e-02, -2.4751e-02,\n          -4.6703e-02, -9.0535e-02, -9.3259e-02, -3.5107e-02, -6.4710e-02,\n          -5.1747e-02,  3.1003e-02,  4.3647e-02, -5.4505e-02,  4.2885e-02,\n           5.6999e-02, -9.5596e-02,  1.5339e-02,  8.4570e-02,  5.4454e-02,\n           4.7324e-02, -8.3082e-03, -2.2075e-03, -7.8938e-02,  3.8479e-02,\n           6.0532e-02,  6.4987e-02,  3.3774e-02, -2.1088e-02, -3.4947e-02,\n           9.7092e-02, -2.7822e-02,  1.0286e-02,  2.9398e-02,  7.3497e-02,\n          -7.2091e-02, -6.0638e-02,  4.9215e-02,  6.8468e-02, -1.6549e-02,\n           3.6786e-02,  1.0914e-02,  8.5312e-03, -4.5943e-02,  3.2379e-02],\n         [ 4.1773e-02,  1.5597e-02, -8.3080e-02, -8.7704e-02, -9.5537e-02,\n          -8.3099e-02, -8.9799e-02,  1.3072e-02, -3.5797e-02,  1.7768e-02,\n           1.7838e-03,  1.0944e-02, -7.6687e-02,  3.7210e-02, -5.7545e-02,\n          -4.6480e-02,  8.5321e-02,  3.2783e-02,  6.9899e-02,  6.4874e-02,\n           5.8726e-02, -2.5157e-02, -8.2586e-02, -6.9001e-02, -1.5943e-02,\n          -6.5620e-02,  9.6708e-02, -8.7270e-02,  2.9402e-02, -5.6570e-02,\n          -2.3157e-02,  7.4283e-02,  9.6706e-02,  3.3162e-02,  4.1436e-02,\n           5.6776e-02, -7.8789e-02,  2.6912e-02, -9.2613e-02, -8.3989e-02,\n          -6.4931e-02, -6.0251e-02,  1.8715e-02, -9.6741e-02,  4.7408e-02,\n           3.1221e-02, -7.0431e-02, -5.9665e-03, -5.4955e-02,  3.3854e-02,\n           3.5086e-02, -8.9525e-02,  9.7129e-02,  2.4386e-02,  6.7243e-02,\n          -1.4420e-02,  9.3975e-02,  7.6519e-02, -1.0521e-02, -4.5299e-02,\n           2.8422e-02,  7.0808e-02,  7.6344e-02, -2.4676e-02, -8.2343e-02,\n           4.8513e-03,  3.8305e-02,  9.0185e-02,  9.9975e-02, -9.8007e-02,\n          -4.6836e-02, -5.7161e-02, -1.9042e-02,  5.3226e-02, -8.1587e-03,\n           1.7198e-03,  8.3452e-02, -3.3746e-02,  6.3629e-02,  6.9027e-02,\n          -9.7742e-02,  9.7319e-02, -7.5568e-02, -7.1789e-02, -7.1928e-02,\n          -8.3824e-02,  9.9516e-02, -4.7114e-03, -8.8986e-02, -7.7001e-02,\n          -7.9901e-02, -9.8906e-02,  4.4254e-02,  8.6815e-02,  4.5723e-02,\n          -6.3458e-02,  6.5326e-02, -7.1798e-04, -8.3412e-02, -8.9374e-03],\n         [-1.1792e-02, -2.4718e-02, -2.6703e-02, -2.9230e-02, -9.6841e-02,\n          -9.1168e-02,  7.0478e-02, -2.1019e-02, -7.1793e-02,  3.3938e-02,\n           5.2035e-02, -6.7805e-02,  1.0297e-02,  2.7471e-02,  8.7953e-03,\n           2.4990e-02,  4.3063e-02, -3.4315e-02,  3.9873e-02, -7.9880e-02,\n          -5.7821e-02,  8.4742e-02, -2.1708e-02,  4.8998e-02,  1.1451e-03,\n           1.8876e-02,  6.5861e-02,  5.8204e-02, -6.4397e-02, -3.1337e-02,\n          -8.6048e-02, -3.7334e-04, -2.3949e-02, -9.9014e-03,  4.3647e-02,\n          -1.9256e-02, -4.6234e-02,  1.5653e-02, -3.8841e-02, -5.7615e-02,\n          -9.1229e-02, -2.5033e-02, -3.8859e-02,  7.3722e-02,  7.4554e-03,\n           5.2559e-02,  7.2811e-02, -8.8392e-03,  7.0505e-02, -6.9892e-02,\n           2.4908e-02,  9.9568e-03, -2.2079e-02, -4.4446e-02, -7.6628e-02,\n          -4.6345e-02,  2.8048e-02, -5.8549e-02, -5.2784e-02, -9.5117e-02,\n           4.6063e-02,  4.0065e-02,  1.5487e-02, -6.7593e-02,  5.8174e-02,\n           7.4716e-03,  9.6367e-02, -1.5685e-02,  3.5757e-02,  2.9894e-02,\n          -7.5247e-02,  9.4140e-02,  8.9437e-02,  3.7649e-02,  8.3018e-02,\n          -5.7398e-02, -1.4741e-02,  8.7193e-02,  9.9387e-02, -7.4430e-02,\n          -9.9500e-02, -5.9486e-03, -5.8153e-02, -8.4599e-03, -8.7248e-02,\n          -1.0705e-02, -9.7384e-02,  7.5056e-02,  3.2841e-03,  1.7219e-02,\n           4.8087e-02,  8.6383e-02,  2.6693e-02, -4.4950e-02, -5.4816e-03,\n           5.3111e-02,  3.4996e-02,  3.1422e-03, -5.0440e-02,  7.6522e-02],\n         [ 7.1793e-02, -6.0904e-02,  2.3984e-02,  8.8754e-02, -4.3350e-02,\n           2.8011e-02, -3.1942e-02,  5.1153e-02, -5.7419e-02, -9.3506e-02,\n          -7.7082e-03,  6.0579e-02, -7.0845e-02,  5.1071e-02, -7.4927e-02,\n          -8.3890e-02, -8.2645e-02,  1.2694e-02,  1.9767e-02,  2.3414e-02,\n           8.7182e-04,  3.0216e-02,  5.9771e-02,  6.9352e-02,  1.5419e-02,\n           7.5056e-02, -7.0732e-02, -2.5136e-02, -4.5398e-02, -6.2426e-02,\n          -5.6146e-02, -9.7006e-02,  5.9835e-02, -8.9028e-02,  8.3071e-02,\n          -4.5400e-02,  1.4934e-02, -7.3336e-05,  2.7643e-02,  7.0380e-02,\n          -6.7910e-03,  2.8293e-03, -8.8105e-03,  6.1241e-02, -4.4993e-02,\n          -2.6538e-02,  8.1207e-02, -6.4572e-02, -5.6349e-02,  1.1088e-02,\n          -7.9169e-02, -3.3891e-03,  3.4153e-02,  5.7154e-02, -9.9531e-03,\n           6.6727e-02, -7.6919e-02, -6.4555e-03, -9.5412e-02, -1.3207e-02,\n          -7.4825e-02,  8.7543e-02, -5.5766e-02,  5.3109e-02, -9.3936e-02,\n          -2.3520e-02,  9.3521e-02,  7.3517e-02,  6.5344e-02,  2.0140e-02,\n           8.2339e-02,  3.9801e-02, -6.5118e-02,  2.1250e-02, -8.9497e-02,\n           6.1368e-02, -4.6784e-02,  7.9716e-02,  8.4359e-02,  4.1103e-02,\n           2.4400e-02, -5.4142e-02,  7.0597e-02, -5.5107e-02, -8.8124e-02,\n           2.7846e-02, -3.4760e-02, -7.8880e-02,  6.0654e-02, -7.2346e-02,\n          -3.4012e-02,  2.3183e-02,  6.2211e-02, -7.4443e-02,  6.6295e-02,\n           1.1815e-02, -8.3835e-02,  9.5845e-02,  6.6863e-02, -5.8462e-02],\n         [-5.2836e-02, -3.4448e-02, -9.4741e-03, -9.7441e-03, -4.7255e-02,\n          -7.2035e-03,  6.0127e-02,  4.7272e-02, -6.4846e-02, -7.6542e-02,\n           3.4532e-02, -2.7678e-02,  2.7798e-02,  6.7987e-02, -8.3811e-02,\n           5.9718e-02, -4.5933e-02,  4.7198e-02,  8.4391e-02, -8.4525e-03,\n           2.1610e-02,  9.9988e-02, -3.2389e-02,  2.2483e-02,  1.9926e-02,\n          -4.5760e-02,  2.5794e-02, -3.6250e-02, -8.3315e-02,  7.4150e-02,\n          -6.8732e-02, -4.7845e-02, -7.0721e-02, -9.2449e-02,  7.8981e-02,\n          -8.1422e-02, -7.1579e-02, -5.5846e-02, -7.4096e-02, -4.9513e-02,\n           9.5629e-02,  6.2916e-02,  3.1054e-02, -3.9284e-02,  2.3542e-03,\n           8.7997e-02,  1.3928e-02, -9.3415e-02,  1.4924e-02, -5.5195e-03,\n           2.2549e-02, -9.2701e-03,  3.2844e-02,  4.6076e-04, -3.9216e-02,\n           1.8694e-02,  2.7758e-02, -4.8808e-02,  8.4745e-03,  6.8715e-02,\n           7.1682e-02, -4.0621e-02, -8.8940e-02,  6.6823e-02,  1.8080e-03,\n          -7.3351e-03,  3.3169e-02, -1.8774e-03, -9.5529e-02,  1.6290e-02,\n           6.6862e-05,  7.6996e-02, -7.7901e-02,  8.9373e-02, -5.4796e-02,\n           4.0845e-02,  6.9346e-02,  2.6311e-02,  5.6524e-02,  7.7192e-03,\n           4.0614e-02, -2.8587e-02, -4.2787e-02,  9.9284e-02, -6.0119e-02,\n           6.7653e-02, -7.5410e-02, -8.6914e-02,  6.0864e-02, -3.9379e-03,\n           3.7693e-02, -8.8116e-02,  2.5395e-02, -2.1937e-02, -6.6113e-02,\n          -7.4082e-02, -1.3656e-02,  7.8158e-02, -2.6194e-02, -2.5878e-03],\n         [ 3.6682e-03, -9.5649e-02, -7.7369e-02, -4.3635e-03,  8.2738e-02,\n           2.1932e-02,  7.4693e-02,  9.3547e-02,  7.5407e-02, -2.0256e-02,\n          -2.3761e-02,  2.2601e-02,  9.2214e-02,  3.1568e-02,  3.6623e-02,\n          -2.4496e-02, -4.7960e-02, -8.3394e-02, -2.7056e-02, -6.0002e-02,\n          -8.8228e-03,  2.3158e-02, -3.5178e-02, -9.6841e-02, -6.9582e-02,\n          -8.5318e-02,  6.6652e-03,  9.7461e-02, -8.1189e-02, -8.3079e-02,\n           3.0666e-02,  4.9231e-02,  9.5852e-02,  2.6855e-02,  4.5381e-02,\n           7.9014e-02,  6.0334e-02, -2.2344e-02,  1.2585e-02, -9.6757e-02,\n          -2.7457e-03, -5.7651e-02, -5.9702e-02,  4.6691e-02, -7.2139e-02,\n          -7.6851e-02, -6.4360e-02,  8.3329e-02,  7.3978e-02,  8.7770e-02,\n          -9.4119e-02, -1.6744e-02, -1.2021e-03,  3.7532e-02,  2.6994e-02,\n          -9.9777e-02, -2.7699e-02,  1.9135e-02,  2.8201e-03, -4.9553e-02,\n          -4.1715e-02,  5.5384e-02,  1.3868e-03, -1.6193e-02, -9.3173e-02,\n           9.2439e-02, -8.3537e-02, -1.8666e-02,  8.9735e-02, -6.9066e-02,\n           5.4657e-03,  2.7258e-02,  4.4724e-02,  3.1664e-02, -6.6928e-04,\n          -4.0023e-02,  7.9911e-02, -6.9789e-02, -2.5266e-02, -6.0303e-02,\n          -1.1250e-02,  2.9992e-02,  8.0512e-02,  9.7115e-02, -7.6228e-02,\n          -9.4497e-02, -4.5781e-02, -4.8058e-02, -3.3176e-02, -8.4835e-02,\n          -1.2173e-02, -6.9307e-02, -9.9202e-02, -5.4777e-02, -4.3978e-02,\n           5.1879e-03,  4.2043e-02,  1.9867e-02, -2.4383e-02,  8.8266e-02]],\n        requires_grad=True),\n Parameter containing:\n tensor([ 0.0274,  0.0221, -0.0726,  0.0271, -0.0003,  0.0845,  0.0734,  0.0123,\n         -0.0865,  0.0055], requires_grad=True)]"
     },
     "execution_count": 21,
     "metadata": {},
     "output_type": "execute_result"
    }
   ],
   "source": [
    "# 看看模型参数\n",
    "list(model.parameters())  # 这种方法拿到模型的所有可学习参数,requires_grad=True\n"
   ]
  },
  {
   "cell_type": "code",
   "execution_count": 22,
   "metadata": {
    "ExecuteTime": {
     "end_time": "2024-07-17T03:06:34.677508500Z",
     "start_time": "2024-07-17T03:06:34.619793100Z"
    }
   },
   "outputs": [],
   "source": [
    "# model.state_dict()  # 这种方法用于保存模型参数，看能看见参数属于模型的哪一部分"
   ]
  },
  {
   "cell_type": "markdown",
   "metadata": {},
   "source": [
    "## 训练\n",
    "\n",
    "pytorch的训练需要自行实现，包括\n",
    "1. 定义损失函数\n",
    "2. 定义优化器\n",
    "3. 定义训练步\n",
    "4. 训练"
   ]
  },
  {
   "cell_type": "code",
   "execution_count": 23,
   "metadata": {
    "ExecuteTime": {
     "end_time": "2024-07-17T03:06:34.678507600Z",
     "start_time": "2024-07-17T03:06:34.625324900Z"
    }
   },
   "outputs": [],
   "source": [
    "# 1. 定义损失函数 采用交叉熵损失\n",
    "loss_fct = nn.CrossEntropyLoss() #内部先做softmax，然后计算交叉熵\n",
    "# 2. 定义优化器 采用SGD\n",
    "# Optimizers specified in the torch.optim package,随机梯度下降\n",
    "optimizer = torch.optim.SGD(model.parameters(), lr=0.001, momentum=0.9)"
   ]
  },
  {
   "cell_type": "code",
   "execution_count": 24,
   "metadata": {
    "ExecuteTime": {
     "end_time": "2024-07-17T03:06:35.192587400Z",
     "start_time": "2024-07-17T03:06:34.637807300Z"
    }
   },
   "outputs": [],
   "source": [
    "from sklearn.metrics import accuracy_score\n",
    "\n",
    "@torch.no_grad() # 装饰器，禁止反向传播，节省内存\n",
    "def evaluating(model, dataloader, loss_fct):\n",
    "    loss_list = [] # 记录损失\n",
    "    pred_list = [] # 记录预测\n",
    "    label_list = [] # 记录标签\n",
    "    for datas, labels in dataloader:#10000/32=312\n",
    "        datas = datas.to(device) # 转到GPU\n",
    "        labels = labels.to(device) # 转到GPU\n",
    "        # 前向计算\n",
    "        logits = model(datas)\n",
    "        loss = loss_fct(logits, labels)         # 验证集损失\n",
    "        loss_list.append(loss.item()) # 记录损失\n",
    "        \n",
    "        preds = logits.argmax(axis=-1)    # 验证集预测,argmax返回最大值索引\n",
    "        # print(preds)\n",
    "        pred_list.extend(preds.cpu().numpy().tolist())#将PyTorch张量转换为NumPy数组。只有当张量在CPU上时，这个转换才是合法的\n",
    "        # print(preds.cpu().numpy().tolist())\n",
    "        label_list.extend(labels.cpu().numpy().tolist())\n",
    "        \n",
    "    acc = accuracy_score(label_list, pred_list) # 计算准确率\n",
    "    return np.mean(loss_list), acc\n"
   ]
  },
  {
   "cell_type": "code",
   "execution_count": 25,
   "outputs": [
    {
     "data": {
      "text/plain": "37500"
     },
     "execution_count": 25,
     "metadata": {},
     "output_type": "execute_result"
    }
   ],
   "source": [
    "1875*20"
   ],
   "metadata": {
    "collapsed": false,
    "ExecuteTime": {
     "end_time": "2024-07-17T03:06:35.201490200Z",
     "start_time": "2024-07-17T03:06:35.194584600Z"
    }
   }
  },
  {
   "cell_type": "code",
   "execution_count": 26,
   "metadata": {
    "ExecuteTime": {
     "end_time": "2024-07-17T03:17:13.841145200Z",
     "start_time": "2024-07-17T03:06:35.205487200Z"
    }
   },
   "outputs": [
    {
     "data": {
      "text/plain": "  0%|          | 0/37500 [00:00<?, ?it/s]",
      "application/vnd.jupyter.widget-view+json": {
       "version_major": 2,
       "version_minor": 0,
       "model_id": "8caa82c7623647999980834cf354e12a"
      }
     },
     "metadata": {},
     "output_type": "display_data"
    }
   ],
   "source": [
    "# 训练\n",
    "def training(model, train_loader, val_loader, epoch, loss_fct, optimizer, eval_step=500):\n",
    "    record_dict = {\n",
    "        \"train\": [],\n",
    "        \"val\": []\n",
    "    }\n",
    "    \n",
    "    global_step = 0\n",
    "    model.train()\n",
    "    with tqdm(total=epoch * len(train_loader)) as pbar: # 进度条 1875*20,60000/32=1875\n",
    "        for epoch_id in range(epoch): # 训练epoch次\n",
    "            # training\n",
    "            for datas, labels in train_loader: #执行次数是60000/32=1875\n",
    "                datas = datas.to(device) #datas尺寸是[batch_size,1,28,28]\n",
    "                labels = labels.to(device) #labels尺寸是[batch_size]\n",
    "                # 梯度清空\n",
    "                optimizer.zero_grad()\n",
    "                # 模型前向计算\n",
    "                logits = model(datas)\n",
    "                # 计算损失\n",
    "                loss = loss_fct(logits, labels)\n",
    "                # 梯度回传，loss.backward()会计算梯度，loss对模型参数求导\n",
    "                loss.backward()\n",
    "                # 调整优化器，包括学习率的变动等,优化器的学习率会随着训练的进行而减小，更新w,b\n",
    "                optimizer.step() #梯度是计算并存储在模型参数的 .grad 属性中，优化器使用这些存储的梯度来更新模型参数\n",
    "\n",
    "                preds = logits.argmax(axis=-1) # 训练集预测\n",
    "                acc = accuracy_score(labels.cpu().numpy(), preds.cpu().numpy())   # 计算准确率，numpy可以\n",
    "                loss = loss.cpu().item() # 损失转到CPU，item()取值,一个数值\n",
    "                # record\n",
    "                \n",
    "                record_dict[\"train\"].append({\n",
    "                    \"loss\": loss, \"acc\": acc, \"step\": global_step\n",
    "                }) # 记录训练集信息，每一步的损失，准确率，步数\n",
    "                \n",
    "                # evaluating\n",
    "                if global_step % eval_step == 0:\n",
    "                    model.eval() # 进入评估模式\n",
    "                    val_loss, val_acc = evaluating(model, val_loader, loss_fct)\n",
    "                    record_dict[\"val\"].append({\n",
    "                        \"loss\": val_loss, \"acc\": val_acc, \"step\": global_step\n",
    "                    })\n",
    "                    model.train() # 进入训练模式\n",
    "\n",
    "                # udate step\n",
    "                global_step += 1 # 全局步数加1\n",
    "                pbar.update(1) # 更新进度条\n",
    "                pbar.set_postfix({\"epoch\": epoch_id}) # 设置进度条显示信息\n",
    "        \n",
    "    return record_dict\n",
    "        \n",
    "\n",
    "epoch = 20 #改为40\n",
    "model = model.to(device)\n",
    "record = training(model, train_loader, val_loader, epoch, loss_fct, optimizer, eval_step=1000)"
   ]
  },
  {
   "cell_type": "code",
   "execution_count": 33,
   "outputs": [
    {
     "data": {
      "text/plain": "[{'loss': 0.1997792273759842, 'acc': 0.9375, 'step': 37495},\n {'loss': 0.27049633860588074, 'acc': 0.875, 'step': 37496},\n {'loss': 0.1393028050661087, 'acc': 0.9375, 'step': 37497},\n {'loss': 0.2725451588630676, 'acc': 0.84375, 'step': 37498},\n {'loss': 0.4061542749404907, 'acc': 0.8125, 'step': 37499}]"
     },
     "execution_count": 33,
     "metadata": {},
     "output_type": "execute_result"
    }
   ],
   "source": [
    "record[\"train\"][-5:]"
   ],
   "metadata": {
    "collapsed": false,
    "ExecuteTime": {
     "end_time": "2024-07-17T03:19:11.487400800Z",
     "start_time": "2024-07-17T03:19:11.481402800Z"
    }
   }
  },
  {
   "cell_type": "code",
   "execution_count": 34,
   "outputs": [
    {
     "data": {
      "text/plain": "[{'loss': 0.36084355672184654, 'acc': 0.8712, 'step': 33000},\n {'loss': 0.35720211475754315, 'acc': 0.8724, 'step': 34000},\n {'loss': 0.36683890228263866, 'acc': 0.8709, 'step': 35000},\n {'loss': 0.36297369616243025, 'acc': 0.8713, 'step': 36000},\n {'loss': 0.35757329757697287, 'acc': 0.874, 'step': 37000}]"
     },
     "execution_count": 34,
     "metadata": {},
     "output_type": "execute_result"
    }
   ],
   "source": [
    "record[\"val\"][-5:]"
   ],
   "metadata": {
    "collapsed": false,
    "ExecuteTime": {
     "end_time": "2024-07-17T03:19:46.400342200Z",
     "start_time": "2024-07-17T03:19:46.377355Z"
    }
   }
  },
  {
   "cell_type": "code",
   "execution_count": 39,
   "metadata": {
    "ExecuteTime": {
     "end_time": "2024-07-17T03:28:07.777109600Z",
     "start_time": "2024-07-17T03:28:07.518915700Z"
    }
   },
   "outputs": [
    {
     "name": "stdout",
     "output_type": "stream",
     "text": [
      "step\n",
      "0        0.06250\n",
      "1000     0.62500\n",
      "2000     0.71875\n",
      "3000     0.71875\n",
      "4000     0.75000\n",
      "5000     0.87500\n",
      "6000     0.78125\n",
      "7000     0.87500\n",
      "8000     0.90625\n",
      "9000     0.75000\n",
      "10000    0.90625\n",
      "11000    0.84375\n",
      "12000    0.84375\n",
      "13000    0.84375\n",
      "14000    0.93750\n",
      "15000    0.75000\n",
      "16000    0.81250\n",
      "17000    0.87500\n",
      "18000    0.93750\n",
      "19000    0.81250\n",
      "20000    0.93750\n",
      "21000    0.93750\n",
      "22000    0.75000\n",
      "23000    0.75000\n",
      "24000    0.90625\n",
      "25000    0.96875\n",
      "26000    0.87500\n",
      "27000    0.87500\n",
      "28000    0.93750\n",
      "29000    0.90625\n",
      "30000    0.90625\n",
      "31000    0.87500\n",
      "32000    0.78125\n",
      "33000    0.90625\n",
      "34000    0.81250\n",
      "35000    0.90625\n",
      "36000    0.90625\n",
      "37000    1.00000\n",
      "Name: acc, dtype: float64\n",
      "step\n",
      "0        0.1023\n",
      "1000     0.6786\n",
      "2000     0.7747\n",
      "3000     0.7975\n",
      "4000     0.8043\n",
      "5000     0.8209\n",
      "6000     0.8171\n",
      "7000     0.8307\n",
      "8000     0.8246\n",
      "9000     0.8264\n",
      "10000    0.8391\n",
      "11000    0.8379\n",
      "12000    0.8371\n",
      "13000    0.8385\n",
      "14000    0.8501\n",
      "15000    0.8458\n",
      "16000    0.8459\n",
      "17000    0.8560\n",
      "18000    0.8537\n",
      "19000    0.8543\n",
      "20000    0.8603\n",
      "21000    0.8589\n",
      "22000    0.8596\n",
      "23000    0.8617\n",
      "24000    0.8583\n",
      "25000    0.8635\n",
      "26000    0.8641\n",
      "27000    0.8645\n",
      "28000    0.8657\n",
      "29000    0.8687\n",
      "30000    0.8692\n",
      "31000    0.8628\n",
      "32000    0.8706\n",
      "33000    0.8712\n",
      "34000    0.8724\n",
      "35000    0.8709\n",
      "36000    0.8713\n",
      "37000    0.8740\n",
      "Name: acc, dtype: float64\n"
     ]
    },
    {
     "data": {
      "text/plain": "<Figure size 1000x500 with 2 Axes>",
      "image/png": "[encoded data removed]"
     },
     "metadata": {},
     "output_type": "display_data"
    }
   ],
   "source": [
    "#画线要注意的是损失是不一定在零到1之间的\n",
    "def plot_learning_curves(record_dict, sample_step=1000):\n",
    "    # build DataFrame\n",
    "    train_df = pd.DataFrame(record_dict[\"train\"]).set_index(\"step\").iloc[::sample_step]\n",
    "    val_df = pd.DataFrame(record_dict[\"val\"]).set_index(\"step\")\n",
    "    last_step = train_df.index[-1] # 最后一步的步数\n",
    "    # print(train_df.columns)\n",
    "    print(train_df['acc'])\n",
    "    print(val_df['acc'])\n",
    "    # plot\n",
    "    fig_num = len(train_df.columns) # 画几张图,分别是损失和准确率\n",
    "    fig, axs = plt.subplots(1, fig_num, figsize=(5 * fig_num, 5))\n",
    "    for idx, item in enumerate(train_df.columns):\n",
    "        # print(train_df[item].values)\n",
    "        axs[idx].plot(train_df.index, train_df[item], label=f\"train_{item}\")\n",
    "        axs[idx].plot(val_df.index, val_df[item], label=f\"val_{item}\")\n",
    "        axs[idx].grid() # 显示网格\n",
    "        axs[idx].legend() # 显示图例\n",
    "        axs[idx].set_xticks(range(0, train_df.index[-1], 5000)) # 设置x轴刻度\n",
    "        axs[idx].set_xticklabels(map(lambda x: f\"{int(x/1000)}k\", range(0, last_step, 5000))) # 设置x轴标签\n",
    "        axs[idx].set_xlabel(\"step\")\n",
    "    \n",
    "    plt.show()\n",
    "\n",
    "plot_learning_curves(record)  #横坐标是 steps"
   ]
  },
  {
   "cell_type": "markdown",
   "metadata": {},
   "source": [
    "## 评估"
   ]
  },
  {
   "cell_type": "code",
   "execution_count": 29,
   "metadata": {
    "ExecuteTime": {
     "end_time": "2024-07-17T03:17:16.674099900Z",
     "start_time": "2024-07-17T03:17:14.333157800Z"
    }
   },
   "outputs": [
    {
     "name": "stdout",
     "output_type": "stream",
     "text": [
      "loss:     0.3578\n",
      "accuracy: 0.8700\n"
     ]
    }
   ],
   "source": [
    "# dataload for evaluating\n",
    "\n",
    "model.eval() # 进入评估模式\n",
    "loss, acc = evaluating(model, val_loader, loss_fct)\n",
    "print(f\"loss:     {loss:.4f}\\naccuracy: {acc:.4f}\")"
   ]
  }
 ],
 "metadata": {
  "kernelspec": {
   "display_name": "Python 3 (ipykernel)",
   "language": "python",
   "name": "python3"
  },
  "language_info": {
   "codemirror_mode": {
    "name": "ipython",
    "version": 3
   },
   "file_extension": ".py",
   "mimetype": "text/x-python",
   "name": "python",
   "nbconvert_exporter": "python",
   "pygments_lexer": "ipython3",
   "version": "3.9.7"
  }
 },
 "nbformat": 4,
 "nbformat_minor": 2
}
