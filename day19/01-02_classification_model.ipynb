{
 "cells": [
  {
   "cell_type": "markdown",
   "metadata": {},
   "source": [
    "对应 `tf.keras` 的01~02章节"
   ]
  },
  {
   "cell_type": "code",
   "metadata": {
    "ExecuteTime": {
     "end_time": "2025-01-15T01:29:26.541293Z",
     "start_time": "2025-01-15T01:29:18.919142Z"
    }
   },
   "source": [
    "import matplotlib as mpl\n",
    "import matplotlib.pyplot as plt\n",
    "%matplotlib inline\n",
    "import numpy as np\n",
    "import sklearn\n",
    "import pandas as pd\n",
    "import os\n",
    "import sys\n",
    "import time\n",
    "from tqdm.auto import tqdm\n",
    "import torch\n",
    "import torch.nn as nn\n",
    "import torch.nn.functional as F\n",
    "\n",
    "print(sys.version_info)\n",
    "for module in mpl, np, pd, sklearn, torch:\n",
    "    print(module.__name__, module.__version__)\n",
    "    \n",
    "device = torch.device(\"cuda:0\") if torch.cuda.is_available() else torch.device(\"cpu\")\n",
    "print(device)\n"
   ],
   "outputs": [
    {
     "name": "stdout",
     "output_type": "stream",
     "text": [
      "sys.version_info(major=3, minor=12, micro=3, releaselevel='final', serial=0)\n",
      "matplotlib 3.10.0\n",
      "numpy 1.26.4\n",
      "pandas 2.2.3\n",
      "sklearn 1.6.0\n",
      "torch 2.5.1+cpu\n",
      "cpu\n"
     ]
    }
   ],
   "execution_count": 1
  },
  {
   "cell_type": "code",
   "execution_count": 2,
   "outputs": [
    {
     "data": {
      "text/plain": "784"
     },
     "execution_count": 2,
     "metadata": {},
     "output_type": "execute_result"
    }
   ],
   "source": [
    "28*28"
   ],
   "metadata": {
    "collapsed": false,
    "ExecuteTime": {
     "end_time": "2024-07-17T03:06:30.417590400Z",
     "start_time": "2024-07-17T03:06:30.410095400Z"
    }
   }
  },
  {
   "cell_type": "markdown",
   "metadata": {},
   "source": "## 数据准备1，为了看灰度图片"
  },
  {
   "cell_type": "code",
   "metadata": {
    "ExecuteTime": {
     "end_time": "2025-01-15T02:13:06.382299Z",
     "start_time": "2025-01-15T02:13:06.356673Z"
    }
   },
   "source": [
    "from torchvision import datasets\n",
    "from torchvision.transforms import ToTensor\n",
    "from torchvision import transforms\n",
    "\n",
    "\n",
    "# 定义数据集的变换\n",
    "transform = transforms.Compose([\n",
    "])\n",
    "# fashion_mnist图像分类数据集，衣服分类，60000张训练图片，10000张测试图片\n",
    "train_ds = datasets.FashionMNIST(\n",
    "    root=\"data\",\n",
    "    train=True,\n",
    "    download=True,\n",
    "    transform=transform\n",
    ")\n",
    "\n",
    "test_ds = datasets.FashionMNIST(\n",
    "    root=\"data\",\n",
    "    train=False,\n",
    "    download=True,\n",
    "    transform=transform\n",
    ")\n",
    "\n",
    "# torchvision 数据集里没有提供训练集和验证集的划分\n",
    "# 当然也可以用 torch.utils.data.Dataset 实现人为划分"
   ],
   "outputs": [],
   "execution_count": 10
  },
  {
   "cell_type": "code",
   "source": [
    "type(train_ds)"
   ],
   "metadata": {
    "collapsed": false,
    "ExecuteTime": {
     "end_time": "2025-01-15T02:13:08.733474Z",
     "start_time": "2025-01-15T02:13:08.730609Z"
    }
   },
   "outputs": [
    {
     "data": {
      "text/plain": [
       "torchvision.datasets.mnist.FashionMNIST"
      ]
     },
     "execution_count": 11,
     "metadata": {},
     "output_type": "execute_result"
    }
   ],
   "execution_count": 11
  },
  {
   "cell_type": "code",
   "source": [
    "len(train_ds)"
   ],
   "metadata": {
    "collapsed": false,
    "ExecuteTime": {
     "end_time": "2025-01-15T02:13:11.750565Z",
     "start_time": "2025-01-15T02:13:11.747604Z"
    }
   },
   "outputs": [
    {
     "data": {
      "text/plain": [
       "60000"
      ]
     },
     "execution_count": 12,
     "metadata": {},
     "output_type": "execute_result"
    }
   ],
   "execution_count": 12
  },
  {
   "cell_type": "code",
   "source": [
    "type(train_ds[0])"
   ],
   "metadata": {
    "collapsed": false,
    "ExecuteTime": {
     "end_time": "2025-01-15T02:13:13.594811Z",
     "start_time": "2025-01-15T02:13:13.591838Z"
    }
   },
   "outputs": [
    {
     "data": {
      "text/plain": [
       "tuple"
      ]
     },
     "execution_count": 13,
     "metadata": {},
     "output_type": "execute_result"
    }
   ],
   "execution_count": 13
  },
  {
   "cell_type": "code",
   "metadata": {
    "ExecuteTime": {
     "end_time": "2025-01-15T02:13:21.371514Z",
     "start_time": "2025-01-15T02:13:21.368524Z"
    }
   },
   "source": [
    "# 通过id取数据，取到的是一个元祖,是第一个样本,在训练时，把特征和标签分开\n",
    "img, label = train_ds[0]"
   ],
   "outputs": [],
   "execution_count": 15
  },
  {
   "metadata": {
    "ExecuteTime": {
     "end_time": "2025-01-15T02:13:23.638090Z",
     "start_time": "2025-01-15T02:13:23.635545Z"
    }
   },
   "cell_type": "code",
   "source": "type(img) #tensor中文是 张量,和numpy的ndarray类似",
   "outputs": [
    {
     "data": {
      "text/plain": [
       "PIL.Image.Image"
      ]
     },
     "execution_count": 16,
     "metadata": {},
     "output_type": "execute_result"
    }
   ],
   "execution_count": 16
  },
  {
   "metadata": {
    "ExecuteTime": {
     "end_time": "2025-01-14T08:16:50.708516Z",
     "start_time": "2025-01-14T08:16:50.682030Z"
    }
   },
   "cell_type": "code",
   "source": "img",
   "outputs": [
    {
     "data": {
      "text/plain": [
       "<PIL.Image.Image image mode=L size=28x28>"
      ],
      "image/png": "[encoded data removed]",
      "image/jpeg": "[encoded data removed]"
     },
     "execution_count": 16,
     "metadata": {},
     "output_type": "execute_result"
    }
   ],
   "execution_count": 16
  },
  {
   "cell_type": "code",
   "source": [
    "type(img)"
   ],
   "metadata": {
    "collapsed": false,
    "ExecuteTime": {
     "end_time": "2025-01-15T02:13:39.174388Z",
     "start_time": "2025-01-15T02:13:39.171790Z"
    }
   },
   "outputs": [
    {
     "data": {
      "text/plain": [
       "PIL.Image.Image"
      ]
     },
     "execution_count": 18,
     "metadata": {},
     "output_type": "execute_result"
    }
   ],
   "execution_count": 18
  },
  {
   "cell_type": "code",
   "execution_count": 10,
   "outputs": [
    {
     "data": {
      "text/plain": "9"
     },
     "execution_count": 10,
     "metadata": {},
     "output_type": "execute_result"
    }
   ],
   "source": [
    "label"
   ],
   "metadata": {
    "collapsed": false,
    "ExecuteTime": {
     "end_time": "2024-07-17T03:06:33.599820400Z",
     "start_time": "2024-07-17T03:06:33.545914600Z"
    }
   }
  },
  {
   "cell_type": "code",
   "source": [
    "# 显示图片，这里需要把transforms.ToTensor(),进行归一化注释掉，否则是不行的\n",
    "def show_img_content(img):\n",
    "    from PIL import Image\n",
    "\n",
    "    # 打开一个图像文件\n",
    "    # img = Image.open(img)\n",
    "\n",
    "\n",
    "    print(\"图像大小:\", img.size)\n",
    "    print(\"图像模式:\", img.mode)\n",
    "\n",
    "\n",
    "    # 如果图像是单通道的，比如灰度图，你可以这样获取像素值列表：\n",
    "    if img.mode == 'L':\n",
    "        pixel_values = list(img.getdata())\n",
    "        print(pixel_values)\n",
    "show_img_content(img) #这里必须把上面的 transforms.ToTensor(), # 转换为tensor，进行归一化注释掉，否则是不行的"
   ],
   "metadata": {
    "collapsed": false,
    "ExecuteTime": {
     "end_time": "2025-01-15T02:13:50.749937Z",
     "start_time": "2025-01-15T02:13:50.747354Z"
    }
   },
   "outputs": [
    {
     "name": "stdout",
     "output_type": "stream",
     "text": [
      "图像大小: (28, 28)\n",
      "图像模式: L\n",
      "[0, 0, 0, 0, 0, 0, 0, 0, 0, 0, 0, 0, 0, 0, 0, 0, 0, 0, 0, 0, 0, 0, 0, 0, 0, 0, 0, 0, 0, 0, 0, 0, 0, 0, 0, 0, 0, 0, 0, 0, 0, 0, 0, 0, 0, 0, 0, 0, 0, 0, 0, 0, 0, 0, 0, 0, 0, 0, 0, 0, 0, 0, 0, 0, 0, 0, 0, 0, 0, 0, 0, 0, 0, 0, 0, 0, 0, 0, 0, 0, 0, 0, 0, 0, 0, 0, 0, 0, 0, 0, 0, 0, 0, 0, 0, 0, 1, 0, 0, 13, 73, 0, 0, 1, 4, 0, 0, 0, 0, 1, 1, 0, 0, 0, 0, 0, 0, 0, 0, 0, 0, 0, 0, 0, 3, 0, 36, 136, 127, 62, 54, 0, 0, 0, 1, 3, 4, 0, 0, 3, 0, 0, 0, 0, 0, 0, 0, 0, 0, 0, 0, 0, 6, 0, 102, 204, 176, 134, 144, 123, 23, 0, 0, 0, 0, 12, 10, 0, 0, 0, 0, 0, 0, 0, 0, 0, 0, 0, 0, 0, 0, 0, 155, 236, 207, 178, 107, 156, 161, 109, 64, 23, 77, 130, 72, 15, 0, 0, 0, 0, 0, 0, 0, 0, 0, 0, 0, 1, 0, 69, 207, 223, 218, 216, 216, 163, 127, 121, 122, 146, 141, 88, 172, 66, 0, 0, 0, 0, 0, 0, 0, 0, 0, 1, 1, 1, 0, 200, 232, 232, 233, 229, 223, 223, 215, 213, 164, 127, 123, 196, 229, 0, 0, 0, 0, 0, 0, 0, 0, 0, 0, 0, 0, 0, 0, 183, 225, 216, 223, 228, 235, 227, 224, 222, 224, 221, 223, 245, 173, 0, 0, 0, 0, 0, 0, 0, 0, 0, 0, 0, 0, 0, 0, 193, 228, 218, 213, 198, 180, 212, 210, 211, 213, 223, 220, 243, 202, 0, 0, 0, 0, 0, 0, 0, 0, 0, 0, 1, 3, 0, 12, 219, 220, 212, 218, 192, 169, 227, 208, 218, 224, 212, 226, 197, 209, 52, 0, 0, 0, 0, 0, 0, 0, 0, 0, 0, 6, 0, 99, 244, 222, 220, 218, 203, 198, 221, 215, 213, 222, 220, 245, 119, 167, 56, 0, 0, 0, 0, 0, 0, 0, 0, 0, 4, 0, 0, 55, 236, 228, 230, 228, 240, 232, 213, 218, 223, 234, 217, 217, 209, 92, 0, 0, 0, 1, 4, 6, 7, 2, 0, 0, 0, 0, 0, 237, 226, 217, 223, 222, 219, 222, 221, 216, 223, 229, 215, 218, 255, 77, 0, 0, 3, 0, 0, 0, 0, 0, 0, 0, 62, 145, 204, 228, 207, 213, 221, 218, 208, 211, 218, 224, 223, 219, 215, 224, 244, 159, 0, 0, 0, 0, 0, 18, 44, 82, 107, 189, 228, 220, 222, 217, 226, 200, 205, 211, 230, 224, 234, 176, 188, 250, 248, 233, 238, 215, 0, 0, 57, 187, 208, 224, 221, 224, 208, 204, 214, 208, 209, 200, 159, 245, 193, 206, 223, 255, 255, 221, 234, 221, 211, 220, 232, 246, 0, 3, 202, 228, 224, 221, 211, 211, 214, 205, 205, 205, 220, 240, 80, 150, 255, 229, 221, 188, 154, 191, 210, 204, 209, 222, 228, 225, 0, 98, 233, 198, 210, 222, 229, 229, 234, 249, 220, 194, 215, 217, 241, 65, 73, 106, 117, 168, 219, 221, 215, 217, 223, 223, 224, 229, 29, 75, 204, 212, 204, 193, 205, 211, 225, 216, 185, 197, 206, 198, 213, 240, 195, 227, 245, 239, 223, 218, 212, 209, 222, 220, 221, 230, 67, 48, 203, 183, 194, 213, 197, 185, 190, 194, 192, 202, 214, 219, 221, 220, 236, 225, 216, 199, 206, 186, 181, 177, 172, 181, 205, 206, 115, 0, 122, 219, 193, 179, 171, 183, 196, 204, 210, 213, 207, 211, 210, 200, 196, 194, 191, 195, 191, 198, 192, 176, 156, 167, 177, 210, 92, 0, 0, 74, 189, 212, 191, 175, 172, 175, 181, 185, 188, 189, 188, 193, 198, 204, 209, 210, 210, 211, 188, 188, 194, 192, 216, 170, 0, 2, 0, 0, 0, 66, 200, 222, 237, 239, 242, 246, 243, 244, 221, 220, 193, 191, 179, 182, 182, 181, 176, 166, 168, 99, 58, 0, 0, 0, 0, 0, 0, 0, 0, 0, 40, 61, 44, 72, 41, 35, 0, 0, 0, 0, 0, 0, 0, 0, 0, 0, 0, 0, 0, 0, 0, 0, 0, 0, 0, 0, 0, 0, 0, 0, 0, 0, 0, 0, 0, 0, 0, 0, 0, 0, 0, 0, 0, 0, 0, 0, 0, 0, 0, 0, 0, 0, 0, 0, 0, 0, 0, 0, 0, 0, 0, 0, 0, 0, 0, 0, 0, 0, 0, 0, 0, 0, 0, 0, 0, 0, 0]\n"
     ]
    }
   ],
   "execution_count": 19
  },
  {
   "cell_type": "code",
   "source": [
    "#这个代码必须是注释了上面的 transforms.ToTensor()才能够运行的\n",
    "def show_single_image(img_arr):\n",
    "    plt.imshow(img_arr, cmap=\"binary\") # 显示图片\n",
    "    plt.colorbar() # 显示颜色条\n",
    "    plt.show()\n",
    "\n",
    "\n",
    "show_single_image(img)"
   ],
   "metadata": {
    "collapsed": false,
    "ExecuteTime": {
     "end_time": "2025-01-15T02:13:52.822873Z",
     "start_time": "2025-01-15T02:13:52.763338Z"
    }
   },
   "outputs": [
    {
     "data": {
      "text/plain": [
       "<Figure size 640x480 with 2 Axes>"
      ],
      "image/png": "[encoded data removed]"
     },
     "metadata": {},
     "output_type": "display_data"
    }
   ],
   "execution_count": 20
  },
  {
   "metadata": {},
   "cell_type": "markdown",
   "source": "# 数据准备2，为训练做准备"
  },
  {
   "metadata": {
    "ExecuteTime": {
     "end_time": "2025-01-15T02:14:25.546963Z",
     "start_time": "2025-01-15T02:14:25.515199Z"
    }
   },
   "cell_type": "code",
   "source": [
    "from torchvision import datasets\n",
    "from torchvision.transforms import ToTensor\n",
    "from torchvision import transforms\n",
    "\n",
    "\n",
    "# 定义数据集的变换\n",
    "transform = transforms.Compose([\n",
    "    transforms.ToTensor(), # 转换为tensor，进行归一化\n",
    "    # transforms.Normalize(mean, std) # 标准化，mean和std是数据集的均值和方差\n",
    "])\n",
    "# fashion_mnist图像分类数据集，衣服分类，60000张训练图片，10000张测试图片\n",
    "train_ds = datasets.FashionMNIST(\n",
    "    root=\"data\",\n",
    "    train=True,\n",
    "    download=True,\n",
    "    transform=transform\n",
    ")\n",
    "\n",
    "test_ds = datasets.FashionMNIST(\n",
    "    root=\"data\",\n",
    "    train=False,\n",
    "    download=True,\n",
    "    transform=transform\n",
    ")\n",
    "\n",
    "# torchvision 数据集里没有提供训练集和验证集的划分\n",
    "# 当然也可以用 torch.utils.data.Dataset 实现人为划分"
   ],
   "outputs": [],
   "execution_count": 22
  },
  {
   "metadata": {
    "ExecuteTime": {
     "end_time": "2025-01-15T02:14:27.340800Z",
     "start_time": "2025-01-15T02:14:27.337143Z"
    }
   },
   "cell_type": "code",
   "source": [
    "img, label = train_ds[0]\n",
    "img.shape  #img这时是一个tensor，shape=(1, 28, 28)"
   ],
   "outputs": [
    {
     "data": {
      "text/plain": [
       "torch.Size([1, 28, 28])"
      ]
     },
     "execution_count": 23,
     "metadata": {},
     "output_type": "execute_result"
    }
   ],
   "execution_count": 23
  },
  {
   "metadata": {},
   "cell_type": "code",
   "outputs": [],
   "execution_count": null,
   "source": [
    "#计算均值和方差\n",
    "def cal_mean_std(ds):\n",
    "    mean = 0.\n",
    "    std = 0.\n",
    "    for img, _ in ds:  # 遍历每张图片,img.shape=[1,28,28]\n",
    "        mean += img.mean(dim=(1, 2))  # 计算每张图片的均值，dim=(1, 2)表示计算每张图片的每一个像素的均值,行列共同求均值\n",
    "        std += img.std(dim=(1, 2))\n",
    "    mean /= len(ds)\n",
    "    std /= len(ds)\n",
    "    return mean, std\n",
    "\n",
    "\n",
    "print(cal_mean_std(train_ds))\n"
   ]
  },
  {
   "cell_type": "code",
   "metadata": {
    "ExecuteTime": {
     "end_time": "2025-01-15T01:38:53.204831Z",
     "start_time": "2025-01-15T01:38:52.991635Z"
    }
   },
   "source": [
    "def show_imgs(n_rows, n_cols, train_ds, class_names):\n",
    "    assert n_rows * n_cols < len(train_ds)  #确保打印的图片小于总样本数\n",
    "    plt.figure(figsize = (n_cols * 1.4, n_rows * 1.6))  #宽1.4高1.6，宽，高\n",
    "    for row in range(n_rows):\n",
    "        for col in range(n_cols):\n",
    "            index = n_cols * row + col  # 计算索引，从0开始\n",
    "            plt.subplot(n_rows, n_cols, index+1)#因为从1开始\n",
    "            img_arr, label = train_ds[index]\n",
    "            img_arr = np.transpose(img_arr, (1, 2, 0))  # 通道换到最后一维\n",
    "            plt.imshow(img_arr, cmap=\"binary\",\n",
    "                       interpolation = 'nearest')#interpolation='nearest'是临近插值\n",
    "            plt.axis('off')#去除坐标系\n",
    "            plt.title(class_names[label]) # 显示类别名称\n",
    "    plt.show()\n",
    "    \n",
    "    \n",
    "\n",
    "#已知的图片类别\n",
    "# lables在这个路径https://github.com/zalandoresearch/fashion-mnist\n",
    "class_names = ['T-shirt', 'Trouser', 'Pullover', 'Dress',\n",
    "               'Coat', 'Sandal', 'Shirt', 'Sneaker',\n",
    "               'Bag', 'Ankle boot'] #0-9分别代表的类别\n",
    "#只是打印了前15个样本\n",
    "show_imgs(3, 5, train_ds, class_names)\n"
   ],
   "outputs": [
    {
     "data": {
      "text/plain": [
       "<Figure size 700x480 with 15 Axes>"
      ],
      "image/png": "[encoded data removed]"
     },
     "metadata": {},
     "output_type": "display_data"
    }
   ],
   "execution_count": 8
  },
  {
   "cell_type": "code",
   "metadata": {
    "ExecuteTime": {
     "end_time": "2025-01-15T01:46:38.064599Z",
     "start_time": "2025-01-15T01:46:38.061257Z"
    }
   },
   "source": [
    "# 从数据集到dataloader\n",
    "train_loader = torch.utils.data.DataLoader(train_ds, batch_size=32, shuffle=True) #batch_size分批，shuffle洗牌\n",
    "val_loader = torch.utils.data.DataLoader(test_ds, batch_size=32, shuffle=False)"
   ],
   "outputs": [],
   "execution_count": 9
  },
  {
   "cell_type": "markdown",
   "source": [
    "在PyTorch中，`DataLoader`是一个迭代器，它封装了数据的加载和预处理过程，使得在训练机器学习模型时可以方便地批量加载数据。`DataLoader`主要负责以下几个方面：\n",
    "\n",
    "1. **批量加载数据**：`DataLoader`可以将数据集（Dataset）切分为更小的批次（batch），每次迭代提供一小批量数据，而不是单个数据点。这有助于模型学习数据中的统计依赖性，并且可以更高效地利用GPU等硬件的并行计算能力。\n",
    "\n",
    "2. **数据打乱**：默认情况下，`DataLoader`会在每个epoch（训练周期）开始时打乱数据的顺序。这有助于模型训练时避免陷入局部最优解，并且可以提高模型的泛化能力。\n",
    "\n",
    "3. **多线程数据加载**：`DataLoader`支持多线程（通过参数`num_workers`）来并行地加载数据，这可以显著减少训练过程中的等待时间，尤其是在处理大规模数据集时。\n",
    "\n",
    "4. **数据预处理**：`DataLoader`可以与`transforms`结合使用，对加载的数据进行预处理，如归一化、标准化、数据增强等操作。\n",
    "\n",
    "5. **内存管理**：`DataLoader`负责管理数据的内存使用，确保在训练过程中不会耗尽内存资源。\n",
    "\n",
    "6. **易用性**：`DataLoader`提供了一个简单的接口，可以很容易地集成到训练循环中。\n",
    "\n"
   ],
   "metadata": {
    "collapsed": false
   }
  },
  {
   "metadata": {
    "ExecuteTime": {
     "end_time": "2025-01-15T02:27:52.029581Z",
     "start_time": "2025-01-15T02:27:52.017310Z"
    }
   },
   "cell_type": "code",
   "source": [
    "for datas, labels in train_loader:\n",
    "    print(datas.shape)\n",
    "    print(labels.shape)\n",
    "    break\n",
    "#查看val_loader\n",
    "for datas, labels in val_loader:\n",
    "    print(datas.shape)\n",
    "    print(labels.shape)\n",
    "    break"
   ],
   "outputs": [
    {
     "name": "stdout",
     "output_type": "stream",
     "text": [
      "torch.Size([32, 1, 28, 28])\n",
      "torch.Size([32])\n",
      "torch.Size([32, 1, 28, 28])\n",
      "torch.Size([32])\n"
     ]
    }
   ],
   "execution_count": 24
  },
  {
   "cell_type": "markdown",
   "metadata": {},
   "source": [
    "## 定义模型"
   ]
  },
  {
   "cell_type": "code",
   "metadata": {
    "ExecuteTime": {
     "end_time": "2025-01-15T02:41:42.214317Z",
     "start_time": "2025-01-15T02:41:42.209523Z"
    }
   },
   "source": [
    "class NeuralNetwork(nn.Module):\n",
    "    def __init__(self):\n",
    "        super().__init__() # 继承父类的初始化方法，子类有父类的属性\n",
    "        self.flatten = nn.Flatten()  # 展平层\n",
    "        self.linear_relu_stack = nn.Sequential(\n",
    "            nn.Linear(784, 300),  # in_features=784, out_features=300, 784是输入特征数，300是输出特征数\n",
    "            nn.ReLU(), # 激活函数\n",
    "            nn.Linear(300, 100),#隐藏层神经元数100\n",
    "            nn.ReLU(), # 激活函数\n",
    "            nn.Linear(100, 10),#输出层神经元数10 \n",
    "        )\n",
    "\n",
    "    def forward(self, x): # 前向计算，前向传播\n",
    "        # x.shape [batch size, 1, 28, 28],1是通道数\n",
    "        x = self.flatten(x)  \n",
    "        # print(f'x.shape--{x.shape}')\n",
    "        # 展平后 x.shape [batch size, 784]\n",
    "        logits = self.linear_relu_stack(x)\n",
    "        # logits.shape [batch size, 10]\n",
    "        return logits #没有经过softmax,称为logits\n",
    "    \n",
    "model = NeuralNetwork()"
   ],
   "outputs": [],
   "execution_count": 36
  },
  {
   "cell_type": "code",
   "metadata": {
    "ExecuteTime": {
     "end_time": "2025-01-15T02:33:30.010091Z",
     "start_time": "2025-01-15T02:33:30.007355Z"
    }
   },
   "source": [
    "# 看看网络结构\n",
    "model"
   ],
   "outputs": [
    {
     "data": {
      "text/plain": [
       "NeuralNetwork(\n",
       "  (flatten): Flatten(start_dim=1, end_dim=-1)\n",
       "  (linear_relu_stack): Sequential(\n",
       "    (0): Linear(in_features=784, out_features=300, bias=True)\n",
       "    (1): ReLU()\n",
       "    (2): Linear(in_features=300, out_features=100, bias=True)\n",
       "    (3): ReLU()\n",
       "    (4): Linear(in_features=100, out_features=10, bias=True)\n",
       "  )\n",
       ")"
      ]
     },
     "execution_count": 27,
     "metadata": {},
     "output_type": "execute_result"
    }
   ],
   "execution_count": 27
  },
  {
   "metadata": {
    "ExecuteTime": {
     "end_time": "2025-01-15T02:41:29.428586Z",
     "start_time": "2025-01-15T02:41:29.424878Z"
    }
   },
   "cell_type": "code",
   "source": [
    "#为了查看模型运算的tensor尺寸\n",
    "x = torch.randn(32, 1, 28, 28)\n",
    "print(x.shape)\n",
    "logits = model(x)\n",
    "print(logits.shape)"
   ],
   "outputs": [
    {
     "name": "stdout",
     "output_type": "stream",
     "text": [
      "torch.Size([32, 1, 28, 28])\n",
      "x.shapetorch.Size([32, 784])\n",
      "torch.Size([32, 10])\n"
     ]
    }
   ],
   "execution_count": 35
  },
  {
   "cell_type": "code",
   "source": [
    "784*300+300+300*100+100+100*10+10"
   ],
   "metadata": {
    "collapsed": false,
    "ExecuteTime": {
     "end_time": "2025-01-15T02:34:28.868806Z",
     "start_time": "2025-01-15T02:34:28.865311Z"
    }
   },
   "outputs": [
    {
     "data": {
      "text/plain": [
       "266610"
      ]
     },
     "execution_count": 28,
     "metadata": {},
     "output_type": "execute_result"
    }
   ],
   "execution_count": 28
  },
  {
   "cell_type": "code",
   "metadata": {
    "ExecuteTime": {
     "end_time": "2025-01-15T02:38:23.349319Z",
     "start_time": "2025-01-15T02:38:23.346015Z"
    }
   },
   "source": [
    "for name, param in model.named_parameters(): # 打印模型参数\n",
    "      print(name, param.shape)"
   ],
   "outputs": [
    {
     "name": "stdout",
     "output_type": "stream",
     "text": [
      "linear_relu_stack.0.weight torch.Size([300, 784])\n",
      "linear_relu_stack.0.bias torch.Size([300])\n",
      "linear_relu_stack.2.weight torch.Size([100, 300])\n",
      "linear_relu_stack.2.bias torch.Size([100])\n",
      "linear_relu_stack.4.weight torch.Size([10, 100])\n",
      "linear_relu_stack.4.bias torch.Size([10])\n"
     ]
    }
   ],
   "execution_count": 30
  },
  {
   "cell_type": "code",
   "metadata": {
    "ExecuteTime": {
     "end_time": "2025-01-15T02:47:39.617675Z",
     "start_time": "2025-01-15T02:47:39.607784Z"
    }
   },
   "source": [
    "# 看看模型参数\n",
    "list(model.parameters())  # 这种方法拿到模型的所有可学习参数,requires_grad=True\n"
   ],
   "outputs": [
    {
     "data": {
      "text/plain": [
       "[Parameter containing:\n",
       " tensor([[ 0.0193,  0.0129,  0.0254,  ..., -0.0257, -0.0175, -0.0086],\n",
       "         [-0.0196,  0.0020, -0.0148,  ..., -0.0153, -0.0165, -0.0058],\n",
       "         [ 0.0264,  0.0100, -0.0072,  ..., -0.0321,  0.0221,  0.0179],\n",
       "         ...,\n",
       "         [-0.0207,  0.0125,  0.0267,  ...,  0.0014, -0.0336,  0.0141],\n",
       "         [-0.0044,  0.0256,  0.0048,  ...,  0.0356, -0.0295,  0.0041],\n",
       "         [ 0.0020,  0.0264,  0.0023,  ..., -0.0357, -0.0184,  0.0222]],\n",
       "        requires_grad=True),\n",
       " Parameter containing:\n",
       " tensor([ 0.0355,  0.0116, -0.0354, -0.0079,  0.0184, -0.0039, -0.0007,  0.0348,\n",
       "         -0.0266, -0.0277, -0.0081, -0.0155,  0.0282, -0.0193,  0.0271,  0.0113,\n",
       "          0.0276, -0.0267, -0.0168,  0.0080, -0.0199,  0.0016, -0.0271, -0.0134,\n",
       "         -0.0220,  0.0057, -0.0146, -0.0266,  0.0290, -0.0261,  0.0068,  0.0180,\n",
       "          0.0068, -0.0158,  0.0068, -0.0133, -0.0212, -0.0158, -0.0254,  0.0119,\n",
       "          0.0123,  0.0197,  0.0295, -0.0137,  0.0306,  0.0052,  0.0290,  0.0085,\n",
       "         -0.0331,  0.0143, -0.0238,  0.0127, -0.0249,  0.0324,  0.0119,  0.0183,\n",
       "         -0.0294, -0.0074, -0.0263,  0.0199, -0.0117,  0.0136, -0.0076,  0.0146,\n",
       "          0.0066, -0.0117, -0.0357,  0.0326, -0.0187, -0.0100, -0.0160, -0.0088,\n",
       "          0.0319, -0.0027,  0.0009,  0.0128,  0.0300,  0.0033,  0.0071,  0.0045,\n",
       "          0.0084, -0.0041,  0.0345,  0.0106, -0.0031, -0.0297, -0.0285, -0.0260,\n",
       "          0.0178,  0.0266, -0.0183,  0.0232,  0.0098, -0.0202, -0.0138,  0.0220,\n",
       "         -0.0085,  0.0266, -0.0249,  0.0151,  0.0216, -0.0180, -0.0199, -0.0151,\n",
       "          0.0278,  0.0165, -0.0058,  0.0286,  0.0145,  0.0319, -0.0351,  0.0207,\n",
       "         -0.0314,  0.0201, -0.0202,  0.0191,  0.0088, -0.0142,  0.0227,  0.0174,\n",
       "          0.0097, -0.0105, -0.0227, -0.0315, -0.0146,  0.0151,  0.0325,  0.0216,\n",
       "         -0.0059, -0.0326, -0.0206,  0.0089,  0.0109, -0.0105, -0.0171, -0.0063,\n",
       "          0.0233, -0.0263,  0.0145,  0.0078,  0.0117, -0.0087, -0.0002, -0.0123,\n",
       "          0.0311, -0.0225, -0.0229,  0.0096, -0.0158, -0.0297,  0.0302, -0.0082,\n",
       "         -0.0189,  0.0341, -0.0280, -0.0086, -0.0322,  0.0274,  0.0197,  0.0310,\n",
       "         -0.0039, -0.0102, -0.0158,  0.0285,  0.0147, -0.0086,  0.0042,  0.0346,\n",
       "          0.0145,  0.0161,  0.0115, -0.0042,  0.0137, -0.0123,  0.0084, -0.0324,\n",
       "         -0.0270,  0.0035,  0.0309, -0.0238,  0.0166, -0.0337,  0.0015,  0.0042,\n",
       "         -0.0009,  0.0161,  0.0077, -0.0094,  0.0079,  0.0102, -0.0157,  0.0069,\n",
       "          0.0089, -0.0133,  0.0004,  0.0077,  0.0293,  0.0348,  0.0197,  0.0169,\n",
       "         -0.0015,  0.0239, -0.0287,  0.0130,  0.0198, -0.0116,  0.0180,  0.0189,\n",
       "         -0.0018,  0.0035, -0.0236,  0.0298,  0.0205, -0.0057,  0.0080, -0.0139,\n",
       "         -0.0053, -0.0157, -0.0210,  0.0307, -0.0039, -0.0151,  0.0010, -0.0081,\n",
       "          0.0128, -0.0266,  0.0154, -0.0006,  0.0072,  0.0246,  0.0341, -0.0004,\n",
       "          0.0116,  0.0193,  0.0279,  0.0328, -0.0179, -0.0152,  0.0197, -0.0244,\n",
       "          0.0246, -0.0264,  0.0259,  0.0157, -0.0048, -0.0155,  0.0133, -0.0335,\n",
       "          0.0206,  0.0115,  0.0162,  0.0124, -0.0327, -0.0243,  0.0050,  0.0267,\n",
       "         -0.0021, -0.0062,  0.0221,  0.0267, -0.0280,  0.0232, -0.0079,  0.0089,\n",
       "          0.0146, -0.0148,  0.0015,  0.0257,  0.0205,  0.0162,  0.0019,  0.0103,\n",
       "         -0.0248,  0.0344, -0.0062,  0.0094, -0.0261, -0.0128,  0.0335, -0.0042,\n",
       "         -0.0136, -0.0326, -0.0039, -0.0161, -0.0221, -0.0111,  0.0234,  0.0357,\n",
       "          0.0005, -0.0183, -0.0234,  0.0322,  0.0055, -0.0148,  0.0191,  0.0265,\n",
       "          0.0214, -0.0211, -0.0314, -0.0136], requires_grad=True),\n",
       " Parameter containing:\n",
       " tensor([[ 0.0247, -0.0074, -0.0172,  ...,  0.0120,  0.0069, -0.0211],\n",
       "         [ 0.0324, -0.0217, -0.0183,  ..., -0.0444, -0.0305, -0.0155],\n",
       "         [-0.0172, -0.0306, -0.0129,  ..., -0.0265,  0.0148,  0.0212],\n",
       "         ...,\n",
       "         [ 0.0541,  0.0279, -0.0005,  ..., -0.0354, -0.0103,  0.0166],\n",
       "         [ 0.0316, -0.0281,  0.0363,  ..., -0.0223, -0.0539,  0.0456],\n",
       "         [ 0.0482, -0.0474,  0.0301,  ..., -0.0454, -0.0088,  0.0179]],\n",
       "        requires_grad=True),\n",
       " Parameter containing:\n",
       " tensor([-0.0549,  0.0067, -0.0281, -0.0304, -0.0371, -0.0007, -0.0034, -0.0061,\n",
       "         -0.0564,  0.0514, -0.0263,  0.0522, -0.0084, -0.0018, -0.0548,  0.0272,\n",
       "          0.0424, -0.0253, -0.0508, -0.0132, -0.0102,  0.0322,  0.0162,  0.0352,\n",
       "         -0.0525,  0.0209, -0.0031,  0.0409,  0.0040,  0.0390, -0.0143,  0.0093,\n",
       "         -0.0206, -0.0345, -0.0315,  0.0208,  0.0551,  0.0500, -0.0232, -0.0569,\n",
       "          0.0516,  0.0166,  0.0548, -0.0078,  0.0005,  0.0376, -0.0212, -0.0116,\n",
       "          0.0424,  0.0137,  0.0022,  0.0541,  0.0476,  0.0030,  0.0182, -0.0405,\n",
       "          0.0260, -0.0533, -0.0438,  0.0247, -0.0440, -0.0030,  0.0240,  0.0400,\n",
       "          0.0081, -0.0209,  0.0381,  0.0421,  0.0088,  0.0404,  0.0523,  0.0242,\n",
       "         -0.0383,  0.0333, -0.0020,  0.0416,  0.0020,  0.0491,  0.0569, -0.0096,\n",
       "         -0.0269,  0.0318, -0.0287,  0.0485, -0.0086, -0.0453,  0.0102,  0.0335,\n",
       "          0.0488, -0.0516, -0.0347,  0.0226,  0.0490, -0.0038,  0.0099,  0.0045,\n",
       "         -0.0420, -0.0044,  0.0205,  0.0248], requires_grad=True),\n",
       " Parameter containing:\n",
       " tensor([[-3.5601e-02, -9.7942e-02, -8.8577e-02,  4.6133e-02,  3.3578e-03,\n",
       "          -5.9538e-02,  8.9883e-02,  4.2652e-02, -7.2786e-02, -4.4290e-02,\n",
       "          -8.5018e-02,  7.8373e-02, -5.2688e-02,  7.1229e-03,  9.8994e-02,\n",
       "          -2.4532e-02,  3.9207e-02,  6.6676e-02, -7.2313e-02,  6.8713e-02,\n",
       "           5.2375e-02, -9.5469e-02, -3.9689e-02, -7.9994e-02,  5.4932e-02,\n",
       "          -4.1948e-02, -6.4123e-02,  4.8918e-02, -5.1706e-02, -5.3377e-03,\n",
       "           9.5127e-02,  4.4926e-02,  9.5097e-02,  5.4957e-02,  8.8354e-02,\n",
       "           1.8326e-02,  3.9696e-02, -1.7166e-02,  1.4899e-02,  9.1671e-02,\n",
       "          -2.3972e-03,  8.8529e-02, -2.9868e-02,  1.0284e-02, -5.7374e-02,\n",
       "           3.2708e-02, -8.0831e-02,  9.0553e-02,  4.9517e-03, -7.8128e-02,\n",
       "           4.8253e-02, -9.2206e-02,  8.1480e-02, -8.1546e-02, -5.3104e-02,\n",
       "           1.3686e-02,  2.8876e-02, -6.1871e-02, -1.2388e-02,  8.4163e-02,\n",
       "          -4.1674e-02,  6.7441e-02, -2.3494e-02,  1.7277e-02, -4.4024e-03,\n",
       "           1.9306e-02, -5.4167e-02,  6.2217e-03,  4.5384e-02,  3.9507e-02,\n",
       "           6.8822e-02, -4.4401e-02, -6.7542e-02,  8.8495e-02,  4.0803e-02,\n",
       "           3.5141e-02,  2.3298e-02,  1.2978e-02, -8.9307e-02,  1.7340e-02,\n",
       "          -9.3287e-02, -8.7212e-02, -7.8308e-02, -7.0968e-02, -4.4588e-02,\n",
       "           7.6964e-02,  5.6563e-02, -1.8374e-02, -2.6539e-02, -6.3119e-02,\n",
       "           2.7789e-02,  7.4602e-02,  8.8759e-03, -6.3711e-02, -4.5685e-02,\n",
       "           2.3983e-02,  1.2134e-02, -7.5184e-02,  4.4194e-02, -5.6144e-02],\n",
       "         [-9.8274e-02,  8.1675e-02,  6.5160e-02, -8.3878e-02, -3.0522e-02,\n",
       "          -6.0764e-02,  7.5422e-02, -9.3385e-02,  7.8451e-02,  8.3842e-02,\n",
       "          -4.3887e-02, -3.7606e-02,  6.0842e-02, -7.6966e-02, -3.1290e-02,\n",
       "          -8.8149e-02, -5.0624e-03,  5.8349e-02,  3.2895e-02,  4.1435e-02,\n",
       "          -7.2758e-02, -1.5722e-02, -2.8167e-02, -5.1797e-02,  8.7033e-02,\n",
       "           2.4171e-02,  4.0116e-03,  3.0599e-02, -3.4999e-02,  7.8467e-02,\n",
       "          -4.0908e-02,  2.6092e-03,  4.3027e-03,  2.0698e-03, -4.9047e-02,\n",
       "          -5.2967e-02, -4.3314e-02,  5.6072e-02, -9.9253e-02,  7.3400e-02,\n",
       "           2.6134e-02,  9.8886e-02, -8.0145e-02,  3.0487e-02, -2.4529e-02,\n",
       "           3.8392e-02, -8.3920e-02,  6.0344e-02, -4.6361e-02,  3.2300e-02,\n",
       "           9.3868e-02,  6.7847e-02,  5.2724e-02, -2.0351e-02, -3.8824e-02,\n",
       "           8.8460e-02, -2.3352e-02, -5.0685e-02, -4.8574e-02, -8.8746e-02,\n",
       "          -9.0050e-02,  8.5539e-02, -3.8432e-02, -1.3920e-02, -1.3610e-02,\n",
       "          -4.6103e-02,  2.2419e-02,  8.6283e-02, -8.7566e-02,  7.4887e-02,\n",
       "           1.7377e-02,  1.0543e-02,  9.5762e-02,  9.2902e-02, -8.3409e-02,\n",
       "           4.6540e-02,  3.8619e-02, -5.4852e-02,  4.5651e-02, -4.8946e-02,\n",
       "          -6.7331e-02,  2.0054e-02, -8.8737e-03,  1.9723e-02, -5.9118e-03,\n",
       "           8.0712e-02, -5.3340e-02,  5.5798e-02,  4.3567e-02,  4.9788e-02,\n",
       "           1.6180e-02,  9.4240e-02,  6.1814e-03,  8.2957e-02, -3.5374e-02,\n",
       "           4.2070e-02, -9.6864e-02, -4.8976e-02,  6.7795e-02,  3.2200e-03],\n",
       "         [-2.7292e-03, -9.2022e-02, -7.3330e-02, -9.6081e-02,  4.1453e-02,\n",
       "           4.5537e-02, -6.1371e-02,  6.7853e-02,  1.5310e-02,  6.5403e-02,\n",
       "           5.1755e-02, -5.2207e-02, -8.8505e-02,  3.5228e-03,  1.1635e-02,\n",
       "           5.8740e-03,  4.7143e-02,  3.1183e-04,  1.8770e-02,  1.0510e-02,\n",
       "          -2.3647e-02,  9.4697e-02,  9.9580e-03,  8.3015e-02, -4.3743e-02,\n",
       "           1.7195e-02, -5.1303e-02, -6.1418e-02,  2.9727e-02,  8.3634e-02,\n",
       "           9.0352e-02, -9.0317e-02, -9.0726e-03,  4.8960e-02, -1.7573e-02,\n",
       "          -1.7171e-02, -6.7439e-02, -8.1699e-02, -6.1322e-02,  3.4608e-02,\n",
       "           8.6266e-02, -2.4879e-02, -1.6067e-02,  2.8891e-02,  5.0291e-02,\n",
       "           1.2828e-02,  3.8646e-03, -9.9567e-02, -7.0176e-02,  9.8847e-02,\n",
       "           8.7816e-02, -6.9187e-02, -1.9238e-02,  9.5543e-04,  1.8534e-02,\n",
       "          -2.2314e-03, -9.8567e-02,  5.6000e-02, -6.5039e-02, -8.6415e-02,\n",
       "           8.3800e-02, -2.7922e-02,  5.6865e-02,  5.6090e-03, -8.5642e-02,\n",
       "           9.8887e-02, -3.4404e-02,  5.6317e-03, -8.0823e-02, -9.8466e-03,\n",
       "          -4.3589e-02, -5.2469e-02, -5.9490e-03,  4.2756e-02, -9.0112e-02,\n",
       "          -4.2695e-02,  6.8533e-02, -3.0138e-02, -4.7132e-02,  1.4999e-02,\n",
       "           1.4187e-02,  9.3698e-02,  2.2677e-02,  6.0830e-02,  8.5666e-02,\n",
       "          -5.1759e-02, -4.4511e-02, -8.1692e-02,  6.7885e-02,  4.5821e-02,\n",
       "           6.6097e-02, -3.4991e-02,  8.8831e-02, -5.2271e-02, -8.4212e-02,\n",
       "           1.3594e-02,  8.2421e-02, -4.8503e-02,  4.7768e-02,  8.1849e-02],\n",
       "         [ 5.0437e-02, -1.8996e-02,  1.2338e-03, -5.4597e-03, -6.1513e-02,\n",
       "          -1.1248e-03, -1.7887e-02,  1.3916e-02,  7.2851e-02, -2.5220e-02,\n",
       "           1.9290e-02, -3.0227e-02, -4.6373e-02, -1.9455e-02,  2.9227e-02,\n",
       "          -4.4148e-02,  7.1989e-02,  8.6114e-02,  7.1265e-02, -8.7936e-02,\n",
       "           3.5527e-02,  6.1438e-02, -8.0527e-02, -3.2068e-03,  9.0487e-02,\n",
       "          -3.9917e-02, -6.9579e-02, -5.0209e-04,  5.5645e-02,  4.2119e-02,\n",
       "           6.6046e-02, -3.1766e-02, -4.0555e-03, -5.9547e-02,  4.9122e-02,\n",
       "          -5.2137e-02,  1.2769e-02,  5.4010e-02,  6.3224e-02,  5.0570e-04,\n",
       "          -5.9504e-02,  8.3342e-02,  6.5837e-02, -3.0805e-02,  7.3220e-02,\n",
       "           8.0144e-02,  9.1250e-02,  7.7802e-02,  5.1345e-03,  5.8143e-02,\n",
       "           8.7456e-04, -8.8680e-02, -7.8230e-02,  6.6349e-02, -5.1923e-02,\n",
       "          -3.0909e-02,  1.5088e-02, -3.3623e-02, -8.1530e-02, -6.6689e-03,\n",
       "          -8.7721e-02,  7.7998e-02,  5.4764e-02,  7.9612e-02,  9.4378e-02,\n",
       "           9.0028e-02,  7.7461e-02,  1.4474e-02,  9.4429e-02, -3.5624e-02,\n",
       "           7.9655e-02,  9.1062e-02,  5.0732e-02, -7.6293e-02,  4.0589e-02,\n",
       "           9.6033e-02,  2.4112e-02, -1.7267e-02,  7.1529e-02,  5.8671e-02,\n",
       "           1.0598e-02, -8.1457e-02,  6.2489e-02,  9.3421e-02,  6.5994e-02,\n",
       "          -4.5167e-02, -2.0387e-02,  2.1087e-02,  9.1141e-02, -3.8978e-02,\n",
       "          -2.6662e-02, -8.6336e-02,  7.9130e-02, -3.2844e-03, -2.4792e-02,\n",
       "           5.9617e-02, -1.8155e-02,  6.7560e-02, -9.6414e-02, -6.3195e-02],\n",
       "         [-7.6716e-02,  5.0012e-02, -9.3130e-02, -1.3011e-02,  8.5772e-02,\n",
       "           9.3530e-02,  6.2733e-02,  1.2917e-02,  1.8966e-02, -4.7746e-02,\n",
       "           4.0909e-02,  4.0541e-02,  1.1801e-03, -6.4642e-02, -8.9587e-02,\n",
       "           3.3321e-03, -2.3482e-03, -5.7087e-02, -8.3191e-02,  1.3958e-02,\n",
       "          -8.5284e-02, -2.0577e-02, -1.6377e-02, -1.8272e-02, -4.4092e-02,\n",
       "           3.6336e-02, -9.1701e-02,  3.2003e-02, -7.2300e-02,  9.2544e-02,\n",
       "          -5.3201e-02,  5.2336e-02, -3.3710e-02, -8.2335e-02, -6.4696e-02,\n",
       "          -3.9820e-02, -8.2748e-03,  7.4576e-03, -1.6969e-02, -1.2378e-02,\n",
       "           5.5833e-03,  1.3232e-04,  2.7453e-02, -5.9838e-02,  1.8426e-02,\n",
       "          -4.6022e-02, -6.4367e-04,  9.1400e-02,  5.7939e-03,  5.2112e-02,\n",
       "           2.9353e-02,  3.2336e-02,  5.4383e-02,  5.5465e-02,  3.6522e-02,\n",
       "           4.1094e-02, -9.4556e-02, -2.3188e-02, -5.7130e-02, -2.6848e-02,\n",
       "          -4.7451e-02,  2.7504e-02, -9.0964e-02, -3.4647e-02,  9.6648e-02,\n",
       "          -2.9473e-02,  2.8667e-02,  8.0833e-02, -7.3630e-02, -6.5799e-02,\n",
       "           2.0050e-02,  3.3241e-02,  1.3586e-03,  5.3845e-02,  2.6745e-02,\n",
       "           4.4362e-02, -7.6688e-02, -9.0940e-02,  1.2185e-02, -2.5316e-03,\n",
       "          -1.3300e-02, -2.5591e-02, -9.9013e-02, -3.3321e-02,  6.5190e-02,\n",
       "          -4.8627e-02,  3.3726e-03, -6.9335e-02, -9.1007e-02, -1.3590e-02,\n",
       "           3.4004e-02,  6.4099e-02, -7.1526e-02, -4.8801e-02,  4.8006e-02,\n",
       "          -2.9146e-02,  3.6318e-02, -3.2495e-02,  7.0003e-02,  9.0116e-02],\n",
       "         [ 5.2724e-02,  3.3650e-02,  1.5227e-02,  5.9439e-02, -3.1375e-02,\n",
       "          -1.3921e-02, -5.6623e-02, -1.4438e-02,  3.7056e-02,  5.3632e-02,\n",
       "           4.6734e-02,  3.8892e-02, -4.8980e-03, -8.9461e-02, -6.4321e-02,\n",
       "          -5.0307e-02, -2.1354e-02,  3.0360e-02, -7.5975e-02,  2.2117e-02,\n",
       "           9.0628e-02,  7.2030e-02, -3.6488e-02,  6.8247e-02, -3.0882e-02,\n",
       "          -7.4132e-02,  4.3945e-02, -3.7811e-02, -6.7319e-03, -4.2572e-02,\n",
       "          -2.4123e-02,  9.8532e-02,  5.4432e-02,  9.0232e-02, -7.7567e-03,\n",
       "           1.4849e-02, -5.8721e-03,  4.6753e-02, -7.7158e-02, -1.6075e-02,\n",
       "          -1.1672e-02,  2.8535e-02, -2.3614e-02, -4.5656e-02,  4.9980e-02,\n",
       "          -3.0185e-02, -2.3355e-02, -4.2122e-02, -6.6083e-02, -2.3434e-02,\n",
       "           3.1393e-02, -1.8822e-02,  8.5668e-02, -9.7642e-02, -2.7145e-02,\n",
       "          -6.1501e-02, -9.9856e-02,  1.4698e-02, -6.4478e-02,  6.8782e-02,\n",
       "           1.6452e-02,  9.7138e-02,  9.7042e-02, -1.3597e-02, -4.1204e-02,\n",
       "          -5.4675e-02,  3.0663e-02,  4.6285e-02, -6.8216e-02, -8.1160e-02,\n",
       "          -9.7382e-02, -6.8406e-02, -2.1864e-02, -9.3965e-02, -5.4067e-02,\n",
       "           5.3537e-04,  8.4304e-02,  4.1267e-03,  2.6284e-03, -2.0604e-02,\n",
       "          -7.6307e-03, -3.1849e-02,  5.7251e-02, -9.6512e-02,  7.5927e-02,\n",
       "          -2.3879e-02,  7.2066e-03,  3.3317e-02, -5.2414e-02,  9.2820e-02,\n",
       "           5.8188e-02, -8.7421e-02, -4.7356e-02, -7.0014e-04, -1.1755e-02,\n",
       "           4.6205e-02, -7.7137e-02, -1.3514e-02, -2.4242e-02, -1.7911e-02],\n",
       "         [ 1.2473e-02,  4.8242e-02, -1.6912e-02, -7.4142e-02, -8.2475e-02,\n",
       "           1.2610e-02, -1.1435e-02,  8.2715e-02, -1.0556e-02,  3.7860e-03,\n",
       "           5.3005e-02, -4.6915e-02, -9.6198e-02,  8.3650e-02, -6.2799e-02,\n",
       "           2.6640e-02,  1.7723e-03, -9.5108e-02, -2.4597e-02,  1.2462e-02,\n",
       "          -3.4732e-02,  6.7540e-02, -4.8088e-02, -5.2946e-02,  1.9943e-02,\n",
       "          -8.6499e-03, -7.0518e-02,  2.3185e-02,  6.1935e-02,  6.8027e-02,\n",
       "           5.4856e-02,  9.9004e-02,  1.3595e-02, -6.7790e-02, -2.4762e-03,\n",
       "           9.2696e-02, -5.9300e-02,  3.3065e-04, -9.8599e-02,  9.6327e-02,\n",
       "          -1.9767e-02, -4.9256e-02, -2.7733e-02, -9.8894e-02,  1.0437e-02,\n",
       "          -7.5219e-02,  5.9923e-02, -8.2564e-02,  3.9559e-02, -1.2431e-02,\n",
       "          -8.6394e-02, -2.2048e-02, -1.7044e-02,  5.1152e-02,  9.3816e-02,\n",
       "          -5.1866e-02, -4.7448e-02, -9.4013e-02,  4.9015e-02, -9.6499e-02,\n",
       "          -4.1475e-03,  7.7643e-02,  9.4576e-02,  9.3993e-02,  2.0931e-02,\n",
       "           9.2164e-06, -4.5430e-02, -4.8807e-02, -8.7959e-02, -3.8213e-02,\n",
       "           5.2134e-03,  4.7976e-02, -7.9541e-02,  6.1658e-02, -7.9375e-02,\n",
       "           9.5074e-02, -4.3509e-02,  3.9506e-02,  1.8377e-02, -1.5930e-02,\n",
       "          -8.4778e-02,  2.1484e-03, -8.1433e-02, -7.1122e-02, -1.8857e-02,\n",
       "           7.7652e-02,  2.8550e-02, -1.9790e-02,  9.4921e-02, -2.6958e-02,\n",
       "          -6.6783e-02, -3.0767e-02,  2.3986e-02, -5.6730e-02, -4.7162e-02,\n",
       "           7.4180e-02,  5.1950e-03,  9.4514e-02,  9.3489e-02, -5.7837e-02],\n",
       "         [-8.6574e-02, -1.9518e-02, -1.9963e-02,  7.1117e-02, -8.1258e-02,\n",
       "          -9.6614e-02, -3.9235e-02,  3.6748e-02, -5.6711e-03,  6.9479e-02,\n",
       "           9.0873e-04, -5.9999e-02, -2.9546e-02,  8.8007e-02, -2.5237e-02,\n",
       "           6.1512e-02,  3.8649e-02, -4.2422e-02, -9.3176e-02,  6.1351e-02,\n",
       "           6.7181e-02, -5.7764e-02, -7.4153e-02,  8.5875e-02,  1.7113e-02,\n",
       "          -6.8341e-02,  9.3672e-02, -6.8019e-02,  5.3969e-02,  1.3708e-02,\n",
       "           5.5512e-02,  8.8355e-02, -9.3288e-02,  2.6569e-02, -6.3146e-02,\n",
       "          -5.9552e-02,  3.9571e-03,  4.9719e-02, -3.7555e-02, -2.0574e-02,\n",
       "           9.1595e-02,  5.9522e-02,  1.1716e-02,  6.0011e-02, -4.7558e-03,\n",
       "           5.9612e-03,  4.2376e-02,  6.3682e-02,  9.1773e-02,  8.1829e-02,\n",
       "          -7.4296e-02,  2.5552e-02,  5.3048e-02, -5.1959e-02, -5.8132e-02,\n",
       "          -9.4031e-02,  3.7542e-02,  5.6474e-02, -7.7625e-02,  9.1964e-02,\n",
       "           3.7964e-02, -9.2419e-02,  3.1097e-02,  7.0547e-02, -8.6851e-02,\n",
       "          -3.9449e-02, -1.4707e-02, -4.7596e-02,  9.6723e-02,  2.7980e-02,\n",
       "           6.9301e-02,  2.6861e-02,  5.0863e-02,  8.3203e-02, -1.2703e-02,\n",
       "          -6.5912e-02,  2.5853e-02, -7.2680e-03, -3.4418e-02,  6.9764e-02,\n",
       "          -3.1934e-02, -2.1547e-02, -2.6072e-02, -9.2962e-03, -7.0831e-02,\n",
       "          -5.5957e-02,  8.4440e-03,  4.6133e-02,  5.9199e-02,  9.7271e-02,\n",
       "           8.7282e-02, -1.5875e-02, -8.5772e-02,  7.5234e-02,  7.1847e-02,\n",
       "          -3.6529e-02, -8.5186e-03,  6.3485e-02, -9.0895e-02, -5.5118e-02],\n",
       "         [-8.1596e-02,  3.8411e-02, -6.6610e-02, -6.1558e-02,  1.9670e-02,\n",
       "           6.9351e-02, -8.9155e-03,  6.3550e-02,  5.9895e-02,  2.1424e-02,\n",
       "           4.1118e-02,  9.1094e-02, -2.7736e-02,  8.1240e-03,  1.4398e-02,\n",
       "           9.7167e-02, -3.9104e-02, -9.5713e-02,  1.3121e-03, -8.8523e-02,\n",
       "          -1.2473e-02,  5.7877e-02,  1.4470e-03, -1.2689e-02,  2.3604e-02,\n",
       "           5.7260e-02,  3.8752e-02, -6.1645e-02, -1.8199e-03, -1.9748e-02,\n",
       "           5.0584e-02,  4.5898e-02, -4.1178e-02, -7.3993e-02, -6.8745e-02,\n",
       "           4.6738e-02, -5.1452e-02,  8.0415e-02, -2.7645e-02, -8.5673e-02,\n",
       "           7.3269e-02,  8.9386e-02, -5.4324e-02, -5.1511e-02,  4.5373e-02,\n",
       "          -5.7996e-02, -7.4358e-02, -2.2037e-02, -4.2990e-02,  5.0791e-02,\n",
       "           4.1921e-03, -8.8275e-03,  1.6707e-02, -8.4835e-02,  8.9056e-02,\n",
       "           6.4489e-02,  3.1536e-02,  6.8311e-02,  7.2844e-02,  4.6869e-02,\n",
       "           1.9067e-02, -1.7585e-02,  1.9893e-03, -3.9057e-02,  1.0408e-02,\n",
       "           6.5925e-02,  6.6654e-02, -5.3823e-02, -6.9723e-02,  4.4347e-02,\n",
       "          -6.2607e-02,  7.2620e-02, -2.7706e-02,  3.3318e-03, -6.1779e-02,\n",
       "          -6.8898e-02,  8.6571e-02,  5.1460e-04, -7.4039e-02,  8.0482e-02,\n",
       "           2.0905e-02,  9.1448e-02,  4.1904e-03, -3.6425e-02,  5.7565e-02,\n",
       "          -2.5852e-02,  5.9746e-02, -9.1786e-02,  8.2261e-02, -5.1351e-02,\n",
       "           7.6269e-02,  7.7626e-02,  9.6908e-03, -9.0551e-02,  3.1625e-02,\n",
       "           1.1570e-02,  5.0752e-02, -3.8258e-02,  7.0819e-03,  9.3696e-02],\n",
       "         [-4.4970e-02, -1.0793e-02, -5.4032e-02,  6.0277e-02,  4.8496e-02,\n",
       "          -9.2428e-02, -8.7639e-02, -5.8615e-02, -8.2393e-02, -6.7750e-02,\n",
       "          -3.5982e-02, -5.0207e-02,  2.2522e-02,  3.9522e-02,  6.1507e-02,\n",
       "          -7.9907e-02,  7.4502e-02, -1.2297e-02, -2.6608e-02,  4.3699e-02,\n",
       "          -2.7802e-03,  2.6209e-02, -9.9079e-02, -4.0191e-02, -6.7594e-02,\n",
       "           9.9601e-02, -2.2375e-02, -9.0812e-02,  8.8218e-02,  9.3857e-03,\n",
       "           6.7994e-02,  1.2283e-02, -8.4394e-02, -9.7560e-02,  4.3318e-02,\n",
       "          -7.6539e-02, -1.2849e-02,  3.0886e-02,  7.0160e-02, -5.5070e-02,\n",
       "           3.8359e-02,  9.2806e-02,  4.0700e-02,  2.6191e-02,  7.5478e-02,\n",
       "          -5.9793e-02,  8.7335e-02,  8.1586e-02,  9.3762e-02,  8.5682e-02,\n",
       "          -8.7156e-03,  1.2763e-02,  9.0963e-02, -7.0422e-02, -9.2226e-02,\n",
       "          -9.1281e-02,  3.8354e-02,  5.2968e-03, -8.4656e-03,  4.5294e-02,\n",
       "           7.8447e-02,  3.2881e-02,  6.0091e-02,  4.6977e-02,  2.9791e-02,\n",
       "           8.0814e-02,  4.2019e-02, -2.5750e-02,  1.9534e-02, -6.1935e-02,\n",
       "           1.8228e-02,  3.4992e-02, -2.5479e-02, -4.8572e-02,  4.5101e-02,\n",
       "           2.6332e-02,  6.4385e-02, -5.4435e-02,  3.5828e-02, -4.7915e-02,\n",
       "           2.9050e-02,  2.7888e-02, -7.9056e-02,  2.7443e-02,  2.0072e-02,\n",
       "           2.7240e-02, -2.8174e-02,  1.4464e-02, -6.6526e-02, -5.6345e-02,\n",
       "           6.3077e-03, -8.4557e-02,  4.2590e-02, -7.7891e-02, -9.2599e-02,\n",
       "          -5.2267e-02,  3.4290e-02,  3.0541e-02,  8.8694e-02,  1.3981e-02]],\n",
       "        requires_grad=True),\n",
       " Parameter containing:\n",
       " tensor([-0.0464, -0.0544,  0.0866, -0.0306,  0.0739,  0.0407,  0.0819, -0.0011,\n",
       "         -0.0186, -0.0588], requires_grad=True)]"
      ]
     },
     "execution_count": 37,
     "metadata": {},
     "output_type": "execute_result"
    }
   ],
   "execution_count": 37
  },
  {
   "cell_type": "code",
   "execution_count": 22,
   "metadata": {
    "ExecuteTime": {
     "end_time": "2024-07-17T03:06:34.677508500Z",
     "start_time": "2024-07-17T03:06:34.619793100Z"
    }
   },
   "outputs": [],
   "source": [
    "# model.state_dict()  # 这种方法用于保存模型参数，看能看见参数属于模型的哪一部分"
   ]
  },
  {
   "cell_type": "markdown",
   "metadata": {},
   "source": [
    "## 训练\n",
    "\n",
    "pytorch的训练需要自行实现，包括\n",
    "1. 定义损失函数\n",
    "2. 定义优化器\n",
    "3. 定义训练步\n",
    "4. 训练"
   ]
  },
  {
   "cell_type": "code",
   "metadata": {
    "ExecuteTime": {
     "end_time": "2025-01-15T02:51:52.227685Z",
     "start_time": "2025-01-15T02:51:52.224900Z"
    }
   },
   "source": [
    "# 1. 定义损失函数 采用交叉熵损失\n",
    "loss_fct = nn.CrossEntropyLoss() #内部先做softmax，然后计算交叉熵\n",
    "# 2. 定义优化器 采用SGD\n",
    "# Optimizers specified in the torch.optim package,随机梯度下降\n",
    "optimizer = torch.optim.SGD(model.parameters(), lr=0.001, momentum=0.9)"
   ],
   "outputs": [],
   "execution_count": 38
  },
  {
   "metadata": {
    "ExecuteTime": {
     "end_time": "2025-01-15T02:54:18.764007Z",
     "start_time": "2025-01-15T02:54:18.761382Z"
    }
   },
   "cell_type": "code",
   "source": "10000/32",
   "outputs": [
    {
     "data": {
      "text/plain": [
       "312.5"
      ]
     },
     "execution_count": 39,
     "metadata": {},
     "output_type": "execute_result"
    }
   ],
   "execution_count": 39
  },
  {
   "cell_type": "code",
   "metadata": {
    "ExecuteTime": {
     "end_time": "2025-01-15T03:12:38.201934Z",
     "start_time": "2025-01-15T03:12:37.782421Z"
    }
   },
   "source": [
    "from sklearn.metrics import accuracy_score\n",
    "\n",
    "@torch.no_grad() # 装饰器，禁止反向传播，节省内存\n",
    "def evaluating(model, dataloader, loss_fct):\n",
    "    loss_list = [] # 记录损失\n",
    "    pred_list = [] # 记录预测\n",
    "    label_list = [] # 记录标签\n",
    "    for datas, labels in dataloader:#10000/32=312\n",
    "        datas = datas.to(device) # 转到GPU\n",
    "        labels = labels.to(device) # 转到GPU\n",
    "        # 前向计算\n",
    "        logits = model(datas)\n",
    "        loss = loss_fct(logits, labels)         # 验证集损失,loss尺寸是一个数值\n",
    "        loss_list.append(loss.item()) # 记录损失,item是把tensor转换为数值\n",
    "        \n",
    "        preds = logits.argmax(axis=-1)    # 验证集预测,argmax返回最大值索引\n",
    "        # print(preds)\n",
    "        pred_list.extend(preds.cpu().numpy().tolist())#将PyTorch张量转换为NumPy数组。只有当张量在CPU上时，这个转换才是合法的\n",
    "        # print(preds.cpu().numpy().tolist())\n",
    "        label_list.extend(labels.cpu().numpy().tolist())\n",
    "        \n",
    "    acc = accuracy_score(label_list, pred_list) # 计算准确率\n",
    "    return np.mean(loss_list), acc\n"
   ],
   "outputs": [],
   "execution_count": 40
  },
  {
   "cell_type": "code",
   "execution_count": 25,
   "outputs": [
    {
     "data": {
      "text/plain": "37500"
     },
     "execution_count": 25,
     "metadata": {},
     "output_type": "execute_result"
    }
   ],
   "source": [
    "1875*20"
   ],
   "metadata": {
    "collapsed": false,
    "ExecuteTime": {
     "end_time": "2024-07-17T03:06:35.201490200Z",
     "start_time": "2024-07-17T03:06:35.194584600Z"
    }
   }
  },
  {
   "cell_type": "code",
   "metadata": {
    "ExecuteTime": {
     "end_time": "2025-01-15T03:24:57.495521Z",
     "start_time": "2025-01-15T03:22:42.704387Z"
    }
   },
   "source": [
    "# 训练\n",
    "def training(model, train_loader, val_loader, epoch, loss_fct, optimizer, eval_step=500):\n",
    "    record_dict = {\n",
    "        \"train\": [],\n",
    "        \"val\": []\n",
    "    }\n",
    "    \n",
    "    global_step = 0\n",
    "    model.train()\n",
    "    #tqdm是一个进度条库\n",
    "    with tqdm(total=epoch * len(train_loader)) as pbar: # 进度条 1875*20,60000/32=1875\n",
    "        for epoch_id in range(epoch): # 训练epoch次\n",
    "            # training\n",
    "            for datas, labels in train_loader: #执行次数是60000/32=1875\n",
    "                datas = datas.to(device) #datas尺寸是[batch_size,1,28,28]\n",
    "                labels = labels.to(device) #labels尺寸是[batch_size]\n",
    "                # 梯度清空\n",
    "                optimizer.zero_grad()\n",
    "                # 模型前向计算\n",
    "                logits = model(datas)\n",
    "                # 计算损失\n",
    "                loss = loss_fct(logits, labels)\n",
    "                # 梯度回传，loss.backward()会计算梯度，loss对模型参数求导\n",
    "                loss.backward()\n",
    "                # 调整优化器，包括学习率的变动等,优化器的学习率会随着训练的进行而减小，更新w,b\n",
    "                optimizer.step() #梯度是计算并存储在模型参数的 .grad 属性中，优化器使用这些存储的梯度来更新模型参数\n",
    "\n",
    "                preds = logits.argmax(axis=-1) # 训练集预测\n",
    "                acc = accuracy_score(labels.cpu().numpy(), preds.cpu().numpy())   # 计算准确率，numpy可以\n",
    "                loss = loss.cpu().item() # 损失转到CPU，item()取值,一个数值\n",
    "                # record\n",
    "                \n",
    "                record_dict[\"train\"].append({\n",
    "                    \"loss\": loss, \"acc\": acc, \"step\": global_step\n",
    "                }) # 记录训练集信息，每一步的损失，准确率，步数\n",
    "                \n",
    "                # evaluating\n",
    "                if global_step % eval_step == 0:\n",
    "                    model.eval() # 进入评估模式\n",
    "                    val_loss, val_acc = evaluating(model, val_loader, loss_fct)\n",
    "                    record_dict[\"val\"].append({\n",
    "                        \"loss\": val_loss, \"acc\": val_acc, \"step\": global_step\n",
    "                    })\n",
    "                    model.train() # 进入训练模式\n",
    "\n",
    "                # udate step\n",
    "                global_step += 1 # 全局步数加1\n",
    "                pbar.update(1) # 更新进度条\n",
    "                pbar.set_postfix({\"epoch\": epoch_id}) # 设置进度条显示信息\n",
    "        \n",
    "    return record_dict\n",
    "        \n",
    "\n",
    "epoch = 20 #改为40\n",
    "model = model.to(device)\n",
    "record = training(model, train_loader, val_loader, epoch, loss_fct, optimizer, eval_step=1000)"
   ],
   "outputs": [
    {
     "data": {
      "text/plain": [
       "  0%|          | 0/37500 [00:00<?, ?it/s]"
      ],
      "application/vnd.jupyter.widget-view+json": {
       "version_major": 2,
       "version_minor": 0,
       "model_id": "733599c7c28c43b6a3fa82bcb6710b8b"
      }
     },
     "metadata": {},
     "output_type": "display_data"
    }
   ],
   "execution_count": 41
  },
  {
   "cell_type": "code",
   "source": [
    "record[\"train\"][-5:]"
   ],
   "metadata": {
    "collapsed": false,
    "ExecuteTime": {
     "end_time": "2025-01-15T03:25:40.988961Z",
     "start_time": "2025-01-15T03:25:40.985855Z"
    }
   },
   "outputs": [
    {
     "data": {
      "text/plain": [
       "[{'loss': 0.25853797793388367, 'acc': 0.9375, 'step': 37495},\n",
       " {'loss': 0.2893495261669159, 'acc': 0.90625, 'step': 37496},\n",
       " {'loss': 0.533687174320221, 'acc': 0.875, 'step': 37497},\n",
       " {'loss': 0.25465649366378784, 'acc': 0.90625, 'step': 37498},\n",
       " {'loss': 0.2451382428407669, 'acc': 0.875, 'step': 37499}]"
      ]
     },
     "execution_count": 42,
     "metadata": {},
     "output_type": "execute_result"
    }
   ],
   "execution_count": 42
  },
  {
   "cell_type": "code",
   "source": [
    "record[\"val\"][-5:]"
   ],
   "metadata": {
    "collapsed": false,
    "ExecuteTime": {
     "end_time": "2025-01-15T03:25:47.520688Z",
     "start_time": "2025-01-15T03:25:47.517675Z"
    }
   },
   "outputs": [
    {
     "data": {
      "text/plain": [
       "[{'loss': 0.37195760058090327, 'acc': 0.8684, 'step': 33000},\n",
       " {'loss': 0.3622150492196837, 'acc': 0.8705, 'step': 34000},\n",
       " {'loss': 0.37430605804101347, 'acc': 0.8646, 'step': 35000},\n",
       " {'loss': 0.3646247967268331, 'acc': 0.8664, 'step': 36000},\n",
       " {'loss': 0.3705096992845543, 'acc': 0.8646, 'step': 37000}]"
      ]
     },
     "execution_count": 43,
     "metadata": {},
     "output_type": "execute_result"
    }
   ],
   "execution_count": 43
  },
  {
   "cell_type": "code",
   "metadata": {
    "ExecuteTime": {
     "end_time": "2025-01-15T03:26:02.810428Z",
     "start_time": "2025-01-15T03:26:02.712170Z"
    }
   },
   "source": [
    "#画线要注意的是损失是不一定在零到1之间的\n",
    "def plot_learning_curves(record_dict, sample_step=1000):\n",
    "    # build DataFrame\n",
    "    train_df = pd.DataFrame(record_dict[\"train\"]).set_index(\"step\").iloc[::sample_step]\n",
    "    val_df = pd.DataFrame(record_dict[\"val\"]).set_index(\"step\")\n",
    "    last_step = train_df.index[-1] # 最后一步的步数\n",
    "    # print(train_df.columns)\n",
    "    print(train_df['acc'])\n",
    "    print(val_df['acc'])\n",
    "    # plot\n",
    "    fig_num = len(train_df.columns) # 画几张图,分别是损失和准确率\n",
    "    fig, axs = plt.subplots(1, fig_num, figsize=(5 * fig_num, 5))\n",
    "    for idx, item in enumerate(train_df.columns):\n",
    "        # print(train_df[item].values)\n",
    "        axs[idx].plot(train_df.index, train_df[item], label=f\"train_{item}\")\n",
    "        axs[idx].plot(val_df.index, val_df[item], label=f\"val_{item}\")\n",
    "        axs[idx].grid() # 显示网格\n",
    "        axs[idx].legend() # 显示图例\n",
    "        axs[idx].set_xticks(range(0, train_df.index[-1], 5000)) # 设置x轴刻度\n",
    "        axs[idx].set_xticklabels(map(lambda x: f\"{int(x/1000)}k\", range(0, last_step, 5000))) # 设置x轴标签\n",
    "        axs[idx].set_xlabel(\"step\")\n",
    "    \n",
    "    plt.show()\n",
    "\n",
    "plot_learning_curves(record)  #横坐标是 steps"
   ],
   "outputs": [
    {
     "name": "stdout",
     "output_type": "stream",
     "text": [
      "step\n",
      "0        0.03125\n",
      "1000     0.71875\n",
      "2000     0.75000\n",
      "3000     0.87500\n",
      "4000     0.78125\n",
      "5000     0.78125\n",
      "6000     0.81250\n",
      "7000     0.93750\n",
      "8000     0.87500\n",
      "9000     0.90625\n",
      "10000    0.84375\n",
      "11000    0.93750\n",
      "12000    0.84375\n",
      "13000    0.78125\n",
      "14000    0.87500\n",
      "15000    0.93750\n",
      "16000    0.81250\n",
      "17000    0.84375\n",
      "18000    0.71875\n",
      "19000    0.90625\n",
      "20000    0.78125\n",
      "21000    0.84375\n",
      "22000    0.87500\n",
      "23000    0.93750\n",
      "24000    0.84375\n",
      "25000    0.90625\n",
      "26000    0.93750\n",
      "27000    0.90625\n",
      "28000    0.90625\n",
      "29000    0.87500\n",
      "30000    0.93750\n",
      "31000    0.87500\n",
      "32000    0.93750\n",
      "33000    0.90625\n",
      "34000    0.96875\n",
      "35000    0.90625\n",
      "36000    0.90625\n",
      "37000    0.90625\n",
      "Name: acc, dtype: float64\n",
      "step\n",
      "0        0.0873\n",
      "1000     0.6938\n",
      "2000     0.7563\n",
      "3000     0.7923\n",
      "4000     0.8028\n",
      "5000     0.8235\n",
      "6000     0.8217\n",
      "7000     0.8300\n",
      "8000     0.8314\n",
      "9000     0.8347\n",
      "10000    0.8318\n",
      "11000    0.8421\n",
      "12000    0.8446\n",
      "13000    0.8449\n",
      "14000    0.8475\n",
      "15000    0.8477\n",
      "16000    0.8541\n",
      "17000    0.8552\n",
      "18000    0.8566\n",
      "19000    0.8572\n",
      "20000    0.8572\n",
      "21000    0.8629\n",
      "22000    0.8631\n",
      "23000    0.8589\n",
      "24000    0.8636\n",
      "25000    0.8670\n",
      "26000    0.8592\n",
      "27000    0.8624\n",
      "28000    0.8674\n",
      "29000    0.8677\n",
      "30000    0.8612\n",
      "31000    0.8502\n",
      "32000    0.8717\n",
      "33000    0.8684\n",
      "34000    0.8705\n",
      "35000    0.8646\n",
      "36000    0.8664\n",
      "37000    0.8646\n",
      "Name: acc, dtype: float64\n"
     ]
    },
    {
     "data": {
      "text/plain": [
       "<Figure size 1000x500 with 2 Axes>"
      ],
      "image/png": "[encoded data removed]"
     },
     "metadata": {},
     "output_type": "display_data"
    }
   ],
   "execution_count": 44
  },
  {
   "cell_type": "markdown",
   "metadata": {},
   "source": [
    "## 评估"
   ]
  },
  {
   "cell_type": "code",
   "execution_count": 29,
   "metadata": {
    "ExecuteTime": {
     "end_time": "2024-07-17T03:17:16.674099900Z",
     "start_time": "2024-07-17T03:17:14.333157800Z"
    }
   },
   "outputs": [
    {
     "name": "stdout",
     "output_type": "stream",
     "text": [
      "loss:     0.3578\n",
      "accuracy: 0.8700\n"
     ]
    }
   ],
   "source": [
    "# dataload for evaluating\n",
    "\n",
    "model.eval() # 进入评估模式\n",
    "loss, acc = evaluating(model, val_loader, loss_fct)\n",
    "print(f\"loss:     {loss:.4f}\\naccuracy: {acc:.4f}\")"
   ]
  }
 ],
 "metadata": {
  "kernelspec": {
   "display_name": "Python 3 (ipykernel)",
   "language": "python",
   "name": "python3"
  },
  "language_info": {
   "codemirror_mode": {
    "name": "ipython",
    "version": 3
   },
   "file_extension": ".py",
   "mimetype": "text/x-python",
   "name": "python",
   "nbconvert_exporter": "python",
   "pygments_lexer": "ipython3",
   "version": "3.9.7"
  }
 },
 "nbformat": 4,
 "nbformat_minor": 2
}
