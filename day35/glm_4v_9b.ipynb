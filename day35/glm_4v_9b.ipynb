{
  "cells": [
    {
      "cell_type": "code",
      "execution_count": null,
      "metadata": {
        "colab": {
          "base_uri": "https://localhost:8080/"
        },
        "id": "4j9IKcRufAzk",
        "outputId": "eda117cf-8c5c-4484-b9ec-e0466ee6662b"
      },
      "outputs": [
        {
          "name": "stdout",
          "output_type": "stream",
          "text": [
            "Cloning into 'GLM-4'...\n",
            "remote: Enumerating objects: 1480, done.\u001b[K\n",
            "remote: Counting objects: 100% (362/362), done.\u001b[K\n",
            "remote: Compressing objects: 100% (162/162), done.\u001b[K\n",
            "remote: Total 1480 (delta 254), reused 201 (delta 200), pack-reused 1118 (from 2)\u001b[K\n",
            "Receiving objects: 100% (1480/1480), 47.73 MiB | 16.79 MiB/s, done.\n",
            "Resolving deltas: 100% (807/807), done.\n"
          ]
        }
      ],
      "source": [
        "#必须使用A100才可以\n",
        "!git clone https://github.com/THUDM/GLM-4.git"
      ]
    },
    {
      "cell_type": "code",
      "execution_count": null,
      "metadata": {
        "colab": {
          "base_uri": "https://localhost:8080/",
          "height": 1000
        },
        "id": "qzGGJPtsfXcq",
        "outputId": "7b8e8f6a-8bd5-40c9-f078-7268107d3dd7"
      },
      "outputs": [
        {
          "name": "stdout",
          "output_type": "stream",
          "text": [
            "Requirement already satisfied: torch>=2.5.1 in /usr/local/lib/python3.11/dist-packages (from -r /content/GLM-4/basic_demo/requirements.txt (line 1)) (2.5.1+cu124)\n",
            "Requirement already satisfied: torchvision>=0.20.0 in /usr/local/lib/python3.11/dist-packages (from -r /content/GLM-4/basic_demo/requirements.txt (line 2)) (0.20.1+cu124)\n",
            "Requirement already satisfied: transformers>=4.46.2 in /usr/local/lib/python3.11/dist-packages (from -r /content/GLM-4/basic_demo/requirements.txt (line 3)) (4.48.2)\n",
            "Requirement already satisfied: sentencepiece>=0.2.0 in /usr/local/lib/python3.11/dist-packages (from -r /content/GLM-4/basic_demo/requirements.txt (line 4)) (0.2.0)\n",
            "Requirement already satisfied: jinja2>=3.1.4 in /usr/local/lib/python3.11/dist-packages (from -r /content/GLM-4/basic_demo/requirements.txt (line 5)) (3.1.5)\n",
            "Requirement already satisfied: pydantic>=2.9.2 in /usr/local/lib/python3.11/dist-packages (from -r /content/GLM-4/basic_demo/requirements.txt (line 6)) (2.10.6)\n",
            "Requirement already satisfied: timm>=1.0.9 in /usr/local/lib/python3.11/dist-packages (from -r /content/GLM-4/basic_demo/requirements.txt (line 7)) (1.0.14)\n",
            "Collecting tiktoken>=0.7.0 (from -r /content/GLM-4/basic_demo/requirements.txt (line 8))\n",
            "  Downloading tiktoken-0.8.0-cp311-cp311-manylinux_2_17_x86_64.manylinux2014_x86_64.whl.metadata (6.6 kB)\n",
            "Requirement already satisfied: numpy==1.26.4 in /usr/local/lib/python3.11/dist-packages (from -r /content/GLM-4/basic_demo/requirements.txt (line 9)) (1.26.4)\n",
            "Requirement already satisfied: accelerate>=1.0.1 in /usr/local/lib/python3.11/dist-packages (from -r /content/GLM-4/basic_demo/requirements.txt (line 10)) (1.3.0)\n",
            "Requirement already satisfied: sentence_transformers>=3.1.1 in /usr/local/lib/python3.11/dist-packages (from -r /content/GLM-4/basic_demo/requirements.txt (line 11)) (3.4.1)\n",
            "Collecting gradio==4.44.1 (from -r /content/GLM-4/basic_demo/requirements.txt (line 12))\n",
            "  Downloading gradio-4.44.1-py3-none-any.whl.metadata (15 kB)\n",
            "Requirement already satisfied: openai>=1.54.0 in /usr/local/lib/python3.11/dist-packages (from -r /content/GLM-4/basic_demo/requirements.txt (line 13)) (1.61.1)\n",
            "Requirement already satisfied: einops>=0.8.0 in /usr/local/lib/python3.11/dist-packages (from -r /content/GLM-4/basic_demo/requirements.txt (line 14)) (0.8.0)\n",
            "Requirement already satisfied: pillow>=10.4.0 in /usr/local/lib/python3.11/dist-packages (from -r /content/GLM-4/basic_demo/requirements.txt (line 15)) (11.1.0)\n",
            "Collecting sse-starlette>=2.1.3 (from -r /content/GLM-4/basic_demo/requirements.txt (line 16))\n",
            "  Downloading sse_starlette-2.2.1-py3-none-any.whl.metadata (7.8 kB)\n",
            "Collecting bitsandbytes>=0.44.1 (from -r /content/GLM-4/basic_demo/requirements.txt (line 17))\n",
            "  Downloading bitsandbytes-0.45.2-py3-none-manylinux_2_24_x86_64.whl.metadata (5.8 kB)\n",
            "Collecting vllm>=0.6.4.post1 (from -r /content/GLM-4/basic_demo/requirements.txt (line 19))\n",
            "  Downloading vllm-0.7.2-cp38-abi3-manylinux1_x86_64.whl.metadata (12 kB)\n",
            "Collecting aiofiles<24.0,>=22.0 (from gradio==4.44.1->-r /content/GLM-4/basic_demo/requirements.txt (line 12))\n",
            "  Downloading aiofiles-23.2.1-py3-none-any.whl.metadata (9.7 kB)\n",
            "Requirement already satisfied: anyio<5.0,>=3.0 in /usr/local/lib/python3.11/dist-packages (from gradio==4.44.1->-r /content/GLM-4/basic_demo/requirements.txt (line 12)) (3.7.1)\n",
            "Collecting fastapi<1.0 (from gradio==4.44.1->-r /content/GLM-4/basic_demo/requirements.txt (line 12))\n",
            "  Downloading fastapi-0.115.8-py3-none-any.whl.metadata (27 kB)\n",
            "Collecting ffmpy (from gradio==4.44.1->-r /content/GLM-4/basic_demo/requirements.txt (line 12))\n",
            "  Downloading ffmpy-0.5.0-py3-none-any.whl.metadata (3.0 kB)\n",
            "Collecting gradio-client==1.3.0 (from gradio==4.44.1->-r /content/GLM-4/basic_demo/requirements.txt (line 12))\n",
            "  Downloading gradio_client-1.3.0-py3-none-any.whl.metadata (7.1 kB)\n",
            "Requirement already satisfied: httpx>=0.24.1 in /usr/local/lib/python3.11/dist-packages (from gradio==4.44.1->-r /content/GLM-4/basic_demo/requirements.txt (line 12)) (0.28.1)\n",
            "Requirement already satisfied: huggingface-hub>=0.19.3 in /usr/local/lib/python3.11/dist-packages (from gradio==4.44.1->-r /content/GLM-4/basic_demo/requirements.txt (line 12)) (0.28.1)\n",
            "Requirement already satisfied: importlib-resources<7.0,>=1.3 in /usr/local/lib/python3.11/dist-packages (from gradio==4.44.1->-r /content/GLM-4/basic_demo/requirements.txt (line 12)) (6.5.2)\n",
            "Collecting markupsafe~=2.0 (from gradio==4.44.1->-r /content/GLM-4/basic_demo/requirements.txt (line 12))\n",
            "  Downloading MarkupSafe-2.1.5-cp311-cp311-manylinux_2_17_x86_64.manylinux2014_x86_64.whl.metadata (3.0 kB)\n",
            "Requirement already satisfied: matplotlib~=3.0 in /usr/local/lib/python3.11/dist-packages (from gradio==4.44.1->-r /content/GLM-4/basic_demo/requirements.txt (line 12)) (3.10.0)\n",
            "Requirement already satisfied: orjson~=3.0 in /usr/local/lib/python3.11/dist-packages (from gradio==4.44.1->-r /content/GLM-4/basic_demo/requirements.txt (line 12)) (3.10.15)\n",
            "Requirement already satisfied: packaging in /usr/local/lib/python3.11/dist-packages (from gradio==4.44.1->-r /content/GLM-4/basic_demo/requirements.txt (line 12)) (24.2)\n",
            "Requirement already satisfied: pandas<3.0,>=1.0 in /usr/local/lib/python3.11/dist-packages (from gradio==4.44.1->-r /content/GLM-4/basic_demo/requirements.txt (line 12)) (2.2.2)\n",
            "Collecting pillow>=10.4.0 (from -r /content/GLM-4/basic_demo/requirements.txt (line 15))\n",
            "  Downloading pillow-10.4.0-cp311-cp311-manylinux_2_28_x86_64.whl.metadata (9.2 kB)\n",
            "Collecting pydub (from gradio==4.44.1->-r /content/GLM-4/basic_demo/requirements.txt (line 12))\n",
            "  Downloading pydub-0.25.1-py2.py3-none-any.whl.metadata (1.4 kB)\n",
            "Collecting python-multipart>=0.0.9 (from gradio==4.44.1->-r /content/GLM-4/basic_demo/requirements.txt (line 12))\n",
            "  Downloading python_multipart-0.0.20-py3-none-any.whl.metadata (1.8 kB)\n",
            "Requirement already satisfied: pyyaml<7.0,>=5.0 in /usr/local/lib/python3.11/dist-packages (from gradio==4.44.1->-r /content/GLM-4/basic_demo/requirements.txt (line 12)) (6.0.2)\n",
            "Collecting ruff>=0.2.2 (from gradio==4.44.1->-r /content/GLM-4/basic_demo/requirements.txt (line 12))\n",
            "  Downloading ruff-0.9.5-py3-none-manylinux_2_17_x86_64.manylinux2014_x86_64.whl.metadata (25 kB)\n",
            "Collecting semantic-version~=2.0 (from gradio==4.44.1->-r /content/GLM-4/basic_demo/requirements.txt (line 12))\n",
            "  Downloading semantic_version-2.10.0-py2.py3-none-any.whl.metadata (9.7 kB)\n",
            "Collecting tomlkit==0.12.0 (from gradio==4.44.1->-r /content/GLM-4/basic_demo/requirements.txt (line 12))\n",
            "  Downloading tomlkit-0.12.0-py3-none-any.whl.metadata (2.7 kB)\n",
            "Requirement already satisfied: typer<1.0,>=0.12 in /usr/local/lib/python3.11/dist-packages (from gradio==4.44.1->-r /content/GLM-4/basic_demo/requirements.txt (line 12)) (0.15.1)\n",
            "Requirement already satisfied: typing-extensions~=4.0 in /usr/local/lib/python3.11/dist-packages (from gradio==4.44.1->-r /content/GLM-4/basic_demo/requirements.txt (line 12)) (4.12.2)\n",
            "Requirement already satisfied: urllib3~=2.0 in /usr/local/lib/python3.11/dist-packages (from gradio==4.44.1->-r /content/GLM-4/basic_demo/requirements.txt (line 12)) (2.3.0)\n",
            "Collecting uvicorn>=0.14.0 (from gradio==4.44.1->-r /content/GLM-4/basic_demo/requirements.txt (line 12))\n",
            "  Downloading uvicorn-0.34.0-py3-none-any.whl.metadata (6.5 kB)\n",
            "Requirement already satisfied: fsspec in /usr/local/lib/python3.11/dist-packages (from gradio-client==1.3.0->gradio==4.44.1->-r /content/GLM-4/basic_demo/requirements.txt (line 12)) (2024.10.0)\n",
            "Collecting websockets<13.0,>=10.0 (from gradio-client==1.3.0->gradio==4.44.1->-r /content/GLM-4/basic_demo/requirements.txt (line 12))\n",
            "  Downloading websockets-12.0-cp311-cp311-manylinux_2_5_x86_64.manylinux1_x86_64.manylinux_2_17_x86_64.manylinux2014_x86_64.whl.metadata (6.6 kB)\n",
            "Requirement already satisfied: filelock in /usr/local/lib/python3.11/dist-packages (from torch>=2.5.1->-r /content/GLM-4/basic_demo/requirements.txt (line 1)) (3.17.0)\n",
            "Requirement already satisfied: networkx in /usr/local/lib/python3.11/dist-packages (from torch>=2.5.1->-r /content/GLM-4/basic_demo/requirements.txt (line 1)) (3.4.2)\n",
            "Collecting nvidia-cuda-nvrtc-cu12==12.4.127 (from torch>=2.5.1->-r /content/GLM-4/basic_demo/requirements.txt (line 1))\n",
            "  Downloading nvidia_cuda_nvrtc_cu12-12.4.127-py3-none-manylinux2014_x86_64.whl.metadata (1.5 kB)\n",
            "Collecting nvidia-cuda-runtime-cu12==12.4.127 (from torch>=2.5.1->-r /content/GLM-4/basic_demo/requirements.txt (line 1))\n",
            "  Downloading nvidia_cuda_runtime_cu12-12.4.127-py3-none-manylinux2014_x86_64.whl.metadata (1.5 kB)\n",
            "Collecting nvidia-cuda-cupti-cu12==12.4.127 (from torch>=2.5.1->-r /content/GLM-4/basic_demo/requirements.txt (line 1))\n",
            "  Downloading nvidia_cuda_cupti_cu12-12.4.127-py3-none-manylinux2014_x86_64.whl.metadata (1.6 kB)\n",
            "Collecting nvidia-cudnn-cu12==9.1.0.70 (from torch>=2.5.1->-r /content/GLM-4/basic_demo/requirements.txt (line 1))\n",
            "  Downloading nvidia_cudnn_cu12-9.1.0.70-py3-none-manylinux2014_x86_64.whl.metadata (1.6 kB)\n",
            "Collecting nvidia-cublas-cu12==12.4.5.8 (from torch>=2.5.1->-r /content/GLM-4/basic_demo/requirements.txt (line 1))\n",
            "  Downloading nvidia_cublas_cu12-12.4.5.8-py3-none-manylinux2014_x86_64.whl.metadata (1.5 kB)\n",
            "Collecting nvidia-cufft-cu12==11.2.1.3 (from torch>=2.5.1->-r /content/GLM-4/basic_demo/requirements.txt (line 1))\n",
            "  Downloading nvidia_cufft_cu12-11.2.1.3-py3-none-manylinux2014_x86_64.whl.metadata (1.5 kB)\n",
            "Collecting nvidia-curand-cu12==10.3.5.147 (from torch>=2.5.1->-r /content/GLM-4/basic_demo/requirements.txt (line 1))\n",
            "  Downloading nvidia_curand_cu12-10.3.5.147-py3-none-manylinux2014_x86_64.whl.metadata (1.5 kB)\n",
            "Collecting nvidia-cusolver-cu12==11.6.1.9 (from torch>=2.5.1->-r /content/GLM-4/basic_demo/requirements.txt (line 1))\n",
            "  Downloading nvidia_cusolver_cu12-11.6.1.9-py3-none-manylinux2014_x86_64.whl.metadata (1.6 kB)\n",
            "Collecting nvidia-cusparse-cu12==12.3.1.170 (from torch>=2.5.1->-r /content/GLM-4/basic_demo/requirements.txt (line 1))\n",
            "  Downloading nvidia_cusparse_cu12-12.3.1.170-py3-none-manylinux2014_x86_64.whl.metadata (1.6 kB)\n",
            "Requirement already satisfied: nvidia-nccl-cu12==2.21.5 in /usr/local/lib/python3.11/dist-packages (from torch>=2.5.1->-r /content/GLM-4/basic_demo/requirements.txt (line 1)) (2.21.5)\n",
            "Requirement already satisfied: nvidia-nvtx-cu12==12.4.127 in /usr/local/lib/python3.11/dist-packages (from torch>=2.5.1->-r /content/GLM-4/basic_demo/requirements.txt (line 1)) (12.4.127)\n",
            "Collecting nvidia-nvjitlink-cu12==12.4.127 (from torch>=2.5.1->-r /content/GLM-4/basic_demo/requirements.txt (line 1))\n",
            "  Downloading nvidia_nvjitlink_cu12-12.4.127-py3-none-manylinux2014_x86_64.whl.metadata (1.5 kB)\n",
            "Requirement already satisfied: triton==3.1.0 in /usr/local/lib/python3.11/dist-packages (from torch>=2.5.1->-r /content/GLM-4/basic_demo/requirements.txt (line 1)) (3.1.0)\n",
            "Requirement already satisfied: sympy==1.13.1 in /usr/local/lib/python3.11/dist-packages (from torch>=2.5.1->-r /content/GLM-4/basic_demo/requirements.txt (line 1)) (1.13.1)\n",
            "Requirement already satisfied: mpmath<1.4,>=1.1.0 in /usr/local/lib/python3.11/dist-packages (from sympy==1.13.1->torch>=2.5.1->-r /content/GLM-4/basic_demo/requirements.txt (line 1)) (1.3.0)\n",
            "Requirement already satisfied: regex!=2019.12.17 in /usr/local/lib/python3.11/dist-packages (from transformers>=4.46.2->-r /content/GLM-4/basic_demo/requirements.txt (line 3)) (2024.11.6)\n",
            "Requirement already satisfied: requests in /usr/local/lib/python3.11/dist-packages (from transformers>=4.46.2->-r /content/GLM-4/basic_demo/requirements.txt (line 3)) (2.32.3)\n",
            "Requirement already satisfied: tokenizers<0.22,>=0.21 in /usr/local/lib/python3.11/dist-packages (from transformers>=4.46.2->-r /content/GLM-4/basic_demo/requirements.txt (line 3)) (0.21.0)\n",
            "Requirement already satisfied: safetensors>=0.4.1 in /usr/local/lib/python3.11/dist-packages (from transformers>=4.46.2->-r /content/GLM-4/basic_demo/requirements.txt (line 3)) (0.5.2)\n",
            "Requirement already satisfied: tqdm>=4.27 in /usr/local/lib/python3.11/dist-packages (from transformers>=4.46.2->-r /content/GLM-4/basic_demo/requirements.txt (line 3)) (4.67.1)\n",
            "Requirement already satisfied: annotated-types>=0.6.0 in /usr/local/lib/python3.11/dist-packages (from pydantic>=2.9.2->-r /content/GLM-4/basic_demo/requirements.txt (line 6)) (0.7.0)\n",
            "Requirement already satisfied: pydantic-core==2.27.2 in /usr/local/lib/python3.11/dist-packages (from pydantic>=2.9.2->-r /content/GLM-4/basic_demo/requirements.txt (line 6)) (2.27.2)\n",
            "Requirement already satisfied: psutil in /usr/local/lib/python3.11/dist-packages (from accelerate>=1.0.1->-r /content/GLM-4/basic_demo/requirements.txt (line 10)) (5.9.5)\n",
            "Requirement already satisfied: scikit-learn in /usr/local/lib/python3.11/dist-packages (from sentence_transformers>=3.1.1->-r /content/GLM-4/basic_demo/requirements.txt (line 11)) (1.6.1)\n",
            "Requirement already satisfied: scipy in /usr/local/lib/python3.11/dist-packages (from sentence_transformers>=3.1.1->-r /content/GLM-4/basic_demo/requirements.txt (line 11)) (1.13.1)\n",
            "Requirement already satisfied: distro<2,>=1.7.0 in /usr/local/lib/python3.11/dist-packages (from openai>=1.54.0->-r /content/GLM-4/basic_demo/requirements.txt (line 13)) (1.9.0)\n",
            "Requirement already satisfied: jiter<1,>=0.4.0 in /usr/local/lib/python3.11/dist-packages (from openai>=1.54.0->-r /content/GLM-4/basic_demo/requirements.txt (line 13)) (0.8.2)\n",
            "Requirement already satisfied: sniffio in /usr/local/lib/python3.11/dist-packages (from openai>=1.54.0->-r /content/GLM-4/basic_demo/requirements.txt (line 13)) (1.3.1)\n",
            "Collecting anyio<5.0,>=3.0 (from gradio==4.44.1->-r /content/GLM-4/basic_demo/requirements.txt (line 12))\n",
            "  Downloading anyio-4.8.0-py3-none-any.whl.metadata (4.6 kB)\n",
            "Collecting starlette>=0.41.3 (from sse-starlette>=2.1.3->-r /content/GLM-4/basic_demo/requirements.txt (line 16))\n",
            "  Downloading starlette-0.45.3-py3-none-any.whl.metadata (6.3 kB)\n",
            "Collecting blake3 (from vllm>=0.6.4.post1->-r /content/GLM-4/basic_demo/requirements.txt (line 19))\n",
            "  Downloading blake3-1.0.4-cp311-cp311-manylinux_2_17_x86_64.manylinux2014_x86_64.whl.metadata (4.2 kB)\n",
            "Requirement already satisfied: py-cpuinfo in /usr/local/lib/python3.11/dist-packages (from vllm>=0.6.4.post1->-r /content/GLM-4/basic_demo/requirements.txt (line 19)) (9.0.0)\n",
            "Requirement already satisfied: protobuf in /usr/local/lib/python3.11/dist-packages (from vllm>=0.6.4.post1->-r /content/GLM-4/basic_demo/requirements.txt (line 19)) (4.25.6)\n",
            "Requirement already satisfied: aiohttp in /usr/local/lib/python3.11/dist-packages (from vllm>=0.6.4.post1->-r /content/GLM-4/basic_demo/requirements.txt (line 19)) (3.11.11)\n",
            "Requirement already satisfied: prometheus_client>=0.18.0 in /usr/local/lib/python3.11/dist-packages (from vllm>=0.6.4.post1->-r /content/GLM-4/basic_demo/requirements.txt (line 19)) (0.21.1)\n",
            "Collecting prometheus-fastapi-instrumentator>=7.0.0 (from vllm>=0.6.4.post1->-r /content/GLM-4/basic_demo/requirements.txt (line 19))\n",
            "  Downloading prometheus_fastapi_instrumentator-7.0.2-py3-none-any.whl.metadata (13 kB)\n",
            "Collecting lm-format-enforcer<0.11,>=0.10.9 (from vllm>=0.6.4.post1->-r /content/GLM-4/basic_demo/requirements.txt (line 19))\n",
            "  Downloading lm_format_enforcer-0.10.9-py3-none-any.whl.metadata (17 kB)\n",
            "Collecting outlines==0.1.11 (from vllm>=0.6.4.post1->-r /content/GLM-4/basic_demo/requirements.txt (line 19))\n",
            "  Downloading outlines-0.1.11-py3-none-any.whl.metadata (17 kB)\n",
            "Collecting lark==1.2.2 (from vllm>=0.6.4.post1->-r /content/GLM-4/basic_demo/requirements.txt (line 19))\n",
            "  Downloading lark-1.2.2-py3-none-any.whl.metadata (1.8 kB)\n",
            "Collecting xgrammar>=0.1.6 (from vllm>=0.6.4.post1->-r /content/GLM-4/basic_demo/requirements.txt (line 19))\n",
            "  Downloading xgrammar-0.1.11-cp311-cp311-manylinux_2_27_x86_64.manylinux_2_28_x86_64.whl.metadata (2.0 kB)\n",
            "Collecting partial-json-parser (from vllm>=0.6.4.post1->-r /content/GLM-4/basic_demo/requirements.txt (line 19))\n",
            "  Downloading partial_json_parser-0.2.1.1.post5-py3-none-any.whl.metadata (6.1 kB)\n",
            "Requirement already satisfied: pyzmq in /usr/local/lib/python3.11/dist-packages (from vllm>=0.6.4.post1->-r /content/GLM-4/basic_demo/requirements.txt (line 19)) (24.0.1)\n",
            "Collecting msgspec (from vllm>=0.6.4.post1->-r /content/GLM-4/basic_demo/requirements.txt (line 19))\n",
            "  Downloading msgspec-0.19.0-cp311-cp311-manylinux_2_17_x86_64.manylinux2014_x86_64.whl.metadata (6.9 kB)\n",
            "Collecting gguf==0.10.0 (from vllm>=0.6.4.post1->-r /content/GLM-4/basic_demo/requirements.txt (line 19))\n",
            "  Downloading gguf-0.10.0-py3-none-any.whl.metadata (3.5 kB)\n",
            "Requirement already satisfied: importlib_metadata in /usr/local/lib/python3.11/dist-packages (from vllm>=0.6.4.post1->-r /content/GLM-4/basic_demo/requirements.txt (line 19)) (8.6.1)\n",
            "Collecting mistral_common>=1.5.0 (from mistral_common[opencv]>=1.5.0->vllm>=0.6.4.post1->-r /content/GLM-4/basic_demo/requirements.txt (line 19))\n",
            "  Downloading mistral_common-1.5.3-py3-none-any.whl.metadata (4.5 kB)\n",
            "Collecting compressed-tensors==0.9.1 (from vllm>=0.6.4.post1->-r /content/GLM-4/basic_demo/requirements.txt (line 19))\n",
            "  Downloading compressed_tensors-0.9.1-py3-none-any.whl.metadata (6.8 kB)\n",
            "Collecting depyf==0.18.0 (from vllm>=0.6.4.post1->-r /content/GLM-4/basic_demo/requirements.txt (line 19))\n",
            "  Downloading depyf-0.18.0-py3-none-any.whl.metadata (7.1 kB)\n",
            "Requirement already satisfied: cloudpickle in /usr/local/lib/python3.11/dist-packages (from vllm>=0.6.4.post1->-r /content/GLM-4/basic_demo/requirements.txt (line 19)) (3.1.1)\n",
            "Collecting ray>=2.9 (from ray[default]>=2.9->vllm>=0.6.4.post1->-r /content/GLM-4/basic_demo/requirements.txt (line 19))\n",
            "  Downloading ray-2.42.0-cp311-cp311-manylinux2014_x86_64.whl.metadata (18 kB)\n",
            "Collecting nvidia-ml-py>=12.560.30 (from vllm>=0.6.4.post1->-r /content/GLM-4/basic_demo/requirements.txt (line 19))\n",
            "  Downloading nvidia_ml_py-12.570.86-py3-none-any.whl.metadata (8.7 kB)\n",
            "Requirement already satisfied: torchaudio==2.5.1 in /usr/local/lib/python3.11/dist-packages (from vllm>=0.6.4.post1->-r /content/GLM-4/basic_demo/requirements.txt (line 19)) (2.5.1+cu124)\n",
            "Collecting xformers==0.0.28.post3 (from vllm>=0.6.4.post1->-r /content/GLM-4/basic_demo/requirements.txt (line 19))\n",
            "  Downloading xformers-0.0.28.post3-cp311-cp311-manylinux_2_28_x86_64.whl.metadata (1.0 kB)\n",
            "Collecting astor (from depyf==0.18.0->vllm>=0.6.4.post1->-r /content/GLM-4/basic_demo/requirements.txt (line 19))\n",
            "  Downloading astor-0.8.1-py2.py3-none-any.whl.metadata (4.2 kB)\n",
            "Collecting dill (from depyf==0.18.0->vllm>=0.6.4.post1->-r /content/GLM-4/basic_demo/requirements.txt (line 19))\n",
            "  Downloading dill-0.3.9-py3-none-any.whl.metadata (10 kB)\n",
            "Collecting interegular (from outlines==0.1.11->vllm>=0.6.4.post1->-r /content/GLM-4/basic_demo/requirements.txt (line 19))\n",
            "  Downloading interegular-0.3.3-py37-none-any.whl.metadata (3.0 kB)\n",
            "Requirement already satisfied: nest_asyncio in /usr/local/lib/python3.11/dist-packages (from outlines==0.1.11->vllm>=0.6.4.post1->-r /content/GLM-4/basic_demo/requirements.txt (line 19)) (1.6.0)\n",
            "Collecting diskcache (from outlines==0.1.11->vllm>=0.6.4.post1->-r /content/GLM-4/basic_demo/requirements.txt (line 19))\n",
            "  Downloading diskcache-5.6.3-py3-none-any.whl.metadata (20 kB)\n",
            "Requirement already satisfied: referencing in /usr/local/lib/python3.11/dist-packages (from outlines==0.1.11->vllm>=0.6.4.post1->-r /content/GLM-4/basic_demo/requirements.txt (line 19)) (0.36.2)\n",
            "Requirement already satisfied: jsonschema in /usr/local/lib/python3.11/dist-packages (from outlines==0.1.11->vllm>=0.6.4.post1->-r /content/GLM-4/basic_demo/requirements.txt (line 19)) (4.23.0)\n",
            "Collecting pycountry (from outlines==0.1.11->vllm>=0.6.4.post1->-r /content/GLM-4/basic_demo/requirements.txt (line 19))\n",
            "  Downloading pycountry-24.6.1-py3-none-any.whl.metadata (12 kB)\n",
            "Collecting airportsdata (from outlines==0.1.11->vllm>=0.6.4.post1->-r /content/GLM-4/basic_demo/requirements.txt (line 19))\n",
            "  Downloading airportsdata-20241001-py3-none-any.whl.metadata (8.9 kB)\n",
            "Collecting outlines_core==0.1.26 (from outlines==0.1.11->vllm>=0.6.4.post1->-r /content/GLM-4/basic_demo/requirements.txt (line 19))\n",
            "  Downloading outlines_core-0.1.26-cp311-cp311-manylinux_2_17_x86_64.manylinux2014_x86_64.whl.metadata (3.8 kB)\n",
            "Requirement already satisfied: idna>=2.8 in /usr/local/lib/python3.11/dist-packages (from anyio<5.0,>=3.0->gradio==4.44.1->-r /content/GLM-4/basic_demo/requirements.txt (line 12)) (3.10)\n",
            "Requirement already satisfied: certifi in /usr/local/lib/python3.11/dist-packages (from httpx>=0.24.1->gradio==4.44.1->-r /content/GLM-4/basic_demo/requirements.txt (line 12)) (2025.1.31)\n",
            "Requirement already satisfied: httpcore==1.* in /usr/local/lib/python3.11/dist-packages (from httpx>=0.24.1->gradio==4.44.1->-r /content/GLM-4/basic_demo/requirements.txt (line 12)) (1.0.7)\n",
            "Requirement already satisfied: h11<0.15,>=0.13 in /usr/local/lib/python3.11/dist-packages (from httpcore==1.*->httpx>=0.24.1->gradio==4.44.1->-r /content/GLM-4/basic_demo/requirements.txt (line 12)) (0.14.0)\n",
            "Requirement already satisfied: contourpy>=1.0.1 in /usr/local/lib/python3.11/dist-packages (from matplotlib~=3.0->gradio==4.44.1->-r /content/GLM-4/basic_demo/requirements.txt (line 12)) (1.3.1)\n",
            "Requirement already satisfied: cycler>=0.10 in /usr/local/lib/python3.11/dist-packages (from matplotlib~=3.0->gradio==4.44.1->-r /content/GLM-4/basic_demo/requirements.txt (line 12)) (0.12.1)\n",
            "Requirement already satisfied: fonttools>=4.22.0 in /usr/local/lib/python3.11/dist-packages (from matplotlib~=3.0->gradio==4.44.1->-r /content/GLM-4/basic_demo/requirements.txt (line 12)) (4.55.8)\n",
            "Requirement already satisfied: kiwisolver>=1.3.1 in /usr/local/lib/python3.11/dist-packages (from matplotlib~=3.0->gradio==4.44.1->-r /content/GLM-4/basic_demo/requirements.txt (line 12)) (1.4.8)\n",
            "Requirement already satisfied: pyparsing>=2.3.1 in /usr/local/lib/python3.11/dist-packages (from matplotlib~=3.0->gradio==4.44.1->-r /content/GLM-4/basic_demo/requirements.txt (line 12)) (3.2.1)\n",
            "Requirement already satisfied: python-dateutil>=2.7 in /usr/local/lib/python3.11/dist-packages (from matplotlib~=3.0->gradio==4.44.1->-r /content/GLM-4/basic_demo/requirements.txt (line 12)) (2.8.2)\n",
            "Requirement already satisfied: opencv-python-headless>=4.0.0 in /usr/local/lib/python3.11/dist-packages (from mistral_common[opencv]>=1.5.0->vllm>=0.6.4.post1->-r /content/GLM-4/basic_demo/requirements.txt (line 19)) (4.11.0.86)\n",
            "Requirement already satisfied: pytz>=2020.1 in /usr/local/lib/python3.11/dist-packages (from pandas<3.0,>=1.0->gradio==4.44.1->-r /content/GLM-4/basic_demo/requirements.txt (line 12)) (2025.1)\n",
            "Requirement already satisfied: tzdata>=2022.7 in /usr/local/lib/python3.11/dist-packages (from pandas<3.0,>=1.0->gradio==4.44.1->-r /content/GLM-4/basic_demo/requirements.txt (line 12)) (2025.1)\n",
            "Requirement already satisfied: click>=7.0 in /usr/local/lib/python3.11/dist-packages (from ray>=2.9->ray[default]>=2.9->vllm>=0.6.4.post1->-r /content/GLM-4/basic_demo/requirements.txt (line 19)) (8.1.8)\n",
            "Requirement already satisfied: msgpack<2.0.0,>=1.0.0 in /usr/local/lib/python3.11/dist-packages (from ray>=2.9->ray[default]>=2.9->vllm>=0.6.4.post1->-r /content/GLM-4/basic_demo/requirements.txt (line 19)) (1.1.0)\n",
            "Requirement already satisfied: aiosignal in /usr/local/lib/python3.11/dist-packages (from ray>=2.9->ray[default]>=2.9->vllm>=0.6.4.post1->-r /content/GLM-4/basic_demo/requirements.txt (line 19)) (1.3.2)\n",
            "Requirement already satisfied: frozenlist in /usr/local/lib/python3.11/dist-packages (from ray>=2.9->ray[default]>=2.9->vllm>=0.6.4.post1->-r /content/GLM-4/basic_demo/requirements.txt (line 19)) (1.5.0)\n",
            "Collecting aiohttp-cors (from ray[default]>=2.9->vllm>=0.6.4.post1->-r /content/GLM-4/basic_demo/requirements.txt (line 19))\n",
            "  Downloading aiohttp_cors-0.7.0-py3-none-any.whl.metadata (20 kB)\n",
            "Collecting colorful (from ray[default]>=2.9->vllm>=0.6.4.post1->-r /content/GLM-4/basic_demo/requirements.txt (line 19))\n",
            "  Downloading colorful-0.5.6-py2.py3-none-any.whl.metadata (16 kB)\n",
            "Collecting opencensus (from ray[default]>=2.9->vllm>=0.6.4.post1->-r /content/GLM-4/basic_demo/requirements.txt (line 19))\n",
            "  Downloading opencensus-0.11.4-py2.py3-none-any.whl.metadata (12 kB)\n",
            "Requirement already satisfied: smart-open in /usr/local/lib/python3.11/dist-packages (from ray[default]>=2.9->vllm>=0.6.4.post1->-r /content/GLM-4/basic_demo/requirements.txt (line 19)) (7.1.0)\n",
            "Collecting virtualenv!=20.21.1,>=20.0.24 (from ray[default]>=2.9->vllm>=0.6.4.post1->-r /content/GLM-4/basic_demo/requirements.txt (line 19))\n",
            "  Downloading virtualenv-20.29.1-py3-none-any.whl.metadata (4.5 kB)\n",
            "Collecting py-spy>=0.2.0 (from ray[default]>=2.9->vllm>=0.6.4.post1->-r /content/GLM-4/basic_demo/requirements.txt (line 19))\n",
            "  Downloading py_spy-0.4.0-py2.py3-none-manylinux_2_5_x86_64.manylinux1_x86_64.whl.metadata (16 kB)\n",
            "Requirement already satisfied: grpcio>=1.42.0 in /usr/local/lib/python3.11/dist-packages (from ray[default]>=2.9->vllm>=0.6.4.post1->-r /content/GLM-4/basic_demo/requirements.txt (line 19)) (1.70.0)\n",
            "Requirement already satisfied: aiohappyeyeballs>=2.3.0 in /usr/local/lib/python3.11/dist-packages (from aiohttp->vllm>=0.6.4.post1->-r /content/GLM-4/basic_demo/requirements.txt (line 19)) (2.4.4)\n",
            "Requirement already satisfied: attrs>=17.3.0 in /usr/local/lib/python3.11/dist-packages (from aiohttp->vllm>=0.6.4.post1->-r /content/GLM-4/basic_demo/requirements.txt (line 19)) (25.1.0)\n",
            "Requirement already satisfied: multidict<7.0,>=4.5 in /usr/local/lib/python3.11/dist-packages (from aiohttp->vllm>=0.6.4.post1->-r /content/GLM-4/basic_demo/requirements.txt (line 19)) (6.1.0)\n",
            "Requirement already satisfied: propcache>=0.2.0 in /usr/local/lib/python3.11/dist-packages (from aiohttp->vllm>=0.6.4.post1->-r /content/GLM-4/basic_demo/requirements.txt (line 19)) (0.2.1)\n",
            "Requirement already satisfied: yarl<2.0,>=1.17.0 in /usr/local/lib/python3.11/dist-packages (from aiohttp->vllm>=0.6.4.post1->-r /content/GLM-4/basic_demo/requirements.txt (line 19)) (1.18.3)\n",
            "Requirement already satisfied: charset-normalizer<4,>=2 in /usr/local/lib/python3.11/dist-packages (from requests->transformers>=4.46.2->-r /content/GLM-4/basic_demo/requirements.txt (line 3)) (3.4.1)\n",
            "Requirement already satisfied: shellingham>=1.3.0 in /usr/local/lib/python3.11/dist-packages (from typer<1.0,>=0.12->gradio==4.44.1->-r /content/GLM-4/basic_demo/requirements.txt (line 12)) (1.5.4)\n",
            "Requirement already satisfied: rich>=10.11.0 in /usr/local/lib/python3.11/dist-packages (from typer<1.0,>=0.12->gradio==4.44.1->-r /content/GLM-4/basic_demo/requirements.txt (line 12)) (13.9.4)\n",
            "Collecting pybind11 (from xgrammar>=0.1.6->vllm>=0.6.4.post1->-r /content/GLM-4/basic_demo/requirements.txt (line 19))\n",
            "  Downloading pybind11-2.13.6-py3-none-any.whl.metadata (9.5 kB)\n",
            "Requirement already satisfied: pytest in /usr/local/lib/python3.11/dist-packages (from xgrammar>=0.1.6->vllm>=0.6.4.post1->-r /content/GLM-4/basic_demo/requirements.txt (line 19)) (8.3.4)\n",
            "Requirement already satisfied: zipp>=3.20 in /usr/local/lib/python3.11/dist-packages (from importlib_metadata->vllm>=0.6.4.post1->-r /content/GLM-4/basic_demo/requirements.txt (line 19)) (3.21.0)\n",
            "Requirement already satisfied: joblib>=1.2.0 in /usr/local/lib/python3.11/dist-packages (from scikit-learn->sentence_transformers>=3.1.1->-r /content/GLM-4/basic_demo/requirements.txt (line 11)) (1.4.2)\n",
            "Requirement already satisfied: threadpoolctl>=3.1.0 in /usr/local/lib/python3.11/dist-packages (from scikit-learn->sentence_transformers>=3.1.1->-r /content/GLM-4/basic_demo/requirements.txt (line 11)) (3.5.0)\n",
            "Collecting httptools>=0.6.3 (from uvicorn[standard]->vllm>=0.6.4.post1->-r /content/GLM-4/basic_demo/requirements.txt (line 19))\n",
            "  Downloading httptools-0.6.4-cp311-cp311-manylinux_2_5_x86_64.manylinux1_x86_64.manylinux_2_17_x86_64.manylinux2014_x86_64.whl.metadata (3.6 kB)\n",
            "Collecting python-dotenv>=0.13 (from uvicorn[standard]->vllm>=0.6.4.post1->-r /content/GLM-4/basic_demo/requirements.txt (line 19))\n",
            "  Downloading python_dotenv-1.0.1-py3-none-any.whl.metadata (23 kB)\n",
            "Collecting uvloop!=0.15.0,!=0.15.1,>=0.14.0 (from uvicorn[standard]->vllm>=0.6.4.post1->-r /content/GLM-4/basic_demo/requirements.txt (line 19))\n",
            "  Downloading uvloop-0.21.0-cp311-cp311-manylinux_2_17_x86_64.manylinux2014_x86_64.whl.metadata (4.9 kB)\n",
            "Collecting watchfiles>=0.13 (from uvicorn[standard]->vllm>=0.6.4.post1->-r /content/GLM-4/basic_demo/requirements.txt (line 19))\n",
            "  Downloading watchfiles-1.0.4-cp311-cp311-manylinux_2_17_x86_64.manylinux2014_x86_64.whl.metadata (4.9 kB)\n",
            "Requirement already satisfied: jsonschema-specifications>=2023.03.6 in /usr/local/lib/python3.11/dist-packages (from jsonschema->outlines==0.1.11->vllm>=0.6.4.post1->-r /content/GLM-4/basic_demo/requirements.txt (line 19)) (2024.10.1)\n",
            "Requirement already satisfied: rpds-py>=0.7.1 in /usr/local/lib/python3.11/dist-packages (from jsonschema->outlines==0.1.11->vllm>=0.6.4.post1->-r /content/GLM-4/basic_demo/requirements.txt (line 19)) (0.22.3)\n",
            "Requirement already satisfied: six>=1.5 in /usr/local/lib/python3.11/dist-packages (from python-dateutil>=2.7->matplotlib~=3.0->gradio==4.44.1->-r /content/GLM-4/basic_demo/requirements.txt (line 12)) (1.17.0)\n",
            "Requirement already satisfied: markdown-it-py>=2.2.0 in /usr/local/lib/python3.11/dist-packages (from rich>=10.11.0->typer<1.0,>=0.12->gradio==4.44.1->-r /content/GLM-4/basic_demo/requirements.txt (line 12)) (3.0.0)\n",
            "Requirement already satisfied: pygments<3.0.0,>=2.13.0 in /usr/local/lib/python3.11/dist-packages (from rich>=10.11.0->typer<1.0,>=0.12->gradio==4.44.1->-r /content/GLM-4/basic_demo/requirements.txt (line 12)) (2.18.0)\n",
            "Collecting distlib<1,>=0.3.7 (from virtualenv!=20.21.1,>=20.0.24->ray[default]>=2.9->vllm>=0.6.4.post1->-r /content/GLM-4/basic_demo/requirements.txt (line 19))\n",
            "  Downloading distlib-0.3.9-py2.py3-none-any.whl.metadata (5.2 kB)\n",
            "Requirement already satisfied: platformdirs<5,>=3.9.1 in /usr/local/lib/python3.11/dist-packages (from virtualenv!=20.21.1,>=20.0.24->ray[default]>=2.9->vllm>=0.6.4.post1->-r /content/GLM-4/basic_demo/requirements.txt (line 19)) (4.3.6)\n",
            "Collecting opencensus-context>=0.1.3 (from opencensus->ray[default]>=2.9->vllm>=0.6.4.post1->-r /content/GLM-4/basic_demo/requirements.txt (line 19))\n",
            "  Downloading opencensus_context-0.1.3-py2.py3-none-any.whl.metadata (3.3 kB)\n",
            "Requirement already satisfied: google-api-core<3.0.0,>=1.0.0 in /usr/local/lib/python3.11/dist-packages (from opencensus->ray[default]>=2.9->vllm>=0.6.4.post1->-r /content/GLM-4/basic_demo/requirements.txt (line 19)) (2.19.2)\n",
            "Requirement already satisfied: iniconfig in /usr/local/lib/python3.11/dist-packages (from pytest->xgrammar>=0.1.6->vllm>=0.6.4.post1->-r /content/GLM-4/basic_demo/requirements.txt (line 19)) (2.0.0)\n",
            "Requirement already satisfied: pluggy<2,>=1.5 in /usr/local/lib/python3.11/dist-packages (from pytest->xgrammar>=0.1.6->vllm>=0.6.4.post1->-r /content/GLM-4/basic_demo/requirements.txt (line 19)) (1.5.0)\n",
            "Requirement already satisfied: wrapt in /usr/local/lib/python3.11/dist-packages (from smart-open->ray[default]>=2.9->vllm>=0.6.4.post1->-r /content/GLM-4/basic_demo/requirements.txt (line 19)) (1.17.2)\n",
            "Requirement already satisfied: googleapis-common-protos<2.0.dev0,>=1.56.2 in /usr/local/lib/python3.11/dist-packages (from google-api-core<3.0.0,>=1.0.0->opencensus->ray[default]>=2.9->vllm>=0.6.4.post1->-r /content/GLM-4/basic_demo/requirements.txt (line 19)) (1.66.0)\n",
            "Requirement already satisfied: proto-plus<2.0.0dev,>=1.22.3 in /usr/local/lib/python3.11/dist-packages (from google-api-core<3.0.0,>=1.0.0->opencensus->ray[default]>=2.9->vllm>=0.6.4.post1->-r /content/GLM-4/basic_demo/requirements.txt (line 19)) (1.26.0)\n",
            "Requirement already satisfied: google-auth<3.0.dev0,>=2.14.1 in /usr/local/lib/python3.11/dist-packages (from google-api-core<3.0.0,>=1.0.0->opencensus->ray[default]>=2.9->vllm>=0.6.4.post1->-r /content/GLM-4/basic_demo/requirements.txt (line 19)) (2.27.0)\n",
            "Requirement already satisfied: mdurl~=0.1 in /usr/local/lib/python3.11/dist-packages (from markdown-it-py>=2.2.0->rich>=10.11.0->typer<1.0,>=0.12->gradio==4.44.1->-r /content/GLM-4/basic_demo/requirements.txt (line 12)) (0.1.2)\n",
            "Requirement already satisfied: cachetools<6.0,>=2.0.0 in /usr/local/lib/python3.11/dist-packages (from google-auth<3.0.dev0,>=2.14.1->google-api-core<3.0.0,>=1.0.0->opencensus->ray[default]>=2.9->vllm>=0.6.4.post1->-r /content/GLM-4/basic_demo/requirements.txt (line 19)) (5.5.1)\n",
            "Requirement already satisfied: pyasn1-modules>=0.2.1 in /usr/local/lib/python3.11/dist-packages (from google-auth<3.0.dev0,>=2.14.1->google-api-core<3.0.0,>=1.0.0->opencensus->ray[default]>=2.9->vllm>=0.6.4.post1->-r /content/GLM-4/basic_demo/requirements.txt (line 19)) (0.4.1)\n",
            "Requirement already satisfied: rsa<5,>=3.1.4 in /usr/local/lib/python3.11/dist-packages (from google-auth<3.0.dev0,>=2.14.1->google-api-core<3.0.0,>=1.0.0->opencensus->ray[default]>=2.9->vllm>=0.6.4.post1->-r /content/GLM-4/basic_demo/requirements.txt (line 19)) (4.9)\n",
            "Requirement already satisfied: pyasn1<0.7.0,>=0.4.6 in /usr/local/lib/python3.11/dist-packages (from pyasn1-modules>=0.2.1->google-auth<3.0.dev0,>=2.14.1->google-api-core<3.0.0,>=1.0.0->opencensus->ray[default]>=2.9->vllm>=0.6.4.post1->-r /content/GLM-4/basic_demo/requirements.txt (line 19)) (0.6.1)\n",
            "Downloading gradio-4.44.1-py3-none-any.whl (18.1 MB)\n",
            "\u001b[2K   \u001b[90m━━━━━━━━━━━━━━━━━━━━━━━━━━━━━━━━━━━━━━━━\u001b[0m \u001b[32m18.1/18.1 MB\u001b[0m \u001b[31m86.7 MB/s\u001b[0m eta \u001b[36m0:00:00\u001b[0m\n",
            "\u001b[?25hDownloading gradio_client-1.3.0-py3-none-any.whl (318 kB)\n",
            "\u001b[2K   \u001b[90m━━━━━━━━━━━━━━━━━━━━━━━━━━━━━━━━━━━━━━━━\u001b[0m \u001b[32m318.7/318.7 kB\u001b[0m \u001b[31m31.2 MB/s\u001b[0m eta \u001b[36m0:00:00\u001b[0m\n",
            "\u001b[?25hDownloading tomlkit-0.12.0-py3-none-any.whl (37 kB)\n",
            "Downloading nvidia_cublas_cu12-12.4.5.8-py3-none-manylinux2014_x86_64.whl (363.4 MB)\n",
            "\u001b[2K   \u001b[90m━━━━━━━━━━━━━━━━━━━━━━━━━━━━━━━━━━━━━━━━\u001b[0m \u001b[32m363.4/363.4 MB\u001b[0m \u001b[31m2.8 MB/s\u001b[0m eta \u001b[36m0:00:00\u001b[0m\n",
            "\u001b[?25hDownloading nvidia_cuda_cupti_cu12-12.4.127-py3-none-manylinux2014_x86_64.whl (13.8 MB)\n",
            "\u001b[2K   \u001b[90m━━━━━━━━━━━━━━━━━━━━━━━━━━━━━━━━━━━━━━━━\u001b[0m \u001b[32m13.8/13.8 MB\u001b[0m \u001b[31m105.1 MB/s\u001b[0m eta \u001b[36m0:00:00\u001b[0m\n",
            "\u001b[?25hDownloading nvidia_cuda_nvrtc_cu12-12.4.127-py3-none-manylinux2014_x86_64.whl (24.6 MB)\n",
            "\u001b[2K   \u001b[90m━━━━━━━━━━━━━━━━━━━━━━━━━━━━━━━━━━━━━━━━\u001b[0m \u001b[32m24.6/24.6 MB\u001b[0m \u001b[31m74.5 MB/s\u001b[0m eta \u001b[36m0:00:00\u001b[0m\n",
            "\u001b[?25hDownloading nvidia_cuda_runtime_cu12-12.4.127-py3-none-manylinux2014_x86_64.whl (883 kB)\n",
            "\u001b[2K   \u001b[90m━━━━━━━━━━━━━━━━━━━━━━━━━━━━━━━━━━━━━━━━\u001b[0m \u001b[32m883.7/883.7 kB\u001b[0m \u001b[31m53.7 MB/s\u001b[0m eta \u001b[36m0:00:00\u001b[0m\n",
            "\u001b[?25hDownloading nvidia_cudnn_cu12-9.1.0.70-py3-none-manylinux2014_x86_64.whl (664.8 MB)\n",
            "\u001b[2K   \u001b[90m━━━━━━━━━━━━━━━━━━━━━━━━━━━━━━━━━━━━━━━━\u001b[0m \u001b[32m664.8/664.8 MB\u001b[0m \u001b[31m1.6 MB/s\u001b[0m eta \u001b[36m0:00:00\u001b[0m\n",
            "\u001b[?25hDownloading nvidia_cufft_cu12-11.2.1.3-py3-none-manylinux2014_x86_64.whl (211.5 MB)\n",
            "\u001b[2K   \u001b[90m━━━━━━━━━━━━━━━━━━━━━━━━━━━━━━━━━━━━━━━━\u001b[0m \u001b[32m211.5/211.5 MB\u001b[0m \u001b[31m10.7 MB/s\u001b[0m eta \u001b[36m0:00:00\u001b[0m\n",
            "\u001b[?25hDownloading nvidia_curand_cu12-10.3.5.147-py3-none-manylinux2014_x86_64.whl (56.3 MB)\n",
            "\u001b[2K   \u001b[90m━━━━━━━━━━━━━━━━━━━━━━━━━━━━━━━━━━━━━━━━\u001b[0m \u001b[32m56.3/56.3 MB\u001b[0m \u001b[31m40.9 MB/s\u001b[0m eta \u001b[36m0:00:00\u001b[0m\n",
            "\u001b[?25hDownloading nvidia_cusolver_cu12-11.6.1.9-py3-none-manylinux2014_x86_64.whl (127.9 MB)\n",
            "\u001b[2K   \u001b[90m━━━━━━━━━━━━━━━━━━━━━━━━━━━━━━━━━━━━━━━━\u001b[0m \u001b[32m127.9/127.9 MB\u001b[0m \u001b[31m18.2 MB/s\u001b[0m eta \u001b[36m0:00:00\u001b[0m\n",
            "\u001b[?25hDownloading nvidia_cusparse_cu12-12.3.1.170-py3-none-manylinux2014_x86_64.whl (207.5 MB)\n",
            "\u001b[2K   \u001b[90m━━━━━━━━━━━━━━━━━━━━━━━━━━━━━━━━━━━━━━━━\u001b[0m \u001b[32m207.5/207.5 MB\u001b[0m \u001b[31m3.5 MB/s\u001b[0m eta \u001b[36m0:00:00\u001b[0m\n",
            "\u001b[?25hDownloading nvidia_nvjitlink_cu12-12.4.127-py3-none-manylinux2014_x86_64.whl (21.1 MB)\n",
            "\u001b[2K   \u001b[90m━━━━━━━━━━━━━━━━━━━━━━━━━━━━━━━━━━━━━━━━\u001b[0m \u001b[32m21.1/21.1 MB\u001b[0m \u001b[31m95.2 MB/s\u001b[0m eta \u001b[36m0:00:00\u001b[0m\n",
            "\u001b[?25hDownloading tiktoken-0.8.0-cp311-cp311-manylinux_2_17_x86_64.manylinux2014_x86_64.whl (1.2 MB)\n",
            "\u001b[2K   \u001b[90m━━━━━━━━━━━━━━━━━━━━━━━━━━━━━━━━━━━━━━━━\u001b[0m \u001b[32m1.2/1.2 MB\u001b[0m \u001b[31m65.3 MB/s\u001b[0m eta \u001b[36m0:00:00\u001b[0m\n",
            "\u001b[?25hDownloading pillow-10.4.0-cp311-cp311-manylinux_2_28_x86_64.whl (4.5 MB)\n",
            "\u001b[2K   \u001b[90m━━━━━━━━━━━━━━━━━━━━━━━━━━━━━━━━━━━━━━━━\u001b[0m \u001b[32m4.5/4.5 MB\u001b[0m \u001b[31m110.1 MB/s\u001b[0m eta \u001b[36m0:00:00\u001b[0m\n",
            "\u001b[?25hDownloading sse_starlette-2.2.1-py3-none-any.whl (10 kB)\n",
            "Downloading bitsandbytes-0.45.2-py3-none-manylinux_2_24_x86_64.whl (69.7 MB)\n",
            "\u001b[2K   \u001b[90m━━━━━━━━━━━━━━━━━━━━━━━━━━━━━━━━━━━━━━━━\u001b[0m \u001b[32m69.7/69.7 MB\u001b[0m \u001b[31m30.1 MB/s\u001b[0m eta \u001b[36m0:00:00\u001b[0m\n",
            "\u001b[?25hDownloading vllm-0.7.2-cp38-abi3-manylinux1_x86_64.whl (264.3 MB)\n",
            "\u001b[2K   \u001b[90m━━━━━━━━━━━━━━━━━━━━━━━━━━━━━━━━━━━━━━━━\u001b[0m \u001b[32m264.3/264.3 MB\u001b[0m \u001b[31m3.6 MB/s\u001b[0m eta \u001b[36m0:00:00\u001b[0m\n",
            "\u001b[?25hDownloading compressed_tensors-0.9.1-py3-none-any.whl (96 kB)\n",
            "\u001b[2K   \u001b[90m━━━━━━━━━━━━━━━━━━━━━━━━━━━━━━━━━━━━━━━━\u001b[0m \u001b[32m96.5/96.5 kB\u001b[0m \u001b[31m9.0 MB/s\u001b[0m eta \u001b[36m0:00:00\u001b[0m\n",
            "\u001b[?25hDownloading depyf-0.18.0-py3-none-any.whl (38 kB)\n",
            "Downloading gguf-0.10.0-py3-none-any.whl (71 kB)\n",
            "\u001b[2K   \u001b[90m━━━━━━━━━━━━━━━━━━━━━━━━━━━━━━━━━━━━━━━━\u001b[0m \u001b[32m71.6/71.6 kB\u001b[0m \u001b[31m7.3 MB/s\u001b[0m eta \u001b[36m0:00:00\u001b[0m\n",
            "\u001b[?25hDownloading lark-1.2.2-py3-none-any.whl (111 kB)\n",
            "\u001b[2K   \u001b[90m━━━━━━━━━━━━━━━━━━━━━━━━━━━━━━━━━━━━━━━━\u001b[0m \u001b[32m111.0/111.0 kB\u001b[0m \u001b[31m11.6 MB/s\u001b[0m eta \u001b[36m0:00:00\u001b[0m\n",
            "\u001b[?25hDownloading outlines-0.1.11-py3-none-any.whl (87 kB)\n",
            "\u001b[2K   \u001b[90m━━━━━━━━━━━━━━━━━━━━━━━━━━━━━━━━━━━━━━━━\u001b[0m \u001b[32m87.6/87.6 kB\u001b[0m \u001b[31m8.9 MB/s\u001b[0m eta \u001b[36m0:00:00\u001b[0m\n",
            "\u001b[?25hDownloading xformers-0.0.28.post3-cp311-cp311-manylinux_2_28_x86_64.whl (16.7 MB)\n",
            "\u001b[2K   \u001b[90m━━━━━━━━━━━━━━━━━━━━━━━━━━━━━━━━━━━━━━━━\u001b[0m \u001b[32m16.7/16.7 MB\u001b[0m \u001b[31m90.4 MB/s\u001b[0m eta \u001b[36m0:00:00\u001b[0m\n",
            "\u001b[?25hDownloading outlines_core-0.1.26-cp311-cp311-manylinux_2_17_x86_64.manylinux2014_x86_64.whl (343 kB)\n",
            "\u001b[2K   \u001b[90m━━━━━━━━━━━━━━━━━━━━━━━━━━━━━━━━━━━━━━━━\u001b[0m \u001b[32m343.3/343.3 kB\u001b[0m \u001b[31m31.2 MB/s\u001b[0m eta \u001b[36m0:00:00\u001b[0m\n",
            "\u001b[?25hDownloading aiofiles-23.2.1-py3-none-any.whl (15 kB)\n",
            "Downloading anyio-4.8.0-py3-none-any.whl (96 kB)\n",
            "\u001b[2K   \u001b[90m━━━━━━━━━━━━━━━━━━━━━━━━━━━━━━━━━━━━━━━━\u001b[0m \u001b[32m96.0/96.0 kB\u001b[0m \u001b[31m11.6 MB/s\u001b[0m eta \u001b[36m0:00:00\u001b[0m\n",
            "\u001b[?25hDownloading fastapi-0.115.8-py3-none-any.whl (94 kB)\n",
            "\u001b[2K   \u001b[90m━━━━━━━━━━━━━━━━━━━━━━━━━━━━━━━━━━━━━━━━\u001b[0m \u001b[32m94.8/94.8 kB\u001b[0m \u001b[31m10.2 MB/s\u001b[0m eta \u001b[36m0:00:00\u001b[0m\n",
            "\u001b[?25hDownloading lm_format_enforcer-0.10.9-py3-none-any.whl (43 kB)\n",
            "\u001b[2K   \u001b[90m━━━━━━━━━━━━━━━━━━━━━━━━━━━━━━━━━━━━━━━━\u001b[0m \u001b[32m43.9/43.9 kB\u001b[0m \u001b[31m4.4 MB/s\u001b[0m eta \u001b[36m0:00:00\u001b[0m\n",
            "\u001b[?25hDownloading MarkupSafe-2.1.5-cp311-cp311-manylinux_2_17_x86_64.manylinux2014_x86_64.whl (28 kB)\n",
            "Downloading mistral_common-1.5.3-py3-none-any.whl (6.5 MB)\n",
            "\u001b[2K   \u001b[90m━━━━━━━━━━━━━━━━━━━━━━━━━━━━━━━━━━━━━━━━\u001b[0m \u001b[32m6.5/6.5 MB\u001b[0m \u001b[31m92.7 MB/s\u001b[0m eta \u001b[36m0:00:00\u001b[0m\n",
            "\u001b[?25hDownloading nvidia_ml_py-12.570.86-py3-none-any.whl (44 kB)\n",
            "\u001b[2K   \u001b[90m━━━━━━━━━━━━━━━━━━━━━━━━━━━━━━━━━━━━━━━━\u001b[0m \u001b[32m44.4/44.4 kB\u001b[0m \u001b[31m4.2 MB/s\u001b[0m eta \u001b[36m0:00:00\u001b[0m\n",
            "\u001b[?25hDownloading prometheus_fastapi_instrumentator-7.0.2-py3-none-any.whl (18 kB)\n",
            "Downloading python_multipart-0.0.20-py3-none-any.whl (24 kB)\n",
            "Downloading ray-2.42.0-cp311-cp311-manylinux2014_x86_64.whl (67.4 MB)\n",
            "\u001b[2K   \u001b[90m━━━━━━━━━━━━━━━━━━━━━━━━━━━━━━━━━━━━━━━━\u001b[0m \u001b[32m67.4/67.4 MB\u001b[0m \u001b[31m30.6 MB/s\u001b[0m eta \u001b[36m0:00:00\u001b[0m\n",
            "\u001b[?25hDownloading ruff-0.9.5-py3-none-manylinux_2_17_x86_64.manylinux2014_x86_64.whl (12.4 MB)\n",
            "\u001b[2K   \u001b[90m━━━━━━━━━━━━━━━━━━━━━━━━━━━━━━━━━━━━━━━━\u001b[0m \u001b[32m12.4/12.4 MB\u001b[0m \u001b[31m99.3 MB/s\u001b[0m eta \u001b[36m0:00:00\u001b[0m\n",
            "\u001b[?25hDownloading semantic_version-2.10.0-py2.py3-none-any.whl (15 kB)\n",
            "Downloading starlette-0.45.3-py3-none-any.whl (71 kB)\n",
            "\u001b[2K   \u001b[90m━━━━━━━━━━━━━━━━━━━━━━━━━━━━━━━━━━━━━━━━\u001b[0m \u001b[32m71.5/71.5 kB\u001b[0m \u001b[31m7.1 MB/s\u001b[0m eta \u001b[36m0:00:00\u001b[0m\n",
            "\u001b[?25hDownloading uvicorn-0.34.0-py3-none-any.whl (62 kB)\n",
            "\u001b[2K   \u001b[90m━━━━━━━━━━━━━━━━━━━━━━━━━━━━━━━━━━━━━━━━\u001b[0m \u001b[32m62.3/62.3 kB\u001b[0m \u001b[31m6.0 MB/s\u001b[0m eta \u001b[36m0:00:00\u001b[0m\n",
            "\u001b[?25hDownloading xgrammar-0.1.11-cp311-cp311-manylinux_2_27_x86_64.manylinux_2_28_x86_64.whl (396 kB)\n",
            "\u001b[2K   \u001b[90m━━━━━━━━━━━━━━━━━━━━━━━━━━━━━━━━━━━━━━━━\u001b[0m \u001b[32m396.9/396.9 kB\u001b[0m \u001b[31m36.1 MB/s\u001b[0m eta \u001b[36m0:00:00\u001b[0m\n",
            "\u001b[?25hDownloading blake3-1.0.4-cp311-cp311-manylinux_2_17_x86_64.manylinux2014_x86_64.whl (376 kB)\n",
            "\u001b[2K   \u001b[90m━━━━━━━━━━━━━━━━━━━━━━━━━━━━━━━━━━━━━━━━\u001b[0m \u001b[32m376.2/376.2 kB\u001b[0m \u001b[31m34.3 MB/s\u001b[0m eta \u001b[36m0:00:00\u001b[0m\n",
            "\u001b[?25hDownloading ffmpy-0.5.0-py3-none-any.whl (6.0 kB)\n",
            "Downloading msgspec-0.19.0-cp311-cp311-manylinux_2_17_x86_64.manylinux2014_x86_64.whl (210 kB)\n",
            "\u001b[2K   \u001b[90m━━━━━━━━━━━━━━━━━━━━━━━━━━━━━━━━━━━━━━━━\u001b[0m \u001b[32m210.7/210.7 kB\u001b[0m \u001b[31m21.2 MB/s\u001b[0m eta \u001b[36m0:00:00\u001b[0m\n",
            "\u001b[?25hDownloading partial_json_parser-0.2.1.1.post5-py3-none-any.whl (10 kB)\n",
            "Downloading pydub-0.25.1-py2.py3-none-any.whl (32 kB)\n",
            "Downloading httptools-0.6.4-cp311-cp311-manylinux_2_5_x86_64.manylinux1_x86_64.manylinux_2_17_x86_64.manylinux2014_x86_64.whl (459 kB)\n",
            "\u001b[2K   \u001b[90m━━━━━━━━━━━━━━━━━━━━━━━━━━━━━━━━━━━━━━━━\u001b[0m \u001b[32m459.8/459.8 kB\u001b[0m \u001b[31m39.1 MB/s\u001b[0m eta \u001b[36m0:00:00\u001b[0m\n",
            "\u001b[?25hDownloading interegular-0.3.3-py37-none-any.whl (23 kB)\n",
            "Downloading py_spy-0.4.0-py2.py3-none-manylinux_2_5_x86_64.manylinux1_x86_64.whl (2.7 MB)\n",
            "\u001b[2K   \u001b[90m━━━━━━━━━━━━━━━━━━━━━━━━━━━━━━━━━━━━━━━━\u001b[0m \u001b[32m2.7/2.7 MB\u001b[0m \u001b[31m76.8 MB/s\u001b[0m eta \u001b[36m0:00:00\u001b[0m\n",
            "\u001b[?25hDownloading python_dotenv-1.0.1-py3-none-any.whl (19 kB)\n",
            "Downloading uvloop-0.21.0-cp311-cp311-manylinux_2_17_x86_64.manylinux2014_x86_64.whl (4.0 MB)\n",
            "\u001b[2K   \u001b[90m━━━━━━━━━━━━━━━━━━━━━━━━━━━━━━━━━━━━━━━━\u001b[0m \u001b[32m4.0/4.0 MB\u001b[0m \u001b[31m93.0 MB/s\u001b[0m eta \u001b[36m0:00:00\u001b[0m\n",
            "\u001b[?25hDownloading virtualenv-20.29.1-py3-none-any.whl (4.3 MB)\n",
            "\u001b[2K   \u001b[90m━━━━━━━━━━━━━━━━━━━━━━━━━━━━━━━━━━━━━━━━\u001b[0m \u001b[32m4.3/4.3 MB\u001b[0m \u001b[31m84.5 MB/s\u001b[0m eta \u001b[36m0:00:00\u001b[0m\n",
            "\u001b[?25hDownloading watchfiles-1.0.4-cp311-cp311-manylinux_2_17_x86_64.manylinux2014_x86_64.whl (452 kB)\n",
            "\u001b[2K   \u001b[90m━━━━━━━━━━━━━━━━━━━━━━━━━━━━━━━━━━━━━━━━\u001b[0m \u001b[32m452.6/452.6 kB\u001b[0m \u001b[31m38.6 MB/s\u001b[0m eta \u001b[36m0:00:00\u001b[0m\n",
            "\u001b[?25hDownloading websockets-12.0-cp311-cp311-manylinux_2_5_x86_64.manylinux1_x86_64.manylinux_2_17_x86_64.manylinux2014_x86_64.whl (130 kB)\n",
            "\u001b[2K   \u001b[90m━━━━━━━━━━━━━━━━━━━━━━━━━━━━━━━━━━━━━━━━\u001b[0m \u001b[32m130.9/130.9 kB\u001b[0m \u001b[31m12.8 MB/s\u001b[0m eta \u001b[36m0:00:00\u001b[0m\n",
            "\u001b[?25hDownloading aiohttp_cors-0.7.0-py3-none-any.whl (27 kB)\n",
            "Downloading airportsdata-20241001-py3-none-any.whl (912 kB)\n",
            "\u001b[2K   \u001b[90m━━━━━━━━━━━━━━━━━━━━━━━━━━━━━━━━━━━━━━━━\u001b[0m \u001b[32m912.7/912.7 kB\u001b[0m \u001b[31m56.7 MB/s\u001b[0m eta \u001b[36m0:00:00\u001b[0m\n",
            "\u001b[?25hDownloading astor-0.8.1-py2.py3-none-any.whl (27 kB)\n",
            "Downloading colorful-0.5.6-py2.py3-none-any.whl (201 kB)\n",
            "\u001b[2K   \u001b[90m━━━━━━━━━━━━━━━━━━━━━━━━━━━━━━━━━━━━━━━━\u001b[0m \u001b[32m201.4/201.4 kB\u001b[0m \u001b[31m19.0 MB/s\u001b[0m eta \u001b[36m0:00:00\u001b[0m\n",
            "\u001b[?25hDownloading dill-0.3.9-py3-none-any.whl (119 kB)\n",
            "\u001b[2K   \u001b[90m━━━━━━━━━━━━━━━━━━━━━━━━━━━━━━━━━━━━━━━━\u001b[0m \u001b[32m119.4/119.4 kB\u001b[0m \u001b[31m12.7 MB/s\u001b[0m eta \u001b[36m0:00:00\u001b[0m\n",
            "\u001b[?25hDownloading diskcache-5.6.3-py3-none-any.whl (45 kB)\n",
            "\u001b[2K   \u001b[90m━━━━━━━━━━━━━━━━━━━━━━━━━━━━━━━━━━━━━━━━\u001b[0m \u001b[32m45.5/45.5 kB\u001b[0m \u001b[31m4.5 MB/s\u001b[0m eta \u001b[36m0:00:00\u001b[0m\n",
            "\u001b[?25hDownloading opencensus-0.11.4-py2.py3-none-any.whl (128 kB)\n",
            "\u001b[2K   \u001b[90m━━━━━━━━━━━━━━━━━━━━━━━━━━━━━━━━━━━━━━━━\u001b[0m \u001b[32m128.2/128.2 kB\u001b[0m \u001b[31m12.5 MB/s\u001b[0m eta \u001b[36m0:00:00\u001b[0m\n",
            "\u001b[?25hDownloading pybind11-2.13.6-py3-none-any.whl (243 kB)\n",
            "\u001b[2K   \u001b[90m━━━━━━━━━━━━━━━━━━━━━━━━━━━━━━━━━━━━━━━━\u001b[0m \u001b[32m243.3/243.3 kB\u001b[0m \u001b[31m22.4 MB/s\u001b[0m eta \u001b[36m0:00:00\u001b[0m\n",
            "\u001b[?25hDownloading pycountry-24.6.1-py3-none-any.whl (6.3 MB)\n",
            "\u001b[2K   \u001b[90m━━━━━━━━━━━━━━━━━━━━━━━━━━━━━━━━━━━━━━━━\u001b[0m \u001b[32m6.3/6.3 MB\u001b[0m \u001b[31m107.5 MB/s\u001b[0m eta \u001b[36m0:00:00\u001b[0m\n",
            "\u001b[?25hDownloading distlib-0.3.9-py2.py3-none-any.whl (468 kB)\n",
            "\u001b[2K   \u001b[90m━━━━━━━━━━━━━━━━━━━━━━━━━━━━━━━━━━━━━━━━\u001b[0m \u001b[32m469.0/469.0 kB\u001b[0m \u001b[31m39.7 MB/s\u001b[0m eta \u001b[36m0:00:00\u001b[0m\n",
            "\u001b[?25hDownloading opencensus_context-0.1.3-py2.py3-none-any.whl (5.1 kB)\n",
            "Installing collected packages: pydub, py-spy, opencensus-context, nvidia-ml-py, distlib, colorful, blake3, websockets, virtualenv, uvloop, uvicorn, tomlkit, semantic-version, ruff, python-multipart, python-dotenv, pycountry, pybind11, pillow, partial-json-parser, nvidia-nvjitlink-cu12, nvidia-curand-cu12, nvidia-cufft-cu12, nvidia-cuda-runtime-cu12, nvidia-cuda-nvrtc-cu12, nvidia-cuda-cupti-cu12, nvidia-cublas-cu12, msgspec, markupsafe, lark, interegular, httptools, gguf, ffmpy, diskcache, dill, astor, anyio, airportsdata, aiofiles, watchfiles, tiktoken, starlette, nvidia-cusparse-cu12, nvidia-cudnn-cu12, depyf, sse-starlette, prometheus-fastapi-instrumentator, nvidia-cusolver-cu12, lm-format-enforcer, gradio-client, fastapi, aiohttp-cors, ray, outlines_core, opencensus, mistral_common, gradio, xgrammar, xformers, outlines, compressed-tensors, bitsandbytes, vllm\n",
            "  Attempting uninstall: websockets\n",
            "    Found existing installation: websockets 14.2\n",
            "    Uninstalling websockets-14.2:\n",
            "      Successfully uninstalled websockets-14.2\n",
            "  Attempting uninstall: pillow\n",
            "    Found existing installation: pillow 11.1.0\n",
            "    Uninstalling pillow-11.1.0:\n",
            "      Successfully uninstalled pillow-11.1.0\n",
            "  Attempting uninstall: nvidia-nvjitlink-cu12\n",
            "    Found existing installation: nvidia-nvjitlink-cu12 12.5.82\n",
            "    Uninstalling nvidia-nvjitlink-cu12-12.5.82:\n",
            "      Successfully uninstalled nvidia-nvjitlink-cu12-12.5.82\n",
            "  Attempting uninstall: nvidia-curand-cu12\n",
            "    Found existing installation: nvidia-curand-cu12 10.3.6.82\n",
            "    Uninstalling nvidia-curand-cu12-10.3.6.82:\n",
            "      Successfully uninstalled nvidia-curand-cu12-10.3.6.82\n",
            "  Attempting uninstall: nvidia-cufft-cu12\n",
            "    Found existing installation: nvidia-cufft-cu12 11.2.3.61\n",
            "    Uninstalling nvidia-cufft-cu12-11.2.3.61:\n",
            "      Successfully uninstalled nvidia-cufft-cu12-11.2.3.61\n",
            "  Attempting uninstall: nvidia-cuda-runtime-cu12\n",
            "    Found existing installation: nvidia-cuda-runtime-cu12 12.5.82\n",
            "    Uninstalling nvidia-cuda-runtime-cu12-12.5.82:\n",
            "      Successfully uninstalled nvidia-cuda-runtime-cu12-12.5.82\n",
            "  Attempting uninstall: nvidia-cuda-nvrtc-cu12\n",
            "    Found existing installation: nvidia-cuda-nvrtc-cu12 12.5.82\n",
            "    Uninstalling nvidia-cuda-nvrtc-cu12-12.5.82:\n",
            "      Successfully uninstalled nvidia-cuda-nvrtc-cu12-12.5.82\n",
            "  Attempting uninstall: nvidia-cuda-cupti-cu12\n",
            "    Found existing installation: nvidia-cuda-cupti-cu12 12.5.82\n",
            "    Uninstalling nvidia-cuda-cupti-cu12-12.5.82:\n",
            "      Successfully uninstalled nvidia-cuda-cupti-cu12-12.5.82\n",
            "  Attempting uninstall: nvidia-cublas-cu12\n",
            "    Found existing installation: nvidia-cublas-cu12 12.5.3.2\n",
            "    Uninstalling nvidia-cublas-cu12-12.5.3.2:\n",
            "      Successfully uninstalled nvidia-cublas-cu12-12.5.3.2\n",
            "  Attempting uninstall: markupsafe\n",
            "    Found existing installation: MarkupSafe 3.0.2\n",
            "    Uninstalling MarkupSafe-3.0.2:\n",
            "      Successfully uninstalled MarkupSafe-3.0.2\n",
            "  Attempting uninstall: anyio\n",
            "    Found existing installation: anyio 3.7.1\n",
            "    Uninstalling anyio-3.7.1:\n",
            "      Successfully uninstalled anyio-3.7.1\n",
            "  Attempting uninstall: nvidia-cusparse-cu12\n",
            "    Found existing installation: nvidia-cusparse-cu12 12.5.1.3\n",
            "    Uninstalling nvidia-cusparse-cu12-12.5.1.3:\n",
            "      Successfully uninstalled nvidia-cusparse-cu12-12.5.1.3\n",
            "  Attempting uninstall: nvidia-cudnn-cu12\n",
            "    Found existing installation: nvidia-cudnn-cu12 9.3.0.75\n",
            "    Uninstalling nvidia-cudnn-cu12-9.3.0.75:\n",
            "      Successfully uninstalled nvidia-cudnn-cu12-9.3.0.75\n",
            "  Attempting uninstall: nvidia-cusolver-cu12\n",
            "    Found existing installation: nvidia-cusolver-cu12 11.6.3.83\n",
            "    Uninstalling nvidia-cusolver-cu12-11.6.3.83:\n",
            "      Successfully uninstalled nvidia-cusolver-cu12-11.6.3.83\n",
            "\u001b[31mERROR: pip's dependency resolver does not currently take into account all the packages that are installed. This behaviour is the source of the following dependency conflicts.\n",
            "jupyter-server 1.24.0 requires anyio<4,>=3.1.0, but you have anyio 4.8.0 which is incompatible.\n",
            "google-genai 0.8.0 requires websockets<15.0dev,>=13.0, but you have websockets 12.0 which is incompatible.\u001b[0m\u001b[31m\n",
            "\u001b[0mSuccessfully installed aiofiles-23.2.1 aiohttp-cors-0.7.0 airportsdata-20241001 anyio-4.8.0 astor-0.8.1 bitsandbytes-0.45.2 blake3-1.0.4 colorful-0.5.6 compressed-tensors-0.9.1 depyf-0.18.0 dill-0.3.9 diskcache-5.6.3 distlib-0.3.9 fastapi-0.115.8 ffmpy-0.5.0 gguf-0.10.0 gradio-4.44.1 gradio-client-1.3.0 httptools-0.6.4 interegular-0.3.3 lark-1.2.2 lm-format-enforcer-0.10.9 markupsafe-2.1.5 mistral_common-1.5.3 msgspec-0.19.0 nvidia-cublas-cu12-12.4.5.8 nvidia-cuda-cupti-cu12-12.4.127 nvidia-cuda-nvrtc-cu12-12.4.127 nvidia-cuda-runtime-cu12-12.4.127 nvidia-cudnn-cu12-9.1.0.70 nvidia-cufft-cu12-11.2.1.3 nvidia-curand-cu12-10.3.5.147 nvidia-cusolver-cu12-11.6.1.9 nvidia-cusparse-cu12-12.3.1.170 nvidia-ml-py-12.570.86 nvidia-nvjitlink-cu12-12.4.127 opencensus-0.11.4 opencensus-context-0.1.3 outlines-0.1.11 outlines_core-0.1.26 partial-json-parser-0.2.1.1.post5 pillow-10.4.0 prometheus-fastapi-instrumentator-7.0.2 py-spy-0.4.0 pybind11-2.13.6 pycountry-24.6.1 pydub-0.25.1 python-dotenv-1.0.1 python-multipart-0.0.20 ray-2.42.0 ruff-0.9.5 semantic-version-2.10.0 sse-starlette-2.2.1 starlette-0.45.3 tiktoken-0.8.0 tomlkit-0.12.0 uvicorn-0.34.0 uvloop-0.21.0 virtualenv-20.29.1 vllm-0.7.2 watchfiles-1.0.4 websockets-12.0 xformers-0.0.28.post3 xgrammar-0.1.11\n"
          ]
        },
        {
          "data": {
            "application/vnd.colab-display-data+json": {
              "id": "6697d1cde62a46359154500a0cb1db99",
              "pip_warning": {
                "packages": [
                  "PIL"
                ]
              }
            }
          },
          "metadata": {},
          "output_type": "display_data"
        }
      ],
      "source": [
        "!pip install -r /content/GLM-4/basic_demo/requirements.txt"
      ]
    },
    {
      "cell_type": "code",
      "execution_count": null,
      "metadata": {
        "colab": {
          "base_uri": "https://localhost:8080/"
        },
        "id": "3y5Clyh3gyMb",
        "outputId": "38abc048-47eb-412e-a0bc-a4131d4ea327"
      },
      "outputs": [
        {
          "name": "stdout",
          "output_type": "stream",
          "text": [
            "/content\n"
          ]
        }
      ],
      "source": [
        "!pwd"
      ]
    },
    {
      "cell_type": "code",
      "execution_count": null,
      "metadata": {
        "colab": {
          "base_uri": "https://localhost:8080/"
        },
        "id": "AQkZfG3hg0Wq",
        "outputId": "94f55392-a5e6-403c-a106-6e9b68277b07"
      },
      "outputs": [
        {
          "name": "stdout",
          "output_type": "stream",
          "text": [
            "GLM-4  sample_data  test.png\n"
          ]
        }
      ],
      "source": [
        "!ls"
      ]
    },
    {
      "cell_type": "code",
      "execution_count": null,
      "metadata": {
        "colab": {
          "background_save": true,
          "referenced_widgets": [
            "b280b5f9ead74d3499b58dc12c947daf",
            "db83cffd92404f799917cf84cf9aa22c",
            "4384b67fe5b6434dbfa7b4bc0122b6e6",
            "bc4a464e9fd24d0f8423491bb16e5c88",
            "8003fe60b0ba425ca7ff9643cf27badf",
            "a7a2c553c117421b9338fc4d58e9e73a",
            "4729fb91082e41e3a90a5616d3d8b5e9",
            "f3df3aca35514430a04e65038d3d3d9d",
            "7d089b34fceb4187a392b944fe6cd5cf",
            "fe5cc02d0feb4c558d364e09c12c03a2",
            "bd76147736ea4bb889a14ca0638c6d6a",
            "5a022899a3a44dcebd57aff59d38c608",
            "d56e3d59a582485da6292b3e06b72d89",
            "76ca12db74eb40d4834b243cc530bb03",
            "7c12b5be3ff346558578dca51c19b7ff",
            "a4d6cb82812b4a5e981e229dfd41f5c1",
            "9884d5086ee440cd8c18c8174d67518c",
            "7833b4012fbe4b17bc7b996dd6f8da1c",
            "8161b92ac47a43efa58628ad4c96f62e",
            "23a523e53c0a4e73a485e88a82830e29",
            "8f068a8bcf9847c3b6e5e4d0d309ac6d",
            "1a97db0f06ea4b6e96fe282c45a0373d",
            "fc38289095854e37adb52a3a0fc3b659",
            "57b9985c9560490c9755b5c2f11794d6",
            "823541a662ac4004bf1a8257085877cd",
            "06122beb365d409cbc8f4e5e3aaef780"
          ]
        },
        "id": "EIehP6Erfukt",
        "outputId": "9418b688-9de6-4639-ca19-a0822792ccaf"
      },
      "outputs": [
        {
          "name": "stderr",
          "output_type": "stream",
          "text": [
            "/usr/local/lib/python3.11/dist-packages/huggingface_hub/utils/_auth.py:94: UserWarning: \n",
            "The secret `HF_TOKEN` does not exist in your Colab secrets.\n",
            "To authenticate with the Hugging Face Hub, create a token in your settings tab (https://huggingface.co/settings/tokens), set it as secret in your Google Colab and restart your session.\n",
            "You will be able to reuse this secret in all of your notebooks.\n",
            "Please note that authentication is recommended but still optional to access public models or datasets.\n",
            "  warnings.warn(\n"
          ]
        },
        {
          "data": {
            "application/vnd.jupyter.widget-view+json": {
              "model_id": "b280b5f9ead74d3499b58dc12c947daf",
              "version_major": 2,
              "version_minor": 0
            },
            "text/plain": [
              "tokenizer_config.json:   0%|          | 0.00/3.22k [00:00<?, ?B/s]"
            ]
          },
          "metadata": {},
          "output_type": "display_data"
        },
        {
          "data": {
            "application/vnd.jupyter.widget-view+json": {
              "model_id": "db83cffd92404f799917cf84cf9aa22c",
              "version_major": 2,
              "version_minor": 0
            },
            "text/plain": [
              "tokenization_chatglm.py:   0%|          | 0.00/17.7k [00:00<?, ?B/s]"
            ]
          },
          "metadata": {},
          "output_type": "display_data"
        },
        {
          "name": "stderr",
          "output_type": "stream",
          "text": [
            "A new version of the following files was downloaded from https://huggingface.co/THUDM/glm-4v-9b:\n",
            "- tokenization_chatglm.py\n",
            ". Make sure to double-check they do not contain any added malicious code. To avoid downloading new versions of the code file, you can pin a revision.\n"
          ]
        },
        {
          "data": {
            "application/vnd.jupyter.widget-view+json": {
              "model_id": "4384b67fe5b6434dbfa7b4bc0122b6e6",
              "version_major": 2,
              "version_minor": 0
            },
            "text/plain": [
              "tokenizer.model:   0%|          | 0.00/2.62M [00:00<?, ?B/s]"
            ]
          },
          "metadata": {},
          "output_type": "display_data"
        },
        {
          "data": {
            "application/vnd.jupyter.widget-view+json": {
              "model_id": "bc4a464e9fd24d0f8423491bb16e5c88",
              "version_major": 2,
              "version_minor": 0
            },
            "text/plain": [
              "config.json:   0%|          | 0.00/1.77k [00:00<?, ?B/s]"
            ]
          },
          "metadata": {},
          "output_type": "display_data"
        },
        {
          "data": {
            "application/vnd.jupyter.widget-view+json": {
              "model_id": "8003fe60b0ba425ca7ff9643cf27badf",
              "version_major": 2,
              "version_minor": 0
            },
            "text/plain": [
              "configuration_chatglm.py:   0%|          | 0.00/2.57k [00:00<?, ?B/s]"
            ]
          },
          "metadata": {},
          "output_type": "display_data"
        },
        {
          "name": "stderr",
          "output_type": "stream",
          "text": [
            "A new version of the following files was downloaded from https://huggingface.co/THUDM/glm-4v-9b:\n",
            "- configuration_chatglm.py\n",
            ". Make sure to double-check they do not contain any added malicious code. To avoid downloading new versions of the code file, you can pin a revision.\n"
          ]
        },
        {
          "data": {
            "application/vnd.jupyter.widget-view+json": {
              "model_id": "a7a2c553c117421b9338fc4d58e9e73a",
              "version_major": 2,
              "version_minor": 0
            },
            "text/plain": [
              "modeling_chatglm.py:   0%|          | 0.00/57.0k [00:00<?, ?B/s]"
            ]
          },
          "metadata": {},
          "output_type": "display_data"
        },
        {
          "data": {
            "application/vnd.jupyter.widget-view+json": {
              "model_id": "4729fb91082e41e3a90a5616d3d8b5e9",
              "version_major": 2,
              "version_minor": 0
            },
            "text/plain": [
              "visual.py:   0%|          | 0.00/7.00k [00:00<?, ?B/s]"
            ]
          },
          "metadata": {},
          "output_type": "display_data"
        },
        {
          "name": "stderr",
          "output_type": "stream",
          "text": [
            "A new version of the following files was downloaded from https://huggingface.co/THUDM/glm-4v-9b:\n",
            "- visual.py\n",
            ". Make sure to double-check they do not contain any added malicious code. To avoid downloading new versions of the code file, you can pin a revision.\n",
            "A new version of the following files was downloaded from https://huggingface.co/THUDM/glm-4v-9b:\n",
            "- modeling_chatglm.py\n",
            "- visual.py\n",
            ". Make sure to double-check they do not contain any added malicious code. To avoid downloading new versions of the code file, you can pin a revision.\n"
          ]
        },
        {
          "data": {
            "application/vnd.jupyter.widget-view+json": {
              "model_id": "f3df3aca35514430a04e65038d3d3d9d",
              "version_major": 2,
              "version_minor": 0
            },
            "text/plain": [
              "model.safetensors.index.json:   0%|          | 0.00/111k [00:00<?, ?B/s]"
            ]
          },
          "metadata": {},
          "output_type": "display_data"
        },
        {
          "data": {
            "application/vnd.jupyter.widget-view+json": {
              "model_id": "7d089b34fceb4187a392b944fe6cd5cf",
              "version_major": 2,
              "version_minor": 0
            },
            "text/plain": [
              "Downloading shards:   0%|          | 0/15 [00:00<?, ?it/s]"
            ]
          },
          "metadata": {},
          "output_type": "display_data"
        },
        {
          "data": {
            "application/vnd.jupyter.widget-view+json": {
              "model_id": "fe5cc02d0feb4c558d364e09c12c03a2",
              "version_major": 2,
              "version_minor": 0
            },
            "text/plain": [
              "model-00001-of-00015.safetensors:   0%|          | 0.00/1.95G [00:00<?, ?B/s]"
            ]
          },
          "metadata": {},
          "output_type": "display_data"
        },
        {
          "data": {
            "application/vnd.jupyter.widget-view+json": {
              "model_id": "bd76147736ea4bb889a14ca0638c6d6a",
              "version_major": 2,
              "version_minor": 0
            },
            "text/plain": [
              "model-00002-of-00015.safetensors:   0%|          | 0.00/1.82G [00:00<?, ?B/s]"
            ]
          },
          "metadata": {},
          "output_type": "display_data"
        },
        {
          "data": {
            "application/vnd.jupyter.widget-view+json": {
              "model_id": "5a022899a3a44dcebd57aff59d38c608",
              "version_major": 2,
              "version_minor": 0
            },
            "text/plain": [
              "model-00003-of-00015.safetensors:   0%|          | 0.00/1.97G [00:00<?, ?B/s]"
            ]
          },
          "metadata": {},
          "output_type": "display_data"
        },
        {
          "data": {
            "application/vnd.jupyter.widget-view+json": {
              "model_id": "d56e3d59a582485da6292b3e06b72d89",
              "version_major": 2,
              "version_minor": 0
            },
            "text/plain": [
              "model-00004-of-00015.safetensors:   0%|          | 0.00/1.93G [00:00<?, ?B/s]"
            ]
          },
          "metadata": {},
          "output_type": "display_data"
        },
        {
          "data": {
            "application/vnd.jupyter.widget-view+json": {
              "model_id": "76ca12db74eb40d4834b243cc530bb03",
              "version_major": 2,
              "version_minor": 0
            },
            "text/plain": [
              "model-00005-of-00015.safetensors:   0%|          | 0.00/1.82G [00:00<?, ?B/s]"
            ]
          },
          "metadata": {},
          "output_type": "display_data"
        },
        {
          "data": {
            "application/vnd.jupyter.widget-view+json": {
              "model_id": "7c12b5be3ff346558578dca51c19b7ff",
              "version_major": 2,
              "version_minor": 0
            },
            "text/plain": [
              "model-00006-of-00015.safetensors:   0%|          | 0.00/1.97G [00:00<?, ?B/s]"
            ]
          },
          "metadata": {},
          "output_type": "display_data"
        },
        {
          "data": {
            "application/vnd.jupyter.widget-view+json": {
              "model_id": "a4d6cb82812b4a5e981e229dfd41f5c1",
              "version_major": 2,
              "version_minor": 0
            },
            "text/plain": [
              "model-00007-of-00015.safetensors:   0%|          | 0.00/1.93G [00:00<?, ?B/s]"
            ]
          },
          "metadata": {},
          "output_type": "display_data"
        },
        {
          "data": {
            "application/vnd.jupyter.widget-view+json": {
              "model_id": "9884d5086ee440cd8c18c8174d67518c",
              "version_major": 2,
              "version_minor": 0
            },
            "text/plain": [
              "model-00008-of-00015.safetensors:   0%|          | 0.00/1.82G [00:00<?, ?B/s]"
            ]
          },
          "metadata": {},
          "output_type": "display_data"
        },
        {
          "data": {
            "application/vnd.jupyter.widget-view+json": {
              "model_id": "7833b4012fbe4b17bc7b996dd6f8da1c",
              "version_major": 2,
              "version_minor": 0
            },
            "text/plain": [
              "model-00009-of-00015.safetensors:   0%|          | 0.00/1.97G [00:00<?, ?B/s]"
            ]
          },
          "metadata": {},
          "output_type": "display_data"
        },
        {
          "data": {
            "application/vnd.jupyter.widget-view+json": {
              "model_id": "8161b92ac47a43efa58628ad4c96f62e",
              "version_major": 2,
              "version_minor": 0
            },
            "text/plain": [
              "model-00010-of-00015.safetensors:   0%|          | 0.00/1.97G [00:00<?, ?B/s]"
            ]
          },
          "metadata": {},
          "output_type": "display_data"
        },
        {
          "data": {
            "application/vnd.jupyter.widget-view+json": {
              "model_id": "23a523e53c0a4e73a485e88a82830e29",
              "version_major": 2,
              "version_minor": 0
            },
            "text/plain": [
              "model-00011-of-00015.safetensors:   0%|          | 0.00/1.96G [00:00<?, ?B/s]"
            ]
          },
          "metadata": {},
          "output_type": "display_data"
        },
        {
          "data": {
            "application/vnd.jupyter.widget-view+json": {
              "model_id": "8f068a8bcf9847c3b6e5e4d0d309ac6d",
              "version_major": 2,
              "version_minor": 0
            },
            "text/plain": [
              "model-00012-of-00015.safetensors:   0%|          | 0.00/1.98G [00:00<?, ?B/s]"
            ]
          },
          "metadata": {},
          "output_type": "display_data"
        },
        {
          "data": {
            "application/vnd.jupyter.widget-view+json": {
              "model_id": "1a97db0f06ea4b6e96fe282c45a0373d",
              "version_major": 2,
              "version_minor": 0
            },
            "text/plain": [
              "model-00013-of-00015.safetensors:   0%|          | 0.00/1.96G [00:00<?, ?B/s]"
            ]
          },
          "metadata": {},
          "output_type": "display_data"
        },
        {
          "data": {
            "application/vnd.jupyter.widget-view+json": {
              "model_id": "fc38289095854e37adb52a3a0fc3b659",
              "version_major": 2,
              "version_minor": 0
            },
            "text/plain": [
              "model-00014-of-00015.safetensors:   0%|          | 0.00/1.98G [00:00<?, ?B/s]"
            ]
          },
          "metadata": {},
          "output_type": "display_data"
        },
        {
          "data": {
            "application/vnd.jupyter.widget-view+json": {
              "model_id": "57b9985c9560490c9755b5c2f11794d6",
              "version_major": 2,
              "version_minor": 0
            },
            "text/plain": [
              "model-00015-of-00015.safetensors:   0%|          | 0.00/811M [00:00<?, ?B/s]"
            ]
          },
          "metadata": {},
          "output_type": "display_data"
        },
        {
          "data": {
            "application/vnd.jupyter.widget-view+json": {
              "model_id": "823541a662ac4004bf1a8257085877cd",
              "version_major": 2,
              "version_minor": 0
            },
            "text/plain": [
              "Loading checkpoint shards:   0%|          | 0/15 [00:00<?, ?it/s]"
            ]
          },
          "metadata": {},
          "output_type": "display_data"
        },
        {
          "data": {
            "application/vnd.jupyter.widget-view+json": {
              "model_id": "06122beb365d409cbc8f4e5e3aaef780",
              "version_major": 2,
              "version_minor": 0
            },
            "text/plain": [
              "generation_config.json:   0%|          | 0.00/205 [00:00<?, ?B/s]"
            ]
          },
          "metadata": {},
          "output_type": "display_data"
        }
      ],
      "source": [
        "import torch\n",
        "from PIL import Image\n",
        "from transformers import AutoModelForCausalLM, AutoTokenizer\n",
        "\n",
        "device = \"cuda\"\n",
        "\n",
        "tokenizer = AutoTokenizer.from_pretrained(\"THUDM/glm-4v-9b\", trust_remote_code=True)\n",
        "model = AutoModelForCausalLM.from_pretrained(\n",
        "    \"THUDM/glm-4v-9b\",\n",
        "    torch_dtype=torch.bfloat16,\n",
        "    low_cpu_mem_usage=True,\n",
        "    trust_remote_code=True\n",
        ").to(device).eval()\n",
        "\n",
        "\n",
        "\n",
        "gen_kwargs = {\"max_length\": 2500, \"do_sample\": True, \"top_k\": 1}\n",
        "\n",
        "\n"
      ]
    },
    {
      "cell_type": "code",
      "execution_count": null,
      "metadata": {
        "colab": {
          "base_uri": "https://localhost:8080/"
        },
        "id": "gVguXUhyfuem",
        "outputId": "d0afdd83-870c-46db-e03b-5829f3dba0ce"
      },
      "outputs": [
        {
          "name": "stdout",
          "output_type": "stream",
          "text": [
            "图片展示了三个Windows系统的更新补丁，这些更新补丁的版本号分别为2024、5.130和2024-11，它们都适用于Windows 11系统，并针对不同的安全漏洞和稳定性问题进行了修复。第一个更新补丁KB5046633正在等待重启，另外两个更新补丁KB890830和KB5045935都可以安装。 <|endoftext|>\n"
          ]
        }
      ],
      "source": [
        "query = '描述这张图片'\n",
        "image = Image.open(\"test.png\").convert('RGB')\n",
        "inputs = tokenizer.apply_chat_template([{\"role\": \"user\", \"image\": image, \"content\": query}],\n",
        "                                       add_generation_prompt=True, tokenize=True, return_tensors=\"pt\",\n",
        "                                       return_dict=True)  # chat mode\n",
        "\n",
        "inputs = inputs.to(device)\n",
        "\n",
        "\n",
        "with torch.no_grad():\n",
        "    outputs = model.generate(**inputs, **gen_kwargs)\n",
        "    outputs = outputs[:, inputs['input_ids'].shape[1]:]\n",
        "    print(tokenizer.decode(outputs[0]))"
      ]
    },
    {
      "cell_type": "code",
      "execution_count": null,
      "metadata": {
        "colab": {
          "base_uri": "https://localhost:8080/"
        },
        "id": "KXujacLWpqyC",
        "outputId": "b50d72d9-8b3f-4ae4-fc23-d732b8c1e792"
      },
      "outputs": [
        {
          "name": "stdout",
          "output_type": "stream",
          "text": [
            "模型的总参数量为: 13,906,320,896\n"
          ]
        }
      ],
      "source": [
        "\n",
        "def count_parameters(model):\n",
        "    return sum(p.numel() for p in model.parameters())\n",
        "\n",
        "# 假设你已经定义或加载了 ChatGLMForConditionalGeneration 模型\n",
        "# model = ChatGLMForConditionalGeneration(...)\n",
        "\n",
        "# 计算总参数量\n",
        "total_params = count_parameters(model)\n",
        "print(f\"模型的总参数量为: {total_params:,}\")\n"
      ]
    },
    {
      "cell_type": "code",
      "execution_count": null,
      "metadata": {
        "colab": {
          "base_uri": "https://localhost:8080/"
        },
        "id": "RhH27YPlpRYs",
        "outputId": "17e52dcd-ea49-4d27-d9e4-136b91d11a44"
      },
      "outputs": [
        {
          "name": "stdout",
          "output_type": "stream",
          "text": [
            "这是一张女性侧身照，她穿着白色吊带，披着头发，表情平静地看着镜头。背景是海边的礁石和波涛汹涌的大海，远处可以看到山脉的轮廓。在图片的右下角有一个水印，写着“知乎@天狼”。 <|endoftext|>\n"
          ]
        }
      ],
      "source": [
        "query = '描述这张图片'\n",
        "image = Image.open(\"/content/test1.jpg\").convert('RGB')\n",
        "inputs = tokenizer.apply_chat_template([{\"role\": \"user\", \"image\": image, \"content\": query}],\n",
        "                                       add_generation_prompt=True, tokenize=True, return_tensors=\"pt\",\n",
        "                                       return_dict=True)  # chat mode\n",
        "\n",
        "inputs = inputs.to(device)\n",
        "\n",
        "\n",
        "with torch.no_grad():\n",
        "    outputs = model.generate(**inputs, **gen_kwargs)\n",
        "    outputs = outputs[:, inputs['input_ids'].shape[1]:]\n",
        "    print(tokenizer.decode(outputs[0]))"
      ]
    },
    {
      "cell_type": "code",
      "execution_count": null,
      "metadata": {
        "colab": {
          "base_uri": "https://localhost:8080/"
        },
        "id": "kLr0E5FPpVsb",
        "outputId": "3ddb1bc3-9ae2-47b8-f729-a2310bfa09aa"
      },
      "outputs": [
        {
          "data": {
            "text/plain": [
              "ChatGLMForConditionalGeneration(\n",
              "  (transformer): ChatGLMModel(\n",
              "    (embedding): Embedding(\n",
              "      (word_embeddings): Embedding(151552, 4096)\n",
              "    )\n",
              "    (rotary_pos_emb): RotaryEmbedding()\n",
              "    (encoder): GLMTransformer(\n",
              "      (layers): ModuleList(\n",
              "        (0-39): 40 x GLMBlock(\n",
              "          (input_layernorm): RMSNorm()\n",
              "          (self_attention): SelfAttention(\n",
              "            (query_key_value): Linear(in_features=4096, out_features=4608, bias=True)\n",
              "            (core_attention): CoreAttention(\n",
              "              (attention_dropout): Dropout(p=0.0, inplace=False)\n",
              "            )\n",
              "            (dense): Linear(in_features=4096, out_features=4096, bias=False)\n",
              "          )\n",
              "          (post_attention_layernorm): RMSNorm()\n",
              "          (mlp): MLP(\n",
              "            (dense_h_to_4h): Linear(in_features=4096, out_features=27392, bias=False)\n",
              "            (dense_4h_to_h): Linear(in_features=13696, out_features=4096, bias=False)\n",
              "          )\n",
              "        )\n",
              "      )\n",
              "      (final_layernorm): RMSNorm()\n",
              "    )\n",
              "    (output_layer): Linear(in_features=4096, out_features=151552, bias=False)\n",
              "    (vision): EVA2CLIPModel(\n",
              "      (patch_embedding): PatchEmbedding(\n",
              "        (proj): Conv2d(3, 1792, kernel_size=(14, 14), stride=(14, 14))\n",
              "        (position_embedding): Embedding(6401, 1792)\n",
              "      )\n",
              "      (transformer): Transformer(\n",
              "        (layers): ModuleList(\n",
              "          (0-62): 63 x TransformerLayer(\n",
              "            (input_layernorm): LayerNorm((1792,), eps=1e-06, elementwise_affine=True)\n",
              "            (attention): Attention(\n",
              "              (query_key_value): Linear(in_features=1792, out_features=5376, bias=True)\n",
              "              (dense): Linear(in_features=1792, out_features=1792, bias=True)\n",
              "              (output_dropout): Dropout(p=0.0, inplace=False)\n",
              "            )\n",
              "            (mlp): MLP(\n",
              "              (activation_fn): GELUActivation()\n",
              "              (fc1): Linear(in_features=1792, out_features=15360, bias=True)\n",
              "              (fc2): Linear(in_features=15360, out_features=1792, bias=True)\n",
              "            )\n",
              "            (post_attention_layernorm): LayerNorm((1792,), eps=1e-06, elementwise_affine=True)\n",
              "          )\n",
              "        )\n",
              "      )\n",
              "      (linear_proj): GLU(\n",
              "        (linear_proj): Linear(in_features=4096, out_features=4096, bias=False)\n",
              "        (norm1): LayerNorm((4096,), eps=1e-05, elementwise_affine=True)\n",
              "        (act1): GELU(approximate='none')\n",
              "        (dense_h_to_4h): Linear(in_features=4096, out_features=13696, bias=False)\n",
              "        (gate_proj): Linear(in_features=4096, out_features=13696, bias=False)\n",
              "        (dense_4h_to_h): Linear(in_features=13696, out_features=4096, bias=False)\n",
              "      )\n",
              "      (conv): Conv2d(1792, 4096, kernel_size=(2, 2), stride=(2, 2))\n",
              "    )\n",
              "  )\n",
              ")"
            ]
          },
          "execution_count": 3,
          "metadata": {},
          "output_type": "execute_result"
        }
      ],
      "source": [
        "#图片输入尺寸为1120*1120，经过14*14卷积核，变为6400块\n",
        "model"
      ]
    },
    {
      "cell_type": "markdown",
      "metadata": {
        "id": "BJ20WqkGrVV6"
      },
      "source": [
        "`ChatGLMForConditionalGeneration` 模型的结构复杂且层次丰富，包含文本生成（语言模型）和视觉处理（EVA2CLIP）两个主要部分，分别用于文本生成和视觉信息处理。这种模型是典型的多模态大模型架构，既能处理文本，又能理解视觉输入。下面我将逐层解析其结构。\n",
        "\n",
        "### 1. **整体架构**\n",
        "   - 模型主要由一个文本生成模块 (`ChatGLMModel`) 和一个视觉处理模块 (`EVA2CLIPModel`) 组成。\n",
        "   - `ChatGLMModel` 负责处理文本输入，生成条件输出。\n",
        "   - `EVA2CLIPModel` 负责视觉输入的处理，使模型能够结合图像信息进行推理和生成。\n",
        "\n",
        "### 2. **ChatGLMModel 模块**\n",
        "   - **(embedding): Embedding**：\n",
        "     - 包含 `word_embeddings` 层，维度为 `(151552, 4096)`，即模型的词汇表大小为 151552，每个词向量的维度为 4096。\n",
        "     - `word_embeddings` 主要作用是将离散的词表示为连续的向量，便于后续的神经网络处理。\n",
        "\n",
        "   - **(rotary_pos_emb): RotaryEmbedding**：\n",
        "     - 使用了旋转位置编码（Rotary Embedding），这是一种用于自注意力机制的相对位置编码方式，有助于捕获词与词之间的顺序信息。\n",
        "\n",
        "   - **(encoder): GLMTransformer**：\n",
        "     - 这是一个基于 Transformer 的编码器，用于将输入文本编码成上下文表示。\n",
        "     - `GLMTransformer` 包含 40 层 `GLMBlock`，每个 `GLMBlock` 包含自注意力和前馈神经网络层。\n",
        "\n",
        "       - **GLMBlock**:\n",
        "         - 每个 `GLMBlock` 包括以下组件：\n",
        "           - **(input_layernorm): RMSNorm**：采用 RMSNorm 归一化层，避免传统 LayerNorm 中均值偏移的计算，RMSNorm 常用于提高模型的稳定性。\n",
        "           - **(self_attention): SelfAttention**：自注意力机制。\n",
        "             - `(query_key_value): Linear`：用于生成 `query`、`key` 和 `value` 矩阵，输入维度为 4096，输出维度为 4608，包含偏置。\n",
        "             - **(core_attention): CoreAttention**：核心的注意力机制，包含一个 dropout 层。\n",
        "             - **(dense): Linear**：线性层，注意力输出的变换层，将输出维度重投影为 4096。\n",
        "           - **(post_attention_layernorm): RMSNorm**：注意力后的归一化层。\n",
        "           - **(mlp): MLP**：前馈神经网络层，常见于 Transformer 结构中。\n",
        "             - `(dense_h_to_4h)`：线性层，将 4096 维变换为 27392 维。\n",
        "             - `(dense_4h_to_h)`：线性层，将 13696 维重新变换为 4096 维。\n",
        "     - **(final_layernorm): RMSNorm**：最后一层归一化层。\n",
        "\n",
        "   - **(output_layer): Linear**：\n",
        "     - 输出层，将 4096 维的隐藏状态映射到词汇表大小（151552）的输出维度，用于生成最终的文本。\n",
        "\n",
        "### 3. **EVA2CLIPModel 模块（视觉处理部分）**\n",
        "   - **(patch_embedding): PatchEmbedding**：\n",
        "     - 图像的补丁嵌入，用于将输入的图像切分成补丁（patch），类似于 ViT 模型。\n",
        "     - **(proj): Conv2d**：二维卷积层，将 RGB 图像切分成尺寸为 1792 的特征补丁，卷积核和步幅均为 `(14, 14)`。\n",
        "     - **(position_embedding): Embedding**：位置嵌入层，输入大小为 6401，每个位置嵌入向量的维度为 1792。\n",
        "\n",
        "   - **(transformer): Transformer**：\n",
        "     - 视觉 Transformer 模块，共有 63 层 `TransformerLayer`，用于处理图像补丁嵌入。\n",
        "     - **TransformerLayer**：\n",
        "       - **(input_layernorm): LayerNorm**：归一化层，作用于 1792 维的特征。\n",
        "       - **(attention): Attention**：注意力层，结构与文本生成部分类似。\n",
        "         - `(query_key_value): Linear`：线性层，输入维度为 1792，输出维度为 5376。\n",
        "         - `(dense): Linear`：线性层，维度为 1792，用于输出投影。\n",
        "       - **(mlp): MLP**：前馈神经网络。\n",
        "         - 激活函数为 `GELU`。\n",
        "         - 包含两层线性变换，将 1792 维映射到 15360 维再映射回 1792 维。\n",
        "       - **(post_attention_layernorm): LayerNorm**：注意力后的归一化层。\n",
        "\n",
        "   - **(linear_proj): GLU**：\n",
        "     - GLU（Gated Linear Unit）层，用于线性投影，将图像特征转化为 4096 维。\n",
        "     - 包括一个 `LayerNorm`、`GELU` 激活函数以及多个线性层（`dense_h_to_4h` 和 `dense_4h_to_h`）。\n",
        "\n",
        "   - **(conv): Conv2d**：\n",
        "     - 卷积层，将图像特征的通道数从 1792 变换到 4096，卷积核大小为 `(2, 2)`，步幅也为 `(2, 2)`。\n",
        "\n",
        "### 4. **总结**\n",
        "   - `ChatGLMForConditionalGeneration` 是一个复杂的多模态模型，包含文本处理（GLM Transformer）和视觉处理（EVA2CLIP Transformer）两大模块。\n",
        "   - 文本处理模块使用自注意力、前馈神经网络、归一化等层堆叠而成，类似于传统 Transformer，但引入了 RMSNorm 和 Rotary Embedding 等改进。\n",
        "   - 视觉处理模块通过将图像切分为补丁，再经过多层 Transformer 层来提取图像特征，最后通过 GLU 和卷积层对图像特征进行进一步转换。\n",
        "   - 这种架构使得模型能够处理和理解文本和图像两种模态，适用于多模态生成和理解任务。\n",
        "\n",
        "这类多模态模型在 AI 应用中具有广泛的潜力，尤其适用于文本生成、图像理解和多模态交互等复杂任务。"
      ]
    },
    {
      "cell_type": "markdown",
      "metadata": {
        "id": "pMZWYgaOsK6b"
      },
      "source": [
        "在这个模型中，当你输入一张图片并希望它输出文字描述时，模型会使用其视觉处理模块 (`EVA2CLIPModel`) 将图像信息转换为可用于文本生成的特征向量，然后通过文本生成模块 (`ChatGLMModel`) 将这些特征转化为自然语言的文字描述。下面是详细的处理过程：\n",
        "\n",
        "### 1. **图像预处理与特征提取**\n",
        "   - 首先，模型将输入的图像进行预处理，将其分割成一系列图像补丁（patch）。\n",
        "   - **Patch Embedding**：\n",
        "     - 图像进入 `EVA2CLIPModel` 中的 `PatchEmbedding` 层。这里通过卷积操作（`Conv2d`）将图像划分成多个 14x14 的图像补丁，并将这些补丁映射到一个高维空间（1792 维）。\n",
        "     - 每个图像补丁都会加上一个位置嵌入 (`position_embedding`)，用于保留图像中空间位置的信息，以便模型能理解图像的结构和布局。\n",
        "   \n",
        "   - **Transformer Layers**：\n",
        "     - 接着，嵌入后的图像补丁序列会经过 `EVA2CLIPModel` 中的 63 层 `TransformerLayer`，这些层通过自注意力机制和前馈神经网络对图像特征进行多层次的抽象和提取。\n",
        "     - 自注意力机制帮助模型捕捉图像中的全局关系，例如物体之间的空间关系、背景和前景的区分等。\n",
        "\n",
        "   - **Feature Projection**：\n",
        "     - 经过多层 Transformer 的处理后，图像的特征会被进一步处理，通过 `linear_proj`（GLU层）和 `conv`（卷积层）将这些特征转换为一个 4096 维的向量。这一向量包含了图像的全局语义信息，并被作为图像的特征表示。\n",
        "\n",
        "### 2. **视觉特征到语言特征的转换**\n",
        "   - **连接视觉和语言模块**：\n",
        "     - 提取到的图像特征向量（4096 维）会作为 `ChatGLMModel` 中 Transformer 的上下文输入。这样，视觉信息就能参与到文本生成过程中。\n",
        "     - 通常，图像特征会与语言模型的初始隐状态（或特定标记）结合起来，以便将视觉信息注入到生成的文本流中。\n",
        "\n",
        "### 3. **文本生成模块 (ChatGLMModel)**\n",
        "   - **输入嵌入**：\n",
        "     - `ChatGLMModel` 主要用于生成文本描述。在这个阶段，模型会逐步生成描述文字，并在生成过程中参考图像特征。\n",
        "     - 每一步生成的词会嵌入到高维空间，并通过自注意力和上下文信息来生成下一个词，逐步构建完整的描述。\n",
        "\n",
        "   - **多轮自注意力机制**：\n",
        "     - 在 `ChatGLMModel` 中的 40 层 Transformer 块中，自注意力机制可以帮助模型在生成文本时不断参考图像信息。这些注意力机制会引导模型在生成特定单词时聚焦于相关的视觉信息。\n",
        "     - 例如，当模型生成“天空”这个词时，自注意力机制可以将焦点引导到图像中的天空区域，从而生成更符合图像内容的描述。\n",
        "\n",
        "   - **语言解码**：\n",
        "     - 每一层的处理完成后，最后一层的输出经过 `output_layer` 映射回词汇表的维度，通过 Softmax 层选择下一个生成的词。\n",
        "     - 通过这种迭代生成的方式，模型逐步生成文字描述，直到达到结束条件（例如生成了句子结束标记）。\n",
        "\n",
        "### 4. **最终输出**\n",
        "   - 最终生成的词序列就是对输入图像的自然语言描述。这一描述既包含了图像中的主要物体信息，也可能包括模型推测出的场景、情感或意图等高级语义信息。\n",
        "\n",
        "### 总结\n",
        "   - **视觉部分** (`EVA2CLIPModel`) 提取图像特征并将其编码为一个语义向量。\n",
        "   - **语言部分** (`ChatGLMModel`) 在生成文本的过程中利用视觉特征，生成符合图像内容的文字描述。\n",
        "   - 模型的这种结构使得它能够从视觉到语言的多模态转换，因此它可以在图像输入的基础上生成符合图像内容的文字描述。\n",
        "\n",
        "这种多模态模型的优势在于它能将图像和文本特征结合，适用于视觉描述生成、图文检索和多模态问答等任务。"
      ]
    },
    {
      "cell_type": "markdown",
      "metadata": {
        "id": "-IUBrqq8iByR"
      },
      "source": [
        "在多模态大模型中，当视觉特征与文本特征融合后进入注意力机制进行计算时，**Query (Q)**、**Key (K)**、**Value (V)** 的选择通常取决于当前计算的任务和模型的结构。在多模态融合中，常见的注意力设计方式主要包括**跨模态注意力**和**自注意力**，而它们对 \\( Q \\)、\\( K \\)、\\( V \\) 的选择有所不同。\n",
        "\n",
        "以下是常见的多模态注意力设计和其 Q、K、V 的含义和选择：\n",
        "\n",
        "### 1. **跨模态注意力（Cross-Modal Attention）**\n",
        "   跨模态注意力用于在一个模态的特征上“查询”另一个模态的特征，典型应用场景是文本对图像的注意力（如描述生成），或图像对文本的注意力（如视觉问答）。\n",
        "\n",
        "   - **Q**：通常来自主模态（例如，文本特征或视觉特征），该模态在当前任务中需要重点处理。\n",
        "   - **K** 和 **V**：来自辅助模态的特征（例如，当文本描述生成时，K 和 V 来自视觉特征；当图像生成或分类时，K 和 V 来自文本特征）。\n",
        "   \n",
        "   这种方式允许模型通过关注辅助模态来丰富主模态的信息。例如：\n",
        "   - 在描述生成任务中，**Q** 是文本嵌入，**K** 和 **V** 是视觉嵌入。文本可以根据图像内容动态生成描述。\n",
        "   - 在视觉问答中，**Q** 是问题文本嵌入，**K** 和 **V** 是图像嵌入，模型通过关注图像特定区域来生成回答。\n",
        "\n",
        "### 2. **自注意力（Self-Attention）**\n",
        "   当模型在融合后的多模态特征上执行自注意力时，**Q**、**K** 和 **V** 通常来自同一个融合特征序列。这种融合方式尤其适用于视觉和文本的深层次交互，例如通过多层 Transformer 实现跨模态信息共享。\n",
        "\n",
        "   - **Q**、**K**、**V** 均为融合后的特征。\n",
        "   - 这种设计允许文本和图像的特征相互联系，模型在每一层中通过自注意力机制选择性关注两个模态的相关信息。\n",
        "   \n",
        "   在这种情境下，视觉和文本特征在注意力机制中彼此相互关联、交互融合，形成更具上下文信息的表示。例如，文本嵌入可“参考”图像特征中的相关内容来调整其自身表示。\n",
        "\n",
        "### 3. **双向注意力（Bidirectional Attention）**\n",
        "   一些多模态模型中，也采用**双向注意力**（Bidirectional Attention），即分别在文本对图像和图像对文本的特征上各自计算一次跨模态注意力，最终融合两个方向的输出。\n",
        "\n",
        "   - 第一层计算时，**Q** 来自文本嵌入，**K** 和 **V** 来自视觉嵌入（文本对图像的注意力）。\n",
        "   - 第二层计算时，**Q** 来自视觉嵌入，**K** 和 **V** 来自文本嵌入（图像对文本的注意力）。\n",
        "   \n",
        "   双向注意力用于捕捉两个模态之间的双向信息交互，最终输出的特征会结合来自文本和图像的双向关系。\n",
        "\n",
        "### 总结\n",
        "- **Q**：通常来自需要“关注”另一个模态的特征，代表当前模态的查询向量。\n",
        "- **K 和 V**：一般来自被关注的模态，提供上下文或信息供 Q 查询使用。\n",
        "  \n",
        "这种设计允许多模态模型根据任务动态选择性地关注不同模态的信息，提高模型在多模态任务中的表现。"
      ]
    },
    {
      "cell_type": "markdown",
      "metadata": {
        "id": "UdWiY3SQkhIu"
      },
      "source": [
        "在多模态大模型中，视觉特征和文本特征的融合是核心步骤，旨在使模型能够有效地理解和处理来自不同模态的信息。这些融合方法可以大致分为以下几种：\n",
        "\n",
        "### 1. **简单拼接（Concatenation）**\n",
        "   将视觉特征和文本特征直接拼接起来，然后通过一个或多个全连接层进行变换。这种方法直观而简单，但可能无法充分捕捉到两个模态之间的复杂关系。\n",
        "\n",
        "   - **适用场景**：简单的多模态分类任务或需要快速实验的场景。\n",
        "   - **优缺点**：简单易实现，但无法捕捉复杂的模态间依赖关系。\n",
        "\n",
        "### 2. **线性变换拼接（Linear Projection Fusion）**\n",
        "   先通过线性层或 MLP 将视觉和文本特征分别映射到相同的维度空间，再将它们拼接在一起。这可以使得两个模态在一个统一的表示空间中融合。\n",
        "\n",
        "   - **适用场景**：较为简单的多模态任务，如图像标题生成或分类。\n",
        "   - **优缺点**：较拼接方法稍微增强了模态间的互动，但对模态之间的复杂交互仍然缺乏较强的建模能力。\n",
        "\n",
        "### 3. **跨模态注意力（Cross-Modal Attention）**\n",
        "   通过跨模态注意力机制，一个模态作为**查询（Query）**，另一个模态作为**键（Key）**和**值（Value）**，计算注意力权重，以实现特征之间的交互和关联。这种方法可以有效地让每个模态关注另一个模态的细节信息。\n",
        "\n",
        "   - **适用场景**：图像描述生成、视觉问答等需要显著模态间互动的任务。\n",
        "   - **优缺点**：能精确捕捉模态间的复杂关系，但计算开销较大。\n",
        "\n",
        "### 4. **自注意力（Self-Attention on Combined Features）**\n",
        "   将视觉特征和文本特征按顺序组合，然后在组合后的特征上执行自注意力机制。视觉和文本特征会在同一层级上相互作用，能够捕捉较深层次的模态间关系。\n",
        "\n",
        "   - **适用场景**：需要深层模态融合的任务，如图像生成、语义分割等。\n",
        "   - **优缺点**：能深入捕捉模态间的相互关系，但要求模型有较强的计算资源。\n",
        "\n",
        "### 5. **循环交互（Iterative Interaction）**\n",
        "   多轮次交替地进行视觉和文本特征之间的交互。每一轮中，视觉特征可以更新文本特征，文本特征反过来更新视觉特征。这种交互方式能强化两个模态的相互理解，逐步增强多模态信息的表达。\n",
        "\n",
        "   - **适用场景**：需要逐步生成或完善的多模态任务，如多轮对话生成。\n",
        "   - **优缺点**：迭代增强了模态间的关系，但计算时间较长。\n",
        "\n",
        "### 6. **双流模型（Dual-Stream Model）**\n",
        "   使用两个独立的 Transformer 分别对视觉和文本特征进行编码，然后通过特定层（如交叉注意力层或共享的最终层）来实现两个流的交互。典型的实现如 CLIP 模型，将视觉和文本特征编码为同一特征空间中的向量。\n",
        "\n",
        "   - **适用场景**：需要多模态嵌入对齐的任务，如图文检索和匹配。\n",
        "   - **优缺点**：可以在多个模态之间生成一致的嵌入表示，但实现和训练较为复杂。\n",
        "\n",
        "### 7. **门控机制（Gating Mechanism）**\n",
        "   使用门控机制（如门控单元或门控注意力）对视觉和文本特征进行选择性融合。门控单元可以根据输入特征的权重，选择性地增强或抑制某一模态的特征，以避免信息冗余或噪声的影响。\n",
        "\n",
        "   - **适用场景**：需要选择性融合信息的任务，如文本引导的目标检测或多模态情感分析。\n",
        "   - **优缺点**：可以有效处理冗余信息，但设计和调优门控机制较复杂。\n",
        "\n",
        "### 8. **共注意力（Co-Attention）**\n",
        "   使用双向的跨模态注意力机制，即图像对文本进行注意力计算，文本对图像进行注意力计算，获得互相影响的特征。这种机制允许模型通过两个模态的相互注意来精确定位两个模态之间的关联。\n",
        "\n",
        "   - **适用场景**：图文问答、图文匹配任务。\n",
        "   - **优缺点**：可以实现高精度的模态间关系建模，但通常对内存和计算要求较高。\n",
        "\n",
        "### 9. **对比学习（Contrastive Learning）**\n",
        "   将视觉和文本特征分别映射到相同的特征空间，通过对比学习将相同语义的图像-文本对聚集到一起，而不同语义的图像-文本对则被分散。典型的实现是 CLIP 模型，通过对比损失来增强图文匹配的能力。\n",
        "\n",
        "   - **适用场景**：图文检索、图文匹配任务。\n",
        "   - **优缺点**：适合生成模态不对齐的通用特征空间，但仅通过对比学习可能不能完全捕获细粒度的模态交互。\n",
        "\n",
        "### 总结\n",
        "在实际应用中，这些方法通常会结合使用，例如跨模态注意力和自注意力交替使用，以增强两个模态的交互表达能力。选择合适的融合方法要根据任务的需求、数据特点以及计算资源的约束等因素来决定。"
      ]
    }
  ],
  "metadata": {
    "accelerator": "GPU",
    "colab": {
      "gpuType": "A100",
      "provenance": []
    },
    "kernelspec": {
      "display_name": "Python 3",
      "name": "python3"
    },
    "language_info": {
      "name": "python"
    }
  },
  "nbformat": 4,
  "nbformat_minor": 0
}