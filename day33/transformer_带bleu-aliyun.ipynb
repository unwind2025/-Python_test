{
 "cells": [
  {
   "cell_type": "code",
   "execution_count": 3,
   "metadata": {
    "ExecuteTime": {
     "end_time": "2024-08-05T08:06:22.531537Z",
     "start_time": "2024-08-05T08:06:12.808806Z"
    },
    "colab": {
     "base_uri": "https://localhost:8080/"
    },
    "execution": {
     "iopub.execute_input": "2025-02-07T01:55:51.583163Z",
     "iopub.status.busy": "2025-02-07T01:55:51.582822Z",
     "iopub.status.idle": "2025-02-07T01:55:56.869060Z",
     "shell.execute_reply": "2025-02-07T01:55:56.868490Z",
     "shell.execute_reply.started": "2025-02-07T01:55:51.583138Z"
    },
    "id": "JHSdxPJuN4x7",
    "outputId": "a74dc274-dd24-4415-a3e4-1fcff4e437a2",
    "tags": []
   },
   "outputs": [
    {
     "name": "stderr",
     "output_type": "stream",
     "text": [
      "/usr/local/lib/python3.10/site-packages/tqdm/auto.py:21: TqdmWarning: IProgress not found. Please update jupyter and ipywidgets. See https://ipywidgets.readthedocs.io/en/stable/user_install.html\n",
      "  from .autonotebook import tqdm as notebook_tqdm\n"
     ]
    },
    {
     "name": "stdout",
     "output_type": "stream",
     "text": [
      "sys.version_info(major=3, minor=10, micro=14, releaselevel='final', serial=0)\n",
      "matplotlib 3.10.0\n",
      "numpy 1.26.4\n",
      "pandas 2.2.3\n",
      "sklearn 1.6.0\n",
      "torch 2.5.1+cu124\n",
      "cuda:0\n"
     ]
    }
   ],
   "source": [
    "import matplotlib as mpl\n",
    "import matplotlib.pyplot as plt\n",
    "%matplotlib inline\n",
    "import numpy as np\n",
    "import sklearn\n",
    "import pandas as pd\n",
    "import os\n",
    "import sys\n",
    "import time\n",
    "from tqdm.auto import tqdm\n",
    "import torch\n",
    "import torch.nn as nn\n",
    "import torch.nn.functional as F\n",
    "\n",
    "print(sys.version_info)\n",
    "for module in mpl, np, pd, sklearn, torch:\n",
    "    print(module.__name__, module.__version__)\n",
    "\n",
    "device = torch.device(\"cuda:0\") if torch.cuda.is_available() else torch.device(\"cpu\")\n",
    "print(device)\n",
    "\n",
    "seed = 42\n",
    "torch.manual_seed(seed)\n",
    "torch.cuda.manual_seed_all(seed)\n",
    "np.random.seed(seed)\n"
   ]
  },
  {
   "cell_type": "code",
   "execution_count": 4,
   "metadata": {
    "ExecuteTime": {
     "end_time": "2024-08-05T08:06:22.541540Z",
     "start_time": "2024-08-05T08:06:22.530536400Z"
    },
    "colab": {
     "base_uri": "https://localhost:8080/"
    },
    "execution": {
     "iopub.execute_input": "2025-02-07T01:55:56.870252Z",
     "iopub.status.busy": "2025-02-07T01:55:56.869967Z",
     "iopub.status.idle": "2025-02-07T01:55:56.872885Z",
     "shell.execute_reply": "2025-02-07T01:55:56.872284Z",
     "shell.execute_reply.started": "2025-02-07T01:55:56.870230Z"
    },
    "id": "yQQEArYqWylq",
    "outputId": "bc80eeee-442a-4ff2-f69e-348314f84bce"
   },
   "outputs": [],
   "source": [
    "#挂载谷歌云盘\n",
    "\n",
    "# from google.colab import drive\n",
    "# drive.mount('/content/drive')"
   ]
  },
  {
   "cell_type": "code",
   "execution_count": 5,
   "metadata": {
    "ExecuteTime": {
     "end_time": "2024-08-05T08:06:22.552601Z",
     "start_time": "2024-08-05T08:06:22.536531800Z"
    },
    "execution": {
     "iopub.execute_input": "2025-02-07T01:55:56.874052Z",
     "iopub.status.busy": "2025-02-07T01:55:56.873648Z",
     "iopub.status.idle": "2025-02-07T01:55:56.876700Z",
     "shell.execute_reply": "2025-02-07T01:55:56.876092Z",
     "shell.execute_reply.started": "2025-02-07T01:55:56.874021Z"
    },
    "id": "wzS4AimwWz7f"
   },
   "outputs": [],
   "source": [
    "# !cp /content/drive/MyDrive/transformer-de-en/* . -r"
   ]
  },
  {
   "cell_type": "code",
   "execution_count": 6,
   "metadata": {
    "ExecutionIndicator": {
     "show": true
    },
    "execution": {
     "iopub.execute_input": "2025-02-07T01:55:56.878566Z",
     "iopub.status.busy": "2025-02-07T01:55:56.878216Z",
     "iopub.status.idle": "2025-02-07T01:55:56.880907Z",
     "shell.execute_reply": "2025-02-07T01:55:56.880454Z",
     "shell.execute_reply.started": "2025-02-07T01:55:56.878529Z"
    },
    "tags": []
   },
   "outputs": [],
   "source": [
    "# !rm -rf wmt16_cut/"
   ]
  },
  {
   "cell_type": "markdown",
   "metadata": {
    "id": "55aNBForN4x9"
   },
   "source": [
    "## 数据加载\n",
    "\n",
    "- 采用WMT16的德语和英语平行语料库，数据集主页：[WMT16](https://www.statmt.org/wmt16/multimodal-task.html#task1)"
   ]
  },
  {
   "cell_type": "code",
   "execution_count": 7,
   "metadata": {
    "ExecuteTime": {
     "end_time": "2024-08-05T08:06:22.608302700Z",
     "start_time": "2024-08-05T08:06:22.548590200Z"
    },
    "ExecutionIndicator": {
     "show": true
    },
    "colab": {
     "base_uri": "https://localhost:8080/"
    },
    "execution": {
     "iopub.execute_input": "2025-02-07T01:55:56.881786Z",
     "iopub.status.busy": "2025-02-07T01:55:56.881493Z",
     "iopub.status.idle": "2025-02-07T01:56:06.287166Z",
     "shell.execute_reply": "2025-02-07T01:56:06.286550Z",
     "shell.execute_reply.started": "2025-02-07T01:55:56.881766Z"
    },
    "id": "SkjBEbr1N4x-",
    "outputId": "4b9817d0-616b-41a0-ceb7-9ff6bf0f42a1",
    "tags": []
   },
   "outputs": [
    {
     "name": "stdout",
     "output_type": "stream",
     "text": [
      "Looking in indexes: https://mirrors.cloud.aliyuncs.com/pypi/simple\n",
      "Requirement already satisfied: sacremoses in /usr/local/lib/python3.10/site-packages (0.1.1)\n",
      "Requirement already satisfied: regex in /usr/local/lib/python3.10/site-packages (from sacremoses) (2024.11.6)\n",
      "Requirement already satisfied: click in /usr/local/lib/python3.10/site-packages (from sacremoses) (8.1.8)\n",
      "Requirement already satisfied: joblib in /usr/local/lib/python3.10/site-packages (from sacremoses) (1.4.2)\n",
      "Requirement already satisfied: tqdm in /usr/local/lib/python3.10/site-packages (from sacremoses) (4.67.1)\n",
      "\u001b[33mWARNING: Running pip as the 'root' user can result in broken permissions and conflicting behaviour with the system package manager. It is recommended to use a virtual environment instead: https://pip.pypa.io/warnings/venv\u001b[0m\u001b[33m\n",
      "\u001b[0m\n",
      "\u001b[1m[\u001b[0m\u001b[34;49mnotice\u001b[0m\u001b[1;39;49m]\u001b[0m\u001b[39;49m A new release of pip is available: \u001b[0m\u001b[31;49m23.3.2\u001b[0m\u001b[39;49m -> \u001b[0m\u001b[32;49m25.0\u001b[0m\n",
      "\u001b[1m[\u001b[0m\u001b[34;49mnotice\u001b[0m\u001b[1;39;49m]\u001b[0m\u001b[39;49m To update, run: \u001b[0m\u001b[32;49mpip install --upgrade pip\u001b[0m\n",
      "Looking in indexes: https://mirrors.cloud.aliyuncs.com/pypi/simple\n",
      "Requirement already satisfied: subword-nmt in /usr/local/lib/python3.10/site-packages (0.3.8)\n",
      "Requirement already satisfied: mock in /usr/local/lib/python3.10/site-packages (from subword-nmt) (5.1.0)\n",
      "Requirement already satisfied: tqdm in /usr/local/lib/python3.10/site-packages (from subword-nmt) (4.67.1)\n",
      "\u001b[33mWARNING: Running pip as the 'root' user can result in broken permissions and conflicting behaviour with the system package manager. It is recommended to use a virtual environment instead: https://pip.pypa.io/warnings/venv\u001b[0m\u001b[33m\n",
      "\u001b[0m\n",
      "\u001b[1m[\u001b[0m\u001b[34;49mnotice\u001b[0m\u001b[1;39;49m]\u001b[0m\u001b[39;49m A new release of pip is available: \u001b[0m\u001b[31;49m23.3.2\u001b[0m\u001b[39;49m -> \u001b[0m\u001b[32;49m25.0\u001b[0m\n",
      "\u001b[1m[\u001b[0m\u001b[34;49mnotice\u001b[0m\u001b[1;39;49m]\u001b[0m\u001b[39;49m To update, run: \u001b[0m\u001b[32;49mpip install --upgrade pip\u001b[0m\n"
     ]
    }
   ],
   "source": [
    "#和jieba分词类似\n",
    "!pip install sacremoses\n",
    "!pip install subword-nmt\n",
    "# # BPE分词\n"
   ]
  },
  {
   "cell_type": "code",
   "execution_count": 8,
   "metadata": {
    "ExecutionIndicator": {
     "show": true
    },
    "execution": {
     "iopub.execute_input": "2025-02-07T01:56:06.288637Z",
     "iopub.status.busy": "2025-02-07T01:56:06.288022Z",
     "iopub.status.idle": "2025-02-07T01:56:06.403161Z",
     "shell.execute_reply": "2025-02-07T01:56:06.402608Z",
     "shell.execute_reply.started": "2025-02-07T01:56:06.288597Z"
    },
    "tags": []
   },
   "outputs": [
    {
     "name": "stdout",
     "output_type": "stream",
     "text": [
      "/mnt/workspace/transformer\n"
     ]
    }
   ],
   "source": [
    "!pwd"
   ]
  },
  {
   "cell_type": "code",
   "execution_count": 9,
   "metadata": {
    "ExecuteTime": {
     "end_time": "2024-08-05T08:06:22.609302200Z",
     "start_time": "2024-08-05T08:06:22.565115500Z"
    },
    "ExecutionIndicator": {
     "show": true
    },
    "colab": {
     "base_uri": "https://localhost:8080/"
    },
    "execution": {
     "iopub.execute_input": "2025-02-07T01:56:06.404347Z",
     "iopub.status.busy": "2025-02-07T01:56:06.403853Z",
     "iopub.status.idle": "2025-02-07T01:56:06.406768Z",
     "shell.execute_reply": "2025-02-07T01:56:06.406326Z",
     "shell.execute_reply.started": "2025-02-07T01:56:06.404306Z"
    },
    "id": "Tc8aCQX-XrGv",
    "outputId": "67964082-2737-4d47-dd66-455e4ae69660",
    "tags": []
   },
   "outputs": [],
   "source": [
    "# !sh data_multi30k.sh wmt16 wmt16_cut de en"
   ]
  },
  {
   "cell_type": "markdown",
   "metadata": {
    "id": "Lvk4q0-1N4x-"
   },
   "source": [
    "Dataset"
   ]
  },
  {
   "cell_type": "code",
   "execution_count": 10,
   "metadata": {
    "ExecuteTime": {
     "end_time": "2024-08-05T08:06:22.811204Z",
     "start_time": "2024-08-05T08:06:22.581320400Z"
    },
    "colab": {
     "base_uri": "https://localhost:8080/"
    },
    "execution": {
     "iopub.execute_input": "2025-02-07T01:56:06.407565Z",
     "iopub.status.busy": "2025-02-07T01:56:06.407392Z",
     "iopub.status.idle": "2025-02-07T01:56:06.468259Z",
     "shell.execute_reply": "2025-02-07T01:56:06.467774Z",
     "shell.execute_reply.started": "2025-02-07T01:56:06.407546Z"
    },
    "id": "zCXKEwspN4x_",
    "outputId": "3dcce6fa-932f-4b22-9dc8-398a4b402733"
   },
   "outputs": [
    {
     "name": "stdout",
     "output_type": "stream",
     "text": [
      "load train dataset from wmt16/.cache/de2en_train_128.npy\n",
      "load val dataset from wmt16/.cache/de2en_val_128.npy\n"
     ]
    }
   ],
   "source": [
    "from pathlib import Path\n",
    "from torch.utils.data import Dataset, DataLoader\n",
    "\n",
    "\n",
    "\n",
    "class LangPairDataset(Dataset):\n",
    "\n",
    "    def __init__(\n",
    "        self, mode=\"train\", max_length=128, overwrite_cache=False, data_dir=\"wmt16\",\n",
    "    ):\n",
    "        self.data_dir = Path(data_dir)\n",
    "        cache_path = self.data_dir / \".cache\" / f\"de2en_{mode}_{max_length}.npy\"\n",
    "\n",
    "        if overwrite_cache or not cache_path.exists():\n",
    "            cache_path.parent.mkdir(parents=True, exist_ok=True)\n",
    "\n",
    "            with open(self.data_dir / f\"{mode}_src.bpe\", \"r\", encoding=\"utf8\") as file:\n",
    "                self.src = file.readlines() # 读取源语言文件所有行\n",
    "\n",
    "            with open(self.data_dir / f\"{mode}_trg.bpe\", \"r\", encoding=\"utf8\") as file:\n",
    "                self.trg = file.readlines() # 读取目标语言文件所有行\n",
    "\n",
    "            filtered_src = []\n",
    "            filtered_trg = []\n",
    "            # max length filter,超出最大长度的句子舍弃\n",
    "            for src, trg in zip(self.src, self.trg):\n",
    "                if len(src) <= max_length and len(trg) <= max_length: # 过滤长度超过最大长度的句子\n",
    "                    filtered_src.append(src.strip()) # 去掉句子前后的空格\n",
    "                    filtered_trg.append(trg.strip())\n",
    "            filtered_src = np.array(filtered_src)\n",
    "            filtered_trg = np.array(filtered_trg)\n",
    "            np.save(\n",
    "                cache_path,\n",
    "                {\"src\": filtered_src, \"trg\": filtered_trg },\n",
    "                allow_pickle=True,\n",
    "            )#allow_pickle=True允许保存对象数组，将过滤后的数据保存为 NumPy 数组，存储在缓存文件中\n",
    "            print(f\"save cache to {cache_path}\")\n",
    "\n",
    "        else:\n",
    "            cache_dict = np.load(cache_path, allow_pickle=True).item() #allow_pickle=True允许保存对象数组\n",
    "            print(f\"load {mode} dataset from {cache_path}\")\n",
    "            filtered_src = cache_dict[\"src\"]\n",
    "            filtered_trg = cache_dict[\"trg\"]\n",
    "\n",
    "        self.src = filtered_src\n",
    "        self.trg = filtered_trg\n",
    "\n",
    "    def __getitem__(self, index):\n",
    "        return self.src[index], self.trg[index]\n",
    "\n",
    "    def __len__(self):\n",
    "        return len(self.src)\n",
    "\n",
    "\n",
    "train_ds = LangPairDataset(\"train\")\n",
    "val_ds = LangPairDataset(\"val\")"
   ]
  },
  {
   "cell_type": "code",
   "execution_count": 11,
   "metadata": {
    "ExecuteTime": {
     "end_time": "2024-08-05T08:06:22.820353700Z",
     "start_time": "2024-08-05T08:06:22.812366100Z"
    },
    "execution": {
     "iopub.execute_input": "2025-02-07T01:56:06.469055Z",
     "iopub.status.busy": "2025-02-07T01:56:06.468824Z",
     "iopub.status.idle": "2025-02-07T01:56:06.471418Z",
     "shell.execute_reply": "2025-02-07T01:56:06.470952Z",
     "shell.execute_reply.started": "2025-02-07T01:56:06.469035Z"
    },
    "id": "yHB9TDpDQlv2"
   },
   "outputs": [],
   "source": [
    "# !rm wmt16/.cache -r"
   ]
  },
  {
   "cell_type": "code",
   "execution_count": 12,
   "metadata": {
    "ExecuteTime": {
     "end_time": "2024-08-05T08:06:22.869376300Z",
     "start_time": "2024-08-05T08:06:22.816345900Z"
    },
    "colab": {
     "base_uri": "https://localhost:8080/"
    },
    "execution": {
     "iopub.execute_input": "2025-02-07T01:56:06.473752Z",
     "iopub.status.busy": "2025-02-07T01:56:06.473506Z",
     "iopub.status.idle": "2025-02-07T01:56:06.477949Z",
     "shell.execute_reply": "2025-02-07T01:56:06.477460Z",
     "shell.execute_reply.started": "2025-02-07T01:56:06.473732Z"
    },
    "id": "meHHXL3MN4x_",
    "outputId": "a001c071-7021-4dff-8bc0-3e5da01d7210"
   },
   "outputs": [
    {
     "data": {
      "text/plain": [
       "27659"
      ]
     },
     "execution_count": 12,
     "metadata": {},
     "output_type": "execute_result"
    }
   ],
   "source": [
    "len(train_ds) #少了1000多个样本"
   ]
  },
  {
   "cell_type": "code",
   "execution_count": 13,
   "metadata": {
    "ExecuteTime": {
     "end_time": "2024-08-05T08:06:22.870386300Z",
     "start_time": "2024-08-05T08:06:22.844639700Z"
    },
    "colab": {
     "base_uri": "https://localhost:8080/"
    },
    "execution": {
     "iopub.execute_input": "2025-02-07T01:56:06.478690Z",
     "iopub.status.busy": "2025-02-07T01:56:06.478440Z",
     "iopub.status.idle": "2025-02-07T01:56:06.481467Z",
     "shell.execute_reply": "2025-02-07T01:56:06.480953Z",
     "shell.execute_reply.started": "2025-02-07T01:56:06.478671Z"
    },
    "id": "LZvJV37NN4x_",
    "outputId": "43909dbd-cf15-447b-e8b6-a07de381ad0a"
   },
   "outputs": [
    {
     "name": "stdout",
     "output_type": "stream",
     "text": [
      "source: ein älterer mann sitzt mit einem jungen mit einem wagen vor einer fassade .\n",
      "target: an elderly man sits outside a storefront accompani@@ ed by a young boy with a cart .\n"
     ]
    }
   ],
   "source": [
    "print(\"source: {}\\ntarget: {}\".format(*train_ds[-1]))"
   ]
  },
  {
   "cell_type": "markdown",
   "metadata": {
    "id": "TE8gRzYQN4yA"
   },
   "source": [
    "### Tokenizer\n",
    "\n",
    "这里有两种处理方式，分别对应着 encoder 和 decoder 的 word embedding 是否共享，这里实现共享的方案"
   ]
  },
  {
   "cell_type": "code",
   "execution_count": 14,
   "metadata": {
    "ExecuteTime": {
     "end_time": "2024-08-05T08:06:23.012615500Z",
     "start_time": "2024-08-05T08:06:22.857384400Z"
    },
    "colab": {
     "base_uri": "https://localhost:8080/",
     "height": 66,
     "referenced_widgets": [
      "7190c928edb040c3a523cdd2e3f45572",
      "990741ff083d457587665d8f620b69c3",
      "00fe6a550df547cea5b1e0d84c1a3f5f",
      "fab8b1e3187841ee894b92859fa4821b",
      "f9b0d916e1a64c2a9f384e42f3d5dcab",
      "a78199650ecc47bd81f482a2671b563a",
      "673bd3773a374261a01cfc48081c27f3",
      "83f345f7424c43929d7a304cbfb6d0fe",
      "58d69d086f644e89937347e1f9261d6f",
      "8cf462fa996c41b18fb4571e0a757363",
      "434ac4c51db74681942d2d3bd869b1df"
     ]
    },
    "execution": {
     "iopub.execute_input": "2025-02-07T01:56:06.482220Z",
     "iopub.status.busy": "2025-02-07T01:56:06.481946Z",
     "iopub.status.idle": "2025-02-07T01:56:06.510724Z",
     "shell.execute_reply": "2025-02-07T01:56:06.510270Z",
     "shell.execute_reply.started": "2025-02-07T01:56:06.482200Z"
    },
    "id": "yAmlq_9YN4yA",
    "outputId": "263a89f7-9bee-4c6d-cf7a-7d82b0a81f92"
   },
   "outputs": [
    {
     "name": "stderr",
     "output_type": "stream",
     "text": [
      "100%|██████████| 18107/18107 [00:00<00:00, 959147.55it/s]"
     ]
    },
    {
     "name": "stdout",
     "output_type": "stream",
     "text": [
      "vocab_size: 18111\n"
     ]
    },
    {
     "name": "stderr",
     "output_type": "stream",
     "text": [
      "\n"
     ]
    }
   ],
   "source": [
    "#载入词表，看下词表长度，词表就像英语字典,构建word2idx和idx2word\n",
    "word2idx = {\n",
    "    \"[PAD]\": 0,     # 填充 token\n",
    "    \"[BOS]\": 1,     # begin of sentence\n",
    "    \"[UNK]\": 2,     # 未知 token\n",
    "    \"[EOS]\": 3,     # end of sentence\n",
    "}\n",
    "idx2word = {value: key for key, value in word2idx.items()}\n",
    "index = len(idx2word)\n",
    "threshold = 1  # 出现次数低于此的token舍弃\n",
    "\n",
    "with open(\"wmt16/vocab\", \"r\", encoding=\"utf8\") as file:\n",
    "    for line in tqdm(file.readlines()):\n",
    "        token, counts = line.strip().split()\n",
    "        if int(counts) >= threshold:\n",
    "            word2idx[token] = index\n",
    "            idx2word[index] = token\n",
    "            index += 1\n",
    "\n",
    "vocab_size = len(word2idx)\n",
    "print(\"vocab_size: {}\".format(vocab_size))"
   ]
  },
  {
   "cell_type": "code",
   "execution_count": 15,
   "metadata": {
    "ExecuteTime": {
     "end_time": "2024-08-05T08:06:23.015614600Z",
     "start_time": "2024-08-05T08:06:22.932228100Z"
    },
    "colab": {
     "base_uri": "https://localhost:8080/"
    },
    "execution": {
     "iopub.execute_input": "2025-02-07T01:56:06.511561Z",
     "iopub.status.busy": "2025-02-07T01:56:06.511250Z",
     "iopub.status.idle": "2025-02-07T01:56:06.557580Z",
     "shell.execute_reply": "2025-02-07T01:56:06.557124Z",
     "shell.execute_reply.started": "2025-02-07T01:56:06.511542Z"
    },
    "id": "e_ed0jmJN4yA",
    "outputId": "407a9e69-4981-42ae-c7a9-aa4c701185ef"
   },
   "outputs": [
    {
     "name": "stdout",
     "output_type": "stream",
     "text": [
      "raw text\n",
      "['hello', 'world']\n",
      "['tokenize', 'text', 'datas', 'with', 'batch']\n",
      "['this', 'is', 'a', 'test']\n",
      "indices\n",
      "tensor([   1, 9458, 3522,    3,    0,    0,    0])\n",
      "tensor([   1,    2, 5463,    2,   22,    2,    3])\n",
      "tensor([   1,  385,   18,    5, 5699,    3,    0])\n",
      "decode text\n",
      "[BOS] hello world [EOS] [PAD] [PAD] [PAD]\n",
      "[BOS] [UNK] text [UNK] with [UNK] [EOS]\n",
      "[BOS] this is a test [EOS] [PAD]\n"
     ]
    }
   ],
   "source": [
    "class Tokenizer:\n",
    "    def __init__(self, word2idx, idx2word, max_length=128, pad_idx=0, bos_idx=1, eos_idx=3, unk_idx=2):\n",
    "        self.word2idx = word2idx\n",
    "        self.idx2word = idx2word\n",
    "        self.max_length = max_length\n",
    "        self.pad_idx = pad_idx\n",
    "        self.bos_idx = bos_idx\n",
    "        self.eos_idx = eos_idx\n",
    "        self.unk_idx = unk_idx\n",
    "\n",
    "    def encode(self, text_list, padding_first=False, add_bos=True, add_eos=True, return_mask=False):\n",
    "        \"\"\"如果padding_first == True，则padding加载前面，否则加载后面\"\"\"\n",
    "        max_length = min(self.max_length, add_eos + add_bos + max([len(text) for text in text_list]))\n",
    "        indices_list = []\n",
    "        for text in text_list:\n",
    "            indices = [self.word2idx.get(word, self.unk_idx) for word in text[:max_length - add_bos - add_eos]]\n",
    "            if add_bos:\n",
    "                indices = [self.bos_idx] + indices\n",
    "            if add_eos:\n",
    "                indices = indices + [self.eos_idx]\n",
    "            if padding_first:\n",
    "                indices = [self.pad_idx] * (max_length - len(indices)) + indices\n",
    "            else:\n",
    "                indices = indices + [self.pad_idx] * (max_length - len(indices))\n",
    "            indices_list.append(indices)\n",
    "        input_ids = torch.tensor(indices_list)\n",
    "        masks = (input_ids == self.pad_idx).to(dtype=torch.int64) # 为了方便损失计算，这里的mask为0的地方需要计算，为1的地方不需要计算\n",
    "        return input_ids if not return_mask else (input_ids, masks)\n",
    "\n",
    "\n",
    "    def decode(self, indices_list, remove_bos=True, remove_eos=True, remove_pad=True, split=False):\n",
    "        text_list = []\n",
    "        for indices in indices_list:\n",
    "            text = []\n",
    "            for index in indices:\n",
    "                word = self.idx2word.get(index, \"[UNK]\")\n",
    "                if remove_bos and word == \"[BOS]\":\n",
    "                    continue\n",
    "                if remove_eos and word == \"[EOS]\":\n",
    "                    break\n",
    "                if remove_pad and word == \"[PAD]\":\n",
    "                    break\n",
    "                text.append(word)\n",
    "            text_list.append(\" \".join(text) if not split else text)\n",
    "        return text_list\n",
    "\n",
    "\n",
    "tokenizer = Tokenizer(word2idx=word2idx, idx2word=idx2word)\n",
    "\n",
    "tokenizer.encode([[\"hello\"], [\"hello\", \"world\"]], add_bos=True, add_eos=False)\n",
    "raw_text = [\"hello world\".split(), \"tokenize text datas with batch\".split(), \"this is a test\".split()]\n",
    "indices = tokenizer.encode(raw_text, padding_first=False, add_bos=True, add_eos=True)\n",
    "decode_text = tokenizer.decode(indices.tolist(), remove_bos=False, remove_eos=False, remove_pad=False)\n",
    "print(\"raw text\")\n",
    "for raw in raw_text:\n",
    "    print(raw)\n",
    "print(\"indices\")\n",
    "for index in indices:\n",
    "    print(index)\n",
    "print(\"decode text\")\n",
    "for decode in decode_text:\n",
    "    print(decode)"
   ]
  },
  {
   "cell_type": "code",
   "execution_count": 16,
   "metadata": {
    "ExecuteTime": {
     "end_time": "2024-08-05T08:06:23.016615500Z",
     "start_time": "2024-08-05T08:06:22.985590600Z"
    },
    "collapsed": false,
    "execution": {
     "iopub.execute_input": "2025-02-07T01:56:06.558486Z",
     "iopub.status.busy": "2025-02-07T01:56:06.558072Z",
     "iopub.status.idle": "2025-02-07T01:56:06.561259Z",
     "shell.execute_reply": "2025-02-07T01:56:06.560746Z",
     "shell.execute_reply.started": "2025-02-07T01:56:06.558451Z"
    },
    "jupyter": {
     "outputs_hidden": false
    }
   },
   "outputs": [
    {
     "name": "stdout",
     "output_type": "stream",
     "text": [
      "72\n",
      "54\n"
     ]
    }
   ],
   "source": [
    "for i,j in train_ds:\n",
    "    print(len(i))\n",
    "    print(len(j))\n",
    "    break"
   ]
  },
  {
   "cell_type": "markdown",
   "metadata": {
    "id": "ftcEnnKxN4yB"
   },
   "source": [
    "### Transformer Batch Sampler\n",
    "\n",
    "> Sentence pairs were batched together by approximate sequence length. Each training batch contained a set of sentence pairs containing approximately 25000 source tokens and 25000 target tokens\n",
    "句子按照序列长度差不多的分到一个批次。 每个训练批次包含一组句子对，其中包含大约 25000 个源标记和 25000 个目标标记"
   ]
  },
  {
   "cell_type": "code",
   "execution_count": 17,
   "metadata": {
    "ExecuteTime": {
     "end_time": "2024-08-05T08:06:23.046108400Z",
     "start_time": "2024-08-05T08:06:22.990095800Z"
    },
    "execution": {
     "iopub.execute_input": "2025-02-07T01:56:06.562082Z",
     "iopub.status.busy": "2025-02-07T01:56:06.561806Z",
     "iopub.status.idle": "2025-02-07T01:56:06.567876Z",
     "shell.execute_reply": "2025-02-07T01:56:06.567413Z",
     "shell.execute_reply.started": "2025-02-07T01:56:06.562063Z"
    },
    "id": "qP8nznIuN4yB"
   },
   "outputs": [],
   "source": [
    "class SampleInfo: #下面的info对象\n",
    "    def __init__(self, i, lens):\n",
    "        \"\"\"\n",
    "        记录文本对的序号和长度信息\n",
    "        输入：\n",
    "            - i (int): 文本对的序号。\n",
    "            - lens (list): 文本对源语言和目标语言的长度\n",
    "        \"\"\"\n",
    "        self.i = i\n",
    "        # 加一是考虑填补在文本前后的特殊词元，lens[0]和lens[1]分别表示源语言和目标语言的长度\n",
    "        self.max_len = max(lens[0], lens[1]) + 1\n",
    "        self.src_len = lens[0] + 1\n",
    "        self.trg_len = lens[1] + 1\n",
    "\n",
    "# 一个批量生成器，根据词元数目的限制来控制批量的大小。它会根据传入的样本信息，在不超过设定大小的情况下，逐步构建批量。\n",
    "class TokenBatchCreator:\n",
    "    def __init__(self, batch_size):\n",
    "        \"\"\"\n",
    "        参数:\n",
    "        batch_size (int): 用于限制批量的大小。\n",
    "        功能:\n",
    "        初始化了一个空的批量列表 _batch。\n",
    "        设定了初始的最大长度为 -1。\n",
    "        存储了传入的 batch_size。\n",
    "        \"\"\"\n",
    "\n",
    "        self._batch = []  #这个就是之前的batch_size，就是第一个batch内有多少个样本\n",
    "        self.max_len = -1\n",
    "        self._batch_size = batch_size # 限制批量的大小,假设是4096\n",
    "\n",
    "    def append(self, info):\n",
    "        \"\"\"\n",
    "        参数:\n",
    "        info (SampleInfo): 文本对的信息。\n",
    "        功能:\n",
    "        接收一个 SampleInfo 对象，并根据其最大长度信息更新当前批量的最大长度。\n",
    "        如果将新的样本加入批量后超过了批量大小限制，它会返回已有的批量并将新的样本加入新的批量。\n",
    "        否则，它会更新最大长度并将样本添加到当前批量中。\n",
    "        \"\"\"\n",
    "        # 更新当前批量的最大长度\n",
    "        cur_len = info.max_len # 当前样本的长度\n",
    "        max_len = max(self.max_len, cur_len) # 每来一个样本，更新当前批次的最大长度\n",
    "        # 如果新的样本加入批量后超过大小限制，则将已有的批量返回，新的样本加入新的批量\n",
    "        if max_len * (len(self._batch) + 1) > self._batch_size:\n",
    "            self._batch, result = [], self._batch # 保存当前的batch，并返回,这里的result是之前的batch,_batch清空\n",
    "            self._batch.append(info) #箱子里的第一条样本，放入\n",
    "            self.max_len = cur_len #因为是当前batch的第一个样本，所以它的长度就是当前长度\n",
    "            return result\n",
    "        else:\n",
    "            self.max_len = max_len\n",
    "            self._batch.append(info) # 将样本添加到当前批量中\n",
    "            return None\n",
    "\n",
    "    @property\n",
    "    def batch(self):\n",
    "        return self._batch"
   ]
  },
  {
   "cell_type": "code",
   "execution_count": 18,
   "metadata": {
    "ExecuteTime": {
     "end_time": "2024-08-05T08:06:23.149062600Z",
     "start_time": "2024-08-05T08:06:23.013615200Z"
    },
    "execution": {
     "iopub.execute_input": "2025-02-07T01:56:06.568767Z",
     "iopub.status.busy": "2025-02-07T01:56:06.568475Z",
     "iopub.status.idle": "2025-02-07T01:56:06.576493Z",
     "shell.execute_reply": "2025-02-07T01:56:06.576019Z",
     "shell.execute_reply.started": "2025-02-07T01:56:06.568748Z"
    },
    "id": "_Vtc0gXEN4yB"
   },
   "outputs": [],
   "source": [
    "from torch.utils.data import BatchSampler\n",
    "import numpy as np\n",
    "\n",
    "\n",
    "class TransformerBatchSampler(BatchSampler):\n",
    "    def __init__(self,\n",
    "                 dataset,\n",
    "                 batch_size,\n",
    "                 shuffle_batch=False,\n",
    "                 clip_last_batch=False,\n",
    "                 seed=0):\n",
    "        \"\"\"\n",
    "        批量采样器\n",
    "        输入:\n",
    "            - dataset: 数据集\n",
    "            - batch_size: 批量大小\n",
    "            - shuffle_batch: 是否对生成的批量进行洗牌\n",
    "            - clip_last_batch: 是否裁剪最后剩下的数据\n",
    "            - seed: 随机数种子\n",
    "        \"\"\"\n",
    "        self._dataset = dataset\n",
    "        self._batch_size = batch_size\n",
    "        self._shuffle_batch = shuffle_batch\n",
    "        self._clip_last_batch = clip_last_batch\n",
    "        self._seed = seed\n",
    "        self._random = np.random\n",
    "        self._random.seed(seed)\n",
    "\n",
    "        self._sample_infos = []\n",
    "        # 根据数据集中的每个样本，创建了对应的 SampleInfo 对象，包含了样本的索引和长度信息。\n",
    "        for i, data in enumerate(self._dataset):\n",
    "            lens = [len(data[0]), len(data[1])] #输入和输出的长度计算放到lens中\n",
    "            self._sample_infos.append(SampleInfo(i, lens))\n",
    "\n",
    "    def __iter__(self):\n",
    "        \"\"\"\n",
    "        对数据集中的样本进行排序，排序规则是先按源语言长度排序，如果相同则按目标语言长度排序。\n",
    "        使用 TokenBatchCreator 逐步组装批量数据，当满足批量大小时返回一个批量的样本信息。\n",
    "        如果不裁剪最后一个批次的数据且存在剩余样本，则将这些样本组成最后一个批次。\n",
    "        如果需要对批量进行洗牌，则对批次进行洗牌操作。\n",
    "        通过迭代器，抛出每个批量的样本在数据集中的索引。\n",
    "        \"\"\"\n",
    "        # 排序，如果源语言长度相同则按照目标语言的长度排列\n",
    "        infos = sorted(self._sample_infos,\n",
    "                       key=lambda x: (x.src_len, x.trg_len))\n",
    "        # 组装批量，所有的batch都放入batch_infos\n",
    "        batch_infos = []\n",
    "        batch_creator = TokenBatchCreator(self._batch_size) # 批量生成器\n",
    "        for info in infos:\n",
    "            batch = batch_creator.append(info)\n",
    "            # 存够一个batch的样本信息后，会把这个batch返回，否则返回为None\n",
    "            if batch is not None:\n",
    "                batch_infos.append(batch)\n",
    "\n",
    "        # 是否抛弃最后批量的文本对\n",
    "        if not self._clip_last_batch and len(batch_creator.batch) != 0:\n",
    "            batch_infos.append(batch_creator.batch) # 最后一个batch\n",
    "\n",
    "        # 打乱batch\n",
    "        if self._shuffle_batch:\n",
    "            self._random.shuffle(batch_infos)\n",
    "\n",
    "        self.batch_number = len(batch_infos)\n",
    "        # print(self.batch_number) #为了理解\n",
    "\n",
    "        # 抛出一个批量的文本对在数据集中的序号\n",
    "        for batch in batch_infos:\n",
    "            batch_indices = [info.i for info in batch] # 批量的样本在数据集中的索引，第一个batch[0,1,.....82]，第二个batch[83,84,85,86,87]\n",
    "            yield batch_indices\n",
    "\n",
    "    def __len__(self):\n",
    "        \"\"\"\n",
    "        返回批量的数量\n",
    "        \"\"\"\n",
    "        if hasattr(self, \"batch_number\"):\n",
    "            return self.batch_number\n",
    "        # 计算批量的数量,没有用到下面的情况，不用看\n",
    "        batch_number = (len(self._dataset) +\n",
    "                        self._batch_size) // self._batch_size\n",
    "        return batch_number"
   ]
  },
  {
   "cell_type": "code",
   "execution_count": 19,
   "metadata": {
    "ExecuteTime": {
     "end_time": "2024-08-05T08:06:23.259543600Z",
     "start_time": "2024-08-05T08:06:23.021123200Z"
    },
    "colab": {
     "base_uri": "https://localhost:8080/"
    },
    "execution": {
     "iopub.execute_input": "2025-02-07T01:56:06.577378Z",
     "iopub.status.busy": "2025-02-07T01:56:06.577078Z",
     "iopub.status.idle": "2025-02-07T01:56:06.758969Z",
     "shell.execute_reply": "2025-02-07T01:56:06.758423Z",
     "shell.execute_reply.started": "2025-02-07T01:56:06.577358Z"
    },
    "id": "d00AFRzVN4yC",
    "outputId": "a43c1a14-102f-4cbb-fff1-761cb46e31b3"
   },
   "outputs": [],
   "source": [
    "sampler = TransformerBatchSampler(train_ds, batch_size=4096, shuffle_batch=True)\n",
    "\n",
    "#为什么这里每个批量的样本对数目不一样呢？长度*batch_number>4096的时候，就会返回上一个batch，然后新的样本加入新的batch,具体要看TokenBatchCreator的44行"
   ]
  },
  {
   "cell_type": "code",
   "execution_count": 20,
   "metadata": {
    "ExecuteTime": {
     "end_time": "2024-08-05T08:06:23.319151500Z",
     "start_time": "2024-08-05T08:06:23.259543600Z"
    },
    "collapsed": false,
    "execution": {
     "iopub.execute_input": "2025-02-07T01:56:06.759857Z",
     "iopub.status.busy": "2025-02-07T01:56:06.759603Z",
     "iopub.status.idle": "2025-02-07T01:56:06.796055Z",
     "shell.execute_reply": "2025-02-07T01:56:06.795573Z",
     "shell.execute_reply.started": "2025-02-07T01:56:06.759837Z"
    },
    "jupyter": {
     "outputs_hidden": false
    }
   },
   "outputs": [
    {
     "name": "stdout",
     "output_type": "stream",
     "text": [
      "第0批量的数据中含有文本对是：[20303, 272, 3549, 11130, 12595, 12784, 13559, 22464, 1474, 6750, 7174, 8451, 10507, 15759, 16727, 19970, 25362, 27342, 27467, 2093, 2953, 3053, 4811, 6859, 10441, 10853, 11970, 15839, 16938, 18233, 20382, 21262, 24568, 14, 1067, 4934, 10278, 11027, 11753, 12988, 15029, 15900, 16219, 16799, 19208, 20018, 21926, 2490, 2565, 2854, 3903, 6469, 8006, 9892, 10241, 10400, 11697, 13678, 17015, 19819, 20660, 23208, 25640, 4620, 5719, 7807, 9474, 11360, 11423, 11857, 12519, 14495, 16832, 17204, 17214, 22914, 23865, 25037, 26610, 27438, 365, 1063, 3404]，数量为：83\n",
      "第1批量的数据中含有文本对是：[1896, 2650, 5347, 6855, 13019, 14422, 15533, 17704, 20935, 21794, 27107, 2422, 5213, 6555, 6638, 7682, 7902, 14492, 19817, 20186, 20941, 21052, 21164, 21222, 23422, 23573, 23834, 24516, 24599, 528, 933, 5364, 7649, 8029, 12179, 16073, 17508, 17732, 20361, 21449, 25890, 26193, 26438, 1469, 5758, 9238, 10232, 16510, 17373]，数量为：49\n",
      "第2批量的数据中含有文本对是：[6311, 19570, 21049, 21560, 24196, 24600, 12012, 12977, 23611, 24911, 26514, 2573, 6205, 8269, 22566, 23845, 24888, 16511, 13479, 14827, 24583, 11595, 13740, 16399, 23925, 3068, 4682, 6643, 21833, 51, 2894, 4777, 6227, 10547, 20315]，数量为：35\n",
      "第3批量的数据中含有文本对是：[12483, 18790, 19995, 22195, 27532, 8260, 11850, 15860, 21670, 8611, 15832, 19348, 21688, 3206, 20749, 27041, 27254, 9762, 12951, 19090, 19566, 5503, 6830, 9750, 12289, 18415, 19626, 20953, 23116, 252, 1881, 3617, 13355, 13982, 16612, 26396]，数量为：36\n"
     ]
    }
   ],
   "source": [
    "for idx, batch in enumerate(sampler):\n",
    "    print(\"第{}批量的数据中含有文本对是：{}，数量为：{}\".format(idx, batch, len(batch)))\n",
    "    if idx >= 3:\n",
    "        break"
   ]
  },
  {
   "cell_type": "code",
   "execution_count": 21,
   "metadata": {
    "ExecuteTime": {
     "end_time": "2024-08-05T08:06:23.319151500Z",
     "start_time": "2024-08-05T08:06:23.302665100Z"
    },
    "collapsed": false,
    "execution": {
     "iopub.execute_input": "2025-02-07T01:56:06.797043Z",
     "iopub.status.busy": "2025-02-07T01:56:06.796630Z",
     "iopub.status.idle": "2025-02-07T01:56:06.800287Z",
     "shell.execute_reply": "2025-02-07T01:56:06.799827Z",
     "shell.execute_reply.started": "2025-02-07T01:56:06.797021Z"
    },
    "jupyter": {
     "outputs_hidden": false
    }
   },
   "outputs": [
    {
     "data": {
      "text/plain": [
       "533"
      ]
     },
     "execution_count": 21,
     "metadata": {},
     "output_type": "execute_result"
    }
   ],
   "source": [
    "len(sampler)"
   ]
  },
  {
   "cell_type": "markdown",
   "metadata": {
    "id": "Olkaw4JNN4yC"
   },
   "source": [
    "### DataLoader"
   ]
  },
  {
   "cell_type": "code",
   "execution_count": 22,
   "metadata": {
    "ExecuteTime": {
     "end_time": "2024-08-05T08:06:23.319151500Z",
     "start_time": "2024-08-05T08:06:23.311772900Z"
    },
    "execution": {
     "iopub.execute_input": "2025-02-07T01:56:06.801113Z",
     "iopub.status.busy": "2025-02-07T01:56:06.800825Z",
     "iopub.status.idle": "2025-02-07T01:56:06.805633Z",
     "shell.execute_reply": "2025-02-07T01:56:06.805152Z",
     "shell.execute_reply.started": "2025-02-07T01:56:06.801094Z"
    },
    "id": "rvvuNJIzN4yC"
   },
   "outputs": [],
   "source": [
    "def collate_fct(batch, tokenizer):\n",
    "    src_words = [pair[0].split() for pair in batch]\n",
    "    trg_words = [pair[1].split() for pair in batch]\n",
    "\n",
    "    # [BOS] src [EOS] [PAD]\n",
    "    encoder_inputs, encoder_inputs_mask = tokenizer.encode(\n",
    "        src_words, padding_first=False, add_bos=True, add_eos=True, return_mask=True\n",
    "        )\n",
    "\n",
    "    # [BOS] trg [PAD]\n",
    "    decoder_inputs = tokenizer.encode(\n",
    "        trg_words, padding_first=False, add_bos=True, add_eos=False, return_mask=False,\n",
    "        )\n",
    "\n",
    "    # trg [EOS] [PAD]\n",
    "    decoder_labels, decoder_labels_mask = tokenizer.encode(\n",
    "        trg_words, padding_first=False, add_bos=False, add_eos=True, return_mask=True\n",
    "        )\n",
    "\n",
    "    return {\n",
    "        \"encoder_inputs\": encoder_inputs.to(device=device),\n",
    "        \"encoder_inputs_mask\": encoder_inputs_mask.to(device=device),\n",
    "        \"decoder_inputs\": decoder_inputs.to(device=device),\n",
    "        \"decoder_labels\": decoder_labels.to(device=device),\n",
    "        \"decoder_labels_mask\": decoder_labels_mask.to(device=device),\n",
    "    }\n"
   ]
  },
  {
   "cell_type": "code",
   "execution_count": 23,
   "metadata": {
    "ExecuteTime": {
     "end_time": "2024-08-05T08:06:24.107023100Z",
     "start_time": "2024-08-05T08:06:23.321149400Z"
    },
    "colab": {
     "base_uri": "https://localhost:8080/"
    },
    "execution": {
     "iopub.execute_input": "2025-02-07T01:56:06.806345Z",
     "iopub.status.busy": "2025-02-07T01:56:06.806162Z",
     "iopub.status.idle": "2025-02-07T01:56:07.021608Z",
     "shell.execute_reply": "2025-02-07T01:56:07.020972Z",
     "shell.execute_reply.started": "2025-02-07T01:56:06.806326Z"
    },
    "id": "5p79gPo5N4yC",
    "outputId": "2b1d43ae-a2ed-4333-8274-50c62c2fc6c9"
   },
   "outputs": [
    {
     "name": "stdout",
     "output_type": "stream",
     "text": [
      "encoder_inputs\n",
      "tensor([[   1,    7,   17,    6,    8,   89,  157,   73,    7,  526,  246,    9,\n",
      "           14,   42,  248,  120, 1206, 1168, 8998, 4504,    4,    3],\n",
      "        [   1,  493,    6,    8, 1758, 1149, 1985, 2216, 2227,  179,   31, 4477,\n",
      "         2616,   59, 1471,    4,    3,    0,    0,    0,    0,    0]],\n",
      "       device='cuda:0')\n",
      "encoder_inputs_mask\n",
      "tensor([[0, 0, 0, 0, 0, 0, 0, 0, 0, 0, 0, 0, 0, 0, 0, 0, 0, 0, 0, 0, 0, 0],\n",
      "        [0, 0, 0, 0, 0, 0, 0, 0, 0, 0, 0, 0, 0, 0, 0, 0, 0, 1, 1, 1, 1, 1]],\n",
      "       device='cuda:0')\n",
      "decoder_inputs\n",
      "tensor([[    1,     5,    16,     6,     5,    50,    41,    18,    77,     5,\n",
      "           379,   665, 17798,   106,   433,     4],\n",
      "        [    1,   409,     6,     5,  3889,   912,   834,   106,     5,   462,\n",
      "          3955,     4,     0,     0,     0,     0]], device='cuda:0')\n",
      "decoder_labels\n",
      "tensor([[    5,    16,     6,     5,    50,    41,    18,    77,     5,   379,\n",
      "           665, 17798,   106,   433,     4,     3],\n",
      "        [  409,     6,     5,  3889,   912,   834,   106,     5,   462,  3955,\n",
      "             4,     3,     0,     0,     0,     0]], device='cuda:0')\n",
      "decoder_labels_mask\n",
      "tensor([[0, 0, 0, 0, 0, 0, 0, 0, 0, 0, 0, 0, 0, 0, 0, 0],\n",
      "        [0, 0, 0, 0, 0, 0, 0, 0, 0, 0, 0, 0, 1, 1, 1, 1]], device='cuda:0')\n"
     ]
    }
   ],
   "source": [
    "from functools import partial # 固定collate_fct的tokenizer参数\n",
    "\n",
    "#可以调整batch_size,来看最终的bleu\n",
    "sampler = TransformerBatchSampler(train_ds, batch_size=256, shuffle_batch=True)\n",
    "# https://pytorch.org/docs/stable/data.html#torch.utils.data.DataLoader\n",
    "sample_dl = DataLoader(train_ds, batch_sampler=sampler, collate_fn=partial(collate_fct, tokenizer=tokenizer)) #partial函数，固定collate_fct的tokenizer参数\n",
    "\n",
    "for batch in sample_dl:\n",
    "    for key, value in batch.items():\n",
    "        print(key)\n",
    "        print(value)\n",
    "    break"
   ]
  },
  {
   "cell_type": "markdown",
   "metadata": {
    "id": "0AadtoM3N4yC"
   },
   "source": [
    "## 定义模型\n",
    "\n",
    "- Transformer模型由Embedding、Transformer-Block组成\n",
    "- Embedding包括：\n",
    "    - WordEmbedding\n",
    "    - PositionEmbedding\n",
    "- Transformer-Block包括：\n",
    "    - Self-Attention\n",
    "    - Cross-Attention\n",
    "    - MLP"
   ]
  },
  {
   "cell_type": "markdown",
   "metadata": {
    "id": "VTl-sSJmN4yD"
   },
   "source": [
    "### Embedding"
   ]
  },
  {
   "cell_type": "code",
   "execution_count": 24,
   "metadata": {
    "ExecuteTime": {
     "end_time": "2024-08-05T08:06:24.109021500Z",
     "start_time": "2024-08-05T08:06:24.106022800Z"
    },
    "ExecutionIndicator": {
     "show": true
    },
    "colab": {
     "base_uri": "https://localhost:8080/",
     "height": 455
    },
    "execution": {
     "iopub.execute_input": "2025-02-07T01:56:07.022883Z",
     "iopub.status.busy": "2025-02-07T01:56:07.022595Z",
     "iopub.status.idle": "2025-02-07T01:56:07.245697Z",
     "shell.execute_reply": "2025-02-07T01:56:07.245061Z",
     "shell.execute_reply.started": "2025-02-07T01:56:07.022851Z"
    },
    "id": "y66CxrsBN4yD",
    "outputId": "c703025c-afc5-4012-d8e3-0e9d4ad253ec",
    "tags": []
   },
   "outputs": [
    {
     "data": {
      "image/png": "[encoded data removed]",
      "text/plain": [
       "<Figure size 640x480 with 2 Axes>"
      ]
     },
     "metadata": {},
     "output_type": "display_data"
    }
   ],
   "source": [
    "\n",
    "class TransformerEmbedding(nn.Module):\n",
    "    def __init__(self, config):\n",
    "        super().__init__()\n",
    "        # hyper params\n",
    "        self.vocab_size = config[\"vocab_size\"]\n",
    "        self.hidden_size = config[\"d_model\"] # 词向量维度\n",
    "        self.pad_idx = config[\"pad_idx\"]\n",
    "        dropout_rate = config[\"dropout\"]\n",
    "        self.max_length = config[\"max_length\"]\n",
    "\n",
    "        # layers,设置padding_idx可以让pad的词向量全为0\n",
    "        self.word_embedding = nn.Embedding(\n",
    "            self.vocab_size, self.hidden_size, padding_idx=self.pad_idx\n",
    "        )\n",
    "        self.pos_embedding = nn.Embedding(\n",
    "            self.max_length,\n",
    "            self.hidden_size,\n",
    "            _weight=self.get_positional_encoding(\n",
    "                self.max_length, self.hidden_size\n",
    "            ),# 位置编码，权重通过get_positional_encoding函数计算得到\n",
    "        )\n",
    "        self.pos_embedding.weight.requires_grad_(False) # 不更新位置编码的权重\n",
    "        self.dropout = nn.Dropout(dropout_rate) # 随机失活层\n",
    "\n",
    "    def get_word_embedding_weights(self):\n",
    "        return self.word_embedding.weight\n",
    "\n",
    "    # 计算位置信息\n",
    "    @classmethod\n",
    "    def get_positional_encoding(self, max_length, hidden_size):#max_length是最大长度，hidden_size是embedding维度相等\n",
    "        # Compute the positional encodings once in log space.\n",
    "        pe = torch.zeros(max_length, hidden_size) # 初始化位置编码\n",
    "        # .unsqueeze(1) 是将这个一维张量转换为二维张量，即将其形状从 (max_length,) 变为 (max_length, 1)。这个操作在张量的维度上增加了一个维度，使其从一维变为二维，第二维的大小为 1。\n",
    "        position = torch.arange(0, max_length).unsqueeze(1) # 位置信息,从0到max_length-1\n",
    "        div_term = torch.exp(\n",
    "            torch.arange(0, hidden_size, 2)\n",
    "            * -(torch.log(torch.Tensor([10000.0])) / hidden_size)\n",
    "        )# 计算位置编码的权重,为了性能考量（是数学上的对数函数分解）\n",
    "        pe[:, 0::2] = torch.sin(position * div_term)\n",
    "        pe[:, 1::2] = torch.cos(position * div_term)\n",
    "        return pe\n",
    "\n",
    "    def forward(self, input_ids):\n",
    "        # input_ids: [batch_size, seq_len]\n",
    "        seq_len = input_ids.shape[1]\n",
    "        assert (\n",
    "            seq_len <= self.max_length\n",
    "        ), f\"input sequence length should no more than {self.max_length} but got {seq_len}\"\n",
    "\n",
    "        position_ids = torch.arange(seq_len, dtype=torch.long, device=input_ids.device)\n",
    "        position_ids = position_ids.unsqueeze(0).expand_as(input_ids)\n",
    "        # print(position_ids)\n",
    "        # embedding\n",
    "        word_embeds = self.word_embedding(input_ids) # 词嵌入\n",
    "        pos_embeds = self.pos_embedding(position_ids) # 位置编码\n",
    "        embeds = word_embeds + pos_embeds\n",
    "        embeds = self.dropout(embeds)\n",
    "\n",
    "        return embeds\n",
    "\n",
    "\n",
    "def plot_position_embedding(position_embedding):# 绘制位置编码\n",
    "    plt.pcolormesh(position_embedding) # 绘制位置编码矩阵\n",
    "    plt.xlabel('Depth')\n",
    "    plt.ylabel('Position')\n",
    "    plt.colorbar() # 颜色条，-1到1的颜色范围\n",
    "    plt.show()\n",
    "\n",
    "position_embedding = TransformerEmbedding.get_positional_encoding(64, 128)\n",
    "plot_position_embedding(position_embedding)\n"
   ]
  },
  {
   "cell_type": "code",
   "execution_count": 25,
   "metadata": {
    "ExecuteTime": {
     "end_time": "2024-08-05T08:06:24.109021500Z",
     "start_time": "2024-08-05T08:06:24.107023100Z"
    },
    "collapsed": false,
    "execution": {
     "iopub.execute_input": "2025-02-07T01:56:07.246597Z",
     "iopub.status.busy": "2025-02-07T01:56:07.246351Z",
     "iopub.status.idle": "2025-02-07T01:56:07.267778Z",
     "shell.execute_reply": "2025-02-07T01:56:07.267276Z",
     "shell.execute_reply.started": "2025-02-07T01:56:07.246576Z"
    },
    "jupyter": {
     "outputs_hidden": false
    }
   },
   "outputs": [
    {
     "data": {
      "text/plain": [
       "torch.Size([2, 50, 128])"
      ]
     },
     "execution_count": 25,
     "metadata": {},
     "output_type": "execute_result"
    }
   ],
   "source": [
    "#随机input，调用TransformerEmbedding\n",
    "config={\n",
    "    \"vocab_size\": 100,\n",
    "    \"d_model\": 128,\n",
    "    \"pad_idx\": 0,\n",
    "    \"max_length\": 64,\n",
    "    \"dropout\": 0.1,\n",
    "}\n",
    "input_ids = torch.randint(0, 100, (2, 50))\n",
    "embeds = TransformerEmbedding(config)(input_ids)\n",
    "embeds.shape"
   ]
  },
  {
   "cell_type": "markdown",
   "metadata": {
    "id": "wXavO0SNN4yD"
   },
   "source": [
    "### Transformer Block"
   ]
  },
  {
   "cell_type": "markdown",
   "metadata": {
    "id": "HZL4mu3pN4yD"
   },
   "source": [
    "#### scaled-dot-product-attention"
   ]
  },
  {
   "cell_type": "code",
   "execution_count": 26,
   "metadata": {
    "ExecuteTime": {
     "end_time": "2024-08-05T08:06:24.109021500Z",
     "start_time": "2024-08-05T08:06:24.108022500Z"
    },
    "colab": {
     "base_uri": "https://localhost:8080/",
     "height": 970
    },
    "execution": {
     "iopub.execute_input": "2025-02-07T01:56:07.268597Z",
     "iopub.status.busy": "2025-02-07T01:56:07.268409Z",
     "iopub.status.idle": "2025-02-07T01:56:07.296006Z",
     "shell.execute_reply": "2025-02-07T01:56:07.295484Z",
     "shell.execute_reply.started": "2025-02-07T01:56:07.268576Z"
    },
    "id": "U9QwdVQYN4yD",
    "outputId": "b6ae9ac8-c71c-4a7b-fd4b-9c15e92dba2c"
   },
   "outputs": [
    {
     "name": "stdout",
     "output_type": "stream",
     "text": [
      "key_value.shape torch.Size([2, 4, 2])\n",
      "torch.Size([2, 3, 2])\n",
      "torch.Size([2, 2, 3, 4])\n"
     ]
    }
   ],
   "source": [
    "from dataclasses import dataclass\n",
    "from typing import Optional, Tuple\n",
    "\n",
    "Tensor = torch.Tensor\n",
    "\n",
    "@dataclass\n",
    "class AttentionOutput:\n",
    "    hidden_states: Tensor\n",
    "    attn_scores: Tensor\n",
    "\n",
    "class MultiHeadAttention(nn.Module):\n",
    "    def __init__(self, config):\n",
    "        super().__init__()\n",
    "        # hyper params\n",
    "        self.hidden_size = config[\"d_model\"] # 隐藏层大小\n",
    "        self.num_heads = config[\"num_heads\"] # 多头注意力的头数\n",
    "        assert (\n",
    "            self.hidden_size % self.num_heads == 0\n",
    "        ), \"Hidden size must be divisible by num_heads but got {} and {}\".format(\n",
    "            self.hidden_size, self.num_heads\n",
    "        )\n",
    "        self.head_dim = self.hidden_size // self.num_heads # 每个头的维度\n",
    "\n",
    "        # layers\n",
    "        self.Wq = nn.Linear(self.hidden_size, self.hidden_size, bias=False) #第二个self.hidden_size可以*系数\n",
    "        self.Wk = nn.Linear(self.hidden_size, self.hidden_size, bias=False)\n",
    "        self.Wv = nn.Linear(self.hidden_size, self.hidden_size, bias=False)\n",
    "        self.Wo = nn.Linear(self.hidden_size, self.hidden_size, bias=False) # 输出层\n",
    "\n",
    "    def _split_heads(self, x: Tensor) -> Tensor:\n",
    "        bs, seq_len, _ = x.shape #假设输入的维度是[batch_size, seq_len, hidden_size],hidden_size是512\n",
    "        x = x.view(bs, seq_len, self.num_heads, self.head_dim) #num_heads是8，head_dim是64\n",
    "        return x.permute(0, 2, 1, 3) #变换维度，[batch_size, num_heads, seq_len, head_dim]\n",
    "\n",
    "    def _merge_heads(self, x: Tensor) -> Tensor:#将多头注意力的输出合并为一个张量\n",
    "        bs, _, seq_len, _ = x.shape #假设输入的维度是[batch_size, num_heads, seq_len, head_dim]\n",
    "        return x.permute(0, 2, 1, 3).reshape(bs, seq_len, self.hidden_size) # 变换维度，变为[batch_size, seq_len, hidden_size]\n",
    "\n",
    "    def forward(self, querys, keys, values, attn_mask=None) -> AttentionOutput:\n",
    "        # split heads\n",
    "        querys = self._split_heads(self.Wq(querys)) #(batch_size, seq_len,hidden_dim)-->[batch_size, num_heads, seq_len, head_dim]\n",
    "        keys = self._split_heads(self.Wk(keys))#[batch_size, num_heads, seq_len, head_dim]\n",
    "        values = self._split_heads(self.Wv(values))#[batch_size, num_heads, seq_len, head_dim]\n",
    "\n",
    "        # calculate attention scores\n",
    "        qk_logits = torch.matmul(querys, keys.mT) # 计算注意力分数，matmul是矩阵乘法，mT是矩阵转置,qk_logits是[batch_size, num_heads, seq_len, seq_len]\n",
    "        # print(querys.shape[-2], keys.shape[-2])  #3 4\n",
    "        if attn_mask is not None:\n",
    "            attn_mask = attn_mask[:, :, : querys.shape[-2], : keys.shape[-2]]\n",
    "            qk_logits += attn_mask * -1e9 # 给需要mask的地方设置一个负无穷\n",
    "        attn_scores = F.softmax(qk_logits / (self.head_dim**0.5), dim=-1) # 计算注意力分数\n",
    "\n",
    "        # apply attention scores\n",
    "        embeds = torch.matmul(attn_scores, values) # softmax后的结果与value相乘，得到新的表示\n",
    "        embeds = self.Wo(self._merge_heads(embeds)) # 输出层 [batch_size, seq_len, hidden_size]\n",
    "\n",
    "        return AttentionOutput(hidden_states=embeds, attn_scores=attn_scores)\n",
    "\n",
    "mha = MultiHeadAttention({\"num_heads\": 2, \"d_model\": 2})\n",
    "query = torch.randn(2, 3, 2) # [batch_size, seq_len, hidden_size]\n",
    "query /= query.norm(dim=-1, keepdim=True) # 归一化\n",
    "key_value = torch.randn(2, 4, 2)\n",
    "print(f'key_value.shape {key_value.shape}')\n",
    "outputs = mha(query, key_value, key_value) #最终输出shape和query的shape一样\n",
    "print(outputs.hidden_states.shape)\n",
    "print(outputs.attn_scores.shape)"
   ]
  },
  {
   "cell_type": "code",
   "execution_count": 27,
   "metadata": {
    "ExecuteTime": {
     "end_time": "2024-08-05T08:06:24.816743500Z",
     "start_time": "2024-08-05T08:06:24.108022500Z"
    },
    "collapsed": false,
    "execution": {
     "iopub.execute_input": "2025-02-07T01:56:07.296870Z",
     "iopub.status.busy": "2025-02-07T01:56:07.296623Z",
     "iopub.status.idle": "2025-02-07T01:56:07.537741Z",
     "shell.execute_reply": "2025-02-07T01:56:07.537192Z",
     "shell.execute_reply.started": "2025-02-07T01:56:07.296849Z"
    },
    "jupyter": {
     "outputs_hidden": false
    }
   },
   "outputs": [
    {
     "data": {
      "image/png": "[encoded data removed]",
      "text/plain": [
       "<Figure size 640x480 with 4 Axes>"
      ]
     },
     "metadata": {},
     "output_type": "display_data"
    }
   ],
   "source": [
    "# plt.subplots() 用于创建子图网格，其维度基于 outputs.attn_scores.shape[:2]。子图的行数和列数似乎由 outputs.attn_scores 的前两个维度确定。\n",
    "fig, axis = plt.subplots(*outputs.attn_scores.shape[:2])\n",
    "for i in range(query.shape[0]):\n",
    "    for j in range(outputs.attn_scores.shape[1]):\n",
    "        # axis[i, j].matshow(outputs.attn_scores[i, j].detach().numpy())：此行使用 Matplotlib 的 matshow 绘制每个 i 和 j 的注意力分数热图。detach().numpy() 将 PyTorch 张量转换为 NumPy 数组以进行可视化。\n",
    "        axis[i, j].matshow(outputs.attn_scores[i, j].detach().numpy())\n",
    "        for x in range(outputs.attn_scores.shape[2]):\n",
    "            for y in range(outputs.attn_scores.shape[3]):\n",
    "                # axis[i, j].text(y, x, f\"{outputs.attn_scores[i, j, x, y]:.2f}\", ha=\"center\", va=\"center\", color=\"w\")：此代码在热图上叠加文本，显示 (x, y) 位置处的注意力分数。格式化部分 f\"{outputs.attn_scores[i, j, x, y]:.2f}\" 确保以两位小数显示注意力分数。文本以白色居中显示在 (y, x) 坐标处。\n",
    "                axis[i, j].text(y, x, f\"{outputs.attn_scores[i, j, x, y]:.2f}\", ha=\"center\", va=\"center\", color=\"w\")\n",
    "fig.suptitle(\"multi head attention without mask\")\n",
    "plt.show()"
   ]
  },
  {
   "cell_type": "code",
   "execution_count": 28,
   "metadata": {
    "ExecuteTime": {
     "end_time": "2024-08-05T08:06:25.525550800Z",
     "start_time": "2024-08-05T08:06:24.814755500Z"
    },
    "collapsed": false,
    "execution": {
     "iopub.execute_input": "2025-02-07T01:56:07.538627Z",
     "iopub.status.busy": "2025-02-07T01:56:07.538375Z",
     "iopub.status.idle": "2025-02-07T01:56:07.784285Z",
     "shell.execute_reply": "2025-02-07T01:56:07.783777Z",
     "shell.execute_reply.started": "2025-02-07T01:56:07.538606Z"
    },
    "jupyter": {
     "outputs_hidden": false
    }
   },
   "outputs": [
    {
     "name": "stdout",
     "output_type": "stream",
     "text": [
      "--------------------------------------------------\n"
     ]
    },
    {
     "data": {
      "image/png": "[encoded data removed]",
      "text/plain": [
       "<Figure size 640x480 with 4 Axes>"
      ]
     },
     "metadata": {},
     "output_type": "display_data"
    }
   ],
   "source": [
    "print('-'*50)\n",
    "# mask\n",
    "mask = torch.Tensor([[0, 0, 1, 1], [0, 0, 0, 1], [0, 0, 0, 0]]).reshape(1, 1, 3, 4) #手工构造mask\n",
    "outputs_masked = mha(query, key_value, key_value, mask)\n",
    "\n",
    "fig, axis = plt.subplots(*outputs_masked.attn_scores.shape[:2])\n",
    "for i in range(query.shape[0]):\n",
    "    for j in range(outputs_masked.attn_scores.shape[1]):\n",
    "        axis[i, j].matshow(outputs_masked.attn_scores[i, j].detach().numpy())\n",
    "        for x in range(outputs_masked.attn_scores.shape[2]):\n",
    "            for y in range(outputs_masked.attn_scores.shape[3]):\n",
    "                axis[i, j].text(y, x, f\"{outputs_masked.attn_scores[i, j, x, y]:.2f}\", ha=\"center\", va=\"center\", color=\"w\")\n",
    "fig.suptitle(\"multi head attention with mask\")\n",
    "plt.show()"
   ]
  },
  {
   "cell_type": "markdown",
   "metadata": {
    "id": "GkzzrRWVN4yE"
   },
   "source": [
    "#### Transformer-Block"
   ]
  },
  {
   "cell_type": "code",
   "execution_count": 29,
   "metadata": {
    "ExecuteTime": {
     "end_time": "2024-08-05T08:06:25.527550400Z",
     "start_time": "2024-08-05T08:06:25.524551200Z"
    },
    "execution": {
     "iopub.execute_input": "2025-02-07T01:56:07.785251Z",
     "iopub.status.busy": "2025-02-07T01:56:07.785039Z",
     "iopub.status.idle": "2025-02-07T01:56:07.795330Z",
     "shell.execute_reply": "2025-02-07T01:56:07.794509Z",
     "shell.execute_reply.started": "2025-02-07T01:56:07.785230Z"
    },
    "id": "b16xpL47N4yE"
   },
   "outputs": [],
   "source": [
    "# 通过使用 @dataclass 装饰器，Python 会自动为该类生成一些方法，如 __init__()、__repr__() 和 __eq__() 等，这些方法可以使类的使用更加方便。\n",
    "@dataclass\n",
    "class TransformerBlockOutput:\n",
    "# hidden_states: Tensor：用于存储某个块产生的隐藏状态。\n",
    "# self_attn_scores: Tensor：包含了自注意力机制（self-attention）所计算得到的注意力分数。\n",
    "# cross_attn_scores: Optional[Tensor] = None：是一个可选字段，存储了交叉注意力（cross-attention）计算得到的注意力分数。这里的 Optional 表示这个字段可以是 Tensor 类型，也可以是 None。\n",
    "    hidden_states: Tensor\n",
    "    self_attn_scores: Tensor\n",
    "    cross_attn_scores: Optional[Tensor] = None\n",
    "\n",
    "class TransformerBlock(nn.Module):\n",
    "    def __init__(self, config, add_cross_attention=False):\n",
    "        super().__init__()\n",
    "        # hyper params\n",
    "        self.hidden_size = config[\"d_model\"]\n",
    "        self.num_heads = config[\"num_heads\"]\n",
    "        dropout_rate = config[\"dropout\"]\n",
    "        ffn_dim = config[\"dim_feedforward\"]\n",
    "        eps = config[\"layer_norm_eps\"] # 层归一化的epsilon值\n",
    "\n",
    "        # self-attention\n",
    "        self.self_atten = MultiHeadAttention(config) # 多头注意力\n",
    "        self.self_ln = nn.LayerNorm(self.hidden_size, eps=eps) #层归一化(层标准化)\n",
    "        self.self_dropout = nn.Dropout(dropout_rate)\n",
    "\n",
    "        # cross-attention，交叉注意力，decoder中使用,因此额外做一个判断\n",
    "        if add_cross_attention:\n",
    "            self.cross_atten = MultiHeadAttention(config)\n",
    "            self.cross_ln = nn.LayerNorm(self.hidden_size, eps=eps)\n",
    "            self.cross_dropout = nn.Dropout(dropout_rate)\n",
    "        else:\n",
    "            self.cross_atten = None\n",
    "\n",
    "        # FFN,前馈神经网络\n",
    "        self.ffn = nn.Sequential(\n",
    "            nn.Linear(self.hidden_size, ffn_dim),\n",
    "            nn.ReLU(),\n",
    "            nn.Linear(ffn_dim, self.hidden_size),\n",
    "        )\n",
    "        self.ffn_ln = nn.LayerNorm(self.hidden_size, eps=eps)\n",
    "        self.ffn_dropout = nn.Dropout(dropout_rate)\n",
    "\n",
    "    def forward(\n",
    "        self,\n",
    "        hidden_states,\n",
    "        attn_mask=None,\n",
    "        encoder_outputs=None,\n",
    "        cross_attn_mask=None,\n",
    "    ):\n",
    "        # self-attention,自注意力\n",
    "        self_atten_output = self.self_atten(\n",
    "            hidden_states, hidden_states, hidden_states, attn_mask\n",
    "        )\n",
    "        self_embeds = self.self_ln(\n",
    "            hidden_states + self.self_dropout(self_atten_output.hidden_states)\n",
    "        ) #多头注意力进行dropout，然后和原始输入进行残差连接，然后进行层归一化\n",
    "\n",
    "        # cross-attention，交叉注意力\n",
    "        if self.cross_atten is not None:\n",
    "            assert encoder_outputs is not None\n",
    "            cross_atten_output = self.cross_atten(\n",
    "                self_embeds, encoder_outputs, encoder_outputs, cross_attn_mask\n",
    "            ) #query是self_embeds，key和value都是encoder_outputs\n",
    "            cross_embeds = self.cross_ln(\n",
    "                self_embeds + self.cross_dropout(cross_atten_output.hidden_states)\n",
    "            ) # 交叉注意力进行dropout，然后和self_embeds进行残差连接，然后进行层归一化\n",
    "\n",
    "        # FFN\n",
    "        embeds = cross_embeds if self.cross_atten is not None else self_embeds # 如果有交叉注意力，则使用交叉注意力的输出作为FFN的输入；否则，使用self_embeds作为FFN的输入\n",
    "        ffn_output = self.ffn(embeds) # 前馈神经网络\n",
    "        embeds = self.ffn_ln(embeds + self.ffn_dropout(ffn_output)) # 前馈神经网络进行dropout，然后和原始输入进行残差连接，然后进行层归一化\n",
    "\n",
    "        return TransformerBlockOutput(\n",
    "            hidden_states=embeds,\n",
    "            self_attn_scores=self_atten_output.attn_scores,\n",
    "            cross_attn_scores=cross_atten_output.attn_scores\n",
    "            if self.cross_atten is not None\n",
    "            else None,\n",
    "        )"
   ]
  },
  {
   "cell_type": "markdown",
   "metadata": {
    "id": "tfJIGaohN4yE"
   },
   "source": [
    "#### Encoder"
   ]
  },
  {
   "cell_type": "code",
   "execution_count": 30,
   "metadata": {
    "ExecuteTime": {
     "end_time": "2024-08-05T08:06:25.527550400Z",
     "start_time": "2024-08-05T08:06:25.525550800Z"
    },
    "execution": {
     "iopub.execute_input": "2025-02-07T01:56:07.799298Z",
     "iopub.status.busy": "2025-02-07T01:56:07.798873Z",
     "iopub.status.idle": "2025-02-07T01:56:07.804573Z",
     "shell.execute_reply": "2025-02-07T01:56:07.804105Z",
     "shell.execute_reply.started": "2025-02-07T01:56:07.799277Z"
    },
    "id": "sTLabHm7N4yE"
   },
   "outputs": [],
   "source": [
    "from typing import List\n",
    "\n",
    "@dataclass\n",
    "class TransformerEncoderOutput:\n",
    "    last_hidden_states: Tensor\n",
    "    attn_scores: List[Tensor]\n",
    "\n",
    "# https://pytorch.org/docs/stable/generated/torch.nn.Module.html#torch.nn.Module\n",
    "class TransformerEncoder(nn.Module):\n",
    "    def __init__(self, config):\n",
    "        super().__init__()\n",
    "        # hyper params\n",
    "        self.num_layers = config[\"num_encoder_layers\"]\n",
    "\n",
    "        # layers,仅仅是一个模块的列表，它本身没有定义前向传递（forward pass）过程。你需要在 forward 方法中明确地定义如何使用这些模块。\n",
    "        self.layers = nn.ModuleList(\n",
    "            [TransformerBlock(config) for _ in range(self.num_layers)]\n",
    "        )\n",
    "\n",
    "    def forward(\n",
    "        self, encoder_inputs_embeds, attn_mask=None\n",
    "    ) -> TransformerEncoderOutput:\n",
    "        attn_scores = [] # 存储每个层的注意力分数\n",
    "        embeds = encoder_inputs_embeds # 输入的嵌入向量作为第一层的输入(embedding+位置编码)\n",
    "        for layer in self.layers:\n",
    "            block_outputs = layer(embeds, attn_mask=attn_mask)\n",
    "            embeds = block_outputs.hidden_states #上一层的输出作为下一层的输入\n",
    "            # 在每个层的输出中，提取了隐藏状态 block_outputs.hidden_states，并将对应的注意力分数 block_outputs.self_attn_scores 添加到列表 attn_scores 中。\n",
    "            attn_scores.append(block_outputs.self_attn_scores) # 存储每个层的注意力分数,用于画图\n",
    "\n",
    "        return TransformerEncoderOutput(\n",
    "            last_hidden_states=embeds, attn_scores=attn_scores\n",
    "        )\n",
    "\n"
   ]
  },
  {
   "cell_type": "markdown",
   "metadata": {
    "id": "BEMNj6eBN4yE"
   },
   "source": [
    "#### Decoder"
   ]
  },
  {
   "cell_type": "code",
   "execution_count": 31,
   "metadata": {
    "ExecuteTime": {
     "end_time": "2024-08-05T08:06:25.527550400Z",
     "start_time": "2024-08-05T08:06:25.525550800Z"
    },
    "execution": {
     "iopub.execute_input": "2025-02-07T01:56:07.805282Z",
     "iopub.status.busy": "2025-02-07T01:56:07.805099Z",
     "iopub.status.idle": "2025-02-07T01:56:07.811377Z",
     "shell.execute_reply": "2025-02-07T01:56:07.810849Z",
     "shell.execute_reply.started": "2025-02-07T01:56:07.805259Z"
    },
    "id": "wCHOur-QN4yE"
   },
   "outputs": [],
   "source": [
    "@dataclass\n",
    "class TransformerDecoderOutput:\n",
    "    last_hidden_states: Tensor\n",
    "    self_attn_scores: List[Tensor]\n",
    "    cross_attn_scores: List[Tensor]\n",
    "\n",
    "\n",
    "class TransformerDecoder(nn.Module):\n",
    "    def __init__(self, config):\n",
    "        super().__init__()\n",
    "        # hyper params\n",
    "        self.num_layers = config[\"num_decoder_layers\"]\n",
    "\n",
    "        # layers\n",
    "        self.layers = nn.ModuleList(\n",
    "            [\n",
    "                TransformerBlock(config, add_cross_attention=True)\n",
    "                for _ in range(self.num_layers)\n",
    "            ]\n",
    "        )\n",
    "\n",
    "    def forward(\n",
    "        self,\n",
    "        decoder_inputs_embeds,\n",
    "        encoder_outputs,\n",
    "        attn_mask=None,\n",
    "        cross_attn_mask=None,\n",
    "    ) -> TransformerDecoderOutput:\n",
    "        self_attn_scores = [] # 存储每个层的自注意力分数\n",
    "        cross_attn_scores = [] # 存储每个层的交叉注意力分数\n",
    "        embeds = decoder_inputs_embeds # 输入的嵌入向量作为第一层的输入(embedding+位置编码)\n",
    "        for layer in self.layers:\n",
    "            block_outputs = layer(\n",
    "                embeds,\n",
    "                attn_mask=attn_mask, # 自注意力的mask\n",
    "                encoder_outputs=encoder_outputs,\n",
    "                cross_attn_mask=cross_attn_mask, # 交叉注意力的mask\n",
    "            )\n",
    "            embeds = block_outputs.hidden_states # 上一层的输出作为下一层的输入\n",
    "            self_attn_scores.append(block_outputs.self_attn_scores) # 存储每个层的自注意力分数\n",
    "            cross_attn_scores.append(block_outputs.cross_attn_scores) # 存储每个层的交叉注意力分数\n",
    "\n",
    "        return TransformerDecoderOutput(\n",
    "            last_hidden_states=embeds,\n",
    "            self_attn_scores=self_attn_scores,\n",
    "            cross_attn_scores=cross_attn_scores,\n",
    "        )\n"
   ]
  },
  {
   "cell_type": "markdown",
   "metadata": {
    "id": "zPrvXAXtN4yF"
   },
   "source": [
    "#### mask\n",
    "\n",
    "- mask实际上大类上只有两种\n",
    "    1. `padding_mask`：mask掉`pad_idx`，不计算损失\n",
    "    2. `attention_mask`：mask掉`pad_idx`，不计算注意力分数\n",
    "- Decoder的`attention_mask`和Encoder有一定的区别：\n",
    "    - Encoder可以同时看见序列所有信息，故只mask掉`pad_idx`\n",
    "    - Decoder只能看到在自身之前的序列的信息，故要额外mask掉自身之后的序列"
   ]
  },
  {
   "cell_type": "code",
   "execution_count": 32,
   "metadata": {
    "ExecuteTime": {
     "end_time": "2024-08-05T08:06:25.527550400Z",
     "start_time": "2024-08-05T08:06:25.526551200Z"
    },
    "colab": {
     "base_uri": "https://localhost:8080/"
    },
    "execution": {
     "iopub.execute_input": "2025-02-07T01:56:07.812278Z",
     "iopub.status.busy": "2025-02-07T01:56:07.811975Z",
     "iopub.status.idle": "2025-02-07T01:56:07.818492Z",
     "shell.execute_reply": "2025-02-07T01:56:07.817993Z",
     "shell.execute_reply.started": "2025-02-07T01:56:07.812259Z"
    },
    "id": "D2N9VmcAWLn1",
    "outputId": "560b8af9-c854-4fd7-df3e-86e9eb9045cc"
   },
   "outputs": [
    {
     "data": {
      "text/plain": [
       "tensor([[False,  True,  True,  True,  True],\n",
       "        [False, False,  True,  True,  True],\n",
       "        [False, False, False,  True,  True],\n",
       "        [False, False, False, False,  True],\n",
       "        [False, False, False, False, False]])"
      ]
     },
     "execution_count": 32,
     "metadata": {},
     "output_type": "execute_result"
    }
   ],
   "source": [
    "(torch.triu(torch.ones(5, 5)) == 0).transpose(-1,-2)"
   ]
  },
  {
   "cell_type": "code",
   "execution_count": 33,
   "metadata": {
    "ExecuteTime": {
     "end_time": "2024-08-05T08:06:26.193720900Z",
     "start_time": "2024-08-05T08:06:25.526551200Z"
    },
    "colab": {
     "base_uri": "https://localhost:8080/",
     "height": 426
    },
    "execution": {
     "iopub.execute_input": "2025-02-07T01:56:07.819241Z",
     "iopub.status.busy": "2025-02-07T01:56:07.819053Z",
     "iopub.status.idle": "2025-02-07T01:56:07.980885Z",
     "shell.execute_reply": "2025-02-07T01:56:07.980295Z",
     "shell.execute_reply.started": "2025-02-07T01:56:07.819221Z"
    },
    "id": "QxpSYOsaN4yF",
    "outputId": "1022d3c3-c72e-4798-b998-c71c6690b94e"
   },
   "outputs": [
    {
     "data": {
      "image/png": "[encoded data removed]",
      "text/plain": [
       "<Figure size 480x480 with 2 Axes>"
      ]
     },
     "metadata": {},
     "output_type": "display_data"
    }
   ],
   "source": [
    "\n",
    "def generate_square_subsequent_mask(sz: int) -> Tensor:\n",
    "    \"\"\"\n",
    "    Generate a square mask for the sequence. The masked positions are filled with True.\n",
    "        Unmasked positions are filled with False.\n",
    "    \"\"\"\n",
    "    # torch.ones(sz, sz): 创建一个全为 1 的 sz × sz 的矩阵。\n",
    "    # torch.triu(...): 使用 triu 函数取得矩阵的上三角部分，将主对角线以下部分置零。\n",
    "    mask = (torch.triu(torch.ones(sz, sz)) == 0).transpose(-1, -2).bool()\n",
    "    # mask = torch.triu(torch.ones(sz, sz))\n",
    "    return mask\n",
    "\n",
    "\n",
    "plt.matshow(generate_square_subsequent_mask(16))\n",
    "plt.colorbar()\n",
    "plt.xlabel(\"keys\")\n",
    "plt.ylabel(\"querys\")\n",
    "plt.title(\"1 means mask while 0 means unmask\")\n",
    "plt.show()"
   ]
  },
  {
   "cell_type": "code",
   "execution_count": 34,
   "metadata": {
    "ExecuteTime": {
     "end_time": "2024-08-05T08:06:27.178084Z",
     "start_time": "2024-08-05T08:06:25.538543600Z"
    },
    "colab": {
     "base_uri": "https://localhost:8080/",
     "height": 960
    },
    "execution": {
     "iopub.execute_input": "2025-02-07T01:56:07.981948Z",
     "iopub.status.busy": "2025-02-07T01:56:07.981708Z",
     "iopub.status.idle": "2025-02-07T01:56:08.477681Z",
     "shell.execute_reply": "2025-02-07T01:56:08.477053Z",
     "shell.execute_reply.started": "2025-02-07T01:56:07.981923Z"
    },
    "id": "cPeMjXO1N4yF",
    "outputId": "e6922ce8-ba71-491f-d7a6-709a14a4b7d7"
   },
   "outputs": [
    {
     "name": "stdout",
     "output_type": "stream",
     "text": [
      "['[BOS]', '[UNK]', 'quick', 'brown', '[UNK]', 'jumps', 'over', 'the', '[UNK]', 'dog', '.', '[EOS]']\n"
     ]
    },
    {
     "data": {
      "image/png": "[encoded data removed]",
      "text/plain": [
       "<Figure size 1000x500 with 2 Axes>"
      ]
     },
     "metadata": {},
     "output_type": "display_data"
    },
    {
     "name": "stdout",
     "output_type": "stream",
     "text": [
      "--------------------------------------------------\n",
      "['[BOS]', '[UNK]', 'does', 'the', '[UNK]', 'say', '?', '[EOS]', '[PAD]', '[PAD]', '[PAD]', '[PAD]']\n"
     ]
    },
    {
     "data": {
      "image/png": "[encoded data removed]",
      "text/plain": [
       "<Figure size 1000x500 with 2 Axes>"
      ]
     },
     "metadata": {},
     "output_type": "display_data"
    },
    {
     "name": "stdout",
     "output_type": "stream",
     "text": [
      "--------------------------------------------------\n"
     ]
    }
   ],
   "source": [
    "#通过下面代码查看mask的效果\n",
    "inputs_words = [\"The quick brown fox jumps over the lazy dog .\", \"What does the fox say ?\"]\n",
    "\n",
    "inputs_ids, input_mask = tokenizer.encode([w.split() for w in inputs_words], return_mask=True)\n",
    "for i in range(len(inputs_words)):\n",
    "    decode_text = tokenizer.decode(inputs_ids[i: i+1].tolist(), remove_bos=False, remove_eos=False, remove_pad=False, split=True)[0]\n",
    "    print(decode_text)\n",
    "    self_attn_mask  = input_mask[i].reshape(1, -1).repeat_interleave(inputs_ids.shape[-1], dim=0)\n",
    "    look_ahead_mask = generate_square_subsequent_mask(inputs_ids.shape[-1])\n",
    "\n",
    "    fig, axs = plt.subplots(1, 2, figsize=(10, 5))\n",
    "    axs[0].matshow(self_attn_mask)\n",
    "    axs[0].set_title(\"self_attn_mask\")\n",
    "    axs[0].set_yticks(range(len(decode_text)), decode_text, fontsize=6)\n",
    "    axs[0].set_ylabel(\"querys\")\n",
    "    axs[0].set_xticks(range(len(decode_text)), decode_text, fontsize=6)\n",
    "    axs[0].set_xlabel(\"keys\")\n",
    "    axs[1].matshow(look_ahead_mask)\n",
    "    axs[1].set_title(\"look_ahead_mask\")\n",
    "    axs[1].set_yticks(range(len(decode_text)), decode_text, fontsize=6)\n",
    "    axs[1].set_ylabel(\"querys\")\n",
    "    axs[1].set_xticks(range(len(decode_text)), decode_text, fontsize=6)\n",
    "    axs[1].set_xlabel(\"keys\")\n",
    "    plt.show()\n",
    "    print('-'*50)"
   ]
  },
  {
   "cell_type": "code",
   "execution_count": 35,
   "metadata": {
    "ExecuteTime": {
     "end_time": "2024-08-05T08:06:27.179078300Z",
     "start_time": "2024-08-05T08:06:26.513547400Z"
    },
    "collapsed": false,
    "execution": {
     "iopub.execute_input": "2025-02-07T01:56:08.479082Z",
     "iopub.status.busy": "2025-02-07T01:56:08.478490Z",
     "iopub.status.idle": "2025-02-07T01:56:08.484889Z",
     "shell.execute_reply": "2025-02-07T01:56:08.484206Z",
     "shell.execute_reply.started": "2025-02-07T01:56:08.479047Z"
    },
    "jupyter": {
     "outputs_hidden": false
    }
   },
   "outputs": [
    {
     "data": {
      "text/plain": [
       "tensor([[False,  True,  True,  True,  True],\n",
       "        [False, False,  True,  True,  True],\n",
       "        [False, False, False,  True,  True],\n",
       "        [False, False, False, False,  True],\n",
       "        [False, False, False, False, False]])"
      ]
     },
     "execution_count": 35,
     "metadata": {},
     "output_type": "execute_result"
    }
   ],
   "source": [
    "(torch.triu(torch.ones(5, 5)) == 0).transpose(-1, -2).bool()"
   ]
  },
  {
   "cell_type": "code",
   "execution_count": 36,
   "metadata": {
    "ExecuteTime": {
     "end_time": "2024-08-05T08:06:27.234057200Z",
     "start_time": "2024-08-05T08:06:27.159090100Z"
    },
    "collapsed": false,
    "execution": {
     "iopub.execute_input": "2025-02-07T01:56:08.486013Z",
     "iopub.status.busy": "2025-02-07T01:56:08.485639Z",
     "iopub.status.idle": "2025-02-07T01:56:08.490977Z",
     "shell.execute_reply": "2025-02-07T01:56:08.490329Z",
     "shell.execute_reply.started": "2025-02-07T01:56:08.485984Z"
    },
    "jupyter": {
     "outputs_hidden": false
    }
   },
   "outputs": [
    {
     "data": {
      "text/plain": [
       "torch.Size([5, 1, 4, 4])"
      ]
     },
     "execution_count": 36,
     "metadata": {},
     "output_type": "execute_result"
    }
   ],
   "source": [
    "#帮我随机两个[5, 1, 1, 4]与[1, 1, 4, 4]尺寸的张量，并求和\n",
    "a = torch.randn(5, 1, 1, 4)\n",
    "b = torch.randn(1, 1, 4, 4)\n",
    "(a + b).shape"
   ]
  },
  {
   "cell_type": "markdown",
   "metadata": {
    "id": "TelCDOoEN4yF"
   },
   "source": [
    "#### Transformer Model"
   ]
  },
  {
   "cell_type": "code",
   "execution_count": 37,
   "metadata": {
    "ExecuteTime": {
     "end_time": "2024-08-05T08:06:27.234057200Z",
     "start_time": "2024-08-05T08:06:27.160089800Z"
    },
    "execution": {
     "iopub.execute_input": "2025-02-07T01:56:08.492092Z",
     "iopub.status.busy": "2025-02-07T01:56:08.491816Z",
     "iopub.status.idle": "2025-02-07T01:56:08.646600Z",
     "shell.execute_reply": "2025-02-07T01:56:08.646017Z",
     "shell.execute_reply.started": "2025-02-07T01:56:08.492064Z"
    },
    "id": "oFGNt8FPN4yF"
   },
   "outputs": [],
   "source": [
    "@dataclass\n",
    "class TransformerOutput:\n",
    "    logits: Tensor\n",
    "    encoder_last_hidden_states: Tensor\n",
    "    encoder_attn_scores: List[Tensor] #画图\n",
    "    decoder_last_hidden_states: Tensor\n",
    "    decoder_self_attn_scores: List[Tensor] #画图\n",
    "    decoder_cross_attn_scores: List[Tensor] #画图\n",
    "    preds: Optional[Tensor] = None\n",
    "\n",
    "class TransformerModel(nn.Module):\n",
    "    def __init__(self, config):\n",
    "        super().__init__()\n",
    "        # hyper params\n",
    "        self.hidden_size = config[\"d_model\"]\n",
    "        self.num_encoder_layers = config[\"num_encoder_layers\"]\n",
    "        self.num_decoder_layers = config[\"num_decoder_layers\"]\n",
    "        self.pad_idx = config[\"pad_idx\"]\n",
    "        self.bos_idx = config[\"bos_idx\"]\n",
    "        self.eos_idx = config[\"eos_idx\"]\n",
    "        self.vocab_size = config[\"vocab_size\"]\n",
    "        self.dropout_rate = config[\"dropout\"]\n",
    "        self.max_length = config[\"max_length\"]\n",
    "        self.share = config[\"share_embedding\"]\n",
    "\n",
    "        # layers\n",
    "        self.src_embedding = TransformerEmbedding(config) # 输入的嵌入层\n",
    "        if self.share:#如果共享词嵌入，则使用src_embedding作为trg_embedding\n",
    "            self.trg_embedding = self.src_embedding #源和目标的嵌入层相同，共享参数，节省内存\n",
    "            self.linear = lambda x: torch.matmul(\n",
    "                x, self.trg_embedding.get_word_embedding_weights().T\n",
    "            ) # 输出层，共享参数，直接拿原有embedding矩阵的转置，节省内存\n",
    "        else:\n",
    "            self.trg_embedding = TransformerEmbedding(config) #decoder模块的嵌入层\n",
    "            self.linear = nn.Linear(self.hidden_size, self.vocab_size) # 输出层\n",
    "\n",
    "        self.encoder = TransformerEncoder(config)\n",
    "        self.decoder = TransformerDecoder(config)\n",
    "\n",
    "        # init weights\n",
    "        self._init_weights()\n",
    "\n",
    "    def _init_weights(self):\n",
    "        \"\"\"使用 xavier 均匀分布来初始化权重\"\"\"\n",
    "        for p in self.parameters():\n",
    "            if p.dim() > 1:\n",
    "                nn.init.xavier_uniform_(p)\n",
    "\n",
    "    def generate_square_subsequent_mask(self, sz: int) -> Tensor:\n",
    "        \"\"\"\n",
    "        Generate a square mask for the sequence. The masked positions are filled with True.\n",
    "            Unmasked positions are filled with False.为了生成斜三角的mask\n",
    "        \"\"\"\n",
    "        mask = (torch.triu(torch.ones(sz, sz)) == 0).transpose(-1, -2).bool()\n",
    "\n",
    "        return mask\n",
    "\n",
    "    def forward(\n",
    "        self, encoder_inputs, decoder_inputs, encoder_inputs_mask=None\n",
    "    ) -> TransformerOutput:\n",
    "        # encoder_inputs: [batch_size, src_len]\n",
    "        # decoder_inputs: [batch_size, trg_len]\n",
    "        # encoder_inputs_mask: [batch_size, src_len]\n",
    "        if encoder_inputs_mask is None:\n",
    "            encoder_inputs_mask = encoder_inputs.eq(self.pad_idx) # [batch_size, src_len]\n",
    "        encoder_inputs_mask = encoder_inputs_mask.unsqueeze(1).unsqueeze(\n",
    "            2\n",
    "        )  # [batch_size, 1, 1, src_len],用于encoder的自注意力\n",
    "        look_ahead_mask = self.generate_square_subsequent_mask(decoder_inputs.shape[1])\n",
    "        look_ahead_mask = (\n",
    "            look_ahead_mask.unsqueeze(0).unsqueeze(0).to(decoder_inputs.device)\n",
    "        )  #[trg_len, trg_len]--> [1, 1, trg_len, trg_len],用于decoder的自注意力\n",
    "        #增加decoder_inputs_mask和look_ahead_mask进行组合\n",
    "        decoder_inputs_mask = decoder_inputs.eq(self.pad_idx) # [batch_size, trg_len]，和上面encoder_inputs_mask一致\n",
    "        # print(decoder_inputs_mask.shape)\n",
    "        decoder_inputs_mask = decoder_inputs_mask.unsqueeze(1).unsqueeze(2)  # [batch_size, 1, 1, trg_len]\n",
    "        # print(decoder_inputs_mask.shape)\n",
    "        decoder_inputs_mask = decoder_inputs_mask + look_ahead_mask # [batch_size, 1, 1, trg_len]与[1, 1, trg_len, trg_len]相加，得到decoder的自注意力mask\n",
    "\n",
    "        # encoding\n",
    "        encoder_inputs_embeds = self.src_embedding(encoder_inputs)\n",
    "        encoder_outputs = self.encoder(encoder_inputs_embeds, encoder_inputs_mask) #encoder_inputs_mask用于encoder的自注意力,广播去做计算\n",
    "\n",
    "        # decoding\n",
    "        decoder_inputs_embeds = self.trg_embedding(decoder_inputs)\n",
    "        decoder_outputs = self.decoder(\n",
    "            decoder_inputs_embeds=decoder_inputs_embeds,\n",
    "            encoder_outputs=encoder_outputs.last_hidden_states,\n",
    "            attn_mask=decoder_inputs_mask, #用于decoder的自注意力,广播去做计算\n",
    "            cross_attn_mask=encoder_inputs_mask,#用于decoder的交叉注意力,广播去做计算\n",
    "        )\n",
    "\n",
    "        logits = self.linear(decoder_outputs.last_hidden_states) # [batch_size, trg_len, vocab_size]\n",
    "\n",
    "        return TransformerOutput(\n",
    "            logits=logits,\n",
    "            encoder_last_hidden_states=encoder_outputs.last_hidden_states,\n",
    "            encoder_attn_scores=encoder_outputs.attn_scores,\n",
    "            decoder_last_hidden_states=decoder_outputs.last_hidden_states,\n",
    "            decoder_self_attn_scores=decoder_outputs.self_attn_scores,\n",
    "            decoder_cross_attn_scores=decoder_outputs.cross_attn_scores,\n",
    "        )\n",
    "\n",
    "    @torch.no_grad()\n",
    "    def infer(self, encoder_inputs, encoder_inputs_mask=None) -> Tensor:\n",
    "        # assert len(encoder_inputs.shape) == 2 and encoder_inputs.shape[0] == 1\n",
    "        if encoder_inputs_mask is None:#应对多个样本同时进行推理\n",
    "            encoder_inputs_mask = encoder_inputs.eq(self.pad_idx)\n",
    "        encoder_inputs_mask = encoder_inputs_mask.unsqueeze(1).unsqueeze(2)  # [batch_size, 1, 1, src_len],[1,src_len]相加时，会自动广播到[batch_size,1,src_len,src_len]\n",
    "        look_ahead_mask = self.generate_square_subsequent_mask(self.max_length)\n",
    "        look_ahead_mask = (\n",
    "            look_ahead_mask.unsqueeze(0).unsqueeze(0).to(encoder_inputs.device)\n",
    "        )  # [1, 1, trg_len, trg_len]\n",
    "\n",
    "        # encoding\n",
    "        encoder_inputs_embeds = self.src_embedding(encoder_inputs)\n",
    "        encoder_outputs = self.encoder(encoder_inputs_embeds) #因为只支持单样本预测，没有paddings，所以不需要mask\n",
    "\n",
    "        # decoding,多样本推理\n",
    "        decoder_inputs = torch.Tensor([self.bos_idx] * encoder_inputs.shape[0]).reshape(-1, 1).long().to(device=encoder_inputs.device)\n",
    "        for cur_len in tqdm(range(1, self.max_length + 1)):\n",
    "            decoder_inputs_embeds = self.trg_embedding(decoder_inputs)\n",
    "            decoder_outputs = self.decoder(\n",
    "                decoder_inputs_embeds=decoder_inputs_embeds,\n",
    "                encoder_outputs=encoder_outputs.last_hidden_states,\n",
    "                attn_mask=look_ahead_mask[:, :, :cur_len, :cur_len],#decoder的自注意力mask\n",
    "            )\n",
    "\n",
    "            logits = self.linear(decoder_outputs.last_hidden_states)\n",
    "            next_token = logits.argmax(dim=-1)[:, -1:] #通过最大下标确定类别，[:, -1:]表示取最后一个结果\n",
    "            decoder_inputs = torch.cat([decoder_inputs, next_token], dim=-1) #预测输出拼接到输入中\n",
    "            #(decoder_inputs == self.eos_idx).sum(dim=-1)是判断样本中是否含有EOS标记\n",
    "            #all是每一个都为True，才会结束\n",
    "            if all((decoder_inputs == self.eos_idx).sum(dim=-1) > 0):\n",
    "                break\n",
    "\n",
    "        return TransformerOutput(\n",
    "            preds=decoder_inputs[:, 1:],\n",
    "            logits=logits,\n",
    "            encoder_last_hidden_states=encoder_outputs.last_hidden_states,\n",
    "            encoder_attn_scores=encoder_outputs.attn_scores,\n",
    "            decoder_last_hidden_states=decoder_outputs.last_hidden_states,\n",
    "            decoder_self_attn_scores=decoder_outputs.self_attn_scores,\n",
    "            decoder_cross_attn_scores=decoder_outputs.cross_attn_scores,\n",
    "        )"
   ]
  },
  {
   "cell_type": "markdown",
   "metadata": {
    "id": "kXHQ3sGTN4yG"
   },
   "source": [
    "## 训练"
   ]
  },
  {
   "cell_type": "markdown",
   "metadata": {
    "id": "OxNA8DIzN4yG"
   },
   "source": [
    "### 损失函数"
   ]
  },
  {
   "cell_type": "code",
   "execution_count": 38,
   "metadata": {
    "ExecuteTime": {
     "end_time": "2024-08-05T08:06:27.234057200Z",
     "start_time": "2024-08-05T08:06:27.160089800Z"
    },
    "execution": {
     "iopub.execute_input": "2025-02-07T01:56:08.647899Z",
     "iopub.status.busy": "2025-02-07T01:56:08.647402Z",
     "iopub.status.idle": "2025-02-07T01:56:08.652556Z",
     "shell.execute_reply": "2025-02-07T01:56:08.651931Z",
     "shell.execute_reply.started": "2025-02-07T01:56:08.647863Z"
    },
    "id": "1xzahHANN4yG"
   },
   "outputs": [],
   "source": [
    "class CrossEntropyWithPadding:\n",
    "    def __init__(self, config):\n",
    "        self.label_smoothing = config[\"label_smoothing\"]\n",
    "\n",
    "    def __call__(self, logits, labels, padding_mask=None):\n",
    "        # logits.shape = [batch size, sequence length, num of classes]\n",
    "        # labels.shape = [batch size, sequence length]\n",
    "        # padding_mask.shape = [batch size, sequence length]\n",
    "        bs, seq_len, nc = logits.shape\n",
    "        loss = F.cross_entropy(logits.reshape(bs * seq_len, nc), labels.reshape(-1), reduce=False, label_smoothing=self.label_smoothing) #label_smoothing表示随机将一个类别的概率设置为0.1，使得模型更加关注其他类别\n",
    "        if padding_mask is None:\n",
    "            loss = loss.mean()\n",
    "        else:\n",
    "            padding_mask = 1 - padding_mask.reshape(-1) #将padding_mask reshape成一维张量，mask部分为0，非mask部分为1\n",
    "            loss = torch.mul(loss, padding_mask).sum() / padding_mask.sum()\n",
    "\n",
    "        return loss\n"
   ]
  },
  {
   "cell_type": "markdown",
   "metadata": {
    "id": "zuBC9KqFN4yG"
   },
   "source": [
    "### 学习率衰减"
   ]
  },
  {
   "cell_type": "code",
   "execution_count": 39,
   "metadata": {
    "ExecuteTime": {
     "end_time": "2024-08-05T08:06:27.235056800Z",
     "start_time": "2024-08-05T08:06:27.160089800Z"
    },
    "collapsed": false,
    "execution": {
     "iopub.execute_input": "2025-02-07T01:56:08.653703Z",
     "iopub.status.busy": "2025-02-07T01:56:08.653300Z",
     "iopub.status.idle": "2025-02-07T01:56:08.772558Z",
     "shell.execute_reply": "2025-02-07T01:56:08.771924Z",
     "shell.execute_reply.started": "2025-02-07T01:56:08.653672Z"
    },
    "jupyter": {
     "outputs_hidden": false
    }
   },
   "outputs": [
    {
     "data": {
      "text/plain": [
       "[<matplotlib.lines.Line2D at 0x7f08b5ac7190>]"
      ]
     },
     "execution_count": 39,
     "metadata": {},
     "output_type": "execute_result"
    },
    {
     "data": {
      "image/png": "[encoded data removed]",
      "text/plain": [
       "<Figure size 640x480 with 1 Axes>"
      ]
     },
     "metadata": {},
     "output_type": "display_data"
    }
   ],
   "source": [
    "x=np.arange(1, 40000)\n",
    "plt.plot(x, x * (4000 ** (-1.5)))"
   ]
  },
  {
   "cell_type": "code",
   "execution_count": 40,
   "metadata": {
    "ExecuteTime": {
     "end_time": "2024-08-05T08:06:27.235056800Z",
     "start_time": "2024-08-05T08:06:27.161089200Z"
    },
    "collapsed": false,
    "execution": {
     "iopub.execute_input": "2025-02-07T01:56:08.773877Z",
     "iopub.status.busy": "2025-02-07T01:56:08.773362Z",
     "iopub.status.idle": "2025-02-07T01:56:08.778137Z",
     "shell.execute_reply": "2025-02-07T01:56:08.777595Z",
     "shell.execute_reply.started": "2025-02-07T01:56:08.773842Z"
    },
    "jupyter": {
     "outputs_hidden": false
    }
   },
   "outputs": [
    {
     "data": {
      "text/plain": [
       "22.627416997969522"
      ]
     },
     "execution_count": 40,
     "metadata": {},
     "output_type": "execute_result"
    }
   ],
   "source": [
    "np.sqrt(512)"
   ]
  },
  {
   "cell_type": "code",
   "execution_count": 41,
   "metadata": {
    "ExecuteTime": {
     "end_time": "2024-08-05T08:06:27.235056800Z",
     "start_time": "2024-08-05T08:06:27.161089200Z"
    },
    "colab": {
     "base_uri": "https://localhost:8080/",
     "height": 449
    },
    "execution": {
     "iopub.execute_input": "2025-02-07T01:56:08.779261Z",
     "iopub.status.busy": "2025-02-07T01:56:08.778797Z",
     "iopub.status.idle": "2025-02-07T01:56:08.882678Z",
     "shell.execute_reply": "2025-02-07T01:56:08.882057Z",
     "shell.execute_reply.started": "2025-02-07T01:56:08.779229Z"
    },
    "id": "UQPiKK4nN4yG",
    "outputId": "63cfb132-ef75-4f94-f0c8-86a2f36e09c2"
   },
   "outputs": [
    {
     "data": {
      "image/png": "[encoded data removed]",
      "text/plain": [
       "<Figure size 640x480 with 1 Axes>"
      ]
     },
     "metadata": {},
     "output_type": "display_data"
    }
   ],
   "source": [
    "# NoamDecayScheduler 是一个自定义或外部定义的学习率衰减调度器类。它需要接收配置 config 作为参数，可能实现了特定的学习率衰减方案\n",
    "class NoamDecayScheduler:\n",
    "    def __init__(self, config):\n",
    "        self.d_model = config[\"d_model\"]\n",
    "        self.warmup_steps = config[\"warmup_steps\"]\n",
    "\n",
    "    def __call__(self, step):\n",
    "        step += 1\n",
    "        arg1 = step ** (-0.5) #4000步之后是arg1\n",
    "        arg2 = step * (self.warmup_steps ** (-1.5))  #4000步之前是arg2\n",
    "\n",
    "        arg3 = self.d_model ** (-0.5)\n",
    "\n",
    "        return arg3 * np.minimum(arg1, arg2)\n",
    "\n",
    "\n",
    "temp_learning_rate_schedule = NoamDecayScheduler({\"d_model\": 512, \"warmup_steps\": 4000})\n",
    "#下面是学习率的设计图\n",
    "plt.plot(temp_learning_rate_schedule(np.arange(0, 40000)))\n",
    "plt.ylabel(\"Leraning rate\")\n",
    "plt.xlabel(\"Train step\")\n",
    "plt.show()\n"
   ]
  },
  {
   "cell_type": "markdown",
   "metadata": {
    "id": "XHj_EjzlN4yW"
   },
   "source": [
    "### 优化器"
   ]
  },
  {
   "cell_type": "code",
   "execution_count": 42,
   "metadata": {
    "ExecuteTime": {
     "end_time": "2024-08-05T08:06:27.240054200Z",
     "start_time": "2024-08-05T08:06:27.161089200Z"
    },
    "execution": {
     "iopub.execute_input": "2025-02-07T01:56:08.883983Z",
     "iopub.status.busy": "2025-02-07T01:56:08.883486Z",
     "iopub.status.idle": "2025-02-07T01:56:08.888258Z",
     "shell.execute_reply": "2025-02-07T01:56:08.887681Z",
     "shell.execute_reply.started": "2025-02-07T01:56:08.883948Z"
    },
    "id": "1EVLKx2rN4yW"
   },
   "outputs": [],
   "source": [
    "from torch.optim.lr_scheduler import LambdaLR\n",
    "from torch.optim import Adam\n",
    "\n",
    "def get_optimizer(model, config):\n",
    "    base_lr = 0.1\n",
    "    beta1 = config[\"beta1\"] # Adam 的 beta1\n",
    "    beta2 = config[\"beta2\"] # Adam 的 beta2\n",
    "    eps = config[\"eps\"]\n",
    "    optimizer = Adam(model.parameters(), lr=base_lr, betas=(beta1, beta2), eps=eps)\n",
    "    lr_scheduler = NoamDecayScheduler(config) #config是一个字典，包含了学习率衰减的参数\n",
    "    # 使用 LambdaLR 调度器，它可以根据给定的函数 lr_lambda 调整学习率。这里将 lr_scheduler 作为函数传递给 LambdaLR，它包含了特定于模型或任务的学习率调度规则\n",
    "    scheduler = LambdaLR(optimizer, lr_lambda=lr_scheduler)\n",
    "    return optimizer, scheduler"
   ]
  },
  {
   "cell_type": "markdown",
   "metadata": {
    "id": "JBhiO7O2N4yW"
   },
   "source": [
    "### Callback"
   ]
  },
  {
   "cell_type": "code",
   "execution_count": 43,
   "metadata": {
    "ExecuteTime": {
     "end_time": "2024-08-05T08:06:36.478359Z",
     "start_time": "2024-08-05T08:06:27.161089200Z"
    },
    "execution": {
     "iopub.execute_input": "2025-02-07T01:56:08.889474Z",
     "iopub.status.busy": "2025-02-07T01:56:08.888966Z",
     "iopub.status.idle": "2025-02-07T01:56:12.942222Z",
     "shell.execute_reply": "2025-02-07T01:56:12.941683Z",
     "shell.execute_reply.started": "2025-02-07T01:56:08.889452Z"
    },
    "id": "rWFMJwBkN4yX"
   },
   "outputs": [
    {
     "name": "stderr",
     "output_type": "stream",
     "text": [
      "2025-02-07 09:56:09.686903: I tensorflow/core/util/port.cc:153] oneDNN custom operations are on. You may see slightly different numerical results due to floating-point round-off errors from different computation orders. To turn them off, set the environment variable `TF_ENABLE_ONEDNN_OPTS=0`.\n",
      "2025-02-07 09:56:10.059779: E external/local_xla/xla/stream_executor/cuda/cuda_fft.cc:477] Unable to register cuFFT factory: Attempting to register factory for plugin cuFFT when one has already been registered\n",
      "WARNING: All log messages before absl::InitializeLog() is called are written to STDERR\n",
      "E0000 00:00:1738893370.194164     335 cuda_dnn.cc:8310] Unable to register cuDNN factory: Attempting to register factory for plugin cuDNN when one has already been registered\n",
      "E0000 00:00:1738893370.232629     335 cuda_blas.cc:1418] Unable to register cuBLAS factory: Attempting to register factory for plugin cuBLAS when one has already been registered\n",
      "2025-02-07 09:56:10.572217: I tensorflow/core/platform/cpu_feature_guard.cc:210] This TensorFlow binary is optimized to use available CPU instructions in performance-critical operations.\n",
      "To enable the following instructions: AVX2 AVX512F AVX512_VNNI FMA, in other operations, rebuild TensorFlow with the appropriate compiler flags.\n"
     ]
    }
   ],
   "source": [
    "from torch.utils.tensorboard import SummaryWriter\n",
    "\n",
    "\n",
    "class TensorBoardCallback:\n",
    "    def __init__(self, log_dir, flush_secs=10):\n",
    "        \"\"\"\n",
    "        Args:\n",
    "            log_dir (str): dir to write log.\n",
    "            flush_secs (int, optional): write to dsk each flush_secs seconds. Defaults to 10.\n",
    "        \"\"\"\n",
    "        self.writer = SummaryWriter(log_dir=log_dir, flush_secs=flush_secs)\n",
    "\n",
    "    def draw_model(self, model, input_shape):\n",
    "        self.writer.add_graph(model, input_to_model=torch.randn(input_shape))\n",
    "\n",
    "    def add_loss_scalars(self, step, loss, val_loss):\n",
    "        self.writer.add_scalars(\n",
    "            main_tag=\"training/loss\",\n",
    "            tag_scalar_dict={\"loss\": loss, \"val_loss\": val_loss},\n",
    "            global_step=step,\n",
    "            )\n",
    "\n",
    "    def add_acc_scalars(self, step, acc, val_acc):\n",
    "        self.writer.add_scalars(\n",
    "            main_tag=\"training/accuracy\",\n",
    "            tag_scalar_dict={\"accuracy\": acc, \"val_accuracy\": val_acc},\n",
    "            global_step=step,\n",
    "        )\n",
    "\n",
    "    def add_lr_scalars(self, step, learning_rate):\n",
    "        self.writer.add_scalars(\n",
    "            main_tag=\"training/learning_rate\",\n",
    "            tag_scalar_dict={\"learning_rate\": learning_rate},\n",
    "            global_step=step,\n",
    "\n",
    "        )\n",
    "\n",
    "    def __call__(self, step, **kwargs):\n",
    "        # add loss\n",
    "        loss = kwargs.pop(\"loss\", None)\n",
    "        val_loss = kwargs.pop(\"val_loss\", None)\n",
    "        if loss is not None and val_loss is not None:\n",
    "            self.add_loss_scalars(step, loss, val_loss)\n",
    "        # add acc\n",
    "        acc = kwargs.pop(\"acc\", None)\n",
    "        val_acc = kwargs.pop(\"val_acc\", None)\n",
    "        if acc is not None and val_acc is not None:\n",
    "            self.add_acc_scalars(step, acc, val_acc)\n",
    "        # add lr\n",
    "        learning_rate = kwargs.pop(\"lr\", None)\n",
    "        if learning_rate is not None:\n",
    "            self.add_lr_scalars(step, learning_rate)\n"
   ]
  },
  {
   "cell_type": "code",
   "execution_count": 44,
   "metadata": {
    "ExecuteTime": {
     "end_time": "2024-08-05T08:06:36.486389200Z",
     "start_time": "2024-08-05T08:06:36.483880700Z"
    },
    "execution": {
     "iopub.execute_input": "2025-02-07T01:56:12.943481Z",
     "iopub.status.busy": "2025-02-07T01:56:12.942851Z",
     "iopub.status.idle": "2025-02-07T01:56:12.948402Z",
     "shell.execute_reply": "2025-02-07T01:56:12.947942Z",
     "shell.execute_reply.started": "2025-02-07T01:56:12.943456Z"
    },
    "id": "64y_NBHMN4yX"
   },
   "outputs": [],
   "source": [
    "class SaveCheckpointsCallback:\n",
    "    def __init__(self, save_dir, save_step=5000, save_best_only=True):\n",
    "        \"\"\"\n",
    "        Save checkpoints each save_epoch epoch.\n",
    "        We save checkpoint by epoch in this implementation.\n",
    "        Usually, training scripts with pytorch evaluating model and save checkpoint by step.\n",
    "\n",
    "        Args:\n",
    "            save_dir (str): dir to save checkpoint\n",
    "            save_epoch (int, optional): the frequency to save checkpoint. Defaults to 1.\n",
    "            save_best_only (bool, optional): If True, only save the best model or save each model at every epoch.\n",
    "        \"\"\"\n",
    "        self.save_dir = save_dir\n",
    "        self.save_step = save_step\n",
    "        self.save_best_only = save_best_only\n",
    "        self.best_metrics = - np.inf\n",
    "\n",
    "        # mkdir\n",
    "        if not os.path.exists(self.save_dir):\n",
    "            os.mkdir(self.save_dir)\n",
    "\n",
    "    def __call__(self, step, state_dict, metric=None):\n",
    "        if step % self.save_step > 0:\n",
    "            return\n",
    "\n",
    "        if self.save_best_only:\n",
    "            assert metric is not None\n",
    "            if metric >= self.best_metrics:\n",
    "                # save checkpoints\n",
    "                torch.save(state_dict, os.path.join(self.save_dir, \"best.ckpt\"))\n",
    "                # update best metrics\n",
    "                self.best_metrics = metric\n",
    "        else:\n",
    "            torch.save(state_dict, os.path.join(self.save_dir, f\"{step}.ckpt\"))\n",
    "\n"
   ]
  },
  {
   "cell_type": "code",
   "execution_count": 45,
   "metadata": {
    "ExecuteTime": {
     "end_time": "2024-08-05T08:06:36.523266500Z",
     "start_time": "2024-08-05T08:06:36.494383100Z"
    },
    "execution": {
     "iopub.execute_input": "2025-02-07T01:56:12.949237Z",
     "iopub.status.busy": "2025-02-07T01:56:12.949064Z",
     "iopub.status.idle": "2025-02-07T01:56:12.953542Z",
     "shell.execute_reply": "2025-02-07T01:56:12.953098Z",
     "shell.execute_reply.started": "2025-02-07T01:56:12.949218Z"
    },
    "id": "Uk4PEb70N4yX"
   },
   "outputs": [],
   "source": [
    "class EarlyStopCallback:\n",
    "    def __init__(self, patience=5, min_delta=0.01):\n",
    "        \"\"\"\n",
    "\n",
    "        Args:\n",
    "            patience (int, optional): Number of epochs with no improvement after which training will be stopped.. Defaults to 5.\n",
    "            min_delta (float, optional): Minimum change in the monitored quantity to qualify as an improvement, i.e. an absolute\n",
    "                change of less than min_delta, will count as no improvement. Defaults to 0.01.\n",
    "        \"\"\"\n",
    "        self.patience = patience\n",
    "        self.min_delta = min_delta\n",
    "        self.best_metric = - np.inf\n",
    "        self.counter = 0\n",
    "\n",
    "    def __call__(self, metric):\n",
    "        if metric >= self.best_metric + self.min_delta:\n",
    "            # update best metric\n",
    "            self.best_metric = metric\n",
    "            # reset counter\n",
    "            self.counter = 0\n",
    "        else:\n",
    "            self.counter += 1\n",
    "\n",
    "    @property\n",
    "    def early_stop(self):\n",
    "        return self.counter >= self.patience\n"
   ]
  },
  {
   "cell_type": "markdown",
   "metadata": {
    "id": "_AB84Qx1N4yX"
   },
   "source": [
    "### training & valuating"
   ]
  },
  {
   "cell_type": "code",
   "execution_count": 46,
   "metadata": {
    "ExecuteTime": {
     "end_time": "2024-08-05T08:06:36.525265400Z",
     "start_time": "2024-08-05T08:06:36.503642Z"
    },
    "execution": {
     "iopub.execute_input": "2025-02-07T01:56:12.954230Z",
     "iopub.status.busy": "2025-02-07T01:56:12.954063Z",
     "iopub.status.idle": "2025-02-07T01:56:12.958323Z",
     "shell.execute_reply": "2025-02-07T01:56:12.957794Z",
     "shell.execute_reply.started": "2025-02-07T01:56:12.954211Z"
    },
    "id": "1mKPSFkON4yX"
   },
   "outputs": [],
   "source": [
    "@torch.no_grad()\n",
    "def evaluating(model, dataloader, loss_fct):\n",
    "    loss_list = []\n",
    "    for batch in dataloader:\n",
    "        encoder_inputs = batch[\"encoder_inputs\"]\n",
    "        encoder_inputs_mask = batch[\"encoder_inputs_mask\"]\n",
    "        decoder_inputs = batch[\"decoder_inputs\"]\n",
    "        decoder_labels = batch[\"decoder_labels\"]\n",
    "        decoder_labels_mask = batch[\"decoder_labels_mask\"]\n",
    "\n",
    "        # 前向计算\n",
    "        outputs = model(\n",
    "            encoder_inputs=encoder_inputs,\n",
    "            decoder_inputs=decoder_inputs,\n",
    "            encoder_inputs_mask=encoder_inputs_mask\n",
    "            )\n",
    "        logits = outputs.logits\n",
    "        loss = loss_fct(logits, decoder_labels, padding_mask=decoder_labels_mask)         # 验证集损失\n",
    "        loss_list.append(loss.cpu().item())\n",
    "\n",
    "    return np.mean(loss_list)\n"
   ]
  },
  {
   "cell_type": "code",
   "execution_count": 47,
   "metadata": {
    "ExecuteTime": {
     "end_time": "2024-08-05T08:06:36.549252Z",
     "start_time": "2024-08-05T08:06:36.514271Z"
    },
    "execution": {
     "iopub.execute_input": "2025-02-07T01:56:12.959128Z",
     "iopub.status.busy": "2025-02-07T01:56:12.958904Z",
     "iopub.status.idle": "2025-02-07T01:56:12.967665Z",
     "shell.execute_reply": "2025-02-07T01:56:12.967220Z",
     "shell.execute_reply.started": "2025-02-07T01:56:12.959109Z"
    },
    "id": "PClBmtgWN4yY"
   },
   "outputs": [],
   "source": [
    "# 训练\n",
    "def training(\n",
    "    model,\n",
    "    train_loader,\n",
    "    val_loader,\n",
    "    epoch,\n",
    "    loss_fct,\n",
    "    optimizer,\n",
    "    scheduler=None,\n",
    "    tensorboard_callback=None,\n",
    "    save_ckpt_callback=None,\n",
    "    early_stop_callback=None,\n",
    "    eval_step=500,\n",
    "    ):\n",
    "    record_dict = {\n",
    "        \"train\": [],\n",
    "        \"val\": []\n",
    "    }\n",
    "\n",
    "    global_step = 1\n",
    "    model.train()\n",
    "    with tqdm(total=epoch * len(train_loader)) as pbar:\n",
    "        for epoch_id in range(epoch):\n",
    "            # training\n",
    "            for batch in train_loader:\n",
    "                encoder_inputs = batch[\"encoder_inputs\"]\n",
    "                encoder_inputs_mask = batch[\"encoder_inputs_mask\"]\n",
    "                decoder_inputs = batch[\"decoder_inputs\"]\n",
    "                decoder_labels = batch[\"decoder_labels\"]\n",
    "                decoder_labels_mask = batch[\"decoder_labels_mask\"]\n",
    "                # 梯度清空\n",
    "                optimizer.zero_grad()\n",
    "\n",
    "                # 前向计算\n",
    "                outputs = model(\n",
    "                    encoder_inputs=encoder_inputs,\n",
    "                    decoder_inputs=decoder_inputs,\n",
    "                    encoder_inputs_mask=encoder_inputs_mask\n",
    "                    )\n",
    "                logits = outputs.logits\n",
    "                loss = loss_fct(logits, decoder_labels, padding_mask=decoder_labels_mask)\n",
    "\n",
    "                # 梯度回传\n",
    "                loss.backward()\n",
    "\n",
    "                # 调整优化器，包括学习率的变动等\n",
    "                optimizer.step()\n",
    "                if scheduler is not None:\n",
    "                    scheduler.step() # 更新学习率\n",
    "\n",
    "                loss = loss.cpu().item()\n",
    "                # record\n",
    "                record_dict[\"train\"].append({\n",
    "                    \"loss\": loss, \"step\": global_step\n",
    "                })\n",
    "\n",
    "                # evaluating\n",
    "                if global_step % eval_step == 0:\n",
    "                    model.eval()\n",
    "                    val_loss = evaluating(model, val_loader, loss_fct)\n",
    "                    record_dict[\"val\"].append({\n",
    "                        \"loss\": val_loss, \"step\": global_step\n",
    "                    })\n",
    "                    model.train()\n",
    "\n",
    "                    # 1. 使用 tensorboard 可视化\n",
    "                    cur_lr = optimizer.param_groups[0][\"lr\"] if scheduler is None else scheduler.get_last_lr()[0]\n",
    "                    if tensorboard_callback is not None:\n",
    "                        tensorboard_callback(\n",
    "                            global_step,\n",
    "                            loss=loss, val_loss=val_loss,\n",
    "                            lr=cur_lr,\n",
    "                            )\n",
    "\n",
    "                    # 2. 保存模型权重 save model checkpoint\n",
    "                    if save_ckpt_callback is not None:\n",
    "                        save_ckpt_callback(global_step, model.state_dict(), metric=-val_loss)\n",
    "\n",
    "                    # 3. 早停 Early Stop\n",
    "                    if early_stop_callback is not None:\n",
    "                        early_stop_callback(-val_loss)\n",
    "                        if early_stop_callback.early_stop:\n",
    "                            print(f\"Early stop at epoch {epoch_id} / global_step {global_step}\")\n",
    "                            return record_dict\n",
    "\n",
    "                # udate step\n",
    "                global_step += 1\n",
    "                pbar.update(1)\n",
    "            pbar.set_postfix({\"epoch\": epoch_id, \"loss\": loss, \"val_loss\": val_loss})\n",
    "\n",
    "    return record_dict\n"
   ]
  },
  {
   "cell_type": "code",
   "execution_count": 48,
   "metadata": {
    "ExecuteTime": {
     "end_time": "2024-08-05T08:06:36.628920Z",
     "start_time": "2024-08-05T08:06:36.541257800Z"
    },
    "colab": {
     "base_uri": "https://localhost:8080/"
    },
    "execution": {
     "iopub.execute_input": "2025-02-07T01:56:12.968492Z",
     "iopub.status.busy": "2025-02-07T01:56:12.968292Z",
     "iopub.status.idle": "2025-02-07T01:56:13.241286Z",
     "shell.execute_reply": "2025-02-07T01:56:13.240767Z",
     "shell.execute_reply.started": "2025-02-07T01:56:12.968472Z"
    },
    "id": "khZqMS8pN4yY",
    "outputId": "2367a363-585b-4321-f7ea-cb11d9623008"
   },
   "outputs": [
    {
     "name": "stdout",
     "output_type": "stream",
     "text": [
      "load train dataset from wmt16/.cache/de2en_train_128.npy\n",
      "load val dataset from wmt16/.cache/de2en_val_128.npy\n"
     ]
    }
   ],
   "source": [
    "#模型的超参\n",
    "config = {\n",
    "    \"bos_idx\": 1,\n",
    "    \"eos_idx\": 3,\n",
    "    \"pad_idx\": 0,\n",
    "    \"vocab_size\": len(word2idx),\n",
    "    \"max_length\": 128,\n",
    "    \"d_model\": 512,\n",
    "    \"dim_feedforward\": 2048, # FFN 的隐藏层大小\n",
    "    \"dropout\": 0.1,\n",
    "    \"layer_norm_eps\": 1e-6, # 层归一化的 epsilon, 防止除零错误\n",
    "    \"num_heads\": 8,\n",
    "    \"num_decoder_layers\": 6,\n",
    "    \"num_encoder_layers\": 6,\n",
    "    \"label_smoothing\": 0.1,\n",
    "    \"beta1\": 0.9, # Adam 的 beta1\n",
    "    \"beta2\": 0.98,\n",
    "    \"eps\": 1e-9,\n",
    "    \"warmup_steps\": 4_000,\n",
    "    \"share_embedding\": False, # 是否共享词向量\n",
    "    }\n",
    "\n",
    "\n",
    "def get_dl(dataset, batch_size, shuffle=True):\n",
    "    sampler = TransformerBatchSampler(dataset, batch_size=batch_size, shuffle_batch=shuffle)\n",
    "    sample_dl = DataLoader(dataset, batch_sampler=sampler, collate_fn=partial(collate_fct, tokenizer=tokenizer))\n",
    "    return sample_dl\n",
    "\n",
    "# dataset\n",
    "train_ds = LangPairDataset(\"train\", max_length=config[\"max_length\"])\n",
    "val_ds = LangPairDataset(\"val\", max_length=config[\"max_length\"])\n",
    "# tokenizer\n",
    "tokenizer = Tokenizer(word2idx=word2idx, idx2word=idx2word, max_length=config[\"max_length\"])\n",
    "batch_size = 2048\n",
    "# dataloader\n",
    "train_dl = get_dl(train_ds, batch_size=batch_size, shuffle=True)\n",
    "val_dl = get_dl(val_ds, batch_size=batch_size, shuffle=False)"
   ]
  },
  {
   "cell_type": "code",
   "execution_count": 49,
   "metadata": {
    "ExecuteTime": {
     "end_time": "2024-08-05T08:52:53.233851300Z",
     "start_time": "2024-08-05T08:52:51.458743700Z"
    },
    "collapsed": false,
    "execution": {
     "iopub.execute_input": "2025-02-07T01:56:13.242273Z",
     "iopub.status.busy": "2025-02-07T01:56:13.241883Z",
     "iopub.status.idle": "2025-02-07T01:56:14.200909Z",
     "shell.execute_reply": "2025-02-07T01:56:14.200142Z",
     "shell.execute_reply.started": "2025-02-07T01:56:13.242252Z"
    },
    "jupyter": {
     "outputs_hidden": false
    }
   },
   "outputs": [
    {
     "name": "stdout",
     "output_type": "stream",
     "text": [
      "模型参数量: 71938239\n"
     ]
    }
   ],
   "source": [
    "#计算模型参数量\n",
    "model = TransformerModel(config)\n",
    "print(f\"模型参数量: {sum(p.numel() for p in model.parameters() if p.requires_grad)}\")"
   ]
  },
  {
   "cell_type": "code",
   "execution_count": 50,
   "metadata": {
    "ExecuteTime": {
     "end_time": "2024-05-07T08:52:38.372364400Z",
     "start_time": "2024-05-07T08:52:38.191467100Z"
    },
    "colab": {
     "base_uri": "https://localhost:8080/"
    },
    "execution": {
     "iopub.execute_input": "2025-02-07T01:56:14.202260Z",
     "iopub.status.busy": "2025-02-07T01:56:14.201709Z",
     "iopub.status.idle": "2025-02-07T01:56:14.206872Z",
     "shell.execute_reply": "2025-02-07T01:56:14.206216Z",
     "shell.execute_reply.started": "2025-02-07T01:56:14.202225Z"
    },
    "id": "63slV04gWLn8",
    "outputId": "5c5ede03-0f6f-48d5-a177-d961886ec340"
   },
   "outputs": [
    {
     "data": {
      "text/plain": [
       "{'bos_idx': 1,\n",
       " 'eos_idx': 3,\n",
       " 'pad_idx': 0,\n",
       " 'vocab_size': 18111,\n",
       " 'max_length': 128,\n",
       " 'd_model': 512,\n",
       " 'dim_feedforward': 2048,\n",
       " 'dropout': 0.1,\n",
       " 'layer_norm_eps': 1e-06,\n",
       " 'num_heads': 8,\n",
       " 'num_decoder_layers': 6,\n",
       " 'num_encoder_layers': 6,\n",
       " 'label_smoothing': 0.1,\n",
       " 'beta1': 0.9,\n",
       " 'beta2': 0.98,\n",
       " 'eps': 1e-09,\n",
       " 'warmup_steps': 4000,\n",
       " 'share_embedding': False}"
      ]
     },
     "execution_count": 50,
     "metadata": {},
     "output_type": "execute_result"
    }
   ],
   "source": [
    "config"
   ]
  },
  {
   "cell_type": "code",
   "execution_count": 64,
   "metadata": {
    "ExecutionIndicator": {
     "show": true
    },
    "colab": {
     "base_uri": "https://localhost:8080/",
     "height": 49,
     "referenced_widgets": [
      "55146ac7395840dca847e0f63aa80561",
      "abb9bc76c0ce4634bd340be20c074b8c",
      "a89d790df59245fcaf26335d4903c9b4",
      "f837255914194dc792cf1514dee03dc5",
      "46a51a1719d8444eb5877720253d3c37",
      "013d2a6b90144432bbfb15136235faba",
      "2b82e42c34804b13bc83be4c7009d4e2",
      "9233439bdd6746c28ad4a20ef47799f6",
      "0e10428326bc436e8dbc079e89570bde",
      "0fe4ed7283c04496affe727c235d31c4",
      "0c0c7229347b49ffbb9a0f7bd41199b9"
     ]
    },
    "execution": {
     "iopub.execute_input": "2025-02-07T02:49:20.446054Z",
     "iopub.status.busy": "2025-02-07T02:49:20.445690Z",
     "iopub.status.idle": "2025-02-07T02:49:21.434498Z",
     "shell.execute_reply": "2025-02-07T02:49:21.433963Z",
     "shell.execute_reply.started": "2025-02-07T02:49:20.446030Z"
    },
    "id": "tVO2zJ04N4yY",
    "outputId": "7d4079f5-65d4-4da1-9001-91aa5525250e",
    "tags": []
   },
   "outputs": [],
   "source": [
    "epoch = 100\n",
    "\n",
    "# model\n",
    "model = TransformerModel(config)\n",
    "# 1. 定义损失函数 采用交叉熵损失\n",
    "loss_fct = CrossEntropyWithPadding(config)\n",
    "# 2. 定义优化器 采用 adam\n",
    "# Optimizers specified in the torch.optim package\n",
    "optimizer, scheduler = get_optimizer(model, config)\n",
    "\n",
    "# 1. tensorboard 可视化\n",
    "if not os.path.exists(\"runs\"):\n",
    "    os.mkdir(\"runs\")\n",
    "exp_name = \"translate-transformer-{}\".format(\"share\" if config[\"share_embedding\"] else \"not-share\")\n",
    "tensorboard_callback = TensorBoardCallback(f\"runs/{exp_name}\")\n",
    "# tensorboard_callback.draw_model(model, [1, MAX_LENGTH])\n",
    "# 2. save best\n",
    "if not os.path.exists(\"checkpoints\"):\n",
    "    os.makedirs(\"checkpoints\")\n",
    "save_ckpt_callback = SaveCheckpointsCallback(\n",
    "    f\"checkpoints/{exp_name}\", save_step=500, save_best_only=True)\n",
    "# 3. early stop\n",
    "early_stop_callback = EarlyStopCallback(patience=10,min_delta=0.001)\n",
    "\n",
    "model = model.to(device)\n",
    "\n",
    "\n",
    "\n",
    "\n",
    "# We trained the base models for a total of 100,000 steps or 12 hours. For our big models,(described on the bottom line of table 3), step time was 1.0 seconds. The big models were trained for 300,000 steps (3.5 days)."
   ]
  },
  {
   "cell_type": "code",
   "execution_count": 65,
   "metadata": {
    "ExecutionIndicator": {
     "show": true
    },
    "execution": {
     "iopub.execute_input": "2025-02-07T02:49:24.167950Z",
     "iopub.status.busy": "2025-02-07T02:49:24.167589Z",
     "iopub.status.idle": "2025-02-07T03:13:38.444228Z",
     "shell.execute_reply": "2025-02-07T03:13:38.443708Z",
     "shell.execute_reply.started": "2025-02-07T02:49:24.167924Z"
    },
    "tags": []
   },
   "outputs": [
    {
     "name": "stderr",
     "output_type": "stream",
     "text": [
      " 35%|███▍      | 36499/105100 [24:14<45:33, 25.10it/s, epoch=33, loss=2.73, val_loss=3.45]  "
     ]
    },
    {
     "name": "stdout",
     "output_type": "stream",
     "text": [
      "Early stop at epoch 34 / global_step 36500\n"
     ]
    },
    {
     "name": "stderr",
     "output_type": "stream",
     "text": [
      "\n"
     ]
    }
   ],
   "source": [
    "record = training(\n",
    "    model,\n",
    "    train_dl,\n",
    "    val_dl,\n",
    "    epoch,\n",
    "    loss_fct,\n",
    "    optimizer,\n",
    "    scheduler,\n",
    "    tensorboard_callback=tensorboard_callback,\n",
    "    save_ckpt_callback=save_ckpt_callback,\n",
    "    early_stop_callback=early_stop_callback,\n",
    "    eval_step=500\n",
    "    )"
   ]
  },
  {
   "cell_type": "code",
   "execution_count": 66,
   "metadata": {
    "execution": {
     "iopub.execute_input": "2025-02-07T06:02:51.186708Z",
     "iopub.status.busy": "2025-02-07T06:02:51.186355Z",
     "iopub.status.idle": "2025-02-07T06:02:51.239182Z",
     "shell.execute_reply": "2025-02-07T06:02:51.238695Z",
     "shell.execute_reply.started": "2025-02-07T06:02:51.186685Z"
    },
    "tags": []
   },
   "outputs": [
    {
     "data": {
      "text/plain": [
       "{'train': [{'loss': 9.813298225402832, 'step': 1},\n",
       "  {'loss': 9.846790313720703, 'step': 2},\n",
       "  {'loss': 9.80693244934082, 'step': 3},\n",
       "  {'loss': 9.837906837463379, 'step': 4},\n",
       "  {'loss': 9.805830955505371, 'step': 5},\n",
       "  {'loss': 9.815483093261719, 'step': 6},\n",
       "  {'loss': 9.829819679260254, 'step': 7},\n",
       "  {'loss': 9.847330093383789, 'step': 8},\n",
       "  {'loss': 9.831949234008789, 'step': 9},\n",
       "  {'loss': 9.815035820007324, 'step': 10},\n",
       "  {'loss': 9.805778503417969, 'step': 11},\n",
       "  {'loss': 9.831337928771973, 'step': 12},\n",
       "  {'loss': 9.804222106933594, 'step': 13},\n",
       "  {'loss': 9.828509330749512, 'step': 14},\n",
       "  {'loss': 9.836542129516602, 'step': 15},\n",
       "  {'loss': 9.788138389587402, 'step': 16},\n",
       "  {'loss': 9.811850547790527, 'step': 17},\n",
       "  {'loss': 9.802845001220703, 'step': 18},\n",
       "  {'loss': 9.79996395111084, 'step': 19},\n",
       "  {'loss': 9.804767608642578, 'step': 20},\n",
       "  {'loss': 9.783594131469727, 'step': 21},\n",
       "  {'loss': 9.774408340454102, 'step': 22},\n",
       "  {'loss': 9.805024147033691, 'step': 23},\n",
       "  {'loss': 9.779841423034668, 'step': 24},\n",
       "  {'loss': 9.783570289611816, 'step': 25},\n",
       "  {'loss': 9.750850677490234, 'step': 26},\n",
       "  {'loss': 9.755263328552246, 'step': 27},\n",
       "  {'loss': 9.793989181518555, 'step': 28},\n",
       "  {'loss': 9.76324462890625, 'step': 29},\n",
       "  {'loss': 9.759079933166504, 'step': 30},\n",
       "  {'loss': 9.737630844116211, 'step': 31},\n",
       "  {'loss': 9.758098602294922, 'step': 32},\n",
       "  {'loss': 9.767976760864258, 'step': 33},\n",
       "  {'loss': 9.735939025878906, 'step': 34},\n",
       "  {'loss': 9.751228332519531, 'step': 35},\n",
       "  {'loss': 9.73042106628418, 'step': 36},\n",
       "  {'loss': 9.775464057922363, 'step': 37},\n",
       "  {'loss': 9.724288940429688, 'step': 38},\n",
       "  {'loss': 9.735692977905273, 'step': 39},\n",
       "  {'loss': 9.747160911560059, 'step': 40},\n",
       "  {'loss': 9.7296724319458, 'step': 41},\n",
       "  {'loss': 9.717476844787598, 'step': 42},\n",
       "  {'loss': 9.704133033752441, 'step': 43},\n",
       "  {'loss': 9.685352325439453, 'step': 44},\n",
       "  {'loss': 9.702113151550293, 'step': 45},\n",
       "  {'loss': 9.6748628616333, 'step': 46},\n",
       "  {'loss': 9.697487831115723, 'step': 47},\n",
       "  {'loss': 9.684391975402832, 'step': 48},\n",
       "  {'loss': 9.664401054382324, 'step': 49},\n",
       "  {'loss': 9.678911209106445, 'step': 50},\n",
       "  {'loss': 9.631369590759277, 'step': 51},\n",
       "  {'loss': 9.667637825012207, 'step': 52},\n",
       "  {'loss': 9.682175636291504, 'step': 53},\n",
       "  {'loss': 9.652381896972656, 'step': 54},\n",
       "  {'loss': 9.653122901916504, 'step': 55},\n",
       "  {'loss': 9.620031356811523, 'step': 56},\n",
       "  {'loss': 9.616650581359863, 'step': 57},\n",
       "  {'loss': 9.69540786743164, 'step': 58},\n",
       "  {'loss': 9.608072280883789, 'step': 59},\n",
       "  {'loss': 9.687943458557129, 'step': 60},\n",
       "  {'loss': 9.653789520263672, 'step': 61},\n",
       "  {'loss': 9.606343269348145, 'step': 62},\n",
       "  {'loss': 9.607882499694824, 'step': 63},\n",
       "  {'loss': 9.607304573059082, 'step': 64},\n",
       "  {'loss': 9.629454612731934, 'step': 65},\n",
       "  {'loss': 9.566946029663086, 'step': 66},\n",
       "  {'loss': 9.504725456237793, 'step': 67},\n",
       "  {'loss': 9.533309936523438, 'step': 68},\n",
       "  {'loss': 9.548696517944336, 'step': 69},\n",
       "  {'loss': 9.51410961151123, 'step': 70},\n",
       "  {'loss': 9.525331497192383, 'step': 71},\n",
       "  {'loss': 9.488323211669922, 'step': 72},\n",
       "  {'loss': 9.488691329956055, 'step': 73},\n",
       "  {'loss': 9.53537654876709, 'step': 74},\n",
       "  {'loss': 9.456440925598145, 'step': 75},\n",
       "  {'loss': 9.476346969604492, 'step': 76},\n",
       "  {'loss': 9.535514831542969, 'step': 77},\n",
       "  {'loss': 9.451395988464355, 'step': 78},\n",
       "  {'loss': 9.558493614196777, 'step': 79},\n",
       "  {'loss': 9.538569450378418, 'step': 80},\n",
       "  {'loss': 9.458621978759766, 'step': 81},\n",
       "  {'loss': 9.47622013092041, 'step': 82},\n",
       "  {'loss': 9.460701942443848, 'step': 83},\n",
       "  {'loss': 9.485766410827637, 'step': 84},\n",
       "  {'loss': 9.370020866394043, 'step': 85},\n",
       "  {'loss': 9.391406059265137, 'step': 86},\n",
       "  {'loss': 9.507101058959961, 'step': 87},\n",
       "  {'loss': 9.494454383850098, 'step': 88},\n",
       "  {'loss': 9.542218208312988, 'step': 89},\n",
       "  {'loss': 9.479737281799316, 'step': 90},\n",
       "  {'loss': 9.419239044189453, 'step': 91},\n",
       "  {'loss': 9.384112358093262, 'step': 92},\n",
       "  {'loss': 9.31325912475586, 'step': 93},\n",
       "  {'loss': 9.4627046585083, 'step': 94},\n",
       "  {'loss': 9.421420097351074, 'step': 95},\n",
       "  {'loss': 9.371665954589844, 'step': 96},\n",
       "  {'loss': 9.317673683166504, 'step': 97},\n",
       "  {'loss': 9.355690956115723, 'step': 98},\n",
       "  {'loss': 9.35610580444336, 'step': 99},\n",
       "  {'loss': 9.390294075012207, 'step': 100},\n",
       "  {'loss': 9.297452926635742, 'step': 101},\n",
       "  {'loss': 9.384299278259277, 'step': 102},\n",
       "  {'loss': 9.32016372680664, 'step': 103},\n",
       "  {'loss': 9.26982307434082, 'step': 104},\n",
       "  {'loss': 9.401479721069336, 'step': 105},\n",
       "  {'loss': 9.326569557189941, 'step': 106},\n",
       "  {'loss': 9.30661678314209, 'step': 107},\n",
       "  {'loss': 9.425943374633789, 'step': 108},\n",
       "  {'loss': 9.226667404174805, 'step': 109},\n",
       "  {'loss': 9.307618141174316, 'step': 110},\n",
       "  {'loss': 9.36096477508545, 'step': 111},\n",
       "  {'loss': 9.258698463439941, 'step': 112},\n",
       "  {'loss': 9.214056968688965, 'step': 113},\n",
       "  {'loss': 9.395184516906738, 'step': 114},\n",
       "  {'loss': 9.332368850708008, 'step': 115},\n",
       "  {'loss': 9.319520950317383, 'step': 116},\n",
       "  {'loss': 9.230656623840332, 'step': 117},\n",
       "  {'loss': 9.151555061340332, 'step': 118},\n",
       "  {'loss': 9.371703147888184, 'step': 119},\n",
       "  {'loss': 9.334643363952637, 'step': 120},\n",
       "  {'loss': 9.198238372802734, 'step': 121},\n",
       "  {'loss': 9.251315116882324, 'step': 122},\n",
       "  {'loss': 9.261496543884277, 'step': 123},\n",
       "  {'loss': 9.203520774841309, 'step': 124},\n",
       "  {'loss': 9.266937255859375, 'step': 125},\n",
       "  {'loss': 9.348097801208496, 'step': 126},\n",
       "  {'loss': 9.110244750976562, 'step': 127},\n",
       "  {'loss': 9.16830062866211, 'step': 128},\n",
       "  {'loss': 9.136307716369629, 'step': 129},\n",
       "  {'loss': 9.139228820800781, 'step': 130},\n",
       "  {'loss': 9.255719184875488, 'step': 131},\n",
       "  {'loss': 9.262752532958984, 'step': 132},\n",
       "  {'loss': 9.234654426574707, 'step': 133},\n",
       "  {'loss': 9.253469467163086, 'step': 134},\n",
       "  {'loss': 9.0347900390625, 'step': 135},\n",
       "  {'loss': 9.077967643737793, 'step': 136},\n",
       "  {'loss': 9.246343612670898, 'step': 137},\n",
       "  {'loss': 9.151588439941406, 'step': 138},\n",
       "  {'loss': 9.081583023071289, 'step': 139},\n",
       "  {'loss': 9.185919761657715, 'step': 140},\n",
       "  {'loss': 9.1660795211792, 'step': 141},\n",
       "  {'loss': 9.179585456848145, 'step': 142},\n",
       "  {'loss': 9.175172805786133, 'step': 143},\n",
       "  {'loss': 9.236414909362793, 'step': 144},\n",
       "  {'loss': 9.068989753723145, 'step': 145},\n",
       "  {'loss': 9.329622268676758, 'step': 146},\n",
       "  {'loss': 9.174052238464355, 'step': 147},\n",
       "  {'loss': 9.244436264038086, 'step': 148},\n",
       "  {'loss': 9.182446479797363, 'step': 149},\n",
       "  {'loss': 9.142840385437012, 'step': 150},\n",
       "  {'loss': 9.092390060424805, 'step': 151},\n",
       "  {'loss': 9.234553337097168, 'step': 152},\n",
       "  {'loss': 9.067996978759766, 'step': 153},\n",
       "  {'loss': 9.031980514526367, 'step': 154},\n",
       "  {'loss': 9.060093879699707, 'step': 155},\n",
       "  {'loss': 8.932888984680176, 'step': 156},\n",
       "  {'loss': 9.153532028198242, 'step': 157},\n",
       "  {'loss': 9.05926513671875, 'step': 158},\n",
       "  {'loss': 9.224553108215332, 'step': 159},\n",
       "  {'loss': 9.18912124633789, 'step': 160},\n",
       "  {'loss': 9.167593002319336, 'step': 161},\n",
       "  {'loss': 9.214043617248535, 'step': 162},\n",
       "  {'loss': 9.150691986083984, 'step': 163},\n",
       "  {'loss': 8.969974517822266, 'step': 164},\n",
       "  {'loss': 8.97407054901123, 'step': 165},\n",
       "  {'loss': 9.121438026428223, 'step': 166},\n",
       "  {'loss': 9.108227729797363, 'step': 167},\n",
       "  {'loss': 9.10708999633789, 'step': 168},\n",
       "  {'loss': 9.225590705871582, 'step': 169},\n",
       "  {'loss': 8.962899208068848, 'step': 170},\n",
       "  {'loss': 9.16063404083252, 'step': 171},\n",
       "  {'loss': 9.104692459106445, 'step': 172},\n",
       "  {'loss': 8.957292556762695, 'step': 173},\n",
       "  {'loss': 9.072291374206543, 'step': 174},\n",
       "  {'loss': 9.111528396606445, 'step': 175},\n",
       "  {'loss': 9.080506324768066, 'step': 176},\n",
       "  {'loss': 9.047221183776855, 'step': 177},\n",
       "  {'loss': 9.202398300170898, 'step': 178},\n",
       "  {'loss': 9.161787033081055, 'step': 179},\n",
       "  {'loss': 8.97637939453125, 'step': 180},\n",
       "  {'loss': 8.938814163208008, 'step': 181},\n",
       "  {'loss': 9.11227035522461, 'step': 182},\n",
       "  {'loss': 8.939773559570312, 'step': 183},\n",
       "  {'loss': 8.869439125061035, 'step': 184},\n",
       "  {'loss': 8.948938369750977, 'step': 185},\n",
       "  {'loss': 9.171072959899902, 'step': 186},\n",
       "  {'loss': 9.07176685333252, 'step': 187},\n",
       "  {'loss': 9.062028884887695, 'step': 188},\n",
       "  {'loss': 9.20743465423584, 'step': 189},\n",
       "  {'loss': 8.990849494934082, 'step': 190},\n",
       "  {'loss': 8.984764099121094, 'step': 191},\n",
       "  {'loss': 8.885552406311035, 'step': 192},\n",
       "  {'loss': 9.052433013916016, 'step': 193},\n",
       "  {'loss': 9.023622512817383, 'step': 194},\n",
       "  {'loss': 9.021456718444824, 'step': 195},\n",
       "  {'loss': 8.991665840148926, 'step': 196},\n",
       "  {'loss': 8.991002082824707, 'step': 197},\n",
       "  {'loss': 8.877195358276367, 'step': 198},\n",
       "  {'loss': 8.972742080688477, 'step': 199},\n",
       "  {'loss': 8.953932762145996, 'step': 200},\n",
       "  {'loss': 8.963726043701172, 'step': 201},\n",
       "  {'loss': 8.861419677734375, 'step': 202},\n",
       "  {'loss': 9.18039608001709, 'step': 203},\n",
       "  {'loss': 9.041153907775879, 'step': 204},\n",
       "  {'loss': 9.041091918945312, 'step': 205},\n",
       "  {'loss': 9.03514575958252, 'step': 206},\n",
       "  {'loss': 8.900933265686035, 'step': 207},\n",
       "  {'loss': 9.063471794128418, 'step': 208},\n",
       "  {'loss': 9.044939994812012, 'step': 209},\n",
       "  {'loss': 8.946651458740234, 'step': 210},\n",
       "  {'loss': 8.838788032531738, 'step': 211},\n",
       "  {'loss': 8.784708976745605, 'step': 212},\n",
       "  {'loss': 9.053291320800781, 'step': 213},\n",
       "  {'loss': 8.994462013244629, 'step': 214},\n",
       "  {'loss': 8.946216583251953, 'step': 215},\n",
       "  {'loss': 8.91368293762207, 'step': 216},\n",
       "  {'loss': 9.010361671447754, 'step': 217},\n",
       "  {'loss': 8.808658599853516, 'step': 218},\n",
       "  {'loss': 8.966407775878906, 'step': 219},\n",
       "  {'loss': 8.839692115783691, 'step': 220},\n",
       "  {'loss': 8.839009284973145, 'step': 221},\n",
       "  {'loss': 9.01939582824707, 'step': 222},\n",
       "  {'loss': 9.015803337097168, 'step': 223},\n",
       "  {'loss': 8.715110778808594, 'step': 224},\n",
       "  {'loss': 8.788336753845215, 'step': 225},\n",
       "  {'loss': 8.860254287719727, 'step': 226},\n",
       "  {'loss': 9.005743980407715, 'step': 227},\n",
       "  {'loss': 9.028616905212402, 'step': 228},\n",
       "  {'loss': 8.880093574523926, 'step': 229},\n",
       "  {'loss': 9.021961212158203, 'step': 230},\n",
       "  {'loss': 8.651981353759766, 'step': 231},\n",
       "  {'loss': 8.929232597351074, 'step': 232},\n",
       "  {'loss': 8.976031303405762, 'step': 233},\n",
       "  {'loss': 8.808722496032715, 'step': 234},\n",
       "  {'loss': 8.832366943359375, 'step': 235},\n",
       "  {'loss': 8.921568870544434, 'step': 236},\n",
       "  {'loss': 8.996048927307129, 'step': 237},\n",
       "  {'loss': 8.831059455871582, 'step': 238},\n",
       "  {'loss': 8.982064247131348, 'step': 239},\n",
       "  {'loss': 8.781103134155273, 'step': 240},\n",
       "  {'loss': 8.792298316955566, 'step': 241},\n",
       "  {'loss': 9.066349029541016, 'step': 242},\n",
       "  {'loss': 8.89188289642334, 'step': 243},\n",
       "  {'loss': 8.88785171508789, 'step': 244},\n",
       "  {'loss': 8.916605949401855, 'step': 245},\n",
       "  {'loss': 8.950520515441895, 'step': 246},\n",
       "  {'loss': 8.886033058166504, 'step': 247},\n",
       "  {'loss': 9.014211654663086, 'step': 248},\n",
       "  {'loss': 8.707903861999512, 'step': 249},\n",
       "  {'loss': 8.932785987854004, 'step': 250},\n",
       "  {'loss': 8.768165588378906, 'step': 251},\n",
       "  {'loss': 8.75196361541748, 'step': 252},\n",
       "  {'loss': 8.8831787109375, 'step': 253},\n",
       "  {'loss': 8.763893127441406, 'step': 254},\n",
       "  {'loss': 8.850852012634277, 'step': 255},\n",
       "  {'loss': 8.796339988708496, 'step': 256},\n",
       "  {'loss': 8.785299301147461, 'step': 257},\n",
       "  {'loss': 8.905158996582031, 'step': 258},\n",
       "  {'loss': 8.822150230407715, 'step': 259},\n",
       "  {'loss': 8.911623001098633, 'step': 260},\n",
       "  {'loss': 8.7716646194458, 'step': 261},\n",
       "  {'loss': 8.707110404968262, 'step': 262},\n",
       "  {'loss': 8.750627517700195, 'step': 263},\n",
       "  {'loss': 8.963709831237793, 'step': 264},\n",
       "  {'loss': 8.85325813293457, 'step': 265},\n",
       "  {'loss': 8.923229217529297, 'step': 266},\n",
       "  {'loss': 8.821447372436523, 'step': 267},\n",
       "  {'loss': 8.695228576660156, 'step': 268},\n",
       "  {'loss': 8.940834999084473, 'step': 269},\n",
       "  {'loss': 8.981943130493164, 'step': 270},\n",
       "  {'loss': 8.871824264526367, 'step': 271},\n",
       "  {'loss': 8.781439781188965, 'step': 272},\n",
       "  {'loss': 8.800148963928223, 'step': 273},\n",
       "  {'loss': 8.876420974731445, 'step': 274},\n",
       "  {'loss': 8.872306823730469, 'step': 275},\n",
       "  {'loss': 8.746548652648926, 'step': 276},\n",
       "  {'loss': 8.607351303100586, 'step': 277},\n",
       "  {'loss': 8.842741012573242, 'step': 278},\n",
       "  {'loss': 8.814263343811035, 'step': 279},\n",
       "  {'loss': 8.730738639831543, 'step': 280},\n",
       "  {'loss': 8.76352310180664, 'step': 281},\n",
       "  {'loss': 8.783010482788086, 'step': 282},\n",
       "  {'loss': 8.739629745483398, 'step': 283},\n",
       "  {'loss': 8.862480163574219, 'step': 284},\n",
       "  {'loss': 8.834729194641113, 'step': 285},\n",
       "  {'loss': 8.738127708435059, 'step': 286},\n",
       "  {'loss': 8.53289794921875, 'step': 287},\n",
       "  {'loss': 8.589681625366211, 'step': 288},\n",
       "  {'loss': 8.80439567565918, 'step': 289},\n",
       "  {'loss': 8.56955623626709, 'step': 290},\n",
       "  {'loss': 8.659159660339355, 'step': 291},\n",
       "  {'loss': 8.87216567993164, 'step': 292},\n",
       "  {'loss': 8.852065086364746, 'step': 293},\n",
       "  {'loss': 8.864052772521973, 'step': 294},\n",
       "  {'loss': 8.878767013549805, 'step': 295},\n",
       "  {'loss': 8.728959083557129, 'step': 296},\n",
       "  {'loss': 8.713821411132812, 'step': 297},\n",
       "  {'loss': 8.648340225219727, 'step': 298},\n",
       "  {'loss': 8.763789176940918, 'step': 299},\n",
       "  {'loss': 8.828783988952637, 'step': 300},\n",
       "  {'loss': 8.814336776733398, 'step': 301},\n",
       "  {'loss': 8.641138076782227, 'step': 302},\n",
       "  {'loss': 8.69596004486084, 'step': 303},\n",
       "  {'loss': 8.714531898498535, 'step': 304},\n",
       "  {'loss': 8.534069061279297, 'step': 305},\n",
       "  {'loss': 8.812735557556152, 'step': 306},\n",
       "  {'loss': 8.773838996887207, 'step': 307},\n",
       "  {'loss': 8.615514755249023, 'step': 308},\n",
       "  {'loss': 8.651385307312012, 'step': 309},\n",
       "  {'loss': 8.542707443237305, 'step': 310},\n",
       "  {'loss': 8.608368873596191, 'step': 311},\n",
       "  {'loss': 8.615422248840332, 'step': 312},\n",
       "  {'loss': 8.614117622375488, 'step': 313},\n",
       "  {'loss': 8.673869132995605, 'step': 314},\n",
       "  {'loss': 8.657171249389648, 'step': 315},\n",
       "  {'loss': 8.819626808166504, 'step': 316},\n",
       "  {'loss': 8.672447204589844, 'step': 317},\n",
       "  {'loss': 8.649385452270508, 'step': 318},\n",
       "  {'loss': 8.704434394836426, 'step': 319},\n",
       "  {'loss': 8.624900817871094, 'step': 320},\n",
       "  {'loss': 8.515588760375977, 'step': 321},\n",
       "  {'loss': 8.484025955200195, 'step': 322},\n",
       "  {'loss': 8.492536544799805, 'step': 323},\n",
       "  {'loss': 8.71715259552002, 'step': 324},\n",
       "  {'loss': 8.529121398925781, 'step': 325},\n",
       "  {'loss': 8.58369255065918, 'step': 326},\n",
       "  {'loss': 8.390117645263672, 'step': 327},\n",
       "  {'loss': 8.691899299621582, 'step': 328},\n",
       "  {'loss': 8.7028169631958, 'step': 329},\n",
       "  {'loss': 8.691194534301758, 'step': 330},\n",
       "  {'loss': 8.784505844116211, 'step': 331},\n",
       "  {'loss': 8.47523021697998, 'step': 332},\n",
       "  {'loss': 8.69316291809082, 'step': 333},\n",
       "  {'loss': 8.706575393676758, 'step': 334},\n",
       "  {'loss': 8.71676254272461, 'step': 335},\n",
       "  {'loss': 8.491972923278809, 'step': 336},\n",
       "  {'loss': 8.439501762390137, 'step': 337},\n",
       "  {'loss': 8.668197631835938, 'step': 338},\n",
       "  {'loss': 8.542356491088867, 'step': 339},\n",
       "  {'loss': 8.33072566986084, 'step': 340},\n",
       "  {'loss': 8.461228370666504, 'step': 341},\n",
       "  {'loss': 8.64993667602539, 'step': 342},\n",
       "  {'loss': 8.702380180358887, 'step': 343},\n",
       "  {'loss': 8.386880874633789, 'step': 344},\n",
       "  {'loss': 8.408082008361816, 'step': 345},\n",
       "  {'loss': 8.685554504394531, 'step': 346},\n",
       "  {'loss': 8.395565032958984, 'step': 347},\n",
       "  {'loss': 8.766148567199707, 'step': 348},\n",
       "  {'loss': 8.307760238647461, 'step': 349},\n",
       "  {'loss': 8.592992782592773, 'step': 350},\n",
       "  {'loss': 8.470973014831543, 'step': 351},\n",
       "  {'loss': 8.545461654663086, 'step': 352},\n",
       "  {'loss': 8.768662452697754, 'step': 353},\n",
       "  {'loss': 8.668107032775879, 'step': 354},\n",
       "  {'loss': 8.558161735534668, 'step': 355},\n",
       "  {'loss': 8.494169235229492, 'step': 356},\n",
       "  {'loss': 8.315774917602539, 'step': 357},\n",
       "  {'loss': 8.507614135742188, 'step': 358},\n",
       "  {'loss': 8.46921157836914, 'step': 359},\n",
       "  {'loss': 8.490914344787598, 'step': 360},\n",
       "  {'loss': 8.40661334991455, 'step': 361},\n",
       "  {'loss': 8.417440414428711, 'step': 362},\n",
       "  {'loss': 8.45458698272705, 'step': 363},\n",
       "  {'loss': 8.425622940063477, 'step': 364},\n",
       "  {'loss': 8.354659080505371, 'step': 365},\n",
       "  {'loss': 8.509692192077637, 'step': 366},\n",
       "  {'loss': 8.44338321685791, 'step': 367},\n",
       "  {'loss': 8.5762300491333, 'step': 368},\n",
       "  {'loss': 8.5166015625, 'step': 369},\n",
       "  {'loss': 8.504181861877441, 'step': 370},\n",
       "  {'loss': 8.471541404724121, 'step': 371},\n",
       "  {'loss': 8.671394348144531, 'step': 372},\n",
       "  {'loss': 8.409905433654785, 'step': 373},\n",
       "  {'loss': 8.5715913772583, 'step': 374},\n",
       "  {'loss': 8.507619857788086, 'step': 375},\n",
       "  {'loss': 8.36286735534668, 'step': 376},\n",
       "  {'loss': 8.266242980957031, 'step': 377},\n",
       "  {'loss': 8.455770492553711, 'step': 378},\n",
       "  {'loss': 8.225919723510742, 'step': 379},\n",
       "  {'loss': 8.482051849365234, 'step': 380},\n",
       "  {'loss': 8.190463066101074, 'step': 381},\n",
       "  {'loss': 8.47919750213623, 'step': 382},\n",
       "  {'loss': 8.521740913391113, 'step': 383},\n",
       "  {'loss': 8.38235092163086, 'step': 384},\n",
       "  {'loss': 8.461644172668457, 'step': 385},\n",
       "  {'loss': 8.28978157043457, 'step': 386},\n",
       "  {'loss': 8.349817276000977, 'step': 387},\n",
       "  {'loss': 8.474125862121582, 'step': 388},\n",
       "  {'loss': 8.51682186126709, 'step': 389},\n",
       "  {'loss': 8.200081825256348, 'step': 390},\n",
       "  {'loss': 8.451717376708984, 'step': 391},\n",
       "  {'loss': 8.17066764831543, 'step': 392},\n",
       "  {'loss': 8.549347877502441, 'step': 393},\n",
       "  {'loss': 8.335010528564453, 'step': 394},\n",
       "  {'loss': 8.219706535339355, 'step': 395},\n",
       "  {'loss': 8.066903114318848, 'step': 396},\n",
       "  {'loss': 8.04537582397461, 'step': 397},\n",
       "  {'loss': 8.203794479370117, 'step': 398},\n",
       "  {'loss': 8.57514762878418, 'step': 399},\n",
       "  {'loss': 8.284622192382812, 'step': 400},\n",
       "  {'loss': 8.377142906188965, 'step': 401},\n",
       "  {'loss': 8.478285789489746, 'step': 402},\n",
       "  {'loss': 8.420802116394043, 'step': 403},\n",
       "  {'loss': 8.135154724121094, 'step': 404},\n",
       "  {'loss': 8.578624725341797, 'step': 405},\n",
       "  {'loss': 8.407008171081543, 'step': 406},\n",
       "  {'loss': 8.157690048217773, 'step': 407},\n",
       "  {'loss': 8.336507797241211, 'step': 408},\n",
       "  {'loss': 8.282269477844238, 'step': 409},\n",
       "  {'loss': 8.21560001373291, 'step': 410},\n",
       "  {'loss': 8.30517864227295, 'step': 411},\n",
       "  {'loss': 8.450770378112793, 'step': 412},\n",
       "  {'loss': 8.285723686218262, 'step': 413},\n",
       "  {'loss': 8.24640941619873, 'step': 414},\n",
       "  {'loss': 8.21612548828125, 'step': 415},\n",
       "  {'loss': 8.219548225402832, 'step': 416},\n",
       "  {'loss': 8.067683219909668, 'step': 417},\n",
       "  {'loss': 7.980568885803223, 'step': 418},\n",
       "  {'loss': 8.215616226196289, 'step': 419},\n",
       "  {'loss': 8.28122329711914, 'step': 420},\n",
       "  {'loss': 8.315113067626953, 'step': 421},\n",
       "  {'loss': 8.249500274658203, 'step': 422},\n",
       "  {'loss': 8.186978340148926, 'step': 423},\n",
       "  {'loss': 8.1402587890625, 'step': 424},\n",
       "  {'loss': 8.004653930664062, 'step': 425},\n",
       "  {'loss': 8.269366264343262, 'step': 426},\n",
       "  {'loss': 8.239714622497559, 'step': 427},\n",
       "  {'loss': 7.839775562286377, 'step': 428},\n",
       "  {'loss': 8.409459114074707, 'step': 429},\n",
       "  {'loss': 7.98799467086792, 'step': 430},\n",
       "  {'loss': 8.453096389770508, 'step': 431},\n",
       "  {'loss': 8.272172927856445, 'step': 432},\n",
       "  {'loss': 8.134786605834961, 'step': 433},\n",
       "  {'loss': 8.30467700958252, 'step': 434},\n",
       "  {'loss': 8.032502174377441, 'step': 435},\n",
       "  {'loss': 8.198199272155762, 'step': 436},\n",
       "  {'loss': 8.432165145874023, 'step': 437},\n",
       "  {'loss': 8.138957023620605, 'step': 438},\n",
       "  {'loss': 8.22103214263916, 'step': 439},\n",
       "  {'loss': 8.342105865478516, 'step': 440},\n",
       "  {'loss': 8.07496166229248, 'step': 441},\n",
       "  {'loss': 8.261636734008789, 'step': 442},\n",
       "  {'loss': 8.41708755493164, 'step': 443},\n",
       "  {'loss': 7.95464563369751, 'step': 444},\n",
       "  {'loss': 7.957870006561279, 'step': 445},\n",
       "  {'loss': 8.24764633178711, 'step': 446},\n",
       "  {'loss': 8.175873756408691, 'step': 447},\n",
       "  {'loss': 7.8461079597473145, 'step': 448},\n",
       "  {'loss': 7.913748741149902, 'step': 449},\n",
       "  {'loss': 8.205344200134277, 'step': 450},\n",
       "  {'loss': 8.171066284179688, 'step': 451},\n",
       "  {'loss': 8.055935859680176, 'step': 452},\n",
       "  {'loss': 7.965878963470459, 'step': 453},\n",
       "  {'loss': 7.880166530609131, 'step': 454},\n",
       "  {'loss': 8.065640449523926, 'step': 455},\n",
       "  {'loss': 8.152470588684082, 'step': 456},\n",
       "  {'loss': 8.121927261352539, 'step': 457},\n",
       "  {'loss': 8.06931209564209, 'step': 458},\n",
       "  {'loss': 8.177896499633789, 'step': 459},\n",
       "  {'loss': 8.104480743408203, 'step': 460},\n",
       "  {'loss': 8.01014232635498, 'step': 461},\n",
       "  {'loss': 7.989908695220947, 'step': 462},\n",
       "  {'loss': 8.030570030212402, 'step': 463},\n",
       "  {'loss': 8.284953117370605, 'step': 464},\n",
       "  {'loss': 7.988795757293701, 'step': 465},\n",
       "  {'loss': 8.102368354797363, 'step': 466},\n",
       "  {'loss': 7.949760913848877, 'step': 467},\n",
       "  {'loss': 8.292322158813477, 'step': 468},\n",
       "  {'loss': 8.191726684570312, 'step': 469},\n",
       "  {'loss': 8.011307716369629, 'step': 470},\n",
       "  {'loss': 7.7781291007995605, 'step': 471},\n",
       "  {'loss': 7.817182540893555, 'step': 472},\n",
       "  {'loss': 7.995254993438721, 'step': 473},\n",
       "  {'loss': 7.993464946746826, 'step': 474},\n",
       "  {'loss': 8.08143424987793, 'step': 475},\n",
       "  {'loss': 7.998349666595459, 'step': 476},\n",
       "  {'loss': 7.917060375213623, 'step': 477},\n",
       "  {'loss': 8.117687225341797, 'step': 478},\n",
       "  {'loss': 8.021892547607422, 'step': 479},\n",
       "  {'loss': 8.099922180175781, 'step': 480},\n",
       "  {'loss': 8.042010307312012, 'step': 481},\n",
       "  {'loss': 8.172957420349121, 'step': 482},\n",
       "  {'loss': 7.96017599105835, 'step': 483},\n",
       "  {'loss': 7.70787239074707, 'step': 484},\n",
       "  {'loss': 8.201515197753906, 'step': 485},\n",
       "  {'loss': 7.842191696166992, 'step': 486},\n",
       "  {'loss': 7.78064489364624, 'step': 487},\n",
       "  {'loss': 7.867020130157471, 'step': 488},\n",
       "  {'loss': 8.06718635559082, 'step': 489},\n",
       "  {'loss': 8.0533447265625, 'step': 490},\n",
       "  {'loss': 7.684892177581787, 'step': 491},\n",
       "  {'loss': 8.162835121154785, 'step': 492},\n",
       "  {'loss': 8.076653480529785, 'step': 493},\n",
       "  {'loss': 8.142511367797852, 'step': 494},\n",
       "  {'loss': 7.777437686920166, 'step': 495},\n",
       "  {'loss': 7.925722599029541, 'step': 496},\n",
       "  {'loss': 7.9661431312561035, 'step': 497},\n",
       "  {'loss': 7.672471523284912, 'step': 498},\n",
       "  {'loss': 7.97953462600708, 'step': 499},\n",
       "  {'loss': 8.0437650680542, 'step': 500},\n",
       "  {'loss': 7.814539432525635, 'step': 501},\n",
       "  {'loss': 8.242460250854492, 'step': 502},\n",
       "  {'loss': 8.071505546569824, 'step': 503},\n",
       "  {'loss': 8.02638053894043, 'step': 504},\n",
       "  {'loss': 7.638030052185059, 'step': 505},\n",
       "  {'loss': 7.990909576416016, 'step': 506},\n",
       "  {'loss': 7.6599907875061035, 'step': 507},\n",
       "  {'loss': 8.167756080627441, 'step': 508},\n",
       "  {'loss': 7.5305585861206055, 'step': 509},\n",
       "  {'loss': 7.80040168762207, 'step': 510},\n",
       "  {'loss': 7.665104389190674, 'step': 511},\n",
       "  {'loss': 7.535131454467773, 'step': 512},\n",
       "  {'loss': 7.814451694488525, 'step': 513},\n",
       "  {'loss': 8.01176643371582, 'step': 514},\n",
       "  {'loss': 8.010334968566895, 'step': 515},\n",
       "  {'loss': 7.775489807128906, 'step': 516},\n",
       "  {'loss': 8.125667572021484, 'step': 517},\n",
       "  {'loss': 8.067570686340332, 'step': 518},\n",
       "  {'loss': 7.604643821716309, 'step': 519},\n",
       "  {'loss': 8.097874641418457, 'step': 520},\n",
       "  {'loss': 7.92286491394043, 'step': 521},\n",
       "  {'loss': 7.9971208572387695, 'step': 522},\n",
       "  {'loss': 7.89376163482666, 'step': 523},\n",
       "  {'loss': 7.844403266906738, 'step': 524},\n",
       "  {'loss': 7.512549877166748, 'step': 525},\n",
       "  {'loss': 7.875596523284912, 'step': 526},\n",
       "  {'loss': 7.735395431518555, 'step': 527},\n",
       "  {'loss': 7.945650100708008, 'step': 528},\n",
       "  {'loss': 7.864633083343506, 'step': 529},\n",
       "  {'loss': 7.302817344665527, 'step': 530},\n",
       "  {'loss': 7.538421154022217, 'step': 531},\n",
       "  {'loss': 7.718157768249512, 'step': 532},\n",
       "  {'loss': 7.612836837768555, 'step': 533},\n",
       "  {'loss': 8.070493698120117, 'step': 534},\n",
       "  {'loss': 7.594784259796143, 'step': 535},\n",
       "  {'loss': 7.650278568267822, 'step': 536},\n",
       "  {'loss': 7.912477016448975, 'step': 537},\n",
       "  {'loss': 7.86823034286499, 'step': 538},\n",
       "  {'loss': 7.857655048370361, 'step': 539},\n",
       "  {'loss': 7.447020053863525, 'step': 540},\n",
       "  {'loss': 7.666306018829346, 'step': 541},\n",
       "  {'loss': 7.5505571365356445, 'step': 542},\n",
       "  {'loss': 7.8603010177612305, 'step': 543},\n",
       "  {'loss': 7.890242099761963, 'step': 544},\n",
       "  {'loss': 7.75024938583374, 'step': 545},\n",
       "  {'loss': 7.6072258949279785, 'step': 546},\n",
       "  {'loss': 7.664316654205322, 'step': 547},\n",
       "  {'loss': 7.807288646697998, 'step': 548},\n",
       "  {'loss': 7.687000274658203, 'step': 549},\n",
       "  {'loss': 7.401078701019287, 'step': 550},\n",
       "  {'loss': 7.726707458496094, 'step': 551},\n",
       "  {'loss': 7.735774993896484, 'step': 552},\n",
       "  {'loss': 7.387209415435791, 'step': 553},\n",
       "  {'loss': 7.803925514221191, 'step': 554},\n",
       "  {'loss': 7.868708610534668, 'step': 555},\n",
       "  {'loss': 7.3851318359375, 'step': 556},\n",
       "  {'loss': 7.386317253112793, 'step': 557},\n",
       "  {'loss': 7.486852645874023, 'step': 558},\n",
       "  {'loss': 7.495731353759766, 'step': 559},\n",
       "  {'loss': 7.785778045654297, 'step': 560},\n",
       "  {'loss': 7.540582180023193, 'step': 561},\n",
       "  {'loss': 7.65122652053833, 'step': 562},\n",
       "  {'loss': 7.620021820068359, 'step': 563},\n",
       "  {'loss': 7.578392028808594, 'step': 564},\n",
       "  {'loss': 7.25213098526001, 'step': 565},\n",
       "  {'loss': 7.269449710845947, 'step': 566},\n",
       "  {'loss': 7.720428943634033, 'step': 567},\n",
       "  {'loss': 7.4799699783325195, 'step': 568},\n",
       "  {'loss': 7.732114315032959, 'step': 569},\n",
       "  {'loss': 7.614649295806885, 'step': 570},\n",
       "  {'loss': 7.6864705085754395, 'step': 571},\n",
       "  {'loss': 7.4230241775512695, 'step': 572},\n",
       "  {'loss': 7.2391037940979, 'step': 573},\n",
       "  {'loss': 7.741705894470215, 'step': 574},\n",
       "  {'loss': 7.5787482261657715, 'step': 575},\n",
       "  {'loss': 7.508368968963623, 'step': 576},\n",
       "  {'loss': 7.392739295959473, 'step': 577},\n",
       "  {'loss': 7.77026891708374, 'step': 578},\n",
       "  {'loss': 7.523351669311523, 'step': 579},\n",
       "  {'loss': 7.618915557861328, 'step': 580},\n",
       "  {'loss': 7.266517639160156, 'step': 581},\n",
       "  {'loss': 7.545567989349365, 'step': 582},\n",
       "  {'loss': 7.451418399810791, 'step': 583},\n",
       "  {'loss': 7.582924842834473, 'step': 584},\n",
       "  {'loss': 7.110311985015869, 'step': 585},\n",
       "  {'loss': 7.3501362800598145, 'step': 586},\n",
       "  {'loss': 7.570352077484131, 'step': 587},\n",
       "  {'loss': 7.774566650390625, 'step': 588},\n",
       "  {'loss': 7.397955417633057, 'step': 589},\n",
       "  {'loss': 7.6242547035217285, 'step': 590},\n",
       "  {'loss': 7.393437385559082, 'step': 591},\n",
       "  {'loss': 7.366093158721924, 'step': 592},\n",
       "  {'loss': 7.197281837463379, 'step': 593},\n",
       "  {'loss': 7.582362174987793, 'step': 594},\n",
       "  {'loss': 7.460606098175049, 'step': 595},\n",
       "  {'loss': 7.773475646972656, 'step': 596},\n",
       "  {'loss': 7.339511871337891, 'step': 597},\n",
       "  {'loss': 7.533731460571289, 'step': 598},\n",
       "  {'loss': 7.41121768951416, 'step': 599},\n",
       "  {'loss': 7.347888469696045, 'step': 600},\n",
       "  {'loss': 7.071261405944824, 'step': 601},\n",
       "  {'loss': 7.207668781280518, 'step': 602},\n",
       "  {'loss': 7.2473015785217285, 'step': 603},\n",
       "  {'loss': 7.477840900421143, 'step': 604},\n",
       "  {'loss': 7.212743759155273, 'step': 605},\n",
       "  {'loss': 7.659752368927002, 'step': 606},\n",
       "  {'loss': 7.211424350738525, 'step': 607},\n",
       "  {'loss': 6.988909721374512, 'step': 608},\n",
       "  {'loss': 7.522782802581787, 'step': 609},\n",
       "  {'loss': 7.033238410949707, 'step': 610},\n",
       "  {'loss': 7.523828029632568, 'step': 611},\n",
       "  {'loss': 7.2602643966674805, 'step': 612},\n",
       "  {'loss': 7.195175647735596, 'step': 613},\n",
       "  {'loss': 7.0149712562561035, 'step': 614},\n",
       "  {'loss': 7.1059722900390625, 'step': 615},\n",
       "  {'loss': 7.429337501525879, 'step': 616},\n",
       "  {'loss': 7.1720051765441895, 'step': 617},\n",
       "  {'loss': 7.395434856414795, 'step': 618},\n",
       "  {'loss': 7.149226188659668, 'step': 619},\n",
       "  {'loss': 7.300187110900879, 'step': 620},\n",
       "  {'loss': 7.538472652435303, 'step': 621},\n",
       "  {'loss': 7.398463726043701, 'step': 622},\n",
       "  {'loss': 7.44061279296875, 'step': 623},\n",
       "  {'loss': 7.2641825675964355, 'step': 624},\n",
       "  {'loss': 7.182461261749268, 'step': 625},\n",
       "  {'loss': 7.143301963806152, 'step': 626},\n",
       "  {'loss': 7.489973545074463, 'step': 627},\n",
       "  {'loss': 7.292404651641846, 'step': 628},\n",
       "  {'loss': 6.901330471038818, 'step': 629},\n",
       "  {'loss': 7.238262176513672, 'step': 630},\n",
       "  {'loss': 6.832950592041016, 'step': 631},\n",
       "  {'loss': 7.431049346923828, 'step': 632},\n",
       "  {'loss': 7.475085258483887, 'step': 633},\n",
       "  {'loss': 7.550490856170654, 'step': 634},\n",
       "  {'loss': 7.0140533447265625, 'step': 635},\n",
       "  {'loss': 7.27164363861084, 'step': 636},\n",
       "  {'loss': 7.118095397949219, 'step': 637},\n",
       "  {'loss': 7.08122444152832, 'step': 638},\n",
       "  {'loss': 7.447068214416504, 'step': 639},\n",
       "  {'loss': 7.205722808837891, 'step': 640},\n",
       "  {'loss': 7.051547050476074, 'step': 641},\n",
       "  {'loss': 7.081871509552002, 'step': 642},\n",
       "  {'loss': 7.232171535491943, 'step': 643},\n",
       "  {'loss': 6.9661736488342285, 'step': 644},\n",
       "  {'loss': 6.777425765991211, 'step': 645},\n",
       "  {'loss': 7.02451229095459, 'step': 646},\n",
       "  {'loss': 7.2114033699035645, 'step': 647},\n",
       "  {'loss': 7.389755725860596, 'step': 648},\n",
       "  {'loss': 6.978205680847168, 'step': 649},\n",
       "  {'loss': 7.102064609527588, 'step': 650},\n",
       "  {'loss': 7.022010326385498, 'step': 651},\n",
       "  {'loss': 7.159557342529297, 'step': 652},\n",
       "  {'loss': 7.443429946899414, 'step': 653},\n",
       "  {'loss': 7.52020263671875, 'step': 654},\n",
       "  {'loss': 7.213403224945068, 'step': 655},\n",
       "  {'loss': 7.1154913902282715, 'step': 656},\n",
       "  {'loss': 7.260122299194336, 'step': 657},\n",
       "  {'loss': 7.007667541503906, 'step': 658},\n",
       "  {'loss': 7.167610168457031, 'step': 659},\n",
       "  {'loss': 6.914636135101318, 'step': 660},\n",
       "  {'loss': 6.99921989440918, 'step': 661},\n",
       "  {'loss': 6.975045204162598, 'step': 662},\n",
       "  {'loss': 6.866639614105225, 'step': 663},\n",
       "  {'loss': 6.736044406890869, 'step': 664},\n",
       "  {'loss': 6.918704986572266, 'step': 665},\n",
       "  {'loss': 7.391820907592773, 'step': 666},\n",
       "  {'loss': 7.239866256713867, 'step': 667},\n",
       "  {'loss': 6.988378047943115, 'step': 668},\n",
       "  {'loss': 6.688178062438965, 'step': 669},\n",
       "  {'loss': 6.662519931793213, 'step': 670},\n",
       "  {'loss': 7.094308376312256, 'step': 671},\n",
       "  {'loss': 7.291316509246826, 'step': 672},\n",
       "  {'loss': 7.19984769821167, 'step': 673},\n",
       "  {'loss': 7.083631992340088, 'step': 674},\n",
       "  {'loss': 7.171677589416504, 'step': 675},\n",
       "  {'loss': 7.049585819244385, 'step': 676},\n",
       "  {'loss': 6.954865455627441, 'step': 677},\n",
       "  {'loss': 7.118834972381592, 'step': 678},\n",
       "  {'loss': 6.863336563110352, 'step': 679},\n",
       "  {'loss': 6.854741096496582, 'step': 680},\n",
       "  {'loss': 7.0341796875, 'step': 681},\n",
       "  {'loss': 7.145971298217773, 'step': 682},\n",
       "  {'loss': 7.037364482879639, 'step': 683},\n",
       "  {'loss': 6.9741902351379395, 'step': 684},\n",
       "  {'loss': 6.877047538757324, 'step': 685},\n",
       "  {'loss': 6.950554370880127, 'step': 686},\n",
       "  {'loss': 6.821767330169678, 'step': 687},\n",
       "  {'loss': 6.88207483291626, 'step': 688},\n",
       "  {'loss': 7.279383659362793, 'step': 689},\n",
       "  {'loss': 6.997432708740234, 'step': 690},\n",
       "  {'loss': 6.997828483581543, 'step': 691},\n",
       "  {'loss': 6.996527671813965, 'step': 692},\n",
       "  {'loss': 6.659179210662842, 'step': 693},\n",
       "  {'loss': 6.847641944885254, 'step': 694},\n",
       "  {'loss': 6.970363140106201, 'step': 695},\n",
       "  {'loss': 6.86218786239624, 'step': 696},\n",
       "  {'loss': 7.037300109863281, 'step': 697},\n",
       "  {'loss': 6.773055076599121, 'step': 698},\n",
       "  {'loss': 7.076780319213867, 'step': 699},\n",
       "  {'loss': 7.013121128082275, 'step': 700},\n",
       "  {'loss': 6.520520210266113, 'step': 701},\n",
       "  {'loss': 6.879832744598389, 'step': 702},\n",
       "  {'loss': 6.989772796630859, 'step': 703},\n",
       "  {'loss': 7.194024562835693, 'step': 704},\n",
       "  {'loss': 7.0258893966674805, 'step': 705},\n",
       "  {'loss': 6.753869533538818, 'step': 706},\n",
       "  {'loss': 6.864961624145508, 'step': 707},\n",
       "  {'loss': 6.937998294830322, 'step': 708},\n",
       "  {'loss': 7.084530830383301, 'step': 709},\n",
       "  {'loss': 6.982689380645752, 'step': 710},\n",
       "  {'loss': 6.737189769744873, 'step': 711},\n",
       "  {'loss': 6.802628517150879, 'step': 712},\n",
       "  {'loss': 6.947933673858643, 'step': 713},\n",
       "  {'loss': 6.958893775939941, 'step': 714},\n",
       "  {'loss': 6.8615241050720215, 'step': 715},\n",
       "  {'loss': 7.305059432983398, 'step': 716},\n",
       "  {'loss': 6.8294501304626465, 'step': 717},\n",
       "  {'loss': 7.1108174324035645, 'step': 718},\n",
       "  {'loss': 6.769628047943115, 'step': 719},\n",
       "  {'loss': 6.760581016540527, 'step': 720},\n",
       "  {'loss': 6.760366916656494, 'step': 721},\n",
       "  {'loss': 7.042566299438477, 'step': 722},\n",
       "  {'loss': 7.034431457519531, 'step': 723},\n",
       "  {'loss': 6.852402687072754, 'step': 724},\n",
       "  {'loss': 6.75730562210083, 'step': 725},\n",
       "  {'loss': 6.717425346374512, 'step': 726},\n",
       "  {'loss': 6.852350234985352, 'step': 727},\n",
       "  {'loss': 6.6492838859558105, 'step': 728},\n",
       "  {'loss': 6.483761310577393, 'step': 729},\n",
       "  {'loss': 6.8733086585998535, 'step': 730},\n",
       "  {'loss': 6.572723388671875, 'step': 731},\n",
       "  {'loss': 6.956902503967285, 'step': 732},\n",
       "  {'loss': 6.614252090454102, 'step': 733},\n",
       "  {'loss': 7.125187873840332, 'step': 734},\n",
       "  {'loss': 6.689329624176025, 'step': 735},\n",
       "  {'loss': 6.5432658195495605, 'step': 736},\n",
       "  {'loss': 6.824548721313477, 'step': 737},\n",
       "  {'loss': 6.721471786499023, 'step': 738},\n",
       "  {'loss': 6.859453201293945, 'step': 739},\n",
       "  {'loss': 6.616372108459473, 'step': 740},\n",
       "  {'loss': 6.4183735847473145, 'step': 741},\n",
       "  {'loss': 6.656620025634766, 'step': 742},\n",
       "  {'loss': 6.9346795082092285, 'step': 743},\n",
       "  {'loss': 6.432536602020264, 'step': 744},\n",
       "  {'loss': 7.161305904388428, 'step': 745},\n",
       "  {'loss': 6.641730308532715, 'step': 746},\n",
       "  {'loss': 6.544776439666748, 'step': 747},\n",
       "  {'loss': 6.885766506195068, 'step': 748},\n",
       "  {'loss': 6.844192981719971, 'step': 749},\n",
       "  {'loss': 6.607378959655762, 'step': 750},\n",
       "  {'loss': 6.848850727081299, 'step': 751},\n",
       "  {'loss': 6.927807331085205, 'step': 752},\n",
       "  {'loss': 6.810379981994629, 'step': 753},\n",
       "  {'loss': 6.337887287139893, 'step': 754},\n",
       "  {'loss': 6.39518404006958, 'step': 755},\n",
       "  {'loss': 6.7049360275268555, 'step': 756},\n",
       "  {'loss': 6.911135196685791, 'step': 757},\n",
       "  {'loss': 6.956777572631836, 'step': 758},\n",
       "  {'loss': 6.505741119384766, 'step': 759},\n",
       "  {'loss': 6.772039413452148, 'step': 760},\n",
       "  {'loss': 7.023849964141846, 'step': 761},\n",
       "  {'loss': 6.5257463455200195, 'step': 762},\n",
       "  {'loss': 6.91315221786499, 'step': 763},\n",
       "  {'loss': 6.865330696105957, 'step': 764},\n",
       "  {'loss': 6.8075690269470215, 'step': 765},\n",
       "  {'loss': 6.820396423339844, 'step': 766},\n",
       "  {'loss': 6.690125942230225, 'step': 767},\n",
       "  {'loss': 6.613508224487305, 'step': 768},\n",
       "  {'loss': 6.357395172119141, 'step': 769},\n",
       "  {'loss': 6.485246658325195, 'step': 770},\n",
       "  {'loss': 6.374847412109375, 'step': 771},\n",
       "  {'loss': 6.724035263061523, 'step': 772},\n",
       "  {'loss': 6.465813159942627, 'step': 773},\n",
       "  {'loss': 7.115317344665527, 'step': 774},\n",
       "  {'loss': 6.669405460357666, 'step': 775},\n",
       "  {'loss': 6.405550956726074, 'step': 776},\n",
       "  {'loss': 6.648141860961914, 'step': 777},\n",
       "  {'loss': 6.783753871917725, 'step': 778},\n",
       "  {'loss': 6.364537715911865, 'step': 779},\n",
       "  {'loss': 6.684432029724121, 'step': 780},\n",
       "  {'loss': 6.318944931030273, 'step': 781},\n",
       "  {'loss': 6.516211986541748, 'step': 782},\n",
       "  {'loss': 6.519916534423828, 'step': 783},\n",
       "  {'loss': 6.910676956176758, 'step': 784},\n",
       "  {'loss': 6.888895034790039, 'step': 785},\n",
       "  {'loss': 6.182254791259766, 'step': 786},\n",
       "  {'loss': 6.530108451843262, 'step': 787},\n",
       "  {'loss': 7.004254341125488, 'step': 788},\n",
       "  {'loss': 6.5809125900268555, 'step': 789},\n",
       "  {'loss': 6.338730335235596, 'step': 790},\n",
       "  {'loss': 6.62152099609375, 'step': 791},\n",
       "  {'loss': 6.903307914733887, 'step': 792},\n",
       "  {'loss': 6.338919639587402, 'step': 793},\n",
       "  {'loss': 6.317656993865967, 'step': 794},\n",
       "  {'loss': 6.30381441116333, 'step': 795},\n",
       "  {'loss': 7.0547075271606445, 'step': 796},\n",
       "  {'loss': 6.36769437789917, 'step': 797},\n",
       "  {'loss': 5.969470024108887, 'step': 798},\n",
       "  {'loss': 6.383159637451172, 'step': 799},\n",
       "  {'loss': 6.547619819641113, 'step': 800},\n",
       "  {'loss': 6.328559875488281, 'step': 801},\n",
       "  {'loss': 6.864226818084717, 'step': 802},\n",
       "  {'loss': 6.587944507598877, 'step': 803},\n",
       "  {'loss': 6.648940563201904, 'step': 804},\n",
       "  {'loss': 6.6195969581604, 'step': 805},\n",
       "  {'loss': 6.563567638397217, 'step': 806},\n",
       "  {'loss': 6.611572265625, 'step': 807},\n",
       "  {'loss': 6.68995475769043, 'step': 808},\n",
       "  {'loss': 6.564111709594727, 'step': 809},\n",
       "  {'loss': 6.686050891876221, 'step': 810},\n",
       "  {'loss': 6.434352874755859, 'step': 811},\n",
       "  {'loss': 6.708085060119629, 'step': 812},\n",
       "  {'loss': 6.850421905517578, 'step': 813},\n",
       "  {'loss': 6.699295520782471, 'step': 814},\n",
       "  {'loss': 6.424786567687988, 'step': 815},\n",
       "  {'loss': 6.5352702140808105, 'step': 816},\n",
       "  {'loss': 6.123636722564697, 'step': 817},\n",
       "  {'loss': 5.954287528991699, 'step': 818},\n",
       "  {'loss': 6.480729579925537, 'step': 819},\n",
       "  {'loss': 5.910040855407715, 'step': 820},\n",
       "  {'loss': 6.948694229125977, 'step': 821},\n",
       "  {'loss': 6.853066921234131, 'step': 822},\n",
       "  {'loss': 6.512876033782959, 'step': 823},\n",
       "  {'loss': 6.743638515472412, 'step': 824},\n",
       "  {'loss': 6.408699035644531, 'step': 825},\n",
       "  {'loss': 6.020792484283447, 'step': 826},\n",
       "  {'loss': 5.936334133148193, 'step': 827},\n",
       "  {'loss': 6.543078899383545, 'step': 828},\n",
       "  {'loss': 6.6776652336120605, 'step': 829},\n",
       "  {'loss': 6.248559951782227, 'step': 830},\n",
       "  {'loss': 5.888497829437256, 'step': 831},\n",
       "  {'loss': 6.26070499420166, 'step': 832},\n",
       "  {'loss': 6.3839006423950195, 'step': 833},\n",
       "  {'loss': 6.263967037200928, 'step': 834},\n",
       "  {'loss': 6.724107265472412, 'step': 835},\n",
       "  {'loss': 5.902020454406738, 'step': 836},\n",
       "  {'loss': 6.562924861907959, 'step': 837},\n",
       "  {'loss': 7.004419803619385, 'step': 838},\n",
       "  {'loss': 6.426488399505615, 'step': 839},\n",
       "  {'loss': 6.724635601043701, 'step': 840},\n",
       "  {'loss': 6.675295829772949, 'step': 841},\n",
       "  {'loss': 6.502694606781006, 'step': 842},\n",
       "  {'loss': 6.503321170806885, 'step': 843},\n",
       "  {'loss': 6.245606422424316, 'step': 844},\n",
       "  {'loss': 6.191976547241211, 'step': 845},\n",
       "  {'loss': 6.8523945808410645, 'step': 846},\n",
       "  {'loss': 6.353005886077881, 'step': 847},\n",
       "  {'loss': 5.988899230957031, 'step': 848},\n",
       "  {'loss': 6.364284038543701, 'step': 849},\n",
       "  {'loss': 6.762622833251953, 'step': 850},\n",
       "  {'loss': 6.629905700683594, 'step': 851},\n",
       "  {'loss': 6.704689025878906, 'step': 852},\n",
       "  {'loss': 6.609033107757568, 'step': 853},\n",
       "  {'loss': 5.894676208496094, 'step': 854},\n",
       "  {'loss': 6.525979518890381, 'step': 855},\n",
       "  {'loss': 6.35510778427124, 'step': 856},\n",
       "  {'loss': 6.19965934753418, 'step': 857},\n",
       "  {'loss': 6.2351884841918945, 'step': 858},\n",
       "  {'loss': 6.208929061889648, 'step': 859},\n",
       "  {'loss': 6.207033634185791, 'step': 860},\n",
       "  {'loss': 6.3814473152160645, 'step': 861},\n",
       "  {'loss': 6.416205883026123, 'step': 862},\n",
       "  {'loss': 6.356717109680176, 'step': 863},\n",
       "  {'loss': 6.7983808517456055, 'step': 864},\n",
       "  {'loss': 6.480618476867676, 'step': 865},\n",
       "  {'loss': 6.0034003257751465, 'step': 866},\n",
       "  {'loss': 6.14583158493042, 'step': 867},\n",
       "  {'loss': 6.309615135192871, 'step': 868},\n",
       "  {'loss': 5.988375186920166, 'step': 869},\n",
       "  {'loss': 6.381168365478516, 'step': 870},\n",
       "  {'loss': 6.632688045501709, 'step': 871},\n",
       "  {'loss': 5.765840530395508, 'step': 872},\n",
       "  {'loss': 6.271056175231934, 'step': 873},\n",
       "  {'loss': 6.522463798522949, 'step': 874},\n",
       "  {'loss': 6.040472030639648, 'step': 875},\n",
       "  {'loss': 5.9789838790893555, 'step': 876},\n",
       "  {'loss': 6.343785285949707, 'step': 877},\n",
       "  {'loss': 6.179426670074463, 'step': 878},\n",
       "  {'loss': 6.322490215301514, 'step': 879},\n",
       "  {'loss': 6.034120082855225, 'step': 880},\n",
       "  {'loss': 5.879203796386719, 'step': 881},\n",
       "  {'loss': 6.482491970062256, 'step': 882},\n",
       "  {'loss': 5.860864162445068, 'step': 883},\n",
       "  {'loss': 6.218107223510742, 'step': 884},\n",
       "  {'loss': 5.957141876220703, 'step': 885},\n",
       "  {'loss': 6.286118507385254, 'step': 886},\n",
       "  {'loss': 6.313652992248535, 'step': 887},\n",
       "  {'loss': 6.308793544769287, 'step': 888},\n",
       "  {'loss': 6.23609733581543, 'step': 889},\n",
       "  {'loss': 6.690971374511719, 'step': 890},\n",
       "  {'loss': 5.963109970092773, 'step': 891},\n",
       "  {'loss': 6.2452898025512695, 'step': 892},\n",
       "  {'loss': 6.63107967376709, 'step': 893},\n",
       "  {'loss': 6.797604084014893, 'step': 894},\n",
       "  {'loss': 5.950381755828857, 'step': 895},\n",
       "  {'loss': 6.572484970092773, 'step': 896},\n",
       "  {'loss': 6.511791229248047, 'step': 897},\n",
       "  {'loss': 6.66938591003418, 'step': 898},\n",
       "  {'loss': 6.168297290802002, 'step': 899},\n",
       "  {'loss': 5.944812774658203, 'step': 900},\n",
       "  {'loss': 5.701686859130859, 'step': 901},\n",
       "  {'loss': 5.792239665985107, 'step': 902},\n",
       "  {'loss': 6.648144245147705, 'step': 903},\n",
       "  {'loss': 6.368889331817627, 'step': 904},\n",
       "  {'loss': 6.3829731941223145, 'step': 905},\n",
       "  {'loss': 5.805069923400879, 'step': 906},\n",
       "  {'loss': 6.1689934730529785, 'step': 907},\n",
       "  {'loss': 6.269593238830566, 'step': 908},\n",
       "  {'loss': 6.178995609283447, 'step': 909},\n",
       "  {'loss': 6.09274959564209, 'step': 910},\n",
       "  {'loss': 6.249297142028809, 'step': 911},\n",
       "  {'loss': 6.512197494506836, 'step': 912},\n",
       "  {'loss': 5.983043193817139, 'step': 913},\n",
       "  {'loss': 6.0046772956848145, 'step': 914},\n",
       "  {'loss': 6.130101203918457, 'step': 915},\n",
       "  {'loss': 5.838685035705566, 'step': 916},\n",
       "  {'loss': 5.722689628601074, 'step': 917},\n",
       "  {'loss': 6.457564353942871, 'step': 918},\n",
       "  {'loss': 6.757653713226318, 'step': 919},\n",
       "  {'loss': 6.605216026306152, 'step': 920},\n",
       "  {'loss': 6.445562362670898, 'step': 921},\n",
       "  {'loss': 5.902590274810791, 'step': 922},\n",
       "  {'loss': 6.408598899841309, 'step': 923},\n",
       "  {'loss': 5.833204746246338, 'step': 924},\n",
       "  {'loss': 6.3142876625061035, 'step': 925},\n",
       "  {'loss': 6.453734397888184, 'step': 926},\n",
       "  {'loss': 6.01493501663208, 'step': 927},\n",
       "  {'loss': 6.285869598388672, 'step': 928},\n",
       "  {'loss': 6.398525714874268, 'step': 929},\n",
       "  {'loss': 6.137470722198486, 'step': 930},\n",
       "  {'loss': 6.273024559020996, 'step': 931},\n",
       "  {'loss': 6.1685967445373535, 'step': 932},\n",
       "  {'loss': 6.008051872253418, 'step': 933},\n",
       "  {'loss': 6.185734748840332, 'step': 934},\n",
       "  {'loss': 5.900341033935547, 'step': 935},\n",
       "  {'loss': 5.744045257568359, 'step': 936},\n",
       "  {'loss': 5.823700428009033, 'step': 937},\n",
       "  {'loss': 5.728030681610107, 'step': 938},\n",
       "  {'loss': 6.049435615539551, 'step': 939},\n",
       "  {'loss': 6.49831485748291, 'step': 940},\n",
       "  {'loss': 6.177751541137695, 'step': 941},\n",
       "  {'loss': 6.148321628570557, 'step': 942},\n",
       "  {'loss': 6.225390434265137, 'step': 943},\n",
       "  {'loss': 6.398477554321289, 'step': 944},\n",
       "  {'loss': 5.952963829040527, 'step': 945},\n",
       "  {'loss': 6.1268696784973145, 'step': 946},\n",
       "  {'loss': 5.807882785797119, 'step': 947},\n",
       "  {'loss': 5.973855972290039, 'step': 948},\n",
       "  {'loss': 5.957612037658691, 'step': 949},\n",
       "  {'loss': 6.507503509521484, 'step': 950},\n",
       "  {'loss': 6.276659965515137, 'step': 951},\n",
       "  {'loss': 6.001067638397217, 'step': 952},\n",
       "  {'loss': 6.263331890106201, 'step': 953},\n",
       "  {'loss': 5.860982418060303, 'step': 954},\n",
       "  {'loss': 6.645760536193848, 'step': 955},\n",
       "  {'loss': 5.82780647277832, 'step': 956},\n",
       "  {'loss': 6.261649131774902, 'step': 957},\n",
       "  {'loss': 6.591831684112549, 'step': 958},\n",
       "  {'loss': 6.315814018249512, 'step': 959},\n",
       "  {'loss': 6.262245178222656, 'step': 960},\n",
       "  {'loss': 6.140352249145508, 'step': 961},\n",
       "  {'loss': 5.966010570526123, 'step': 962},\n",
       "  {'loss': 5.838812351226807, 'step': 963},\n",
       "  {'loss': 6.004377365112305, 'step': 964},\n",
       "  {'loss': 6.415785312652588, 'step': 965},\n",
       "  {'loss': 6.068878650665283, 'step': 966},\n",
       "  {'loss': 6.3952789306640625, 'step': 967},\n",
       "  {'loss': 6.041214466094971, 'step': 968},\n",
       "  {'loss': 6.329691410064697, 'step': 969},\n",
       "  {'loss': 5.771971702575684, 'step': 970},\n",
       "  {'loss': 5.971766471862793, 'step': 971},\n",
       "  {'loss': 5.776097774505615, 'step': 972},\n",
       "  {'loss': 5.969609260559082, 'step': 973},\n",
       "  {'loss': 5.3401665687561035, 'step': 974},\n",
       "  {'loss': 5.6951775550842285, 'step': 975},\n",
       "  {'loss': 6.266172409057617, 'step': 976},\n",
       "  {'loss': 6.266575813293457, 'step': 977},\n",
       "  {'loss': 6.406030654907227, 'step': 978},\n",
       "  {'loss': 5.62742280960083, 'step': 979},\n",
       "  {'loss': 6.34892463684082, 'step': 980},\n",
       "  {'loss': 6.298324108123779, 'step': 981},\n",
       "  {'loss': 5.872703552246094, 'step': 982},\n",
       "  {'loss': 6.081480503082275, 'step': 983},\n",
       "  {'loss': 5.950186729431152, 'step': 984},\n",
       "  {'loss': 5.948841571807861, 'step': 985},\n",
       "  {'loss': 5.468770980834961, 'step': 986},\n",
       "  {'loss': 5.812047004699707, 'step': 987},\n",
       "  {'loss': 6.238697052001953, 'step': 988},\n",
       "  {'loss': 5.943714618682861, 'step': 989},\n",
       "  {'loss': 5.874351501464844, 'step': 990},\n",
       "  {'loss': 5.849545955657959, 'step': 991},\n",
       "  {'loss': 5.782496929168701, 'step': 992},\n",
       "  {'loss': 5.941040515899658, 'step': 993},\n",
       "  {'loss': 6.118348598480225, 'step': 994},\n",
       "  {'loss': 6.164992332458496, 'step': 995},\n",
       "  {'loss': 6.171815872192383, 'step': 996},\n",
       "  {'loss': 6.056739330291748, 'step': 997},\n",
       "  {'loss': 6.125406265258789, 'step': 998},\n",
       "  {'loss': 6.453649520874023, 'step': 999},\n",
       "  {'loss': 6.709085941314697, 'step': 1000},\n",
       "  ...],\n",
       " 'val': [{'loss': 7.821493434906006, 'step': 500},\n",
       "  {'loss': 6.027450430393219, 'step': 1000},\n",
       "  {'loss': 5.600744354724884, 'step': 1500},\n",
       "  {'loss': 5.298193943500519, 'step': 2000},\n",
       "  {'loss': 5.071680128574371, 'step': 2500},\n",
       "  {'loss': 4.879912614822388, 'step': 3000},\n",
       "  {'loss': 4.769975155591965, 'step': 3500},\n",
       "  {'loss': 4.574173611402512, 'step': 4000},\n",
       "  {'loss': 4.502698236703873, 'step': 4500},\n",
       "  {'loss': 4.364873617887497, 'step': 5000},\n",
       "  {'loss': 4.2782000541687015, 'step': 5500},\n",
       "  {'loss': 4.211360436677933, 'step': 6000},\n",
       "  {'loss': 4.188488036394119, 'step': 6500},\n",
       "  {'loss': 4.102499371767044, 'step': 7000},\n",
       "  {'loss': 4.062851971387863, 'step': 7500},\n",
       "  {'loss': 3.9902072668075563, 'step': 8000},\n",
       "  {'loss': 3.9650499522686005, 'step': 8500},\n",
       "  {'loss': 3.925666666030884, 'step': 9000},\n",
       "  {'loss': 3.8836489021778107, 'step': 9500},\n",
       "  {'loss': 3.8748318433761595, 'step': 10000},\n",
       "  {'loss': 3.8291358172893526, 'step': 10500},\n",
       "  {'loss': 3.806366020441055, 'step': 11000},\n",
       "  {'loss': 3.7824321925640105, 'step': 11500},\n",
       "  {'loss': 3.7634251773357392, 'step': 12000},\n",
       "  {'loss': 3.7501733899116516, 'step': 12500},\n",
       "  {'loss': 3.7178340435028074, 'step': 13000},\n",
       "  {'loss': 3.697151947021484, 'step': 13500},\n",
       "  {'loss': 3.6722818672657014, 'step': 14000},\n",
       "  {'loss': 3.6709179639816285, 'step': 14500},\n",
       "  {'loss': 3.660598397254944, 'step': 15000},\n",
       "  {'loss': 3.630389577150345, 'step': 15500},\n",
       "  {'loss': 3.6187003195285796, 'step': 16000},\n",
       "  {'loss': 3.612043309211731, 'step': 16500},\n",
       "  {'loss': 3.60474870800972, 'step': 17000},\n",
       "  {'loss': 3.585008317232132, 'step': 17500},\n",
       "  {'loss': 3.573343354463577, 'step': 18000},\n",
       "  {'loss': 3.5669531881809236, 'step': 18500},\n",
       "  {'loss': 3.548370498418808, 'step': 19000},\n",
       "  {'loss': 3.5472674548625944, 'step': 19500},\n",
       "  {'loss': 3.530187278985977, 'step': 20000},\n",
       "  {'loss': 3.5355210483074186, 'step': 20500},\n",
       "  {'loss': 3.517650604248047, 'step': 21000},\n",
       "  {'loss': 3.5152146399021147, 'step': 21500},\n",
       "  {'loss': 3.497622090578079, 'step': 22000},\n",
       "  {'loss': 3.487902492284775, 'step': 22500},\n",
       "  {'loss': 3.4901738345623015, 'step': 23000},\n",
       "  {'loss': 3.474150460958481, 'step': 23500},\n",
       "  {'loss': 3.4717553853988647, 'step': 24000},\n",
       "  {'loss': 3.4705767750740053, 'step': 24500},\n",
       "  {'loss': 3.4573165237903596, 'step': 25000},\n",
       "  {'loss': 3.4698963165283203, 'step': 25500},\n",
       "  {'loss': 3.4639424622058868, 'step': 26000},\n",
       "  {'loss': 3.475884920358658, 'step': 26500},\n",
       "  {'loss': 3.456137365102768, 'step': 27000},\n",
       "  {'loss': 3.450688678026199, 'step': 27500},\n",
       "  {'loss': 3.4436807513236998, 'step': 28000},\n",
       "  {'loss': 3.4479224026203155, 'step': 28500},\n",
       "  {'loss': 3.4404270172119142, 'step': 29000},\n",
       "  {'loss': 3.441426146030426, 'step': 29500},\n",
       "  {'loss': 3.454250419139862, 'step': 30000},\n",
       "  {'loss': 3.4406341195106505, 'step': 30500},\n",
       "  {'loss': 3.4432278692722322, 'step': 31000},\n",
       "  {'loss': 3.4312688946723937, 'step': 31500},\n",
       "  {'loss': 3.437841659784317, 'step': 32000},\n",
       "  {'loss': 3.4345434308052063, 'step': 32500},\n",
       "  {'loss': 3.4375308394432067, 'step': 33000},\n",
       "  {'loss': 3.4406104505062105, 'step': 33500},\n",
       "  {'loss': 3.443833065032959, 'step': 34000},\n",
       "  {'loss': 3.4342720568180085, 'step': 34500},\n",
       "  {'loss': 3.4486622154712676, 'step': 35000},\n",
       "  {'loss': 3.4457090973854063, 'step': 35500},\n",
       "  {'loss': 3.4440481901168822, 'step': 36000},\n",
       "  {'loss': 3.4411915600299836, 'step': 36500}]}"
      ]
     },
     "execution_count": 66,
     "metadata": {},
     "output_type": "execute_result"
    }
   ],
   "source": [
    "record"
   ]
  },
  {
   "cell_type": "markdown",
   "metadata": {
    "id": "rTjbeFlIN4yZ"
   },
   "source": [
    "## 推理\n",
    "\n",
    "- 翻译项目的评估指标一般是BLEU4，感兴趣的同学自行了解并实现\n",
    "- 接下来进行翻译推理，并作出注意力的热度图"
   ]
  },
  {
   "cell_type": "code",
   "execution_count": 53,
   "metadata": {
    "ExecutionIndicator": {
     "show": true
    },
    "colab": {
     "base_uri": "https://localhost:8080/"
    },
    "execution": {
     "iopub.execute_input": "2025-02-07T02:03:41.720740Z",
     "iopub.status.busy": "2025-02-07T02:03:41.720413Z",
     "iopub.status.idle": "2025-02-07T02:03:50.822395Z",
     "shell.execute_reply": "2025-02-07T02:03:50.821742Z",
     "shell.execute_reply.started": "2025-02-07T02:03:41.720715Z"
    },
    "id": "WxsjkyQgN4yZ",
    "outputId": "5ce160c2-ce7e-4bc3-d2b6-a332c7fcf6a1",
    "tags": []
   },
   "outputs": [
    {
     "name": "stdout",
     "output_type": "stream",
     "text": [
      "Looking in indexes: https://mirrors.cloud.aliyuncs.com/pypi/simple\n",
      "Requirement already satisfied: Cython in /usr/local/lib/python3.10/site-packages (3.0.11)\n",
      "\u001b[33mWARNING: Running pip as the 'root' user can result in broken permissions and conflicting behaviour with the system package manager. It is recommended to use a virtual environment instead: https://pip.pypa.io/warnings/venv\u001b[0m\u001b[33m\n",
      "\u001b[0m\n",
      "\u001b[1m[\u001b[0m\u001b[34;49mnotice\u001b[0m\u001b[1;39;49m]\u001b[0m\u001b[39;49m A new release of pip is available: \u001b[0m\u001b[31;49m23.3.2\u001b[0m\u001b[39;49m -> \u001b[0m\u001b[32;49m25.0\u001b[0m\n",
      "\u001b[1m[\u001b[0m\u001b[34;49mnotice\u001b[0m\u001b[1;39;49m]\u001b[0m\u001b[39;49m To update, run: \u001b[0m\u001b[32;49mpip install --upgrade pip\u001b[0m\n",
      "Looking in indexes: https://mirrors.cloud.aliyuncs.com/pypi/simple\n",
      "Requirement already satisfied: fastBPE in /usr/local/lib/python3.10/site-packages (0.1.0)\n",
      "\u001b[33mWARNING: Running pip as the 'root' user can result in broken permissions and conflicting behaviour with the system package manager. It is recommended to use a virtual environment instead: https://pip.pypa.io/warnings/venv\u001b[0m\u001b[33m\n",
      "\u001b[0m\n",
      "\u001b[1m[\u001b[0m\u001b[34;49mnotice\u001b[0m\u001b[1;39;49m]\u001b[0m\u001b[39;49m A new release of pip is available: \u001b[0m\u001b[31;49m23.3.2\u001b[0m\u001b[39;49m -> \u001b[0m\u001b[32;49m25.0\u001b[0m\n",
      "\u001b[1m[\u001b[0m\u001b[34;49mnotice\u001b[0m\u001b[1;39;49m]\u001b[0m\u001b[39;49m To update, run: \u001b[0m\u001b[32;49mpip install --upgrade pip\u001b[0m\n"
     ]
    }
   ],
   "source": [
    "!pip install Cython  # if failed to install fastBPE, try this line\n",
    "!pip install fastBPE #分词使用\n",
    "# 在 Windows 系统上并没有 sys/mman.h 文件"
   ]
  },
  {
   "cell_type": "code",
   "execution_count": 100,
   "metadata": {
    "colab": {
     "base_uri": "https://localhost:8080/",
     "height": 35
    },
    "execution": {
     "iopub.execute_input": "2025-01-22T08:58:14.440256Z",
     "iopub.status.busy": "2025-01-22T08:58:14.440059Z",
     "iopub.status.idle": "2025-01-22T08:58:14.443992Z",
     "shell.execute_reply": "2025-01-22T08:58:14.443607Z",
     "shell.execute_reply.started": "2025-01-22T08:58:14.440225Z"
    },
    "id": "f6Ry1PcAn4k1",
    "outputId": "6393524e-e5c3-4f93-dd9d-f249ca52bc05"
   },
   "outputs": [
    {
     "data": {
      "text/plain": [
       "'translate-transformer-not-share'"
      ]
     },
     "execution_count": 100,
     "metadata": {},
     "output_type": "execute_result"
    }
   ],
   "source": [
    "exp_name"
   ]
  },
  {
   "cell_type": "code",
   "execution_count": 54,
   "metadata": {
    "ExecutionIndicator": {
     "show": true
    },
    "execution": {
     "iopub.execute_input": "2025-02-07T02:03:58.107901Z",
     "iopub.status.busy": "2025-02-07T02:03:58.107512Z",
     "iopub.status.idle": "2025-02-07T02:03:58.232712Z",
     "shell.execute_reply": "2025-02-07T02:03:58.232076Z",
     "shell.execute_reply.started": "2025-02-07T02:03:58.107875Z"
    },
    "tags": []
   },
   "outputs": [
    {
     "name": "stdout",
     "output_type": "stream",
     "text": [
      "总计 281580\n",
      "-rw-r--r-- 1 root root 288336196  1月 22 17:32 best.ckpt\n"
     ]
    }
   ],
   "source": [
    "!ls checkpoints/translate-transformer-not-share -l"
   ]
  },
  {
   "cell_type": "code",
   "execution_count": 56,
   "metadata": {
    "ExecuteTime": {
     "end_time": "2024-08-05T03:10:32.326542400Z",
     "start_time": "2024-08-05T03:10:31.006376300Z"
    },
    "ExecutionIndicator": {
     "show": true
    },
    "execution": {
     "iopub.execute_input": "2025-02-07T02:26:24.023923Z",
     "iopub.status.busy": "2025-02-07T02:26:24.023567Z",
     "iopub.status.idle": "2025-02-07T02:26:24.195951Z",
     "shell.execute_reply": "2025-02-07T02:26:24.195219Z",
     "shell.execute_reply.started": "2025-02-07T02:26:24.023899Z"
    },
    "id": "jT1Mqiq3N4yZ",
    "tags": []
   },
   "outputs": [
    {
     "name": "stderr",
     "output_type": "stream",
     "text": [
      "/tmp/ipykernel_335/44154657.py:3: FutureWarning: You are using `torch.load` with `weights_only=False` (the current default value), which uses the default pickle module implicitly. It is possible to construct malicious pickle data which will execute arbitrary code during unpickling (See https://github.com/pytorch/pytorch/blob/main/SECURITY.md#untrusted-models for more details). In a future release, the default value for `weights_only` will be flipped to `True`. This limits the functions that could be executed during unpickling. Arbitrary objects will no longer be allowed to be loaded via this mode unless they are explicitly allowlisted by the user via `torch.serialization.add_safe_globals`. We recommend you start setting `weights_only=True` for any use case where you don't have full control of the loaded file. Please open an issue on GitHub for any issues related to this experimental feature.\n",
      "  state_dict = torch.load(f\"checkpoints/translate-transformer-not-share/best.ckpt\", map_location=device)\n"
     ]
    }
   ],
   "source": [
    "import torch\n",
    "\n",
    "state_dict = torch.load(f\"checkpoints/translate-transformer-not-share/best.ckpt\", map_location=device)\n",
    "\n",
    "# state_dict1 = torch.load(\"epoch125-step132426.ckpt\", map_location=\"cpu\")\n",
    "# state_dict = state_dict1[\"state_dict\"]\n",
    "\n",
    "# update keys by dropping `model`\n",
    "# for key in list(state_dict):\n",
    "#     state_dict[key.replace(\"model.\", \"\")] = state_dict.pop(key)\n"
   ]
  },
  {
   "cell_type": "code",
   "execution_count": null,
   "metadata": {
    "ExecuteTime": {
     "end_time": "2024-08-05T03:10:46.720508800Z",
     "start_time": "2024-08-05T03:10:36.179313900Z"
    },
    "colab": {
     "base_uri": "https://localhost:8080/"
    },
    "execution": {
     "iopub.status.busy": "2025-01-22T08:58:14.581445Z",
     "iopub.status.idle": "2025-01-22T08:58:14.581630Z",
     "shell.execute_reply": "2025-01-22T08:58:14.581547Z",
     "shell.execute_reply.started": "2025-01-22T08:58:14.581539Z"
    },
    "id": "eKwIDdjgvTlO",
    "outputId": "35979ff2-a16d-4aa4-881a-8496e39e2469"
   },
   "outputs": [],
   "source": [
    "!pip install nltk"
   ]
  },
  {
   "cell_type": "code",
   "execution_count": null,
   "metadata": {
    "execution": {
     "iopub.status.busy": "2025-01-22T08:58:14.582226Z",
     "iopub.status.idle": "2025-01-22T08:58:14.582510Z",
     "shell.execute_reply": "2025-01-22T08:58:14.582426Z",
     "shell.execute_reply.started": "2025-01-22T08:58:14.582417Z"
    },
    "id": "WVksjIhL_pt9"
   },
   "outputs": [],
   "source": [
    "!rm -r wmt16/.cache"
   ]
  },
  {
   "cell_type": "code",
   "execution_count": null,
   "metadata": {
    "colab": {
     "base_uri": "https://localhost:8080/"
    },
    "execution": {
     "iopub.status.busy": "2025-01-22T08:58:14.583127Z",
     "iopub.status.idle": "2025-01-22T08:58:14.583307Z",
     "shell.execute_reply": "2025-01-22T08:58:14.583221Z",
     "shell.execute_reply.started": "2025-01-22T08:58:14.583213Z"
    },
    "id": "2MY69-6WWSjp",
    "outputId": "911d9066-7917-4917-b5cc-d679a1c63865"
   },
   "outputs": [],
   "source": [
    "tokenizer.decode([[   5,   16,    6,   23,  150,   80, 8248,   35,  232,    4,    3]])"
   ]
  },
  {
   "cell_type": "code",
   "execution_count": 62,
   "metadata": {
    "colab": {
     "base_uri": "https://localhost:8080/",
     "height": 101,
     "referenced_widgets": [
      "c9db4cd83b7b4f53a0fa93b8c365debd",
      "a972aba7913b48c6973ae27bff5b9d1d",
      "22aa774ab39e4fd78b0ff08d430d2b5d",
      "9a01f02fb99b4b81ac487d23bc5daf4a",
      "19f846338f6b48c9930b58575641e5b8",
      "7d293204dc1b4d97bb5ee670787c7b7d",
      "ea8fa440f320435aa75c9bef75bc3f08",
      "4e64bcb87e584beda0408a0aa5a659ae",
      "b077d7562d814df5b6d839464dd4122f",
      "5a28babf4e2e4393bdc1a093034885ab",
      "be07d518c21149d196c610fd57b1eaec"
     ]
    },
    "execution": {
     "iopub.execute_input": "2025-02-07T02:45:30.305427Z",
     "iopub.status.busy": "2025-02-07T02:45:30.305070Z",
     "iopub.status.idle": "2025-02-07T02:45:41.959985Z",
     "shell.execute_reply": "2025-02-07T02:45:41.959493Z",
     "shell.execute_reply.started": "2025-02-07T02:45:30.305398Z"
    },
    "id": "5QgodlOJfgKj",
    "outputId": "2907bad2-7cb1-4295-c8b0-77ac0dabf398",
    "tags": []
   },
   "outputs": [
    {
     "name": "stdout",
     "output_type": "stream",
     "text": [
      "load test dataset from wmt16/.cache/de2en_test_128.npy\n"
     ]
    },
    {
     "name": "stderr",
     "output_type": "stream",
     "text": [
      "0it [00:00, ?it/s]/usr/local/lib/python3.10/site-packages/torch/nn/_reduction.py:51: UserWarning: size_average and reduce args will be deprecated, please use reduction='none' instead.\n",
      "  warnings.warn(warning.format(ret))\n",
      "1it [00:00,  3.39it/s]/usr/local/lib/python3.10/site-packages/nltk/translate/bleu_score.py:577: UserWarning: \n",
      "The hypothesis contains 0 counts of 4-gram overlaps.\n",
      "Therefore the BLEU score evaluates to 0, independently of\n",
      "how many N-gram overlaps of lower order it contains.\n",
      "Consider using lower n-gram order or use SmoothingFunction()\n",
      "  warnings.warn(_msg)\n",
      "11it [00:00, 34.74it/s]/usr/local/lib/python3.10/site-packages/nltk/translate/bleu_score.py:577: UserWarning: \n",
      "The hypothesis contains 0 counts of 3-gram overlaps.\n",
      "Therefore the BLEU score evaluates to 0, independently of\n",
      "how many N-gram overlaps of lower order it contains.\n",
      "Consider using lower n-gram order or use SmoothingFunction()\n",
      "  warnings.warn(_msg)\n",
      "22it [00:00, 57.60it/s]/usr/local/lib/python3.10/site-packages/nltk/translate/bleu_score.py:577: UserWarning: \n",
      "The hypothesis contains 0 counts of 2-gram overlaps.\n",
      "Therefore the BLEU score evaluates to 0, independently of\n",
      "how many N-gram overlaps of lower order it contains.\n",
      "Consider using lower n-gram order or use SmoothingFunction()\n",
      "  warnings.warn(_msg)\n",
      "966it [00:10, 95.42it/s] "
     ]
    },
    {
     "name": "stdout",
     "output_type": "stream",
     "text": [
      "testing loss: 3.3171152433006412\n"
     ]
    },
    {
     "name": "stderr",
     "output_type": "stream",
     "text": [
      "\n"
     ]
    },
    {
     "data": {
      "text/plain": [
       "0.6083579034234977"
      ]
     },
     "execution_count": 62,
     "metadata": {},
     "output_type": "execute_result"
    }
   ],
   "source": [
    "from nltk.translate.bleu_score import sentence_bleu\n",
    "# load checkpoints\n",
    "model = TransformerModel(config)\n",
    "model.load_state_dict(state_dict)\n",
    "\n",
    "loss_fct = CrossEntropyWithPadding(config)\n",
    "# from dataset import LangPairDataset\n",
    "test_ds = LangPairDataset(\"test\", max_length=128, data_dir=\"./wmt16\")\n",
    "test_dl = DataLoader(test_ds, batch_size=1, collate_fn=partial(collate_fct, tokenizer=tokenizer))\n",
    "\n",
    "model = model.to(device)\n",
    "model.eval()\n",
    "collect = {}\n",
    "loss_collect = []\n",
    "\n",
    "predictions = []\n",
    "answers = []\n",
    "# 初始化BLEU分数列表\n",
    "bleu_scores = []\n",
    "for idx, batch in tqdm(enumerate(test_dl)):\n",
    "    encoder_inputs = batch[\"encoder_inputs\"]\n",
    "    encoder_inputs_mask = batch[\"encoder_inputs_mask\"]\n",
    "    decoder_inputs = batch[\"decoder_inputs\"]\n",
    "    decoder_labels = batch[\"decoder_labels\"]\n",
    "    # print(decoder_labels.cpu())\n",
    "    # decoder_labels1=tokenizer.decode(decoder_labels.cpu().numpy())\n",
    "    # print(decoder_labels1)\n",
    "    # 前向计算\n",
    "    outputs = model(\n",
    "        encoder_inputs=encoder_inputs,\n",
    "        decoder_inputs=decoder_inputs,\n",
    "        encoder_inputs_mask=encoder_inputs_mask\n",
    "        )\n",
    "    loss = loss_fct(outputs.logits, decoder_labels)         # 验证集损失\n",
    "\n",
    "    # print(outputs.logits.shape, decoder_labels.shape)\n",
    "\n",
    "    # loss = loss_fct(outputs.logits[:, :decoder_labels.shape[1]], decoder_labels)         # 验证集损失\n",
    "    # outputs = model.infer(encoder_inputs=encoder_inputs)\n",
    "    # print(outputs.logits.shape)\n",
    "    preds = outputs.logits.argmax(dim=-1) # 预测结果，[1,seq_len]\n",
    "    # print(preds.shape)\n",
    "    #把preds转为英文单词\n",
    "    preds = tokenizer.decode(preds.cpu().numpy()) #['预测句子']\n",
    "    # predictions.append(preds)\n",
    "    # print(preds)\n",
    "    #把decoder_labels转为英文单词\n",
    "    decoder_labels = tokenizer.decode(decoder_labels.cpu().numpy()) #['标签句子']\n",
    "    # answers.append(decoder_labels)\n",
    "    # print(decoder_labels)\n",
    "    belu=sentence_bleu([decoder_labels[0].split()],preds[0].split(),weights=(1, 0, 0, 0))\n",
    "    bleu_scores.append(belu)\n",
    "    collect[idx] = {\"loss\": loss.item(), \"src_inputs\": encoder_inputs, \"trg_inputs\": decoder_inputs, \"mask\": encoder_inputs_mask, \"trg_labels\": decoder_labels, \"preds\": preds}\n",
    "    loss_collect.append(loss.item())\n",
    "    # break\n",
    "\n",
    "# sort collect by value\n",
    "collect = sorted(collect.items(), key=lambda x: x[1][\"loss\"])\n",
    "print(f\"testing loss: {np.array(loss_collect).mean()}\")\n",
    "sum(bleu_scores) / len(bleu_scores)"
   ]
  },
  {
   "cell_type": "code",
   "execution_count": 61,
   "metadata": {
    "ExecuteTime": {
     "end_time": "2024-05-06T13:16:14.099749Z",
     "start_time": "2024-05-06T13:16:13.991811900Z"
    },
    "ExecutionIndicator": {
     "show": true
    },
    "colab": {
     "base_uri": "https://localhost:8080/",
     "height": 535,
     "referenced_widgets": [
      "40f7e3754ad44b33acfe0a80b3648a3a",
      "b1e51beac50f4947a9dd235d8aa87603",
      "8cd9e9702e114ebc856f56975544ede8",
      "b7c7a718a8654956947108969557ca83",
      "20a27d1ec76f4d85b1ffe99401fbb5b7",
      "e0ddf3970b3e4248bc87d4649fa9c448",
      "d7bdde54e2534c49a207540bd258d3ae",
      "22484000400842f0b6e245dc610acbba",
      "a66a5b4ff37d4dafa4ba3081aa1359f4",
      "0b7866c29e5f4afe9b92de15f1b88c3e",
      "333e84a304184c57af1821620ae80f6a"
     ]
    },
    "execution": {
     "iopub.execute_input": "2025-02-07T02:43:16.322887Z",
     "iopub.status.busy": "2025-02-07T02:43:16.322365Z",
     "iopub.status.idle": "2025-02-07T02:43:18.513140Z",
     "shell.execute_reply": "2025-02-07T02:43:18.512590Z",
     "shell.execute_reply.started": "2025-02-07T02:43:16.322862Z"
    },
    "id": "KGSym4CbN4ya",
    "outputId": "f5e9c4c2-c92e-44e6-c83a-5cb720305428",
    "tags": []
   },
   "outputs": [
    {
     "name": "stderr",
     "output_type": "stream",
     "text": [
      "Loading vocabulary from ./wmt16/vocab ...\n",
      "Read 762259 words (18107 unique) from vocabulary file.\n",
      "Loading codes from ./wmt16/bpe.10000 ...\n",
      "Read 20001 codes from the codes file.\n",
      " 12%|█▏        | 15/128 [00:00<00:02, 43.24it/s]\n",
      "/usr/local/lib/python3.10/site-packages/IPython/core/pylabtools.py:170: UserWarning: There are no gridspecs with layoutgrids. Possibly did not call parent GridSpec with the \"figure\" keyword\n",
      "  fig.canvas.print_figure(bytes_io, **kw)\n"
     ]
    },
    {
     "data": {
      "image/png": "[encoded data removed]",
      "text/plain": [
       "<Figure size 1000x500 with 2 Axes>"
      ]
     },
     "metadata": {},
     "output_type": "display_data"
    },
    {
     "name": "stderr",
     "output_type": "stream",
     "text": [
      "/usr/local/lib/python3.10/site-packages/IPython/core/pylabtools.py:170: UserWarning: There are no gridspecs with layoutgrids. Possibly did not call parent GridSpec with the \"figure\" keyword\n",
      "  fig.canvas.print_figure(bytes_io, **kw)\n"
     ]
    },
    {
     "data": {
      "image/png": "[encoded data removed]",
      "text/plain": [
       "<Figure size 1000x500 with 2 Axes>"
      ]
     },
     "metadata": {},
     "output_type": "display_data"
    },
    {
     "name": "stderr",
     "output_type": "stream",
     "text": [
      "/usr/local/lib/python3.10/site-packages/IPython/core/pylabtools.py:170: UserWarning: There are no gridspecs with layoutgrids. Possibly did not call parent GridSpec with the \"figure\" keyword\n",
      "  fig.canvas.print_figure(bytes_io, **kw)\n"
     ]
    },
    {
     "data": {
      "image/png": "[encoded data removed]",
      "text/plain": [
       "<Figure size 1000x500 with 2 Axes>"
      ]
     },
     "metadata": {},
     "output_type": "display_data"
    },
    {
     "name": "stderr",
     "output_type": "stream",
     "text": [
      "/usr/local/lib/python3.10/site-packages/IPython/core/pylabtools.py:170: UserWarning: There are no gridspecs with layoutgrids. Possibly did not call parent GridSpec with the \"figure\" keyword\n",
      "  fig.canvas.print_figure(bytes_io, **kw)\n"
     ]
    },
    {
     "data": {
      "image/png": "[encoded data removed]",
      "text/plain": [
       "<Figure size 1000x500 with 2 Axes>"
      ]
     },
     "metadata": {},
     "output_type": "display_data"
    },
    {
     "data": {
      "text/plain": [
       "['man in a white boat on a small boat in a lake.',\n",
       " 'a man with a bucket and a girl with a hat on the beach.',\n",
       " \"three men on horses are watching a third person's feet in a desert.\",\n",
       " 'a man and a woman are eating together after the chinese new york.']"
      ]
     },
     "execution_count": 61,
     "metadata": {},
     "output_type": "execute_result"
    }
   ],
   "source": [
    "import re\n",
    "from fastBPE import fastBPE\n",
    "from sacremoses import MosesDetokenizer, MosesTokenizer\n",
    "\n",
    "# `MosesTokenizer` 和 `MosesDetokenizer` 是来自 `sacremoses` 库的工具，用于自然语言处理中的分词（Tokenization）和去标记化（Detokenization）。这些工具主要用于对文本进行预处理和后处理，通常在处理自然语言处理任务时会用到。\n",
    "#\n",
    "# ### MosesTokenizer：\n",
    "# - **作用**：将原始文本分割成单词和标点符号。\n",
    "# - **特点**：基于 Moses 翻译工具中使用的分词方法。\n",
    "# - **功能**：\n",
    "#   - 将句子分割成单词和标点符号。\n",
    "#   - 处理缩写、连字符、标点等特殊情况。\n",
    "#   - 对文本进行标记化，方便后续处理。\n",
    "#\n",
    "# ### MosesDetokenizer：\n",
    "# - **作用**：将分词后的文本重新组合成原始的句子。\n",
    "# - **特点**：用于对分词后的文本进行还原，使其恢复为可读的句子形式。\n",
    "# - **功能**：\n",
    "#   - 将分词后的单词和标点符号重新组合成句子。\n",
    "#   - 处理分词后的标点、缩写等情况，使得结果更加自然和可读。\n",
    "#\n",
    "# 这些工具通常在文本预处理和后处理过程中使用，对输入的文本进行标记化和去标记化，是一种常用的处理方式。在自然语言处理任务中，对文本进行正确的分词和还原是很重要的，而 `MosesTokenizer` 和 `MosesDetokenizer` 提供了方便、高效的工具来处理这些任务。\n",
    "\n",
    "class Translator:\n",
    "    def __init__(self, model, src_tokenizer, trg_tokenizer):\n",
    "        self.bpe = fastBPE(\"./wmt16/bpe.10000\", \"./wmt16/vocab\")\n",
    "        self.mose_tokenizer = MosesTokenizer(lang=\"de\")\n",
    "        self.mose_detokenizer = MosesDetokenizer(lang=\"en\")\n",
    "        self.model = model\n",
    "        self.model.eval()\n",
    "        self.src_tokenizer = src_tokenizer\n",
    "        self.trg_tokenizer = trg_tokenizer\n",
    "        self.pattern = re.compile(r'(@@ )|(@@ ?$)')\n",
    "\n",
    "    def draw_attention_map(self, attn_scores, cross_attn_scores, src_words_list, trg_words_list):\n",
    "        \"\"\"绘制注意力热力图\n",
    "        attn_scores (numpy.ndarray): 表示自注意力机制（self-attention）分数。\n",
    "        cross_attn_scores (numpy.ndarray): 表示交叉注意力机制的注意力分数。\n",
    "        src_words_list (list): 源语言句子的单词列表。\n",
    "        trg_words_list (list): 目标语言句子的单词列表。\n",
    "        \"\"\"\n",
    "        assert len(attn_scores.shape) == 3, \"attn_scores shape should be \" \\\n",
    "            f\"[num heads, target sequence length, target sequence length], but got {attn_scores.shape}\"\n",
    "        attn_scores = attn_scores[:, :len(trg_words_list), :len(trg_words_list)]\n",
    "\n",
    "        assert len(cross_attn_scores.shape) == 3, \"attn_scores shape should be \" \\\n",
    "            f\"[num heads, target sequence length, source sequence length], but got {cross_attn_scores.shape}\"\n",
    "        cross_attn_scores = cross_attn_scores[:, :len(trg_words_list), :len(src_words_list)]\n",
    "\n",
    "        num_heads, trg_len, src_len = cross_attn_scores.shape\n",
    "\n",
    "        fig = plt.figure(figsize=(10, 5), constrained_layout=True) # constrained_layout=True 自动调整子图参数，使之填充整个图像区域\n",
    "        grid = plt.GridSpec(trg_len, trg_len + src_len, wspace=0.1, hspace=0.1)# wspace,hspace 控制子图之间的间距\n",
    "        #下面是attn_scores的热力图\n",
    "        self_map = fig.add_subplot(grid[:,:trg_len]) #  添加子图\n",
    "        self_map.matshow(attn_scores.mean(dim=0), cmap='viridis') # 绘制热力图，cmap表示颜色,dim=0表示对第0维求均值\n",
    "        self_map.set_yticks(range(trg_len), trg_words_list, fontsize=10)\n",
    "        self_map.set_xticks(range(trg_len), [\"[BOS]\"] + trg_words_list[:-1], rotation=90)\n",
    "        #下面是cross_attn_scores的热力图\n",
    "        cross_map = fig.add_subplot(grid[:, trg_len:])\n",
    "        cross_map.matshow(cross_attn_scores.mean(dim=0), cmap='viridis')\n",
    "        cross_map.set_yticks(range(trg_len), [], fontsize=6)\n",
    "        cross_map.set_xticks(range(src_len), src_words_list, rotation=90)\n",
    "\n",
    "        plt.show()\n",
    "\n",
    "    def draw_attention_maps(self, attn_scores, cross_attn_scores, src_words_list, trg_words_list, heads_list):\n",
    "        \"\"\"绘制注意力热力图\n",
    "\n",
    "        Args:\n",
    "            - scores (numpy.ndarray): shape = [source sequence length, target sequence length]\n",
    "        \"\"\"\n",
    "        assert len(attn_scores.shape) == 3, \"attn_scores shape should be \" \\\n",
    "            f\"[num heads, target sequence length, target sequence length], but got {attn_scores.shape}\"\n",
    "        attn_scores = attn_scores[:, :len(trg_words_list), :len(trg_words_list)]\n",
    "\n",
    "        assert len(cross_attn_scores.shape) == 3, \"attn_scores shape should be \" \\\n",
    "            f\"[num heads, target sequence length, source sequence length], but got {cross_attn_scores.shape}\"\n",
    "        cross_attn_scores = cross_attn_scores[:, :len(trg_words_list), :len(src_words_list)]\n",
    "        # cross_attn_scores = cross_attn_scores[:, :len(src_words_list), :len(src_words_list)]\n",
    "\n",
    "        num_heads, trg_len, src_len = cross_attn_scores.shape\n",
    "        fig, axes = plt.subplots(2, len(heads_list), figsize=(5 * len(heads_list), 10))\n",
    "        for i, heads_idx in enumerate(heads_list):\n",
    "            axes[0, i].matshow(attn_scores[heads_idx], cmap='viridis')\n",
    "            axes[0, i].set_yticks(range(trg_len), trg_words_list)\n",
    "            axes[0, i].set_xticks(range(trg_len), [\"[BOS]\"] + trg_words_list[:-1], rotation=90)\n",
    "            axes[0, i].set_title(f\"head {heads_idx}\")\n",
    "            axes[1, i].matshow(cross_attn_scores[heads_idx], cmap='viridis')\n",
    "            axes[1, i].set_yticks(range(trg_len), trg_words_list)\n",
    "            axes[1, i].set_xticks(range(src_len), src_words_list, rotation=90)\n",
    "            axes[1, i].set_title(f\"head {heads_idx}\")\n",
    "\n",
    "        plt.show()\n",
    "\n",
    "\n",
    "    def __call__(self, sentence_list, heads_list=None, layer_idx=-1):\n",
    "        # 将输入句子列表转换为小写，并使用 MosesTokenizer 进行分词处理。\n",
    "        sentence_list = [\" \".join(self.mose_tokenizer.tokenize(s.lower())) for s in sentence_list]\n",
    "        # 将分词后的结果进行 BPE 编码，得到 tokens_list。\n",
    "        tokens_list = [s.split() for s in self.bpe.apply(sentence_list)]\n",
    "        # 使用 src_tokenizer 对 tokens_list 进行编码，同时添加起始标记 ([BOS]) 和结束标记 ([EOS])。\n",
    "        encoder_input, attn_mask = self.src_tokenizer.encode(\n",
    "            tokens_list,\n",
    "            add_bos=True,\n",
    "            add_eos=True,\n",
    "            return_mask=True,\n",
    "            )\n",
    "        encoder_input = torch.Tensor(encoder_input).to(dtype=torch.int64)\n",
    "        # 使用模型的 infer 方法对编码器输入进行推理，得到输出结果 outputs\n",
    "        outputs = model.infer(encoder_inputs=encoder_input, encoder_inputs_mask=attn_mask)\n",
    "\n",
    "        preds = outputs.preds.numpy()\n",
    "        # 使用目标语言的 trg_tokenizer 对预测序列进行解码，得到解码后的目标语言句子列表 trg_decoded。\n",
    "        trg_decoded = self.trg_tokenizer.decode(preds, split=True, remove_eos=False, remove_bos=False, remove_pad=False)\n",
    "        # 使用源语言的 src_tokenizer 对编码器输入进行解码，得到解码后的源语言句子列表 src_decoded。为下面绘制热力图做准备。\n",
    "        src_decoded = self.src_tokenizer.decode(\n",
    "            encoder_input.numpy(),\n",
    "            split=True,\n",
    "            remove_bos=False,\n",
    "            remove_eos=False\n",
    "            )\n",
    "\n",
    "        # post processed attn scores\n",
    "        # outputs.decoder_attentions[-1]  # the last layer of self-attention scores\n",
    "\n",
    "        # draw the attention map of the last decoder block\n",
    "        for attn_score, cross_attn_score, src, trg in zip(\n",
    "            outputs.decoder_self_attn_scores[layer_idx], outputs.decoder_cross_attn_scores[layer_idx], src_decoded, trg_decoded):\n",
    "            if heads_list is None:# 如果没有指定heads_list，就画单个热力图\n",
    "                self.draw_attention_map(\n",
    "                    attn_score,\n",
    "                    cross_attn_score,\n",
    "                    src,\n",
    "                    trg,\n",
    "                )\n",
    "            else:# 如果指定了heads_list，就画多个热力图\n",
    "                self.draw_attention_maps(\n",
    "                    attn_score,\n",
    "                    cross_attn_score,\n",
    "                    src,\n",
    "                    trg,\n",
    "                    heads_list=heads_list,\n",
    "                    )\n",
    "        return [self.mose_detokenizer.tokenize(self.pattern.sub(\"\", s).split()) for s in self.trg_tokenizer.decode(preds)] #将解码后的目标语言句子列表返回，并使用 mose_detokenizer 进行去标记化，最终得到翻译后的结果。\n",
    "\n",
    "\n",
    "# sentence_list = [\n",
    "#     \"Mann in einem kleinen weißen Boot auf einem See.\",  # Man in a small white boat on a lake.\n",
    "#     \"Ein Mann mit einem Eimer und ein Mädchen mit einem Hut am Strand.\", # A man with a bucket and a girl in a hat on the beach.\n",
    "#     \"Drei Männer auf Pferden während eines Rennens.\",  # Three men on horses during a race.\n",
    "#     \"Ein Mann und eine Frau essen zu Abend\",  # 一个男人和一个女人在吃晚餐\n",
    "# ]\n",
    "sentence_list = [\n",
    "    \"Mann in einem kleinen weißen Boot auf einem See.\",  # Man in a small white boat on a lake.\n",
    "    \"Ein Mann mit einem Eimer und ein Mädchen mit einem Hut am Strand.\", # A man with a bucket and a girl in a hat on the beach.\n",
    "    \"Drei Männer auf Pferden während eines Rennens.\",  # Three men on horses during a race.\n",
    "    \"Ein Mann und eine Frau essen zu Abend\",  # A man and a woman eating dinner\n",
    "]\n",
    "\n",
    "# load checkpoints\n",
    "model = TransformerModel(config)\n",
    "model.load_state_dict(state_dict)\n",
    "translator = Translator(model.cpu(), tokenizer, tokenizer)\n",
    "translator(\n",
    "    sentence_list,\n",
    "    layer_idx=-1,\n",
    "    # heads_list=[0, 1, 2, 3, 4, 5, 6, 7]\n",
    "    )\n"
   ]
  },
  {
   "cell_type": "code",
   "execution_count": null,
   "metadata": {
    "colab": {
     "base_uri": "https://localhost:8080/"
    },
    "execution": {
     "iopub.status.busy": "2025-01-22T08:58:14.585829Z",
     "iopub.status.idle": "2025-01-22T08:58:14.585997Z",
     "shell.execute_reply": "2025-01-22T08:58:14.585919Z",
     "shell.execute_reply.started": "2025-01-22T08:58:14.585911Z"
    },
    "id": "e0WkUQuUe-Cy",
    "outputId": "433e3d70-4f34-4376-e4a3-1b8834e71f88"
   },
   "outputs": [],
   "source": [
    "!ls checkpoints"
   ]
  },
  {
   "cell_type": "code",
   "execution_count": null,
   "metadata": {
    "execution": {
     "iopub.status.busy": "2025-01-22T08:58:14.586647Z",
     "iopub.status.idle": "2025-01-22T08:58:14.586812Z",
     "shell.execute_reply": "2025-01-22T08:58:14.586739Z",
     "shell.execute_reply.started": "2025-01-22T08:58:14.586731Z"
    },
    "id": "_1ZLtdahywWf",
    "tags": []
   },
   "outputs": [],
   "source": [
    "# prompt: 把best.ckpt复制到云盘内\n",
    "\n",
    "!cp -r checkpoints/translate-transformer-not-share/best.ckpt /content/drive/MyDrive/transformer-de-en\n"
   ]
  }
 ],
 "metadata": {
  "accelerator": "GPU",
  "colab": {
   "gpuType": "T4",
   "provenance": []
  },
  "kernelspec": {
   "display_name": "Python 3 (ipykernel)",
   "language": "python",
   "name": "python3"
  },
  "language_info": {
   "codemirror_mode": {
    "name": "ipython",
    "version": 3
   },
   "file_extension": ".py",
   "mimetype": "text/x-python",
   "name": "python",
   "nbconvert_exporter": "python",
   "pygments_lexer": "ipython3",
   "version": "3.10.14"
  },
  "widgets": {
   "application/vnd.jupyter.widget-state+json": {
    "00fe6a550df547cea5b1e0d84c1a3f5f": {
     "model_module": "@jupyter-widgets/controls",
     "model_module_version": "1.5.0",
     "model_name": "FloatProgressModel",
     "state": {
      "_dom_classes": [],
      "_model_module": "@jupyter-widgets/controls",
      "_model_module_version": "1.5.0",
      "_model_name": "FloatProgressModel",
      "_view_count": null,
      "_view_module": "@jupyter-widgets/controls",
      "_view_module_version": "1.5.0",
      "_view_name": "ProgressView",
      "bar_style": "success",
      "description": "",
      "description_tooltip": null,
      "layout": "IPY_MODEL_83f345f7424c43929d7a304cbfb6d0fe",
      "max": 9714,
      "min": 0,
      "orientation": "horizontal",
      "style": "IPY_MODEL_58d69d086f644e89937347e1f9261d6f",
      "value": 9714
     }
    },
    "013d2a6b90144432bbfb15136235faba": {
     "model_module": "@jupyter-widgets/base",
     "model_module_version": "1.2.0",
     "model_name": "LayoutModel",
     "state": {
      "_model_module": "@jupyter-widgets/base",
      "_model_module_version": "1.2.0",
      "_model_name": "LayoutModel",
      "_view_count": null,
      "_view_module": "@jupyter-widgets/base",
      "_view_module_version": "1.2.0",
      "_view_name": "LayoutView",
      "align_content": null,
      "align_items": null,
      "align_self": null,
      "border": null,
      "bottom": null,
      "display": null,
      "flex": null,
      "flex_flow": null,
      "grid_area": null,
      "grid_auto_columns": null,
      "grid_auto_flow": null,
      "grid_auto_rows": null,
      "grid_column": null,
      "grid_gap": null,
      "grid_row": null,
      "grid_template_areas": null,
      "grid_template_columns": null,
      "grid_template_rows": null,
      "height": null,
      "justify_content": null,
      "justify_items": null,
      "left": null,
      "margin": null,
      "max_height": null,
      "max_width": null,
      "min_height": null,
      "min_width": null,
      "object_fit": null,
      "object_position": null,
      "order": null,
      "overflow": null,
      "overflow_x": null,
      "overflow_y": null,
      "padding": null,
      "right": null,
      "top": null,
      "visibility": null,
      "width": null
     }
    },
    "0b7866c29e5f4afe9b92de15f1b88c3e": {
     "model_module": "@jupyter-widgets/base",
     "model_module_version": "1.2.0",
     "model_name": "LayoutModel",
     "state": {
      "_model_module": "@jupyter-widgets/base",
      "_model_module_version": "1.2.0",
      "_model_name": "LayoutModel",
      "_view_count": null,
      "_view_module": "@jupyter-widgets/base",
      "_view_module_version": "1.2.0",
      "_view_name": "LayoutView",
      "align_content": null,
      "align_items": null,
      "align_self": null,
      "border": null,
      "bottom": null,
      "display": null,
      "flex": null,
      "flex_flow": null,
      "grid_area": null,
      "grid_auto_columns": null,
      "grid_auto_flow": null,
      "grid_auto_rows": null,
      "grid_column": null,
      "grid_gap": null,
      "grid_row": null,
      "grid_template_areas": null,
      "grid_template_columns": null,
      "grid_template_rows": null,
      "height": null,
      "justify_content": null,
      "justify_items": null,
      "left": null,
      "margin": null,
      "max_height": null,
      "max_width": null,
      "min_height": null,
      "min_width": null,
      "object_fit": null,
      "object_position": null,
      "order": null,
      "overflow": null,
      "overflow_x": null,
      "overflow_y": null,
      "padding": null,
      "right": null,
      "top": null,
      "visibility": null,
      "width": null
     }
    },
    "0c0c7229347b49ffbb9a0f7bd41199b9": {
     "model_module": "@jupyter-widgets/controls",
     "model_module_version": "1.5.0",
     "model_name": "DescriptionStyleModel",
     "state": {
      "_model_module": "@jupyter-widgets/controls",
      "_model_module_version": "1.5.0",
      "_model_name": "DescriptionStyleModel",
      "_view_count": null,
      "_view_module": "@jupyter-widgets/base",
      "_view_module_version": "1.2.0",
      "_view_name": "StyleView",
      "description_width": ""
     }
    },
    "0e10428326bc436e8dbc079e89570bde": {
     "model_module": "@jupyter-widgets/controls",
     "model_module_version": "1.5.0",
     "model_name": "ProgressStyleModel",
     "state": {
      "_model_module": "@jupyter-widgets/controls",
      "_model_module_version": "1.5.0",
      "_model_name": "ProgressStyleModel",
      "_view_count": null,
      "_view_module": "@jupyter-widgets/base",
      "_view_module_version": "1.2.0",
      "_view_name": "StyleView",
      "bar_color": null,
      "description_width": ""
     }
    },
    "0fe4ed7283c04496affe727c235d31c4": {
     "model_module": "@jupyter-widgets/base",
     "model_module_version": "1.2.0",
     "model_name": "LayoutModel",
     "state": {
      "_model_module": "@jupyter-widgets/base",
      "_model_module_version": "1.2.0",
      "_model_name": "LayoutModel",
      "_view_count": null,
      "_view_module": "@jupyter-widgets/base",
      "_view_module_version": "1.2.0",
      "_view_name": "LayoutView",
      "align_content": null,
      "align_items": null,
      "align_self": null,
      "border": null,
      "bottom": null,
      "display": null,
      "flex": null,
      "flex_flow": null,
      "grid_area": null,
      "grid_auto_columns": null,
      "grid_auto_flow": null,
      "grid_auto_rows": null,
      "grid_column": null,
      "grid_gap": null,
      "grid_row": null,
      "grid_template_areas": null,
      "grid_template_columns": null,
      "grid_template_rows": null,
      "height": null,
      "justify_content": null,
      "justify_items": null,
      "left": null,
      "margin": null,
      "max_height": null,
      "max_width": null,
      "min_height": null,
      "min_width": null,
      "object_fit": null,
      "object_position": null,
      "order": null,
      "overflow": null,
      "overflow_x": null,
      "overflow_y": null,
      "padding": null,
      "right": null,
      "top": null,
      "visibility": null,
      "width": null
     }
    },
    "19f846338f6b48c9930b58575641e5b8": {
     "model_module": "@jupyter-widgets/base",
     "model_module_version": "1.2.0",
     "model_name": "LayoutModel",
     "state": {
      "_model_module": "@jupyter-widgets/base",
      "_model_module_version": "1.2.0",
      "_model_name": "LayoutModel",
      "_view_count": null,
      "_view_module": "@jupyter-widgets/base",
      "_view_module_version": "1.2.0",
      "_view_name": "LayoutView",
      "align_content": null,
      "align_items": null,
      "align_self": null,
      "border": null,
      "bottom": null,
      "display": null,
      "flex": null,
      "flex_flow": null,
      "grid_area": null,
      "grid_auto_columns": null,
      "grid_auto_flow": null,
      "grid_auto_rows": null,
      "grid_column": null,
      "grid_gap": null,
      "grid_row": null,
      "grid_template_areas": null,
      "grid_template_columns": null,
      "grid_template_rows": null,
      "height": null,
      "justify_content": null,
      "justify_items": null,
      "left": null,
      "margin": null,
      "max_height": null,
      "max_width": null,
      "min_height": null,
      "min_width": null,
      "object_fit": null,
      "object_position": null,
      "order": null,
      "overflow": null,
      "overflow_x": null,
      "overflow_y": null,
      "padding": null,
      "right": null,
      "top": null,
      "visibility": null,
      "width": null
     }
    },
    "20a27d1ec76f4d85b1ffe99401fbb5b7": {
     "model_module": "@jupyter-widgets/base",
     "model_module_version": "1.2.0",
     "model_name": "LayoutModel",
     "state": {
      "_model_module": "@jupyter-widgets/base",
      "_model_module_version": "1.2.0",
      "_model_name": "LayoutModel",
      "_view_count": null,
      "_view_module": "@jupyter-widgets/base",
      "_view_module_version": "1.2.0",
      "_view_name": "LayoutView",
      "align_content": null,
      "align_items": null,
      "align_self": null,
      "border": null,
      "bottom": null,
      "display": null,
      "flex": null,
      "flex_flow": null,
      "grid_area": null,
      "grid_auto_columns": null,
      "grid_auto_flow": null,
      "grid_auto_rows": null,
      "grid_column": null,
      "grid_gap": null,
      "grid_row": null,
      "grid_template_areas": null,
      "grid_template_columns": null,
      "grid_template_rows": null,
      "height": null,
      "justify_content": null,
      "justify_items": null,
      "left": null,
      "margin": null,
      "max_height": null,
      "max_width": null,
      "min_height": null,
      "min_width": null,
      "object_fit": null,
      "object_position": null,
      "order": null,
      "overflow": null,
      "overflow_x": null,
      "overflow_y": null,
      "padding": null,
      "right": null,
      "top": null,
      "visibility": null,
      "width": null
     }
    },
    "22484000400842f0b6e245dc610acbba": {
     "model_module": "@jupyter-widgets/base",
     "model_module_version": "1.2.0",
     "model_name": "LayoutModel",
     "state": {
      "_model_module": "@jupyter-widgets/base",
      "_model_module_version": "1.2.0",
      "_model_name": "LayoutModel",
      "_view_count": null,
      "_view_module": "@jupyter-widgets/base",
      "_view_module_version": "1.2.0",
      "_view_name": "LayoutView",
      "align_content": null,
      "align_items": null,
      "align_self": null,
      "border": null,
      "bottom": null,
      "display": null,
      "flex": null,
      "flex_flow": null,
      "grid_area": null,
      "grid_auto_columns": null,
      "grid_auto_flow": null,
      "grid_auto_rows": null,
      "grid_column": null,
      "grid_gap": null,
      "grid_row": null,
      "grid_template_areas": null,
      "grid_template_columns": null,
      "grid_template_rows": null,
      "height": null,
      "justify_content": null,
      "justify_items": null,
      "left": null,
      "margin": null,
      "max_height": null,
      "max_width": null,
      "min_height": null,
      "min_width": null,
      "object_fit": null,
      "object_position": null,
      "order": null,
      "overflow": null,
      "overflow_x": null,
      "overflow_y": null,
      "padding": null,
      "right": null,
      "top": null,
      "visibility": null,
      "width": null
     }
    },
    "22aa774ab39e4fd78b0ff08d430d2b5d": {
     "model_module": "@jupyter-widgets/controls",
     "model_module_version": "1.5.0",
     "model_name": "FloatProgressModel",
     "state": {
      "_dom_classes": [],
      "_model_module": "@jupyter-widgets/controls",
      "_model_module_version": "1.5.0",
      "_model_name": "FloatProgressModel",
      "_view_count": null,
      "_view_module": "@jupyter-widgets/controls",
      "_view_module_version": "1.5.0",
      "_view_name": "ProgressView",
      "bar_style": "success",
      "description": "",
      "description_tooltip": null,
      "layout": "IPY_MODEL_4e64bcb87e584beda0408a0aa5a659ae",
      "max": 1,
      "min": 0,
      "orientation": "horizontal",
      "style": "IPY_MODEL_b077d7562d814df5b6d839464dd4122f",
      "value": 1
     }
    },
    "2b82e42c34804b13bc83be4c7009d4e2": {
     "model_module": "@jupyter-widgets/controls",
     "model_module_version": "1.5.0",
     "model_name": "DescriptionStyleModel",
     "state": {
      "_model_module": "@jupyter-widgets/controls",
      "_model_module_version": "1.5.0",
      "_model_name": "DescriptionStyleModel",
      "_view_count": null,
      "_view_module": "@jupyter-widgets/base",
      "_view_module_version": "1.2.0",
      "_view_name": "StyleView",
      "description_width": ""
     }
    },
    "333e84a304184c57af1821620ae80f6a": {
     "model_module": "@jupyter-widgets/controls",
     "model_module_version": "1.5.0",
     "model_name": "DescriptionStyleModel",
     "state": {
      "_model_module": "@jupyter-widgets/controls",
      "_model_module_version": "1.5.0",
      "_model_name": "DescriptionStyleModel",
      "_view_count": null,
      "_view_module": "@jupyter-widgets/base",
      "_view_module_version": "1.2.0",
      "_view_name": "StyleView",
      "description_width": ""
     }
    },
    "40f7e3754ad44b33acfe0a80b3648a3a": {
     "model_module": "@jupyter-widgets/controls",
     "model_module_version": "1.5.0",
     "model_name": "HBoxModel",
     "state": {
      "_dom_classes": [],
      "_model_module": "@jupyter-widgets/controls",
      "_model_module_version": "1.5.0",
      "_model_name": "HBoxModel",
      "_view_count": null,
      "_view_module": "@jupyter-widgets/controls",
      "_view_module_version": "1.5.0",
      "_view_name": "HBoxView",
      "box_style": "",
      "children": [
       "IPY_MODEL_b1e51beac50f4947a9dd235d8aa87603",
       "IPY_MODEL_8cd9e9702e114ebc856f56975544ede8",
       "IPY_MODEL_b7c7a718a8654956947108969557ca83"
      ],
      "layout": "IPY_MODEL_20a27d1ec76f4d85b1ffe99401fbb5b7"
     }
    },
    "434ac4c51db74681942d2d3bd869b1df": {
     "model_module": "@jupyter-widgets/controls",
     "model_module_version": "1.5.0",
     "model_name": "DescriptionStyleModel",
     "state": {
      "_model_module": "@jupyter-widgets/controls",
      "_model_module_version": "1.5.0",
      "_model_name": "DescriptionStyleModel",
      "_view_count": null,
      "_view_module": "@jupyter-widgets/base",
      "_view_module_version": "1.2.0",
      "_view_name": "StyleView",
      "description_width": ""
     }
    },
    "46a51a1719d8444eb5877720253d3c37": {
     "model_module": "@jupyter-widgets/base",
     "model_module_version": "1.2.0",
     "model_name": "LayoutModel",
     "state": {
      "_model_module": "@jupyter-widgets/base",
      "_model_module_version": "1.2.0",
      "_model_name": "LayoutModel",
      "_view_count": null,
      "_view_module": "@jupyter-widgets/base",
      "_view_module_version": "1.2.0",
      "_view_name": "LayoutView",
      "align_content": null,
      "align_items": null,
      "align_self": null,
      "border": null,
      "bottom": null,
      "display": null,
      "flex": null,
      "flex_flow": null,
      "grid_area": null,
      "grid_auto_columns": null,
      "grid_auto_flow": null,
      "grid_auto_rows": null,
      "grid_column": null,
      "grid_gap": null,
      "grid_row": null,
      "grid_template_areas": null,
      "grid_template_columns": null,
      "grid_template_rows": null,
      "height": null,
      "justify_content": null,
      "justify_items": null,
      "left": null,
      "margin": null,
      "max_height": null,
      "max_width": null,
      "min_height": null,
      "min_width": null,
      "object_fit": null,
      "object_position": null,
      "order": null,
      "overflow": null,
      "overflow_x": null,
      "overflow_y": null,
      "padding": null,
      "right": null,
      "top": null,
      "visibility": null,
      "width": null
     }
    },
    "4e64bcb87e584beda0408a0aa5a659ae": {
     "model_module": "@jupyter-widgets/base",
     "model_module_version": "1.2.0",
     "model_name": "LayoutModel",
     "state": {
      "_model_module": "@jupyter-widgets/base",
      "_model_module_version": "1.2.0",
      "_model_name": "LayoutModel",
      "_view_count": null,
      "_view_module": "@jupyter-widgets/base",
      "_view_module_version": "1.2.0",
      "_view_name": "LayoutView",
      "align_content": null,
      "align_items": null,
      "align_self": null,
      "border": null,
      "bottom": null,
      "display": null,
      "flex": null,
      "flex_flow": null,
      "grid_area": null,
      "grid_auto_columns": null,
      "grid_auto_flow": null,
      "grid_auto_rows": null,
      "grid_column": null,
      "grid_gap": null,
      "grid_row": null,
      "grid_template_areas": null,
      "grid_template_columns": null,
      "grid_template_rows": null,
      "height": null,
      "justify_content": null,
      "justify_items": null,
      "left": null,
      "margin": null,
      "max_height": null,
      "max_width": null,
      "min_height": null,
      "min_width": null,
      "object_fit": null,
      "object_position": null,
      "order": null,
      "overflow": null,
      "overflow_x": null,
      "overflow_y": null,
      "padding": null,
      "right": null,
      "top": null,
      "visibility": null,
      "width": "20px"
     }
    },
    "55146ac7395840dca847e0f63aa80561": {
     "model_module": "@jupyter-widgets/controls",
     "model_module_version": "1.5.0",
     "model_name": "HBoxModel",
     "state": {
      "_dom_classes": [],
      "_model_module": "@jupyter-widgets/controls",
      "_model_module_version": "1.5.0",
      "_model_name": "HBoxModel",
      "_view_count": null,
      "_view_module": "@jupyter-widgets/controls",
      "_view_module_version": "1.5.0",
      "_view_name": "HBoxView",
      "box_style": "",
      "children": [
       "IPY_MODEL_abb9bc76c0ce4634bd340be20c074b8c",
       "IPY_MODEL_a89d790df59245fcaf26335d4903c9b4",
       "IPY_MODEL_f837255914194dc792cf1514dee03dc5"
      ],
      "layout": "IPY_MODEL_46a51a1719d8444eb5877720253d3c37"
     }
    },
    "58d69d086f644e89937347e1f9261d6f": {
     "model_module": "@jupyter-widgets/controls",
     "model_module_version": "1.5.0",
     "model_name": "ProgressStyleModel",
     "state": {
      "_model_module": "@jupyter-widgets/controls",
      "_model_module_version": "1.5.0",
      "_model_name": "ProgressStyleModel",
      "_view_count": null,
      "_view_module": "@jupyter-widgets/base",
      "_view_module_version": "1.2.0",
      "_view_name": "StyleView",
      "bar_color": null,
      "description_width": ""
     }
    },
    "5a28babf4e2e4393bdc1a093034885ab": {
     "model_module": "@jupyter-widgets/base",
     "model_module_version": "1.2.0",
     "model_name": "LayoutModel",
     "state": {
      "_model_module": "@jupyter-widgets/base",
      "_model_module_version": "1.2.0",
      "_model_name": "LayoutModel",
      "_view_count": null,
      "_view_module": "@jupyter-widgets/base",
      "_view_module_version": "1.2.0",
      "_view_name": "LayoutView",
      "align_content": null,
      "align_items": null,
      "align_self": null,
      "border": null,
      "bottom": null,
      "display": null,
      "flex": null,
      "flex_flow": null,
      "grid_area": null,
      "grid_auto_columns": null,
      "grid_auto_flow": null,
      "grid_auto_rows": null,
      "grid_column": null,
      "grid_gap": null,
      "grid_row": null,
      "grid_template_areas": null,
      "grid_template_columns": null,
      "grid_template_rows": null,
      "height": null,
      "justify_content": null,
      "justify_items": null,
      "left": null,
      "margin": null,
      "max_height": null,
      "max_width": null,
      "min_height": null,
      "min_width": null,
      "object_fit": null,
      "object_position": null,
      "order": null,
      "overflow": null,
      "overflow_x": null,
      "overflow_y": null,
      "padding": null,
      "right": null,
      "top": null,
      "visibility": null,
      "width": null
     }
    },
    "673bd3773a374261a01cfc48081c27f3": {
     "model_module": "@jupyter-widgets/controls",
     "model_module_version": "1.5.0",
     "model_name": "DescriptionStyleModel",
     "state": {
      "_model_module": "@jupyter-widgets/controls",
      "_model_module_version": "1.5.0",
      "_model_name": "DescriptionStyleModel",
      "_view_count": null,
      "_view_module": "@jupyter-widgets/base",
      "_view_module_version": "1.2.0",
      "_view_name": "StyleView",
      "description_width": ""
     }
    },
    "7190c928edb040c3a523cdd2e3f45572": {
     "model_module": "@jupyter-widgets/controls",
     "model_module_version": "1.5.0",
     "model_name": "HBoxModel",
     "state": {
      "_dom_classes": [],
      "_model_module": "@jupyter-widgets/controls",
      "_model_module_version": "1.5.0",
      "_model_name": "HBoxModel",
      "_view_count": null,
      "_view_module": "@jupyter-widgets/controls",
      "_view_module_version": "1.5.0",
      "_view_name": "HBoxView",
      "box_style": "",
      "children": [
       "IPY_MODEL_990741ff083d457587665d8f620b69c3",
       "IPY_MODEL_00fe6a550df547cea5b1e0d84c1a3f5f",
       "IPY_MODEL_fab8b1e3187841ee894b92859fa4821b"
      ],
      "layout": "IPY_MODEL_f9b0d916e1a64c2a9f384e42f3d5dcab"
     }
    },
    "7d293204dc1b4d97bb5ee670787c7b7d": {
     "model_module": "@jupyter-widgets/base",
     "model_module_version": "1.2.0",
     "model_name": "LayoutModel",
     "state": {
      "_model_module": "@jupyter-widgets/base",
      "_model_module_version": "1.2.0",
      "_model_name": "LayoutModel",
      "_view_count": null,
      "_view_module": "@jupyter-widgets/base",
      "_view_module_version": "1.2.0",
      "_view_name": "LayoutView",
      "align_content": null,
      "align_items": null,
      "align_self": null,
      "border": null,
      "bottom": null,
      "display": null,
      "flex": null,
      "flex_flow": null,
      "grid_area": null,
      "grid_auto_columns": null,
      "grid_auto_flow": null,
      "grid_auto_rows": null,
      "grid_column": null,
      "grid_gap": null,
      "grid_row": null,
      "grid_template_areas": null,
      "grid_template_columns": null,
      "grid_template_rows": null,
      "height": null,
      "justify_content": null,
      "justify_items": null,
      "left": null,
      "margin": null,
      "max_height": null,
      "max_width": null,
      "min_height": null,
      "min_width": null,
      "object_fit": null,
      "object_position": null,
      "order": null,
      "overflow": null,
      "overflow_x": null,
      "overflow_y": null,
      "padding": null,
      "right": null,
      "top": null,
      "visibility": null,
      "width": null
     }
    },
    "83f345f7424c43929d7a304cbfb6d0fe": {
     "model_module": "@jupyter-widgets/base",
     "model_module_version": "1.2.0",
     "model_name": "LayoutModel",
     "state": {
      "_model_module": "@jupyter-widgets/base",
      "_model_module_version": "1.2.0",
      "_model_name": "LayoutModel",
      "_view_count": null,
      "_view_module": "@jupyter-widgets/base",
      "_view_module_version": "1.2.0",
      "_view_name": "LayoutView",
      "align_content": null,
      "align_items": null,
      "align_self": null,
      "border": null,
      "bottom": null,
      "display": null,
      "flex": null,
      "flex_flow": null,
      "grid_area": null,
      "grid_auto_columns": null,
      "grid_auto_flow": null,
      "grid_auto_rows": null,
      "grid_column": null,
      "grid_gap": null,
      "grid_row": null,
      "grid_template_areas": null,
      "grid_template_columns": null,
      "grid_template_rows": null,
      "height": null,
      "justify_content": null,
      "justify_items": null,
      "left": null,
      "margin": null,
      "max_height": null,
      "max_width": null,
      "min_height": null,
      "min_width": null,
      "object_fit": null,
      "object_position": null,
      "order": null,
      "overflow": null,
      "overflow_x": null,
      "overflow_y": null,
      "padding": null,
      "right": null,
      "top": null,
      "visibility": null,
      "width": null
     }
    },
    "8cd9e9702e114ebc856f56975544ede8": {
     "model_module": "@jupyter-widgets/controls",
     "model_module_version": "1.5.0",
     "model_name": "FloatProgressModel",
     "state": {
      "_dom_classes": [],
      "_model_module": "@jupyter-widgets/controls",
      "_model_module_version": "1.5.0",
      "_model_name": "FloatProgressModel",
      "_view_count": null,
      "_view_module": "@jupyter-widgets/controls",
      "_view_module_version": "1.5.0",
      "_view_name": "ProgressView",
      "bar_style": "danger",
      "description": "",
      "description_tooltip": null,
      "layout": "IPY_MODEL_22484000400842f0b6e245dc610acbba",
      "max": 128,
      "min": 0,
      "orientation": "horizontal",
      "style": "IPY_MODEL_a66a5b4ff37d4dafa4ba3081aa1359f4",
      "value": 12
     }
    },
    "8cf462fa996c41b18fb4571e0a757363": {
     "model_module": "@jupyter-widgets/base",
     "model_module_version": "1.2.0",
     "model_name": "LayoutModel",
     "state": {
      "_model_module": "@jupyter-widgets/base",
      "_model_module_version": "1.2.0",
      "_model_name": "LayoutModel",
      "_view_count": null,
      "_view_module": "@jupyter-widgets/base",
      "_view_module_version": "1.2.0",
      "_view_name": "LayoutView",
      "align_content": null,
      "align_items": null,
      "align_self": null,
      "border": null,
      "bottom": null,
      "display": null,
      "flex": null,
      "flex_flow": null,
      "grid_area": null,
      "grid_auto_columns": null,
      "grid_auto_flow": null,
      "grid_auto_rows": null,
      "grid_column": null,
      "grid_gap": null,
      "grid_row": null,
      "grid_template_areas": null,
      "grid_template_columns": null,
      "grid_template_rows": null,
      "height": null,
      "justify_content": null,
      "justify_items": null,
      "left": null,
      "margin": null,
      "max_height": null,
      "max_width": null,
      "min_height": null,
      "min_width": null,
      "object_fit": null,
      "object_position": null,
      "order": null,
      "overflow": null,
      "overflow_x": null,
      "overflow_y": null,
      "padding": null,
      "right": null,
      "top": null,
      "visibility": null,
      "width": null
     }
    },
    "9233439bdd6746c28ad4a20ef47799f6": {
     "model_module": "@jupyter-widgets/base",
     "model_module_version": "1.2.0",
     "model_name": "LayoutModel",
     "state": {
      "_model_module": "@jupyter-widgets/base",
      "_model_module_version": "1.2.0",
      "_model_name": "LayoutModel",
      "_view_count": null,
      "_view_module": "@jupyter-widgets/base",
      "_view_module_version": "1.2.0",
      "_view_name": "LayoutView",
      "align_content": null,
      "align_items": null,
      "align_self": null,
      "border": null,
      "bottom": null,
      "display": null,
      "flex": null,
      "flex_flow": null,
      "grid_area": null,
      "grid_auto_columns": null,
      "grid_auto_flow": null,
      "grid_auto_rows": null,
      "grid_column": null,
      "grid_gap": null,
      "grid_row": null,
      "grid_template_areas": null,
      "grid_template_columns": null,
      "grid_template_rows": null,
      "height": null,
      "justify_content": null,
      "justify_items": null,
      "left": null,
      "margin": null,
      "max_height": null,
      "max_width": null,
      "min_height": null,
      "min_width": null,
      "object_fit": null,
      "object_position": null,
      "order": null,
      "overflow": null,
      "overflow_x": null,
      "overflow_y": null,
      "padding": null,
      "right": null,
      "top": null,
      "visibility": null,
      "width": null
     }
    },
    "990741ff083d457587665d8f620b69c3": {
     "model_module": "@jupyter-widgets/controls",
     "model_module_version": "1.5.0",
     "model_name": "HTMLModel",
     "state": {
      "_dom_classes": [],
      "_model_module": "@jupyter-widgets/controls",
      "_model_module_version": "1.5.0",
      "_model_name": "HTMLModel",
      "_view_count": null,
      "_view_module": "@jupyter-widgets/controls",
      "_view_module_version": "1.5.0",
      "_view_name": "HTMLView",
      "description": "",
      "description_tooltip": null,
      "layout": "IPY_MODEL_a78199650ecc47bd81f482a2671b563a",
      "placeholder": "​",
      "style": "IPY_MODEL_673bd3773a374261a01cfc48081c27f3",
      "value": "100%"
     }
    },
    "9a01f02fb99b4b81ac487d23bc5daf4a": {
     "model_module": "@jupyter-widgets/controls",
     "model_module_version": "1.5.0",
     "model_name": "HTMLModel",
     "state": {
      "_dom_classes": [],
      "_model_module": "@jupyter-widgets/controls",
      "_model_module_version": "1.5.0",
      "_model_name": "HTMLModel",
      "_view_count": null,
      "_view_module": "@jupyter-widgets/controls",
      "_view_module_version": "1.5.0",
      "_view_name": "HTMLView",
      "description": "",
      "description_tooltip": null,
      "layout": "IPY_MODEL_5a28babf4e2e4393bdc1a093034885ab",
      "placeholder": "​",
      "style": "IPY_MODEL_be07d518c21149d196c610fd57b1eaec",
      "value": " 957/? [00:18&lt;00:00, 51.31it/s]"
     }
    },
    "a66a5b4ff37d4dafa4ba3081aa1359f4": {
     "model_module": "@jupyter-widgets/controls",
     "model_module_version": "1.5.0",
     "model_name": "ProgressStyleModel",
     "state": {
      "_model_module": "@jupyter-widgets/controls",
      "_model_module_version": "1.5.0",
      "_model_name": "ProgressStyleModel",
      "_view_count": null,
      "_view_module": "@jupyter-widgets/base",
      "_view_module_version": "1.2.0",
      "_view_name": "StyleView",
      "bar_color": null,
      "description_width": ""
     }
    },
    "a78199650ecc47bd81f482a2671b563a": {
     "model_module": "@jupyter-widgets/base",
     "model_module_version": "1.2.0",
     "model_name": "LayoutModel",
     "state": {
      "_model_module": "@jupyter-widgets/base",
      "_model_module_version": "1.2.0",
      "_model_name": "LayoutModel",
      "_view_count": null,
      "_view_module": "@jupyter-widgets/base",
      "_view_module_version": "1.2.0",
      "_view_name": "LayoutView",
      "align_content": null,
      "align_items": null,
      "align_self": null,
      "border": null,
      "bottom": null,
      "display": null,
      "flex": null,
      "flex_flow": null,
      "grid_area": null,
      "grid_auto_columns": null,
      "grid_auto_flow": null,
      "grid_auto_rows": null,
      "grid_column": null,
      "grid_gap": null,
      "grid_row": null,
      "grid_template_areas": null,
      "grid_template_columns": null,
      "grid_template_rows": null,
      "height": null,
      "justify_content": null,
      "justify_items": null,
      "left": null,
      "margin": null,
      "max_height": null,
      "max_width": null,
      "min_height": null,
      "min_width": null,
      "object_fit": null,
      "object_position": null,
      "order": null,
      "overflow": null,
      "overflow_x": null,
      "overflow_y": null,
      "padding": null,
      "right": null,
      "top": null,
      "visibility": null,
      "width": null
     }
    },
    "a89d790df59245fcaf26335d4903c9b4": {
     "model_module": "@jupyter-widgets/controls",
     "model_module_version": "1.5.0",
     "model_name": "FloatProgressModel",
     "state": {
      "_dom_classes": [],
      "_model_module": "@jupyter-widgets/controls",
      "_model_module_version": "1.5.0",
      "_model_name": "FloatProgressModel",
      "_view_count": null,
      "_view_module": "@jupyter-widgets/controls",
      "_view_module_version": "1.5.0",
      "_view_name": "ProgressView",
      "bar_style": "success",
      "description": "",
      "description_tooltip": null,
      "layout": "IPY_MODEL_9233439bdd6746c28ad4a20ef47799f6",
      "max": 280,
      "min": 0,
      "orientation": "horizontal",
      "style": "IPY_MODEL_0e10428326bc436e8dbc079e89570bde",
      "value": 280
     }
    },
    "a972aba7913b48c6973ae27bff5b9d1d": {
     "model_module": "@jupyter-widgets/controls",
     "model_module_version": "1.5.0",
     "model_name": "HTMLModel",
     "state": {
      "_dom_classes": [],
      "_model_module": "@jupyter-widgets/controls",
      "_model_module_version": "1.5.0",
      "_model_name": "HTMLModel",
      "_view_count": null,
      "_view_module": "@jupyter-widgets/controls",
      "_view_module_version": "1.5.0",
      "_view_name": "HTMLView",
      "description": "",
      "description_tooltip": null,
      "layout": "IPY_MODEL_7d293204dc1b4d97bb5ee670787c7b7d",
      "placeholder": "​",
      "style": "IPY_MODEL_ea8fa440f320435aa75c9bef75bc3f08",
      "value": ""
     }
    },
    "abb9bc76c0ce4634bd340be20c074b8c": {
     "model_module": "@jupyter-widgets/controls",
     "model_module_version": "1.5.0",
     "model_name": "HTMLModel",
     "state": {
      "_dom_classes": [],
      "_model_module": "@jupyter-widgets/controls",
      "_model_module_version": "1.5.0",
      "_model_name": "HTMLModel",
      "_view_count": null,
      "_view_module": "@jupyter-widgets/controls",
      "_view_module_version": "1.5.0",
      "_view_name": "HTMLView",
      "description": "",
      "description_tooltip": null,
      "layout": "IPY_MODEL_013d2a6b90144432bbfb15136235faba",
      "placeholder": "​",
      "style": "IPY_MODEL_2b82e42c34804b13bc83be4c7009d4e2",
      "value": ""
     }
    },
    "b077d7562d814df5b6d839464dd4122f": {
     "model_module": "@jupyter-widgets/controls",
     "model_module_version": "1.5.0",
     "model_name": "ProgressStyleModel",
     "state": {
      "_model_module": "@jupyter-widgets/controls",
      "_model_module_version": "1.5.0",
      "_model_name": "ProgressStyleModel",
      "_view_count": null,
      "_view_module": "@jupyter-widgets/base",
      "_view_module_version": "1.2.0",
      "_view_name": "StyleView",
      "bar_color": null,
      "description_width": ""
     }
    },
    "b1e51beac50f4947a9dd235d8aa87603": {
     "model_module": "@jupyter-widgets/controls",
     "model_module_version": "1.5.0",
     "model_name": "HTMLModel",
     "state": {
      "_dom_classes": [],
      "_model_module": "@jupyter-widgets/controls",
      "_model_module_version": "1.5.0",
      "_model_name": "HTMLModel",
      "_view_count": null,
      "_view_module": "@jupyter-widgets/controls",
      "_view_module_version": "1.5.0",
      "_view_name": "HTMLView",
      "description": "",
      "description_tooltip": null,
      "layout": "IPY_MODEL_e0ddf3970b3e4248bc87d4649fa9c448",
      "placeholder": "​",
      "style": "IPY_MODEL_d7bdde54e2534c49a207540bd258d3ae",
      "value": "  9%"
     }
    },
    "b7c7a718a8654956947108969557ca83": {
     "model_module": "@jupyter-widgets/controls",
     "model_module_version": "1.5.0",
     "model_name": "HTMLModel",
     "state": {
      "_dom_classes": [],
      "_model_module": "@jupyter-widgets/controls",
      "_model_module_version": "1.5.0",
      "_model_name": "HTMLModel",
      "_view_count": null,
      "_view_module": "@jupyter-widgets/controls",
      "_view_module_version": "1.5.0",
      "_view_name": "HTMLView",
      "description": "",
      "description_tooltip": null,
      "layout": "IPY_MODEL_0b7866c29e5f4afe9b92de15f1b88c3e",
      "placeholder": "​",
      "style": "IPY_MODEL_333e84a304184c57af1821620ae80f6a",
      "value": " 12/128 [00:00&lt;00:01, 73.96it/s]"
     }
    },
    "be07d518c21149d196c610fd57b1eaec": {
     "model_module": "@jupyter-widgets/controls",
     "model_module_version": "1.5.0",
     "model_name": "DescriptionStyleModel",
     "state": {
      "_model_module": "@jupyter-widgets/controls",
      "_model_module_version": "1.5.0",
      "_model_name": "DescriptionStyleModel",
      "_view_count": null,
      "_view_module": "@jupyter-widgets/base",
      "_view_module_version": "1.2.0",
      "_view_name": "StyleView",
      "description_width": ""
     }
    },
    "c9db4cd83b7b4f53a0fa93b8c365debd": {
     "model_module": "@jupyter-widgets/controls",
     "model_module_version": "1.5.0",
     "model_name": "HBoxModel",
     "state": {
      "_dom_classes": [],
      "_model_module": "@jupyter-widgets/controls",
      "_model_module_version": "1.5.0",
      "_model_name": "HBoxModel",
      "_view_count": null,
      "_view_module": "@jupyter-widgets/controls",
      "_view_module_version": "1.5.0",
      "_view_name": "HBoxView",
      "box_style": "",
      "children": [
       "IPY_MODEL_a972aba7913b48c6973ae27bff5b9d1d",
       "IPY_MODEL_22aa774ab39e4fd78b0ff08d430d2b5d",
       "IPY_MODEL_9a01f02fb99b4b81ac487d23bc5daf4a"
      ],
      "layout": "IPY_MODEL_19f846338f6b48c9930b58575641e5b8"
     }
    },
    "d7bdde54e2534c49a207540bd258d3ae": {
     "model_module": "@jupyter-widgets/controls",
     "model_module_version": "1.5.0",
     "model_name": "DescriptionStyleModel",
     "state": {
      "_model_module": "@jupyter-widgets/controls",
      "_model_module_version": "1.5.0",
      "_model_name": "DescriptionStyleModel",
      "_view_count": null,
      "_view_module": "@jupyter-widgets/base",
      "_view_module_version": "1.2.0",
      "_view_name": "StyleView",
      "description_width": ""
     }
    },
    "e0ddf3970b3e4248bc87d4649fa9c448": {
     "model_module": "@jupyter-widgets/base",
     "model_module_version": "1.2.0",
     "model_name": "LayoutModel",
     "state": {
      "_model_module": "@jupyter-widgets/base",
      "_model_module_version": "1.2.0",
      "_model_name": "LayoutModel",
      "_view_count": null,
      "_view_module": "@jupyter-widgets/base",
      "_view_module_version": "1.2.0",
      "_view_name": "LayoutView",
      "align_content": null,
      "align_items": null,
      "align_self": null,
      "border": null,
      "bottom": null,
      "display": null,
      "flex": null,
      "flex_flow": null,
      "grid_area": null,
      "grid_auto_columns": null,
      "grid_auto_flow": null,
      "grid_auto_rows": null,
      "grid_column": null,
      "grid_gap": null,
      "grid_row": null,
      "grid_template_areas": null,
      "grid_template_columns": null,
      "grid_template_rows": null,
      "height": null,
      "justify_content": null,
      "justify_items": null,
      "left": null,
      "margin": null,
      "max_height": null,
      "max_width": null,
      "min_height": null,
      "min_width": null,
      "object_fit": null,
      "object_position": null,
      "order": null,
      "overflow": null,
      "overflow_x": null,
      "overflow_y": null,
      "padding": null,
      "right": null,
      "top": null,
      "visibility": null,
      "width": null
     }
    },
    "ea8fa440f320435aa75c9bef75bc3f08": {
     "model_module": "@jupyter-widgets/controls",
     "model_module_version": "1.5.0",
     "model_name": "DescriptionStyleModel",
     "state": {
      "_model_module": "@jupyter-widgets/controls",
      "_model_module_version": "1.5.0",
      "_model_name": "DescriptionStyleModel",
      "_view_count": null,
      "_view_module": "@jupyter-widgets/base",
      "_view_module_version": "1.2.0",
      "_view_name": "StyleView",
      "description_width": ""
     }
    },
    "f837255914194dc792cf1514dee03dc5": {
     "model_module": "@jupyter-widgets/controls",
     "model_module_version": "1.5.0",
     "model_name": "HTMLModel",
     "state": {
      "_dom_classes": [],
      "_model_module": "@jupyter-widgets/controls",
      "_model_module_version": "1.5.0",
      "_model_name": "HTMLModel",
      "_view_count": null,
      "_view_module": "@jupyter-widgets/controls",
      "_view_module_version": "1.5.0",
      "_view_name": "HTMLView",
      "description": "",
      "description_tooltip": null,
      "layout": "IPY_MODEL_0fe4ed7283c04496affe727c235d31c4",
      "placeholder": "​",
      "style": "IPY_MODEL_0c0c7229347b49ffbb9a0f7bd41199b9",
      "value": " 21020/? [21:30&lt;00:00, 15.32it/s, epoch=19, loss=2.61, val_loss=3.41]"
     }
    },
    "f9b0d916e1a64c2a9f384e42f3d5dcab": {
     "model_module": "@jupyter-widgets/base",
     "model_module_version": "1.2.0",
     "model_name": "LayoutModel",
     "state": {
      "_model_module": "@jupyter-widgets/base",
      "_model_module_version": "1.2.0",
      "_model_name": "LayoutModel",
      "_view_count": null,
      "_view_module": "@jupyter-widgets/base",
      "_view_module_version": "1.2.0",
      "_view_name": "LayoutView",
      "align_content": null,
      "align_items": null,
      "align_self": null,
      "border": null,
      "bottom": null,
      "display": null,
      "flex": null,
      "flex_flow": null,
      "grid_area": null,
      "grid_auto_columns": null,
      "grid_auto_flow": null,
      "grid_auto_rows": null,
      "grid_column": null,
      "grid_gap": null,
      "grid_row": null,
      "grid_template_areas": null,
      "grid_template_columns": null,
      "grid_template_rows": null,
      "height": null,
      "justify_content": null,
      "justify_items": null,
      "left": null,
      "margin": null,
      "max_height": null,
      "max_width": null,
      "min_height": null,
      "min_width": null,
      "object_fit": null,
      "object_position": null,
      "order": null,
      "overflow": null,
      "overflow_x": null,
      "overflow_y": null,
      "padding": null,
      "right": null,
      "top": null,
      "visibility": null,
      "width": null
     }
    },
    "fab8b1e3187841ee894b92859fa4821b": {
     "model_module": "@jupyter-widgets/controls",
     "model_module_version": "1.5.0",
     "model_name": "HTMLModel",
     "state": {
      "_dom_classes": [],
      "_model_module": "@jupyter-widgets/controls",
      "_model_module_version": "1.5.0",
      "_model_name": "HTMLModel",
      "_view_count": null,
      "_view_module": "@jupyter-widgets/controls",
      "_view_module_version": "1.5.0",
      "_view_name": "HTMLView",
      "description": "",
      "description_tooltip": null,
      "layout": "IPY_MODEL_8cf462fa996c41b18fb4571e0a757363",
      "placeholder": "​",
      "style": "IPY_MODEL_434ac4c51db74681942d2d3bd869b1df",
      "value": " 9714/9714 [00:00&lt;00:00, 236744.37it/s]"
     }
    }
   }
  }
 },
 "nbformat": 4,
 "nbformat_minor": 4
}
