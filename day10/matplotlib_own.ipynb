{
 "cells": [
  {
   "cell_type": "code",
   "id": "initial_id",
   "metadata": {
    "collapsed": true,
    "ExecuteTime": {
     "end_time": "2025-01-04T01:53:07.393900Z",
     "start_time": "2025-01-04T01:53:07.390395Z"
    }
   },
   "source": "b=5",
   "outputs": [],
   "execution_count": 1
  },
  {
   "metadata": {
    "ExecuteTime": {
     "end_time": "2025-01-04T01:53:07.405057Z",
     "start_time": "2025-01-04T01:53:07.394408Z"
    }
   },
   "cell_type": "code",
   "source": "b",
   "id": "3dd6a3e0bbf51233",
   "outputs": [
    {
     "data": {
      "text/plain": [
       "5"
      ]
     },
     "execution_count": 2,
     "metadata": {},
     "output_type": "execute_result"
    }
   ],
   "execution_count": 2
  },
  {
   "metadata": {
    "ExecuteTime": {
     "end_time": "2025-01-04T01:53:07.407712Z",
     "start_time": "2025-01-04T01:53:07.405057Z"
    }
   },
   "cell_type": "code",
   "source": "a=6",
   "id": "a63ae00cbf173b4d",
   "outputs": [],
   "execution_count": 3
  },
  {
   "metadata": {
    "ExecuteTime": {
     "end_time": "2025-01-04T01:53:07.410555Z",
     "start_time": "2025-01-04T01:53:07.408716Z"
    }
   },
   "cell_type": "code",
   "source": "a+=2",
   "id": "bca9c0d841b4ebaa",
   "outputs": [],
   "execution_count": 4
  },
  {
   "metadata": {
    "ExecuteTime": {
     "end_time": "2025-01-04T01:53:07.414064Z",
     "start_time": "2025-01-04T01:53:07.411560Z"
    }
   },
   "cell_type": "code",
   "source": "b+=3",
   "id": "97695596982d31e5",
   "outputs": [],
   "execution_count": 5
  }
 ],
 "metadata": {
  "kernelspec": {
   "display_name": "Python 3",
   "language": "python",
   "name": "python3"
  },
  "language_info": {
   "codemirror_mode": {
    "name": "ipython",
    "version": 2
   },
   "file_extension": ".py",
   "mimetype": "text/x-python",
   "name": "python",
   "nbconvert_exporter": "python",
   "pygments_lexer": "ipython2",
   "version": "2.7.6"
  }
 },
 "nbformat": 4,
 "nbformat_minor": 5
}
