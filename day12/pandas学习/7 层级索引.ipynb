{
 "cells": [
  {
   "cell_type": "markdown",
   "metadata": {
    "collapsed": true,
    "pycharm": {
     "name": "#%% md\n"
    }
   },
   "source": "# 7 层级索引（hierarchical indexing）（机器学习，深度学习不重要）"
  },
  {
   "cell_type": "code",
   "source": [
    "import pandas as pd\n",
    "import numpy as np\n",
    "\n",
    "#MultiIndex是层级索引，索引类型的一种\n",
    "index1 = pd.MultiIndex.from_arrays([['a', 'a', 'a', 'b', 'b', 'b', 'c', 'c', 'c', 'd', 'd', 'd'],\n",
    "                [0, 1, 2, 0, 1, 2, 0, 1, 2, 0, 1, 2]], names=['cloth', 'size'])\n",
    "\n",
    "ser_obj = pd.Series(np.random.randn(12),index=index1)\n",
    "print(ser_obj)\n",
    "print(type(ser_obj)) #Series\n",
    "print(type(ser_obj.index)) #索引类型，MultiIndex\n",
    "print(ser_obj.index)\n",
    "print(ser_obj.index.levels) #层级索引的索引值\n",
    "ser_obj.index.codes  #没那么重要，代表索引的位置\n"
   ],
   "metadata": {
    "collapsed": false,
    "pycharm": {
     "name": "#%%\n"
    },
    "ExecuteTime": {
     "end_time": "2025-01-07T07:39:04.604410Z",
     "start_time": "2025-01-07T07:39:04.233928Z"
    }
   },
   "outputs": [
    {
     "name": "stdout",
     "output_type": "stream",
     "text": [
      "cloth  size\n",
      "a      0      -1.872730\n",
      "       1       0.895565\n",
      "       2      -0.442679\n",
      "b      0       0.001602\n",
      "       1      -0.541091\n",
      "       2      -0.801088\n",
      "c      0       0.218049\n",
      "       1       0.429384\n",
      "       2      -1.262778\n",
      "d      0      -0.713024\n",
      "       1       0.434239\n",
      "       2      -1.062186\n",
      "dtype: float64\n",
      "<class 'pandas.core.series.Series'>\n",
      "<class 'pandas.core.indexes.multi.MultiIndex'>\n",
      "MultiIndex([('a', 0),\n",
      "            ('a', 1),\n",
      "            ('a', 2),\n",
      "            ('b', 0),\n",
      "            ('b', 1),\n",
      "            ('b', 2),\n",
      "            ('c', 0),\n",
      "            ('c', 1),\n",
      "            ('c', 2),\n",
      "            ('d', 0),\n",
      "            ('d', 1),\n",
      "            ('d', 2)],\n",
      "           names=['cloth', 'size'])\n",
      "[['a', 'b', 'c', 'd'], [0, 1, 2]]\n"
     ]
    },
    {
     "data": {
      "text/plain": [
       "FrozenList([[0, 0, 0, 1, 1, 1, 2, 2, 2, 3, 3, 3], [0, 1, 2, 0, 1, 2, 0, 1, 2, 0, 1, 2]])"
      ]
     },
     "execution_count": 1,
     "metadata": {},
     "output_type": "execute_result"
    }
   ],
   "execution_count": 1
  },
  {
   "cell_type": "code",
   "source": [
    "ser_obj"
   ],
   "metadata": {
    "collapsed": false,
    "ExecuteTime": {
     "end_time": "2025-01-07T07:39:09.762491Z",
     "start_time": "2025-01-07T07:39:09.758432Z"
    }
   },
   "outputs": [
    {
     "data": {
      "text/plain": [
       "cloth  size\n",
       "a      0      -1.872730\n",
       "       1       0.895565\n",
       "       2      -0.442679\n",
       "b      0       0.001602\n",
       "       1      -0.541091\n",
       "       2      -0.801088\n",
       "c      0       0.218049\n",
       "       1       0.429384\n",
       "       2      -1.262778\n",
       "d      0      -0.713024\n",
       "       1       0.434239\n",
       "       2      -1.062186\n",
       "dtype: float64"
      ]
     },
     "execution_count": 2,
     "metadata": {},
     "output_type": "execute_result"
    }
   ],
   "execution_count": 2
  },
  {
   "cell_type": "code",
   "source": [
    "#层级索引如何取数据\n",
    "print('-'*50)\n",
    "print(ser_obj['c']) #取出c的所有数据，取出的是series\n",
    "print('-'*50)\n",
    "print(ser_obj.loc['a', 2])\n",
    "print('-'*50)\n",
    "print(ser_obj[:, 2]) #取出所有行的内层索引为2的数据"
   ],
   "metadata": {
    "collapsed": false,
    "pycharm": {
     "name": "#%%\n"
    },
    "ExecuteTime": {
     "end_time": "2025-01-07T07:39:47.558085Z",
     "start_time": "2025-01-07T07:39:47.553788Z"
    }
   },
   "outputs": [
    {
     "name": "stdout",
     "output_type": "stream",
     "text": [
      "--------------------------------------------------\n",
      "size\n",
      "0    0.218049\n",
      "1    0.429384\n",
      "2   -1.262778\n",
      "dtype: float64\n",
      "--------------------------------------------------\n",
      "-0.44267895641046\n",
      "--------------------------------------------------\n",
      "cloth\n",
      "a   -0.442679\n",
      "b   -0.801088\n",
      "c   -1.262778\n",
      "d   -1.062186\n",
      "dtype: float64\n"
     ]
    }
   ],
   "execution_count": 3
  },
  {
   "cell_type": "markdown",
   "source": [
    "## 交换层级"
   ],
   "metadata": {
    "collapsed": false
   }
  },
  {
   "cell_type": "code",
   "source": [
    "print(ser_obj.swaplevel())\n",
    "print('-'*50)\n",
    "print(ser_obj)\n",
    "print('-'*50)\n",
    "ser_obj=ser_obj.swaplevel()\n",
    "print(ser_obj)"
   ],
   "metadata": {
    "collapsed": false,
    "pycharm": {
     "name": "#%%\n"
    },
    "ExecuteTime": {
     "end_time": "2025-01-07T07:40:07.886416Z",
     "start_time": "2025-01-07T07:40:07.882194Z"
    }
   },
   "outputs": [
    {
     "name": "stdout",
     "output_type": "stream",
     "text": [
      "size  cloth\n",
      "0     a       -1.872730\n",
      "1     a        0.895565\n",
      "2     a       -0.442679\n",
      "0     b        0.001602\n",
      "1     b       -0.541091\n",
      "2     b       -0.801088\n",
      "0     c        0.218049\n",
      "1     c        0.429384\n",
      "2     c       -1.262778\n",
      "0     d       -0.713024\n",
      "1     d        0.434239\n",
      "2     d       -1.062186\n",
      "dtype: float64\n",
      "--------------------------------------------------\n",
      "cloth  size\n",
      "a      0      -1.872730\n",
      "       1       0.895565\n",
      "       2      -0.442679\n",
      "b      0       0.001602\n",
      "       1      -0.541091\n",
      "       2      -0.801088\n",
      "c      0       0.218049\n",
      "       1       0.429384\n",
      "       2      -1.262778\n",
      "d      0      -0.713024\n",
      "       1       0.434239\n",
      "       2      -1.062186\n",
      "dtype: float64\n",
      "--------------------------------------------------\n",
      "size  cloth\n",
      "0     a       -1.872730\n",
      "1     a        0.895565\n",
      "2     a       -0.442679\n",
      "0     b        0.001602\n",
      "1     b       -0.541091\n",
      "2     b       -0.801088\n",
      "0     c        0.218049\n",
      "1     c        0.429384\n",
      "2     c       -1.262778\n",
      "0     d       -0.713024\n",
      "1     d        0.434239\n",
      "2     d       -1.062186\n",
      "dtype: float64\n"
     ]
    }
   ],
   "execution_count": 4
  },
  {
   "cell_type": "code",
   "source": [
    "print(ser_obj.sort_index(level=0))  #层级索引按那个索引级别排序,level=0表示按最外层索引排序"
   ],
   "metadata": {
    "collapsed": false,
    "pycharm": {
     "name": "#%%\n"
    },
    "ExecuteTime": {
     "end_time": "2025-01-07T07:40:35.454800Z",
     "start_time": "2025-01-07T07:40:35.450848Z"
    }
   },
   "outputs": [
    {
     "name": "stdout",
     "output_type": "stream",
     "text": [
      "size  cloth\n",
      "0     a       -1.872730\n",
      "      b        0.001602\n",
      "      c        0.218049\n",
      "      d       -0.713024\n",
      "1     a        0.895565\n",
      "      b       -0.541091\n",
      "      c        0.429384\n",
      "      d        0.434239\n",
      "2     a       -0.442679\n",
      "      b       -0.801088\n",
      "      c       -1.262778\n",
      "      d       -1.062186\n",
      "dtype: float64\n"
     ]
    }
   ],
   "execution_count": 5
  },
  {
   "metadata": {
    "ExecuteTime": {
     "end_time": "2025-01-07T07:41:17.108727Z",
     "start_time": "2025-01-07T07:41:17.105347Z"
    }
   },
   "cell_type": "code",
   "source": "ser_obj",
   "outputs": [
    {
     "data": {
      "text/plain": [
       "size  cloth\n",
       "0     a       -1.872730\n",
       "1     a        0.895565\n",
       "2     a       -0.442679\n",
       "0     b        0.001602\n",
       "1     b       -0.541091\n",
       "2     b       -0.801088\n",
       "0     c        0.218049\n",
       "1     c        0.429384\n",
       "2     c       -1.262778\n",
       "0     d       -0.713024\n",
       "1     d        0.434239\n",
       "2     d       -1.062186\n",
       "dtype: float64"
      ]
     },
     "execution_count": 7,
     "metadata": {},
     "output_type": "execute_result"
    }
   ],
   "execution_count": 7
  },
  {
   "cell_type": "code",
   "source": [
    "#把最大索引变为列索引\n",
    "df_obj=ser_obj.unstack()  #unstack的level参数是索引层级\n",
    "print(df_obj)\n"
   ],
   "metadata": {
    "collapsed": false,
    "pycharm": {
     "name": "#%%\n"
    },
    "ExecuteTime": {
     "end_time": "2025-01-07T07:43:08.622247Z",
     "start_time": "2025-01-07T07:43:08.618625Z"
    }
   },
   "outputs": [
    {
     "name": "stdout",
     "output_type": "stream",
     "text": [
      "size          0         1         2\n",
      "cloth                              \n",
      "a     -1.872730  0.895565 -0.442679\n",
      "b      0.001602 -0.541091 -0.801088\n",
      "c      0.218049  0.429384 -1.262778\n",
      "d     -0.713024  0.434239 -1.062186\n"
     ]
    }
   ],
   "execution_count": 13
  },
  {
   "cell_type": "code",
   "source": [
    "print(df_obj)\n",
    "#对df进行stack，就会把行，列索引进行堆叠，变为series\n",
    "#把列索引放入内层,只能放到内层\n",
    "print(df_obj.stack())  #stack变为series和unstack保持一致的\n",
    "# df_obj=df_obj.transpose()"
   ],
   "metadata": {
    "collapsed": false,
    "pycharm": {
     "name": "#%%\n"
    },
    "ExecuteTime": {
     "end_time": "2025-01-07T07:44:11.920807Z",
     "start_time": "2025-01-07T07:44:11.916807Z"
    }
   },
   "outputs": [
    {
     "name": "stdout",
     "output_type": "stream",
     "text": [
      "size          0         1         2\n",
      "cloth                              \n",
      "a     -1.872730  0.895565 -0.442679\n",
      "b      0.001602 -0.541091 -0.801088\n",
      "c      0.218049  0.429384 -1.262778\n",
      "d     -0.713024  0.434239 -1.062186\n",
      "cloth  size\n",
      "a      0      -1.872730\n",
      "       1       0.895565\n",
      "       2      -0.442679\n",
      "b      0       0.001602\n",
      "       1      -0.541091\n",
      "       2      -0.801088\n",
      "c      0       0.218049\n",
      "       1       0.429384\n",
      "       2      -1.262778\n",
      "d      0      -0.713024\n",
      "       1       0.434239\n",
      "       2      -1.062186\n",
      "dtype: float64\n"
     ]
    }
   ],
   "execution_count": 14
  },
  {
   "cell_type": "markdown",
   "source": [],
   "metadata": {
    "collapsed": false
   }
  }
 ],
 "metadata": {
  "kernelspec": {
   "display_name": "Python 3",
   "language": "python",
   "name": "python3"
  },
  "language_info": {
   "codemirror_mode": {
    "name": "ipython",
    "version": 2
   },
   "file_extension": ".py",
   "mimetype": "text/x-python",
   "name": "python",
   "nbconvert_exporter": "python",
   "pygments_lexer": "ipython2",
   "version": "2.7.6"
  }
 },
 "nbformat": 4,
 "nbformat_minor": 0
}
